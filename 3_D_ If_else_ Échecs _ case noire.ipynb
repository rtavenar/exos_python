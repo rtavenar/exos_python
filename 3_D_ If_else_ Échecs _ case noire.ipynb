{
 "cells": [
  {
   "cell_type": "markdown",
   "id": "0ab69f48",
   "metadata": {},
   "source": [
    "# 3.D. If/else: Échecs : case noire\n",
    "\n",
    "## **Énoncé**\n",
    "\n",
    "Étant donnés deux entiers indiquant une case de l'échiquier, affichez OUI si c'est une case noire (marron sur le dessin ci-dessous) ou NON sinon.\n",
    "\n",
    "\n",
    "\n",
    "## **Exemple d'entrée** #1\n",
    "\n",
    "```\n",
    "1\n",
    "1\n",
    "```\n",
    "\n",
    "## **Exemple de sortie** #1\n",
    "\n",
    "```\n",
    "OUI\n",
    "```\n",
    "\n",
    "## **Exemple d'entrée** #2\n",
    "\n",
    "```\n",
    "1\n",
    "2\n",
    "```\n",
    "\n",
    "## **Exemple de sortie** #2\n",
    "\n",
    "```\n",
    "NON\n",
    "```\n",
    "\n",
    "## Aide\n",
    "\n",
    "https://rtavenar.github.io/poly_python/content/struct.html#structures-de-controle\n",
    "\n",
    "## Codez dans la cellule ci-dessous"
   ]
  },
  {
   "cell_type": "code",
   "execution_count": null,
   "id": "e113432a",
   "metadata": {},
   "outputs": [],
   "source": [
    "# Lire un entier :\n",
    "# a = int(input())\n",
    "# Afficher une valeur :\n",
    "# print(a)"
   ]
  },
  {
   "cell_type": "markdown",
   "id": "83741f3d",
   "metadata": {},
   "source": [
    "<details><summary>Cliquez ici pour voir la solution</summary>\n",
    "\n",
    "```python\n",
    "x1 = int(input())\n",
    "y1 = int(input())\n",
    "\n",
    "if (x1 + y1) % 2 == 0:\n",
    "  print('OUI')\n",
    "else:\n",
    "  print('NON')\n",
    "```\n",
    "</details>"
   ]
  }
 ],
 "metadata": {
  "jupytext": {
   "formats": "md:myst"
  },
  "kernelspec": {
   "display_name": "Python 3",
   "language": "python",
   "name": "python3"
  }
 },
 "nbformat": 4,
 "nbformat_minor": 5
}
