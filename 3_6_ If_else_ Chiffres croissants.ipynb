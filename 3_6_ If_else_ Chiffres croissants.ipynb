{
 "cells": [
  {
   "cell_type": "markdown",
   "id": "5ec20a1a",
   "metadata": {},
   "source": [
    "# 3.6. If/else: Chiffres croissants\n",
    "\n",
    "## **Énoncé**\n",
    "\n",
    "Étant donné un nombre à 3 chiffres, affichez \"OUI\" si ses trois chiffres sont dans l'ordre strictement croissant de gauche à droite ou \"NON\" sinon.\n",
    "\n",
    "## Exemple d'entrée #1\n",
    "\n",
    "```\n",
    "179\n",
    "```\n",
    "\n",
    "## Exemple de sortie #1\n",
    "\n",
    "```\n",
    "OUI\n",
    "```\n",
    "\n",
    "## Exemple d'entrée #2\n",
    "\n",
    "```\n",
    "197\n",
    "```\n",
    "\n",
    "## Exemple de sortie #2\n",
    "\n",
    "```\n",
    "NON\n",
    "```\n",
    "\n",
    "## Aide\n",
    "\n",
    "https://rtavenar.github.io/poly_python/content/struct.html#structures-de-controle\n",
    "\n",
    "## Codez dans la cellule ci-dessous"
   ]
  },
  {
   "cell_type": "code",
   "execution_count": null,
   "id": "88c5541a",
   "metadata": {},
   "outputs": [],
   "source": [
    "# Lire un entier :\n",
    "# a = int(input())\n",
    "# Afficher une valeur :\n",
    "# print(a)"
   ]
  },
  {
   "cell_type": "markdown",
   "id": "223890d0",
   "metadata": {},
   "source": [
    "<details><summary>Cliquez ici pour voir la solution</summary>\n",
    "\n",
    "```python\n",
    "x = int(input())\n",
    "centaines = x // 100\n",
    "dizaines = x // 10 % 10\n",
    "unites = x % 10\n",
    "if centaines < dizaines and dizaines < unites:\n",
    "  print('OUI')\n",
    "else:\n",
    "  print('NON')\n",
    "```\n",
    "</details>"
   ]
  }
 ],
 "metadata": {
  "jupytext": {
   "formats": "md:myst"
  },
  "kernelspec": {
   "display_name": "Python 3",
   "language": "python",
   "name": "python3"
  }
 },
 "nbformat": 4,
 "nbformat_minor": 5
}
