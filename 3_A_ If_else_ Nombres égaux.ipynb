{
 "cells": [
  {
   "cell_type": "markdown",
   "id": "fa623069",
   "metadata": {},
   "source": [
    "# 3.A. If/else: Nombres égaux\n",
    "\n",
    "## **Énoncé**\n",
    "\n",
    "Étant donnés 3 nombres, affichez combien sont égaux entre eux. Le programme devra écrire: 3 (si tous les nombres sont égaux), 2 (si deux d'entre eux sont égaux et que le troisième est différent) ou 0 (si tous les nombres sont différents).\n",
    "\n",
    "## Exemple d'entrée\n",
    "\n",
    "```\n",
    "10\n",
    "5\n",
    "10\n",
    "```\n",
    "\n",
    "## Exemple de sortie\n",
    "\n",
    "```\n",
    "2\n",
    "```\n",
    "\n",
    "## Aide\n",
    "\n",
    "https://rtavenar.github.io/poly_python/content/struct.html#structures-de-controle\n",
    "\n",
    "## Codez dans la cellule ci-dessous"
   ]
  },
  {
   "cell_type": "code",
   "execution_count": null,
   "id": "54237737",
   "metadata": {},
   "outputs": [],
   "source": [
    "# Lire un entier :\n",
    "# a = int(input())\n",
    "# Afficher une valeur :\n",
    "# print(a)"
   ]
  },
  {
   "cell_type": "markdown",
   "id": "a266ef99",
   "metadata": {},
   "source": [
    "<details><summary>Cliquez ici pour voir la solution</summary>\n",
    "\n",
    "```python\n",
    "a = int(input())\n",
    "b = int(input())\n",
    "c = int(input())\n",
    "\n",
    "if a == b and a == c:\n",
    "  print(3)\n",
    "elif a == b or a == c or b == c:\n",
    "  print(2)\n",
    "else:\n",
    "  print(0)\n",
    "```\n",
    "</details>"
   ]
  }
 ],
 "metadata": {
  "jupytext": {
   "formats": "md:myst"
  },
  "kernelspec": {
   "display_name": "Python 3",
   "language": "python",
   "name": "python3"
  }
 },
 "nbformat": 4,
 "nbformat_minor": 5
}
