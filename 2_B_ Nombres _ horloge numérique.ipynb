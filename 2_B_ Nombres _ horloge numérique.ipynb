{
 "cells": [
  {
   "cell_type": "markdown",
   "id": "6a04cc00",
   "metadata": {},
   "source": [
    "# 2.B. Nombres : horloge numérique\n",
    "\n",
    "## Consignes\n",
    "\n",
    "Étant donné un entier _N_ représentant le nombre de minutes passées depuis minuit, combien d'heures et de minutes sont affichées sur une horloge numérique 24h ?\n",
    "\n",
    "Le programme doit afficher deux nombres : le nombre d'heures (entre 0 et 23) et le nombre de minutes (entre 0 et 59).\n",
    "\n",
    "Par exemple, si _N = 150_, alors 150 minutes se sont déroulées depuis minuit, et il est donc maintenant 2h30. Le programme doit dans ce cas afficher `2 30`.\n",
    "\n",
    "\n",
    "## Exemple d'entrées\n",
    "\n",
    "```\n",
    "150\n",
    "```\n",
    "\n",
    "## Exemple de sortie\n",
    "\n",
    "```\n",
    "2 30\n",
    "```\n",
    "\n",
    "## Aide\n",
    "\n",
    "https://docs.python.org/fr/3/reference/expressions.html#binary-arithmetic-operations\n",
    "\n",
    "## Codez dans la cellule ci-dessous"
   ]
  },
  {
   "cell_type": "code",
   "execution_count": null,
   "id": "a6dd5206",
   "metadata": {},
   "outputs": [],
   "source": [
    "# Lire un entier :\n",
    "# a = int(input())\n",
    "# Afficher la valeur de a :\n",
    "# print(a)"
   ]
  },
  {
   "cell_type": "markdown",
   "id": "4ea611ac",
   "metadata": {},
   "source": [
    "<details><summary>Cliquez ici pour voir la solution</summary>\n",
    "\n",
    "```python\n",
    "n = int(input())\n",
    "print(n // 60, n % 60)\n",
    "```\n",
    "</details>"
   ]
  }
 ],
 "metadata": {
  "jupytext": {
   "formats": "md:myst"
  },
  "kernelspec": {
   "display_name": "Python 3",
   "language": "python",
   "name": "python3"
  }
 },
 "nbformat": 4,
 "nbformat_minor": 5
}
