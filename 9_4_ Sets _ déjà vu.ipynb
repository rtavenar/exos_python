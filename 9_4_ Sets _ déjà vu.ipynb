{
 "cells": [
  {
   "cell_type": "markdown",
   "id": "7affbbd8",
   "metadata": {},
   "source": [
    "# 9.4. Sets : déjà vu\n",
    "\n",
    "## Consignes\n",
    "\n",
    "Étant donnée une série de nombres (séparés par des espaces) entrée au clavier, les analyser de gauche à droite et pour chaque nombre, afficher `YES` si ce nombre a déjà été rencontré dans la série, et `NO` s'il apparaît pour la première fois\n",
    "\n",
    "## Exemple d'entrée\n",
    "\n",
    "```\n",
    "1 2 3 2 3 4\n",
    "```\n",
    "\n",
    "## Exemple de sortie\n",
    "\n",
    "```\n",
    "NO\n",
    "NO\n",
    "NO\n",
    "YES\n",
    "YES\n",
    "NO\n",
    "```\n",
    "\n",
    "## Aide\n",
    "\n",
    "https://docs.python.org/fr/3.6/library/stdtypes.html#set-types-set-frozenset\n",
    "\n",
    "## Codez dans la cellule ci-dessous"
   ]
  },
  {
   "cell_type": "code",
   "execution_count": null,
   "id": "60e710f2",
   "metadata": {},
   "outputs": [],
   "source": [
    "# Lire une chaîne de caractères au clavier :\n",
    "# s = input()\n",
    "# Afficher la valeur de s :\n",
    "# print(s)\n"
   ]
  },
  {
   "cell_type": "markdown",
   "id": "cf25ca7f",
   "metadata": {},
   "source": [
    "<details><summary>Cliquez ici pour voir la solution</summary>\n",
    "\n",
    "```python\n",
    "a = [int(s) for s in input().split()]\n",
    "seen = set()\n",
    "for i in a:\n",
    "  if i in seen:\n",
    "    print('YES')\n",
    "  else:\n",
    "    print('NO')\n",
    "  seen.add(i)\n",
    "```\n",
    "</details>"
   ]
  }
 ],
 "metadata": {
  "jupytext": {
   "formats": "md:myst"
  },
  "kernelspec": {
   "display_name": "Python 3",
   "language": "python",
   "name": "python3"
  }
 },
 "nbformat": 4,
 "nbformat_minor": 5
}
