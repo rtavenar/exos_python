{
 "cells": [
  {
   "cell_type": "markdown",
   "id": "8ad48ad2",
   "metadata": {},
   "source": [
    "# A.3. Dicts: Elections\n",
    "\n",
    "## Consigne\n",
    "\n",
    "La première ligne contient le nombre d'enregistrements. Ensuite, chaque entrée contient le nom du candidat et le nombre de voix qu'il a obtenu dans les différents états. Dénombrer le nombre de voix pour chaque candidat et afficher les candidats et le nombre total des voix qu'ils ont obtenues, dans l'ordre.\n",
    "\n",
    "## Exemple d'entrée\n",
    "\n",
    "```\n",
    "5\n",
    "McCain 10\n",
    "McCain 5\n",
    "Obama 9\n",
    "Obama 8\n",
    "McCain 1\n",
    "```\n",
    "\n",
    "## Exemple de sortie\n",
    "\n",
    "```\n",
    "McCain 16\n",
    "Obama 17\n",
    "```\n",
    "\n",
    "## Aide\n",
    "\n",
    "https://rtavenar.github.io/poly_python/content/dict.html\n",
    "\n",
    "https://docs.python.org/fr/3/tutorial/datastructures.html#dictionaries\n",
    "\n",
    "## Squelette"
   ]
  },
  {
   "cell_type": "code",
   "execution_count": 1,
   "id": "67ea3b7f",
   "metadata": {},
   "outputs": [],
   "source": [
    "# Read a string:\n",
    "# s = input()\n",
    "# Print a value:\n",
    "# print(s)\n",
    "# "
   ]
  },
  {
   "cell_type": "markdown",
   "id": "d86f46c1",
   "metadata": {},
   "source": [
    "````{admonition} Cliquez ici pour voir la solution\n",
    ":class: tip, dropdown\n",
    "\n",
    "```python\n",
    "n = int(input())\n",
    "votes_total = {}\n",
    "for i in range(n):\n",
    "  candidate, num_votes = input().split()\n",
    "  if candidate not in votes_total:\n",
    "    votes_total[candidate] = 0\n",
    "  votes_total[candidate] += int(num_votes)\n",
    "for candidate in sorted(votes_total):\n",
    "  print(candidate, votes_total[candidate])\n",
    "```\n",
    "````"
   ]
  }
 ],
 "metadata": {
  "jupytext": {
   "formats": "md:myst",
   "text_representation": {
    "extension": ".md",
    "format_name": "myst"
   }
  },
  "kernelspec": {
   "display_name": "Python 3",
   "language": "python",
   "name": "python3"
  },
  "language_info": {
   "codemirror_mode": {
    "name": "ipython",
    "version": 3
   },
   "file_extension": ".py",
   "mimetype": "text/x-python",
   "name": "python",
   "nbconvert_exporter": "python",
   "pygments_lexer": "ipython3",
   "version": "3.8.11"
  },
  "source_map": [
   11,
   45,
   52
  ]
 },
 "nbformat": 4,
 "nbformat_minor": 5
}