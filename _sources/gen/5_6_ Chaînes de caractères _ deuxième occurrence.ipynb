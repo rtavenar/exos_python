{
 "cells": [
  {
   "cell_type": "markdown",
   "id": "cfd665b4",
   "metadata": {},
   "source": [
    "# 5.6. Chaînes de caractères : deuxième occurrence\n",
    "\n",
    "## Consignes\n",
    "\n",
    "Étant donnée une chaîne de caractères entrée au clavier pouvant contenir la lettre `p`, `afficher l'indice de la deuxième occurrence de `p`. Si la lettre `p` n'apparait qu'une seule fois, afficher `-1`. Si la chaîne de caractères ne contient pas la lettre `p`, afficher `-2.``\n",
    "\n",
    "## Exemple d'entrée #1\n",
    "\n",
    "```\n",
    "appropriate\n",
    "```\n",
    "\n",
    "## Exemple de sortie #1\n",
    "\n",
    "```\n",
    "2\n",
    "```\n",
    "\n",
    "## Exemple d'entrée #2\n",
    "\n",
    "```\n",
    "spare\n",
    "```\n",
    "\n",
    "## Exemple de sortie #2\n",
    "\n",
    "```\n",
    "-1\n",
    "```\n",
    "\n",
    "## Exemple d'entrée #3\n",
    "\n",
    "```\n",
    "reason\n",
    "```\n",
    "\n",
    "## Exemple de sortie #3\n",
    "\n",
    "```\n",
    "-2\n",
    "```\n",
    "\n",
    "## Aide\n",
    "\n",
    "https://rtavenar.github.io/poly_python/content/intro.html#les-cha%C3%AEnes-de-caract%C3%A8res\n",
    "\n",
    "https://docs.python.org/fr/3.6/library/stdtypes.html#common-sequence-operations\n",
    "\n",
    "https://docs.python.org/fr/3.6/library/stdtypes.html#str.find\n",
    "https://docs.python.org/fr/3.6/library/stdtypes.html#str.rfind\n",
    "\n",
    "## Squelette"
   ]
  },
  {
   "cell_type": "code",
   "execution_count": 1,
   "id": "f0d0272f",
   "metadata": {},
   "outputs": [],
   "source": [
    "# Lire une chaîne de caractères :\n",
    "# s = input()\n",
    "# Afficher une chaîne de caractères :\n",
    "# print(s)\n",
    "# "
   ]
  },
  {
   "cell_type": "markdown",
   "id": "3ac14cb2",
   "metadata": {},
   "source": [
    "````{admonition} Cliquez ici pour voir la solution\n",
    ":class: tip, dropdown\n",
    "\n",
    "```python\n",
    "s = input()\n",
    "if 'p' in s:\n",
    "  if s.find('p') == s.rfind('p'):\n",
    "    print(-1)\n",
    "  else:\n",
    "    print(s.find('p') + s[s.find('p') + 1:].find('p') + 1)\n",
    "else:\n",
    "  print(-2)\n",
    "```\n",
    "````"
   ]
  }
 ],
 "metadata": {
  "jupytext": {
   "formats": "md:myst",
   "text_representation": {
    "extension": ".md",
    "format_name": "myst"
   }
  },
  "kernelspec": {
   "display_name": "Python 3",
   "language": "python",
   "name": "python3"
  },
  "language_info": {
   "codemirror_mode": {
    "name": "ipython",
    "version": 3
   },
   "file_extension": ".py",
   "mimetype": "text/x-python",
   "name": "python",
   "nbconvert_exporter": "python",
   "pygments_lexer": "ipython3",
   "version": "3.8.11"
  },
  "source_map": [
   11,
   66,
   73
  ]
 },
 "nbformat": 4,
 "nbformat_minor": 5
}