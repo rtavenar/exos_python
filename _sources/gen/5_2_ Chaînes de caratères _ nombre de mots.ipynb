{
 "cells": [
  {
   "cell_type": "markdown",
   "id": "c7606799",
   "metadata": {},
   "source": [
    "# 5.2. Chaînes de caratères : nombre de mots\n",
    "\n",
    "## Consignes\n",
    "\n",
    "Étant donnée une chaîne de caractères (entrée au clavier) représentant des mots séparés par des espaces, déterminer le nombre de mots la composant. Pour résoudre le problème, utiliser la méthode `split` des chaînes de caractères.\n",
    "\n",
    "## Exemple d'entrée\n",
    "\n",
    "```\n",
    "Hello world\n",
    "```\n",
    "\n",
    "## Exemple de sortie\n",
    "\n",
    "```\n",
    "2\n",
    "```\n",
    "\n",
    "## Aide\n",
    "\n",
    "https://rtavenar.github.io/poly_python/content/intro.html#les-cha%C3%AEnes-de-caract%C3%A8res\n",
    "\n",
    "https://docs.python.org/fr/3.6/library/stdtypes.html#str.split\n",
    "\n",
    "## Squelette"
   ]
  },
  {
   "cell_type": "code",
   "execution_count": 1,
   "id": "db4a8caf",
   "metadata": {},
   "outputs": [],
   "source": [
    "# Lire une chaîne de caractères :\n",
    "# s = input()\n",
    "# Afficher une chaîne de caractères :\n",
    "# print(s)\n",
    "# "
   ]
  },
  {
   "cell_type": "markdown",
   "id": "d334daf9",
   "metadata": {},
   "source": [
    "````{admonition} Cliquez ici pour voir la solution\n",
    ":class: tip, dropdown\n",
    "\n",
    "```python\n",
    "print(len(input().split()))\n",
    "```\n",
    "````"
   ]
  }
 ],
 "metadata": {
  "jupytext": {
   "formats": "md:myst",
   "text_representation": {
    "extension": ".md",
    "format_name": "myst"
   }
  },
  "kernelspec": {
   "display_name": "Python 3",
   "language": "python",
   "name": "python3"
  },
  "language_info": {
   "codemirror_mode": {
    "name": "ipython",
    "version": 3
   },
   "file_extension": ".py",
   "mimetype": "text/x-python",
   "name": "python",
   "nbconvert_exporter": "python",
   "pygments_lexer": "ipython3",
   "version": "3.8.11"
  },
  "source_map": [
   11,
   39,
   46
  ]
 },
 "nbformat": 4,
 "nbformat_minor": 5
}