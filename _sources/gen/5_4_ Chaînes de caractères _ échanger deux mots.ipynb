{
 "cells": [
  {
   "cell_type": "markdown",
   "id": "ccf3c5d4",
   "metadata": {},
   "source": [
    "# 5.4. Chaînes de caractères : échanger deux mots\n",
    "\n",
    "## Consignes\n",
    "\n",
    "Étant donnée une chaîne de caractères entrée au clavier formée exactement de deux mots séparés par un espace, afficher une nouvelle chaîne avec le premier et le second mot échangés et séparés par un espace : le second mot est affiché en premier. On considérera comme un mot toute série de caractères adjacents différents d'un espace.\n",
    "\n",
    "\n",
    "Peut-on résoudre le problème sans utiliser `if-else` et une boucle?\n",
    "\n",
    "## Exemple d'entrée\n",
    "\n",
    "```\n",
    "Hello, world!\n",
    "```\n",
    "\n",
    "## Exemple de sortie\n",
    "\n",
    "```\n",
    "world! Hello,\n",
    "```\n",
    "\n",
    "## Aide\n",
    "\n",
    "http://rtavenar.github.io/teaching/python_poly/html/poly.html#les-cha%C3%AEnes-de-caract%C3%A8res\n",
    "\n",
    "https://docs.python.org/fr/3.6/library/stdtypes.html#str.split\n",
    "\n",
    "## Squelette"
   ]
  },
  {
   "cell_type": "code",
   "execution_count": 1,
   "id": "ad876bae",
   "metadata": {},
   "outputs": [],
   "source": [
    "# Lire une chaîne de caractères :\n",
    "# s = input()\n",
    "# Afficher une chaîne de caractères :\n",
    "# print(s)"
   ]
  },
  {
   "cell_type": "markdown",
   "id": "5bca6651",
   "metadata": {},
   "source": [
    "````{dropdown} Proposition de solution\n",
    "\n",
    "```python\n",
    "word1, word2 = input().split()\n",
    "print(word2, word1)\n",
    "```\n",
    "````"
   ]
  }
 ],
 "metadata": {
  "jupytext": {
   "formats": "md:myst",
   "text_representation": {
    "extension": ".md",
    "format_name": "myst"
   }
  },
  "kernelspec": {
   "display_name": "Python 3",
   "language": "python",
   "name": "python3"
  },
  "language_info": {
   "codemirror_mode": {
    "name": "ipython",
    "version": 3
   },
   "file_extension": ".py",
   "mimetype": "text/x-python",
   "name": "python",
   "nbconvert_exporter": "python",
   "pygments_lexer": "ipython3",
   "version": "3.8.11"
  },
  "source_map": [
   11,
   42,
   47
  ]
 },
 "nbformat": 4,
 "nbformat_minor": 5
}