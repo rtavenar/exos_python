{
 "cells": [
  {
   "cell_type": "markdown",
   "id": "a543b4a0",
   "metadata": {},
   "source": [
    "# 9.4. Sets : déjà vu\n",
    "\n",
    "## Consignes\n",
    "\n",
    "Étant donnée une série de nombres (séparés par des espaces) entrée au clavier, les analyser de gauche à droite et pour chaque nombre, afficher `YES` si ce nombre a déjà été rencontré dans la série, et `NO` s'il apparaît pour la première fois\n",
    "\n",
    "## Exemple d'entrée\n",
    "\n",
    "```\n",
    "1 2 3 2 3 4\n",
    "```\n",
    "\n",
    "## Exemple de sortie\n",
    "\n",
    "```\n",
    "NO\n",
    "NO\n",
    "NO\n",
    "YES\n",
    "YES\n",
    "NO\n",
    "```\n",
    "\n",
    "## Aide\n",
    "\n",
    "https://docs.python.org/fr/3.6/library/stdtypes.html#set-types-set-frozenset\n",
    "\n",
    "## Squelette"
   ]
  },
  {
   "cell_type": "code",
   "execution_count": 1,
   "id": "dee79d03",
   "metadata": {},
   "outputs": [],
   "source": [
    "# Lire une chaîne de caractères au clavier :\n",
    "# s = input()\n",
    "# Afficher la valeur de s :\n",
    "# print(s)"
   ]
  },
  {
   "cell_type": "markdown",
   "id": "e4cc79ec",
   "metadata": {},
   "source": [
    "````{dropdown} Proposition de solution\n",
    "\n",
    "```python\n",
    "a = [int(s) for s in input().split()]\n",
    "seen = set()\n",
    "for i in a:\n",
    "  if i in seen:\n",
    "    print('YES')\n",
    "  else:\n",
    "    print('NO')\n",
    "  seen.add(i)\n",
    "```\n",
    "````"
   ]
  }
 ],
 "metadata": {
  "jupytext": {
   "formats": "md:myst",
   "text_representation": {
    "extension": ".md",
    "format_name": "myst"
   }
  },
  "kernelspec": {
   "display_name": "Python 3",
   "language": "python",
   "name": "python3"
  },
  "language_info": {
   "codemirror_mode": {
    "name": "ipython",
    "version": 3
   },
   "file_extension": ".py",
   "mimetype": "text/x-python",
   "name": "python",
   "nbconvert_exporter": "python",
   "pygments_lexer": "ipython3",
   "version": "3.8.11"
  },
  "source_map": [
   11,
   42,
   47
  ]
 },
 "nbformat": 4,
 "nbformat_minor": 5
}