{
 "cells": [
  {
   "cell_type": "markdown",
   "id": "a509726a",
   "metadata": {},
   "source": [
    "# 3.A. If/else: Nombres égaux\n",
    "\n",
    "## **Énoncé**\n",
    "\n",
    "Étant donnés 3 nombres, affichez combien sont égaux entre eux. Le programme devra écrire: 3 (si tous les nombres sont égaux), 2 (si deux d'entre eux sont égaux et que le troisième est différent) ou 0 (si tous les nombres sont différents).\n",
    "\n",
    "## Exemple d'entrée\n",
    "\n",
    "```\n",
    "10\n",
    "5\n",
    "10\n",
    "```\n",
    "\n",
    "## Exemple de sortie\n",
    "\n",
    "```\n",
    "2\n",
    "```\n",
    "\n",
    "## Aide\n",
    "\n",
    "http://rtavenar.github.io/teaching/python_poly/html/poly.html#structures-de-contrôle\n",
    "\n",
    "## Squelette"
   ]
  },
  {
   "cell_type": "code",
   "execution_count": 1,
   "id": "fa4f70a7",
   "metadata": {},
   "outputs": [],
   "source": [
    "# Lire un entier :\n",
    "# a = int(input())\n",
    "# Afficher une valeur :\n",
    "# print(a)"
   ]
  },
  {
   "cell_type": "markdown",
   "id": "2573b613",
   "metadata": {},
   "source": [
    "````{dropdown} Proposition de solution\n",
    "\n",
    "```python\n",
    "a = int(input())\n",
    "b = int(input())\n",
    "c = int(input())\n",
    "\n",
    "if a == b and a == c:\n",
    "  print(3)\n",
    "elif a == b or a == c or b == c:\n",
    "  print(2)\n",
    "else:\n",
    "  print(0)\n",
    "```\n",
    "````"
   ]
  }
 ],
 "metadata": {
  "jupytext": {
   "formats": "md:myst",
   "text_representation": {
    "extension": ".md",
    "format_name": "myst"
   }
  },
  "kernelspec": {
   "display_name": "Python 3",
   "language": "python",
   "name": "python3"
  },
  "language_info": {
   "codemirror_mode": {
    "name": "ipython",
    "version": 3
   },
   "file_extension": ".py",
   "mimetype": "text/x-python",
   "name": "python",
   "nbconvert_exporter": "python",
   "pygments_lexer": "ipython3",
   "version": "3.8.11"
  },
  "source_map": [
   11,
   39,
   44
  ]
 },
 "nbformat": 4,
 "nbformat_minor": 5
}