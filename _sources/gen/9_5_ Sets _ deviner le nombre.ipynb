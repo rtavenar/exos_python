{
 "cells": [
  {
   "cell_type": "markdown",
   "id": "74d876ca",
   "metadata": {},
   "source": [
    "# 9.5. Sets : deviner le nombre\n",
    "\n",
    "## Consignes\n",
    "\n",
    "Auguste et Béatrice jouent au jeu suivant. Auguste choisi dans sa tête un nombre secret entier entre 1 et `n`. Béatrice essaie de deviner le nombre secret en fournissant un ensemble d'entiers. Auguste répond `YES` si son nombre secret existe dans l'ensemble fourni, ou `NO`, dans le cas contraire. Après quelques questions Béatrice, complètement perdue, vous demande de l'aider à trouver le nombre secret d'Auguste.\n",
    "\n",
    "On entrera au début du programme le nombre entier positif `n` déterminant la limite haute du nombre secret. Ensuite le jeu commence et tourne en boucle : on donnera les essais de Béatrice entrés au clavier sous forme à chaque fois d'une série de nombres entiers séparés par des espaces, suivis de la réponse d'Auguste (`YES` ou `NO`) entrée elle aussi au clavier. Cette boucle continue jusqu'à ce que Béatrice demande de l'aide en entrant `HELP` au clavier, à la place de sa série de nombres. Quand Béatrice demande cette aide, afficher une liste de toutes les possibilités restantes pour le nombre secret, par ordre croissant, séparées par un espace.\n",
    "\n",
    "## Exemple d'entrée\n",
    "\n",
    "```\n",
    "10\n",
    "1 2 3 4 5\n",
    "YES\n",
    "2 4 6 8 10\n",
    "NO\n",
    "HELP\n",
    "```\n",
    "\n",
    "## Exemple de sortie\n",
    "\n",
    "```\n",
    "1 3 5\n",
    "```\n",
    "\n",
    "## Aide\n",
    "\n",
    "https://docs.python.org/fr/3.6/library/stdtypes.html#set-types-set-frozenset\n",
    "\n",
    "## Squelette"
   ]
  },
  {
   "cell_type": "code",
   "execution_count": 1,
   "id": "e1d5482a",
   "metadata": {},
   "outputs": [],
   "source": [
    "# Lire une chaîne de caractères au clavier :\n",
    "# s = input()\n",
    "# Afficher la valeur de s :\n",
    "# print(s)\n"
   ]
  },
  {
   "cell_type": "markdown",
   "id": "3b37abaa",
   "metadata": {},
   "source": [
    "````{admonition} Cliquez ici pour voir la solution\n",
    ":class: tip, dropdown\n",
    "\n",
    "```python\n",
    "n = int(input())\n",
    "possible = set(range(n))\n",
    "while True:\n",
    "  line = input()\n",
    "  if line == 'HELP':\n",
    "    break\n",
    "  guess = set([int(s) for s in line.split()])\n",
    "  if input() == 'YES':\n",
    "    possible &= guess\n",
    "  else:\n",
    "    possible -= guess\n",
    "print(*sorted(possible))\n",
    "```\n",
    "````"
   ]
  }
 ],
 "metadata": {
  "jupytext": {
   "formats": "md:myst",
   "text_representation": {
    "extension": ".md",
    "format_name": "myst"
   }
  },
  "kernelspec": {
   "display_name": "Python 3",
   "language": "python",
   "name": "python3"
  },
  "language_info": {
   "codemirror_mode": {
    "name": "ipython",
    "version": 3
   },
   "file_extension": ".py",
   "mimetype": "text/x-python",
   "name": "python",
   "nbconvert_exporter": "python",
   "pygments_lexer": "ipython3",
   "version": "3.8.11"
  },
  "source_map": [
   11,
   44,
   51
  ]
 },
 "nbformat": 4,
 "nbformat_minor": 5
}