{
 "cells": [
  {
   "cell_type": "markdown",
   "id": "32b30862",
   "metadata": {},
   "source": [
    "# 3.C. If/else: Échecs : mouvement de tour\n",
    "\n",
    "## **Énoncé**\n",
    "\n",
    "Aux échecs, les tours se déplacent horizontalement ou verticalement, d'un nombre de cases quelconque.\n",
    "\n",
    "Le programme reçoit 4 valeurs entre 1 et 8 dans l'ordre suivant :\n",
    "\n",
    "1. numéro de colonne de la case de départ\n",
    "2. numéro de ligne de la case de départ\n",
    "3. numéro de colonne de la case d'arrivée\n",
    "4. numéro de ligne de la case d'arrivée\n",
    "\n",
    "Le programme devra afficher `OUI` si une tour peut aller de la case de départ à la case d'arrivée ou `NON` sinon.\n",
    "\n",
    "\n",
    "\n",
    "## **Exemple d'entrée**\n",
    "\n",
    "```\n",
    "4\n",
    "4\n",
    "5\n",
    "5\n",
    "```\n",
    "\n",
    "## **Exemple de sortie**\n",
    "\n",
    "```\n",
    "NON\n",
    "```\n",
    "\n",
    "## Aide\n",
    "\n",
    "http://rtavenar.github.io/teaching/python_poly/html/poly.html#structures-de-contrôle\n",
    "\n",
    "## Squelette"
   ]
  },
  {
   "cell_type": "code",
   "execution_count": 1,
   "id": "302d0239",
   "metadata": {},
   "outputs": [],
   "source": [
    "# Lire un entier :\n",
    "# a = int(input())\n",
    "# Afficher une valeur :\n",
    "# print(a)"
   ]
  },
  {
   "cell_type": "markdown",
   "id": "da319e0e",
   "metadata": {},
   "source": [
    "````{dropdown} Proposition de solution\n",
    "\n",
    "```python\n",
    "x1 = int(input())\n",
    "y1 = int(input())\n",
    "x2 = int(input())\n",
    "y2 = int(input())\n",
    "\n",
    "if x1 == x2 or y1 == y2:\n",
    "  print('OUI')\n",
    "else:\n",
    "  print('NON')\n",
    "```\n",
    "````"
   ]
  }
 ],
 "metadata": {
  "jupytext": {
   "formats": "md:myst",
   "text_representation": {
    "extension": ".md",
    "format_name": "myst"
   }
  },
  "kernelspec": {
   "display_name": "Python 3",
   "language": "python",
   "name": "python3"
  },
  "language_info": {
   "codemirror_mode": {
    "name": "ipython",
    "version": 3
   },
   "file_extension": ".py",
   "mimetype": "text/x-python",
   "name": "python",
   "nbconvert_exporter": "python",
   "pygments_lexer": "ipython3",
   "version": "3.8.11"
  },
  "source_map": [
   11,
   51,
   56
  ]
 },
 "nbformat": 4,
 "nbformat_minor": 5
}