{
 "cells": [
  {
   "cell_type": "markdown",
   "id": "62d6b1db",
   "metadata": {},
   "source": [
    "# 2.7. Nombres : parcours d'une voiture\n",
    "\n",
    "## Consignes\n",
    "\n",
    "Une voiture peut parcourir une distance de _N_ kilomètres par jour. Combien de jours faudra-t-il pour parcourir une distance de _M_ kilomètres avec cette voiture ? Le programme reçoit deux nombres tapés au clavier : _N_ et _M_.\n",
    "\n",
    "## Exemple d'entrée\n",
    "\n",
    "```\n",
    "700\n",
    "750\n",
    "```\n",
    "\n",
    "## Exemple de sortie\n",
    "\n",
    "```\n",
    "2\n",
    "```\n",
    "\n",
    "## Aide\n",
    "\n",
    "https://docs.python.org/fr/3/reference/expressions.html#binary-arithmetic-operations\n",
    "\n",
    "## Squelette"
   ]
  },
  {
   "cell_type": "code",
   "execution_count": 1,
   "id": "a1481675",
   "metadata": {},
   "outputs": [],
   "source": [
    "# Lire un entier :\n",
    "# a = int(input())\n",
    "# Afficher la valeur de a :\n",
    "# print(a)\n",
    "# "
   ]
  },
  {
   "cell_type": "markdown",
   "id": "b71865d1",
   "metadata": {},
   "source": [
    "````{admonition} Cliquez ici pour voir la solution\n",
    ":class: tip, dropdown\n",
    "\n",
    "```python\n",
    "from math import ceil\n",
    "\n",
    "n = int(input())\n",
    "m = int(input())\n",
    "print(ceil(m / n))\n",
    "```\n",
    "````"
   ]
  }
 ],
 "metadata": {
  "jupytext": {
   "formats": "md:myst",
   "text_representation": {
    "extension": ".md",
    "format_name": "myst"
   }
  },
  "kernelspec": {
   "display_name": "Python 3",
   "language": "python",
   "name": "python3"
  },
  "language_info": {
   "codemirror_mode": {
    "name": "ipython",
    "version": 3
   },
   "file_extension": ".py",
   "mimetype": "text/x-python",
   "name": "python",
   "nbconvert_exporter": "python",
   "pygments_lexer": "ipython3",
   "version": "3.8.11"
  },
  "source_map": [
   11,
   38,
   45
  ]
 },
 "nbformat": 4,
 "nbformat_minor": 5
}