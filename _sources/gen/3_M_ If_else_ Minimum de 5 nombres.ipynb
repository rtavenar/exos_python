{
 "cells": [
  {
   "cell_type": "markdown",
   "id": "6aa219ac",
   "metadata": {},
   "source": [
    "# 3.M. If/else: Minimum de 5 nombres\n",
    "\n",
    "## **Énoncé**\n",
    "\n",
    "Étant donnés 5 nombres, afficher leur minimum.\n",
    "\n",
    "## Exemple d'entrée\n",
    "\n",
    "```\n",
    "10\n",
    "```\n",
    "\n",
    "```\n",
    "20\n",
    "```\n",
    "\n",
    "```\n",
    "30\n",
    "```\n",
    "\n",
    "```\n",
    "40\n",
    "```\n",
    "\n",
    "```\n",
    "50\n",
    "```\n",
    "\n",
    "## Exemple de sortie\n",
    "\n",
    "```\n",
    "10\n",
    "```\n",
    "\n",
    "## Aide\n",
    "\n",
    "http://rtavenar.github.io/teaching/python_poly/html/poly.html#structures-de-contrôle\n",
    "\n",
    "## Squelette"
   ]
  },
  {
   "cell_type": "code",
   "execution_count": 1,
   "id": "8e08e2f8",
   "metadata": {},
   "outputs": [],
   "source": [
    "# Lire un entier :\n",
    "# a = int(input())\n",
    "# Afficher une valeur :\n",
    "# print(a)"
   ]
  },
  {
   "cell_type": "markdown",
   "id": "00e4afa0",
   "metadata": {},
   "source": [
    "````{dropdown} Proposition de solution\n",
    "\n",
    "```python\n",
    "least = int(input())\n",
    "\n",
    "new_integer = int(input())\n",
    "if new_integer < least:\n",
    "  least = new_integer\n",
    "\n",
    "new_integer = int(input())\n",
    "if new_integer < least:\n",
    "  least = new_integer\n",
    "  \n",
    "new_integer = int(input())\n",
    "if new_integer < least:\n",
    "  least = new_integer\n",
    "  \n",
    "new_integer = int(input())\n",
    "if new_integer < least:\n",
    "  least = new_integer\n",
    "  \n",
    "print(least)\n",
    "```\n",
    "````"
   ]
  }
 ],
 "metadata": {
  "jupytext": {
   "formats": "md:myst",
   "text_representation": {
    "extension": ".md",
    "format_name": "myst"
   }
  },
  "kernelspec": {
   "display_name": "Python 3",
   "language": "python",
   "name": "python3"
  },
  "language_info": {
   "codemirror_mode": {
    "name": "ipython",
    "version": 3
   },
   "file_extension": ".py",
   "mimetype": "text/x-python",
   "name": "python",
   "nbconvert_exporter": "python",
   "pygments_lexer": "ipython3",
   "version": "3.8.11"
  },
  "source_map": [
   11,
   53,
   58
  ]
 },
 "nbformat": 4,
 "nbformat_minor": 5
}