{
 "cells": [
  {
   "cell_type": "markdown",
   "id": "bb16103f",
   "metadata": {},
   "source": [
    "# 3.M. If/else: Minimum de 5 nombres\n",
    "\n",
    "## **Énoncé**\n",
    "\n",
    "Étant donnés 5 nombres, afficher leur minimum.\n",
    "\n",
    "## Exemple d'entrée\n",
    "\n",
    "```\n",
    "10\n",
    "20\n",
    "30\n",
    "40\n",
    "50\n",
    "```\n",
    "\n",
    "## Exemple de sortie\n",
    "\n",
    "```\n",
    "10\n",
    "```\n",
    "\n",
    "## Aide\n",
    "\n",
    "https://rtavenar.github.io/poly_python/content/struct.html#structures-de-controle\n",
    "\n",
    "## Squelette"
   ]
  },
  {
   "cell_type": "code",
   "execution_count": 1,
   "id": "e156282e",
   "metadata": {},
   "outputs": [],
   "source": [
    "# Lire un entier :\n",
    "# a = int(input())\n",
    "# Afficher une valeur :\n",
    "# print(a)"
   ]
  },
  {
   "cell_type": "markdown",
   "id": "23b33f87",
   "metadata": {},
   "source": [
    "````{admonition} Cliquez ici pour voir la solution\n",
    ":class: tip, dropdown\n",
    "\n",
    "```python\n",
    "least = int(input())\n",
    "\n",
    "new_integer = int(input())\n",
    "if new_integer < least:\n",
    "  least = new_integer\n",
    "\n",
    "new_integer = int(input())\n",
    "if new_integer < least:\n",
    "  least = new_integer\n",
    "  \n",
    "new_integer = int(input())\n",
    "if new_integer < least:\n",
    "  least = new_integer\n",
    "  \n",
    "new_integer = int(input())\n",
    "if new_integer < least:\n",
    "  least = new_integer\n",
    "  \n",
    "print(least)\n",
    "```\n",
    "````"
   ]
  }
 ],
 "metadata": {
  "jupytext": {
   "formats": "md:myst",
   "text_representation": {
    "extension": ".md",
    "format_name": "myst"
   }
  },
  "kernelspec": {
   "display_name": "Python 3",
   "language": "python",
   "name": "python3"
  },
  "language_info": {
   "codemirror_mode": {
    "name": "ipython",
    "version": 3
   },
   "file_extension": ".py",
   "mimetype": "text/x-python",
   "name": "python",
   "nbconvert_exporter": "python",
   "pygments_lexer": "ipython3",
   "version": "3.8.11"
  },
  "source_map": [
   11,
   41,
   47
  ]
 },
 "nbformat": 4,
 "nbformat_minor": 5
}