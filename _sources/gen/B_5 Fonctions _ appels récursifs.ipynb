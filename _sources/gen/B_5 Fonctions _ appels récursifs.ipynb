{
 "cells": [
  {
   "cell_type": "markdown",
   "id": "76abce23",
   "metadata": {},
   "source": [
    "# B.5 Fonctions : appels récursifs\n",
    "\n",
    "**Énoncé**\n",
    "\n",
    "Codez une fonction `somme_entiers` qui calcule la somme des `n` premiers entiers (`n` étant un paramètre de cette fonction) de manière récursive (c'est-à-dire que le calcul de `somme_entiers(n)` devra utiliser un (au moins) autre appel à `somme_entiers` avec un argument différent de `n`).\n",
    "\n",
    "**Exemple d'appel de la fonction**\n",
    "\n",
    "```\n",
    "somme_entiers(10)\n",
    "```\n",
    "\n",
    "**Exemple de valeur de retour**\n",
    "\n",
    "```\n",
    "55\n",
    "```\n",
    "\n",
    "**Aide**\n",
    "\n",
    "http://rtavenar.github.io/teaching/python_poly/html/poly.html#fonctions\n",
    "\n",
    "## Squelette"
   ]
  },
  {
   "cell_type": "code",
   "execution_count": 1,
   "id": "865a3f8c",
   "metadata": {},
   "outputs": [],
   "source": [
    "def somme_entiers(n):\n",
    "  # Codez votre fonction ici (et changez sa valeur de retour !)\n",
    "  return -1"
   ]
  },
  {
   "cell_type": "markdown",
   "id": "adf3f939",
   "metadata": {},
   "source": [
    "````{dropdown} Proposition de solution\n",
    "\n",
    "```python\n",
    "def somme_entiers(n):\n",
    "  if n == 0:\n",
    "    return 0\n",
    "  return n + somme_entiers(n-1)\n",
    "```\n",
    "````"
   ]
  }
 ],
 "metadata": {
  "jupytext": {
   "formats": "md:myst",
   "text_representation": {
    "extension": ".md",
    "format_name": "myst"
   }
  },
  "kernelspec": {
   "display_name": "Python 3",
   "language": "python",
   "name": "python3"
  },
  "language_info": {
   "codemirror_mode": {
    "name": "ipython",
    "version": 3
   },
   "file_extension": ".py",
   "mimetype": "text/x-python",
   "name": "python",
   "nbconvert_exporter": "python",
   "pygments_lexer": "ipython3",
   "version": "3.8.11"
  },
  "source_map": [
   11,
   37,
   41
  ]
 },
 "nbformat": 4,
 "nbformat_minor": 5
}