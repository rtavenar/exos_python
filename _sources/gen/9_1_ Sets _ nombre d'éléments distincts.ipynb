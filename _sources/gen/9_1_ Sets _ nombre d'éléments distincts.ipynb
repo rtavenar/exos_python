{
 "cells": [
  {
   "cell_type": "markdown",
   "id": "16d3b7d8",
   "metadata": {},
   "source": [
    "# 9.1. Sets : nombre d'éléments distincts\n",
    "\n",
    "## Consignes\n",
    "\n",
    "Étant donnée une série d'entiers (séparés par des espaces) entrée au clavier, compter combien de nombres différents elle contient et afficher ce comptage. Ce problème peut être résolu en une seule ligne.\n",
    "\n",
    "## Exemple d'entrée\n",
    "\n",
    "```\n",
    "1 2 3 2 1\n",
    "```\n",
    "\n",
    "## Exemple de sortie\n",
    "\n",
    "```\n",
    "3\n",
    "```\n",
    "\n",
    "## Aide\n",
    "\n",
    "https://docs.python.org/fr/3.6/library/stdtypes.html#set-types-set-frozenset\n",
    "\n",
    "## Squelette"
   ]
  },
  {
   "cell_type": "code",
   "execution_count": 1,
   "id": "1e322267",
   "metadata": {},
   "outputs": [],
   "source": [
    "# Lire une chaîne de caractères au clavier :\n",
    "# s = input()\n",
    "# Afficher la valeur de s :\n",
    "# print(s)\n",
    "# "
   ]
  },
  {
   "cell_type": "markdown",
   "id": "9145c6f8",
   "metadata": {},
   "source": [
    "````{admonition} Cliquez ici pour voir la solution\n",
    ":class: tip, dropdown\n",
    "\n",
    "```python\n",
    "print(len(set(input().split())))\n",
    "```\n",
    "````"
   ]
  }
 ],
 "metadata": {
  "jupytext": {
   "formats": "md:myst",
   "text_representation": {
    "extension": ".md",
    "format_name": "myst"
   }
  },
  "kernelspec": {
   "display_name": "Python 3",
   "language": "python",
   "name": "python3"
  },
  "language_info": {
   "codemirror_mode": {
    "name": "ipython",
    "version": 3
   },
   "file_extension": ".py",
   "mimetype": "text/x-python",
   "name": "python",
   "nbconvert_exporter": "python",
   "pygments_lexer": "ipython3",
   "version": "3.8.11"
  },
  "source_map": [
   11,
   37,
   44
  ]
 },
 "nbformat": 4,
 "nbformat_minor": 5
}