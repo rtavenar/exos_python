{
 "cells": [
  {
   "cell_type": "markdown",
   "id": "455d1842",
   "metadata": {},
   "source": [
    "# C.3 Fichiers : les fichiers JSON\n",
    "\n",
    "**Énoncé**\n",
    "\n",
    "Codez une fonction qui lit un fichier JSON et, pour un préfixe passé en argument, retourne le nombre de clés de premier niveau du fichier JSON qui commencent par le préfixe.\n",
    "\n",
    "**Exemple d'entrée**\n",
    "\n",
    "```\n",
    "print(compte_cles_prefixe(\"a.json\", \"abc\"))\n",
    "```\n",
    "\n",
    "**Exemple de sortie**\n",
    "\n",
    "```\n",
    "2\n",
    "```\n",
    "\n",
    "**Aide**\n",
    "\n",
    "http://rtavenar.github.io/teaching/python_poly/html/poly.html#lecture-de-fichiers-textuels\n",
    "\n",
    "## Squelette"
   ]
  },
  {
   "cell_type": "code",
   "execution_count": 1,
   "id": "de7c6418",
   "metadata": {},
   "outputs": [],
   "source": [
    "import json\n",
    "\n",
    "def compte_cles_prefixe(nom_du_fichier, prefixe):\n",
    "  # Codez votre fonction ici et modifiez sa valeur de retour si besoin\n",
    "  return None"
   ]
  },
  {
   "cell_type": "markdown",
   "id": "376a5cde",
   "metadata": {},
   "source": [
    "````{dropdown} Proposition de solution\n",
    "\n",
    "```python\n",
    "import json\n",
    "\n",
    "def compte_cles_prefixe(nom_du_fichier, prefixe):\n",
    "  d = json.load(open(nom_du_fichier, \"r\", encoding=\"utf-8\"))\n",
    "  n = 0\n",
    "  for k in d.keys():\n",
    "    if k.startswith(prefixe):\n",
    "      n += 1\n",
    "  return n\n",
    "```\n",
    "````"
   ]
  }
 ],
 "metadata": {
  "jupytext": {
   "formats": "md:myst",
   "text_representation": {
    "extension": ".md",
    "format_name": "myst"
   }
  },
  "kernelspec": {
   "display_name": "Python 3",
   "language": "python",
   "name": "python3"
  },
  "language_info": {
   "codemirror_mode": {
    "name": "ipython",
    "version": 3
   },
   "file_extension": ".py",
   "mimetype": "text/x-python",
   "name": "python",
   "nbconvert_exporter": "python",
   "pygments_lexer": "ipython3",
   "version": "3.8.11"
  },
  "source_map": [
   11,
   37,
   43
  ]
 },
 "nbformat": 4,
 "nbformat_minor": 5
}