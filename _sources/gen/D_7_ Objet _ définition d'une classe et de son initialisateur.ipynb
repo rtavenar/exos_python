{
 "cells": [
  {
   "cell_type": "markdown",
   "id": "441f1a60",
   "metadata": {},
   "source": [
    "# D.7. Objet : définition d'une classe et de son initialisateur\n",
    "\n",
    "## Consignes\n",
    "\n",
    "Écrire le code permettant de définir une classe Personne et son initialisateur. Les objets de classe Personne possèderont un attribut \"`nom`\" dont la valeur sera passée en paramètre à la construction de l'objet.\n",
    "\n",
    "## Aide\n",
    "\n",
    "https://docs.python.org/fr/3.6/tutorial/classes.html#a-first-look-at-classes\n",
    "\n",
    "## Squelette"
   ]
  },
  {
   "cell_type": "code",
   "execution_count": 1,
   "id": "2b02d2a3",
   "metadata": {},
   "outputs": [],
   "source": [
    "# Écrire votre code ci-dessous"
   ]
  },
  {
   "cell_type": "markdown",
   "id": "05b37dde",
   "metadata": {},
   "source": [
    "````{dropdown} Proposition de solution\n",
    "\n",
    "```python\n",
    "# Écrire votre code ci-dessous\n",
    "class Personne:\n",
    "  def __init__(self, nom):\n",
    "    self.nom = nom\n",
    "```\n",
    "````"
   ]
  }
 ],
 "metadata": {
  "jupytext": {
   "formats": "md:myst",
   "text_representation": {
    "extension": ".md",
    "format_name": "myst"
   }
  },
  "kernelspec": {
   "display_name": "Python 3",
   "language": "python",
   "name": "python3"
  },
  "language_info": {
   "codemirror_mode": {
    "name": "ipython",
    "version": 3
   },
   "file_extension": ".py",
   "mimetype": "text/x-python",
   "name": "python",
   "nbconvert_exporter": "python",
   "pygments_lexer": "ipython3",
   "version": "3.8.11"
  },
  "source_map": [
   11,
   25,
   27
  ]
 },
 "nbformat": 4,
 "nbformat_minor": 5
}