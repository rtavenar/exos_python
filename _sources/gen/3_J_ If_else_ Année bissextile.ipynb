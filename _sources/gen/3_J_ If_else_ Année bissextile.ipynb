{
 "cells": [
  {
   "cell_type": "markdown",
   "id": "39421140",
   "metadata": {},
   "source": [
    "# 3.J. If/else: Année bissextile\n",
    "\n",
    "## **Énoncé**\n",
    "\n",
    "Étant donné une année, votre programme devra afficher `BISSEXTILE` s'il s'agit d'une année bissextile et  `NORMALE` sinon.\n",
    "\n",
    "https://fr.wikipedia.org/wiki/Année_bissextile\n",
    "\n",
    "**Attention.** Les mots `BISSEXTILE` et `NORMALE` devront être écrits en majuscules.\n",
    "\n",
    "## Exemple d'entrée\n",
    "\n",
    "```\n",
    "2012\n",
    "```\n",
    "\n",
    "## Exemple de sortie\n",
    "\n",
    "```\n",
    "BISSEXTILE\n",
    "```\n",
    "\n",
    "## Aide\n",
    "\n",
    "http://rtavenar.github.io/teaching/python_poly/html/poly.html#structures-de-contrôle\n",
    "\n",
    "## Squelette"
   ]
  },
  {
   "cell_type": "code",
   "execution_count": 1,
   "id": "d806c32f",
   "metadata": {},
   "outputs": [],
   "source": [
    "# Lire un entier :\n",
    "# a = int(input())\n",
    "# Afficher une valeur :\n",
    "# print(a)"
   ]
  },
  {
   "cell_type": "markdown",
   "id": "e0052ef0",
   "metadata": {},
   "source": [
    "````{dropdown} Proposition de solution\n",
    "\n",
    "```python\n",
    "year = int(input())\n",
    "\n",
    "if year % 4 == 0 and year % 100 != 0 or year % 400 == 0:\n",
    "  print('BISSEXTILE')\n",
    "else:\n",
    "  print('NORMALE')\n",
    "```\n",
    "````"
   ]
  }
 ],
 "metadata": {
  "jupytext": {
   "formats": "md:myst",
   "text_representation": {
    "extension": ".md",
    "format_name": "myst"
   }
  },
  "kernelspec": {
   "display_name": "Python 3",
   "language": "python",
   "name": "python3"
  },
  "language_info": {
   "codemirror_mode": {
    "name": "ipython",
    "version": 3
   },
   "file_extension": ".py",
   "mimetype": "text/x-python",
   "name": "python",
   "nbconvert_exporter": "python",
   "pygments_lexer": "ipython3",
   "version": "3.8.11"
  },
  "source_map": [
   11,
   41,
   46
  ]
 },
 "nbformat": 4,
 "nbformat_minor": 5
}