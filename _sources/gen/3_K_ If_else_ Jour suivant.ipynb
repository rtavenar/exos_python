{
 "cells": [
  {
   "cell_type": "markdown",
   "id": "9297c337",
   "metadata": {},
   "source": [
    "# 3.K. If/else: Jour suivant\n",
    "\n",
    "## **Énoncé**\n",
    "\n",
    "Étant donnés un numéro de jour (entier entre 1 et 31) et un mois (entier entre 1 et 12) représentant à eux deux une date, vous afficherez la date du lendemain sous la forme d'un numéro de jour et d'un mois.\n",
    "\n",
    "On supposera qu'il s'agit d'une date d'une année non bissextile.\n",
    "\n",
    "## Exemple d'entrée #1\n",
    "\n",
    "```\n",
    "30\n",
    "```\n",
    "\n",
    "```\n",
    "3\n",
    "```\n",
    "\n",
    "(30 Mars)\n",
    "\n",
    "## Exemple de sortie #1\n",
    "\n",
    "```\n",
    "31\n",
    "```\n",
    "\n",
    "```\n",
    "3\n",
    "```\n",
    "\n",
    "## Exemple d'entrée #2\n",
    "\n",
    "```\n",
    "31\n",
    "```\n",
    "\n",
    "```\n",
    "3\n",
    "```\n",
    "\n",
    "(31 Mars)\n",
    "\n",
    "## Exemple de sortie #2\n",
    "\n",
    "```\n",
    "1\n",
    "```\n",
    "\n",
    "```\n",
    "4\n",
    "```\n",
    "\n",
    "## Aide\n",
    "\n",
    "http://rtavenar.github.io/teaching/python_poly/html/poly.html#structures-de-contrôle\n",
    "\n",
    "## Squelette"
   ]
  },
  {
   "cell_type": "code",
   "execution_count": 1,
   "id": "8c2028a9",
   "metadata": {},
   "outputs": [],
   "source": [
    "# Lire un entier :\n",
    "# a = int(input())\n",
    "# Afficher une valeur :\n",
    "# print(a)"
   ]
  },
  {
   "cell_type": "markdown",
   "id": "a195050a",
   "metadata": {},
   "source": [
    "````{dropdown} Proposition de solution\n",
    "\n",
    "```python\n",
    "jour = int(input())\n",
    "mois = int(input())\n",
    "\n",
    "if ((jour == 30) and (mois == 4 or mois == 6 or mois == 9 or mois == 11)\n",
    "    or (jour == 28) and (mois == 2)\n",
    "    or (jour == 31)):\n",
    "  mois += 1\n",
    "  jour = 1\n",
    "else:\n",
    "  jour += 1\n",
    "if mois == 13:\n",
    "  mois = 1\n",
    "\n",
    "print(jour)\n",
    "print(mois)\n",
    "```\n",
    "````"
   ]
  }
 ],
 "metadata": {
  "jupytext": {
   "formats": "md:myst",
   "text_representation": {
    "extension": ".md",
    "format_name": "myst"
   }
  },
  "kernelspec": {
   "display_name": "Python 3",
   "language": "python",
   "name": "python3"
  },
  "language_info": {
   "codemirror_mode": {
    "name": "ipython",
    "version": 3
   },
   "file_extension": ".py",
   "mimetype": "text/x-python",
   "name": "python",
   "nbconvert_exporter": "python",
   "pygments_lexer": "ipython3",
   "version": "3.8.11"
  },
  "source_map": [
   11,
   71,
   76
  ]
 },
 "nbformat": 4,
 "nbformat_minor": 5
}