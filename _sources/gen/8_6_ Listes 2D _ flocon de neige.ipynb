{
 "cells": [
  {
   "cell_type": "markdown",
   "id": "b27268ef",
   "metadata": {},
   "source": [
    "# 8.6. Listes 2D : flocon de neige\n",
    "\n",
    "## Consignes\n",
    "\n",
    "Étant donné un entier impair positif `n` entré au clavier, créer une liste 2D de taille `n×n`. Remplir chaque élément de cette liste 2D avec le caractère \"`.`\". Ensuite, remplir la ligne du milieu, la colonne du milieu et la première diagonale avec le caractère `\"*\"`.  Vous obtiendrez l'image d'un flocon de neige. Afficher le flocon de neige à partir des éléments de la liste 2D `n×n` et séparer les caractères par un simple espace.\n",
    "\n",
    "## Exemple d'entrée\n",
    "\n",
    "```\n",
    "7\n",
    "```\n",
    "\n",
    "## Exemple de sortie\n",
    "\n",
    "```\n",
    "* . . * . . *\n",
    ". * . * . * .\n",
    ". . * * * . .\n",
    "* * * * * * *\n",
    ". . * * * . .\n",
    ". * . * . * .\n",
    "* . . * . . *\n",
    "```\n",
    "\n",
    "## Aide\n",
    "\n",
    "https://docs.python.org/fr/3.6/library/stdtypes.html#lists\n",
    "\n",
    "https://docs.python.org/fr/3.6/tutorial/datastructures.html#list-comprehensions\n",
    "\n",
    "https://docs.python.org/fr/3.6/tutorial/datastructures.html#nested-list-comprehensions\n",
    "\n",
    "## Squelette"
   ]
  },
  {
   "cell_type": "code",
   "execution_count": 1,
   "id": "918d3fa7",
   "metadata": {
    "tags": [
     "remove-stderr"
    ]
   },
   "outputs": [],
   "source": [
    "# Lire un entier au clavier :\n",
    "# a = int(input())\n",
    "# Afficher la valeur de a :\n",
    "# print(a)"
   ]
  },
  {
   "cell_type": "markdown",
   "id": "73c0225b",
   "metadata": {},
   "source": [
    "````{admonition} Cliquez ici pour voir la solution\n",
    ":class: tip, dropdown\n",
    "\n",
    "```python\n",
    "n = int(input())\n",
    "a = [['.'] * n for i in range(n)]\n",
    "for i in range(n):\n",
    "  for j in range(n):\n",
    "    if i == j or i + j + 1 == n or i == n // 2 or j == n // 2:\n",
    "      a[i][j] = '*'\n",
    "for line in a:\n",
    "  print(*line)\n",
    "```\n",
    "````"
   ]
  }
 ],
 "metadata": {
  "jupytext": {
   "formats": "md:myst",
   "text_representation": {
    "extension": ".md",
    "format_name": "myst"
   }
  },
  "kernelspec": {
   "display_name": "Python 3",
   "language": "python",
   "name": "python3"
  },
  "language_info": {
   "codemirror_mode": {
    "name": "ipython",
    "version": 3
   },
   "file_extension": ".py",
   "mimetype": "text/x-python",
   "name": "python",
   "nbconvert_exporter": "python",
   "pygments_lexer": "ipython3",
   "version": "3.8.11"
  },
  "source_map": [
   11,
   47,
   54
  ]
 },
 "nbformat": 4,
 "nbformat_minor": 5
}