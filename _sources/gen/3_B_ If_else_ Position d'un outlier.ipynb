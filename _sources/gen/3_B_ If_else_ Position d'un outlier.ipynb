{
 "cells": [
  {
   "cell_type": "markdown",
   "id": "888e5ea2",
   "metadata": {},
   "source": [
    "# 3.B. If/else: Position d'un outlier\n",
    "\n",
    "## **Énoncé**\n",
    "\n",
    "Étant donnés 3 entiers dont deux sont égaux entre eux affichez la position de celui qui est différent des autres (1, 2 ou 3).\n",
    "\n",
    "## Exemple d'entrée #1\n",
    "\n",
    "```\n",
    "10\n",
    "5\n",
    "10\n",
    "```\n",
    "\n",
    "## Exemple de sortie #1\n",
    "\n",
    "```\n",
    "2\n",
    "```\n",
    "\n",
    "## Exemple d'entrée #2\n",
    "\n",
    "```\n",
    "10\n",
    "10\n",
    "5\n",
    "```\n",
    "\n",
    "## Exemple de sortie #2\n",
    "\n",
    "```\n",
    "3\n",
    "```\n",
    "\n",
    "## Aide\n",
    "\n",
    "https://rtavenar.github.io/poly_python/content/struct.html#structures-de-controle\n",
    "\n",
    "## Squelette"
   ]
  },
  {
   "cell_type": "code",
   "execution_count": 1,
   "id": "0bf2b7b1",
   "metadata": {},
   "outputs": [],
   "source": [
    "# Lire un entier :\n",
    "# a = int(input())\n",
    "# Afficher une valeur :\n",
    "# print(a)"
   ]
  },
  {
   "cell_type": "markdown",
   "id": "e99516cb",
   "metadata": {},
   "source": [
    "````{admonition} Cliquez ici pour voir la solution\n",
    ":class: tip, dropdown\n",
    "\n",
    "```python\n",
    "a = int(input())\n",
    "b = int(input())\n",
    "c = int(input())\n",
    "\n",
    "if b == c:\n",
    "  print(1)\n",
    "elif a == c:\n",
    "  print(2)\n",
    "else:\n",
    "  print(3)\n",
    "```\n",
    "````"
   ]
  }
 ],
 "metadata": {
  "jupytext": {
   "formats": "md:myst",
   "text_representation": {
    "extension": ".md",
    "format_name": "myst"
   }
  },
  "kernelspec": {
   "display_name": "Python 3",
   "language": "python",
   "name": "python3"
  },
  "language_info": {
   "codemirror_mode": {
    "name": "ipython",
    "version": 3
   },
   "file_extension": ".py",
   "mimetype": "text/x-python",
   "name": "python",
   "nbconvert_exporter": "python",
   "pygments_lexer": "ipython3",
   "version": "3.8.11"
  },
  "source_map": [
   11,
   53,
   59
  ]
 },
 "nbformat": 4,
 "nbformat_minor": 5
}