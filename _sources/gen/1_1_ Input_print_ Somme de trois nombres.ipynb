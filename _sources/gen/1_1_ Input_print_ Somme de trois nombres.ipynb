{
 "cells": [
  {
   "cell_type": "markdown",
   "id": "cbf27652",
   "metadata": {},
   "source": [
    "# 1.1. Input/print: Somme de trois nombres\n",
    "\n",
    "## Consigne\n",
    "\n",
    "Écrire un programme qui prend 3 nombres et affiche leur somme. Chaque nombre sera entré séparément.\n",
    "\n",
    "## Exemple d'entrée\n",
    "\n",
    "```\n",
    "2\n",
    "3\n",
    "6\n",
    "```\n",
    "\n",
    "## Exemple de sortie\n",
    "\n",
    "```\n",
    "11\n",
    "```\n",
    "\n",
    "## Aide\n",
    "\n",
    "https://rtavenar.github.io/poly_python/content/intro.html\n",
    "\n",
    "https://docs.python.org/fr/3/tutorial/inputoutput.html\n",
    "\n",
    "## Squelette"
   ]
  },
  {
   "cell_type": "code",
   "execution_count": 1,
   "id": "435aaad4",
   "metadata": {},
   "outputs": [],
   "source": [
    "# Ce programme lit 2 nombres et affiche leur somme :\n",
    "# a = int(input())\n",
    "# b = int(input())\n",
    "# print(a + b)\n",
    "# \n",
    "# Vous pouvez modifier ce programme pour lire et faire la somme de 3 nombres"
   ]
  },
  {
   "cell_type": "markdown",
   "id": "3f371f5f",
   "metadata": {},
   "source": [
    "````{admonition} Cliquez ici pour voir la solution\n",
    ":class: tip, dropdown\n",
    "\n",
    "```python\n",
    "a = int(input())\n",
    "b = int(input())\n",
    "c = int(input())\n",
    "print(a + b + c)\n",
    "```\n",
    "````"
   ]
  }
 ],
 "metadata": {
  "jupytext": {
   "formats": "md:myst",
   "text_representation": {
    "extension": ".md",
    "format_name": "myst"
   }
  },
  "kernelspec": {
   "display_name": "Python 3",
   "language": "python",
   "name": "python3"
  },
  "language_info": {
   "codemirror_mode": {
    "name": "ipython",
    "version": 3
   },
   "file_extension": ".py",
   "mimetype": "text/x-python",
   "name": "python",
   "nbconvert_exporter": "python",
   "pygments_lexer": "ipython3",
   "version": "3.8.11"
  },
  "source_map": [
   11,
   41,
   49
  ]
 },
 "nbformat": 4,
 "nbformat_minor": 5
}