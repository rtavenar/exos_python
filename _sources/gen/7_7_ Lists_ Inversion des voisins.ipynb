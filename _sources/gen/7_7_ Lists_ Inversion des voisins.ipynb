{
 "cells": [
  {
   "cell_type": "markdown",
   "id": "b5b33982",
   "metadata": {},
   "source": [
    "# 7.7. Lists: Inversion des voisins\n",
    "\n",
    "## Consigne\n",
    "\n",
    "À partir d'une liste de nombres entiers donnés en entrée (chaque nombre est séparé par un espace), inverser la place de chaque pair d'élément adjacent (inverser A[0] avec A[1], A[2] avec A[3], etc.). Afficher la liste résultat. Si la liste de départ contient un nombre impair d'éléments, laisser le dernier élément en dernière position.\n",
    "\n",
    "## Exemple d'entrée\n",
    "\n",
    "```\n",
    "1 2 3 4 5\n",
    "```\n",
    "\n",
    "## Exemple de sortie\n",
    "\n",
    "```\n",
    "2 1 4 3 5\n",
    "```\n",
    "\n",
    "## Aide\n",
    "\n",
    "https://rtavenar.github.io/poly_python/content/listes.html\n",
    "\n",
    "https://docs.python.org/fr/3/tutorial/datastructures.html#more-on-lists\n",
    "\n",
    "## Squelette"
   ]
  },
  {
   "cell_type": "code",
   "execution_count": 1,
   "id": "ca3e8595",
   "metadata": {},
   "outputs": [],
   "source": [
    "# Read a list of integers:\n",
    "# a = [int(s) for s in input().split()]\n",
    "# Print a value:\n",
    "# print(a)\n",
    "# "
   ]
  },
  {
   "cell_type": "markdown",
   "id": "cc844723",
   "metadata": {},
   "source": [
    "````{admonition} Cliquez ici pour voir la solution\n",
    ":class: tip, dropdown\n",
    "\n",
    "```python\n",
    "a = [int(s) for s in input().split()]\n",
    "for i in range(0, len(a) - 1, 2):\n",
    "  a[i], a[i + 1] = a[i + 1], a[i]\n",
    "print(' '.join([str(elem) for elem in a]))\n",
    "```\n",
    "````"
   ]
  }
 ],
 "metadata": {
  "jupytext": {
   "formats": "md:myst",
   "text_representation": {
    "extension": ".md",
    "format_name": "myst"
   }
  },
  "kernelspec": {
   "display_name": "Python 3",
   "language": "python",
   "name": "python3"
  },
  "language_info": {
   "codemirror_mode": {
    "name": "ipython",
    "version": 3
   },
   "file_extension": ".py",
   "mimetype": "text/x-python",
   "name": "python",
   "nbconvert_exporter": "python",
   "pygments_lexer": "ipython3",
   "version": "3.8.11"
  },
  "source_map": [
   11,
   39,
   46
  ]
 },
 "nbformat": 4,
 "nbformat_minor": 5
}