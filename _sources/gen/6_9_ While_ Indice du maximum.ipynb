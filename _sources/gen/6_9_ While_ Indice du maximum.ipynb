{
 "cells": [
  {
   "cell_type": "markdown",
   "id": "843ebc3a",
   "metadata": {},
   "source": [
    "# 6.9. While: Indice du maximum\n",
    "\n",
    "## **Énoncé**\n",
    "\n",
    "Étant donnée une séquence d'entiers positifs, où chaque entier est écrit sur une ligne distincte, affichez la position de la première occurrence du maximum des valeurs lues **avant** de rencontrer un 0 (on supposera que le 0 ne se trouve pas en première position).\n",
    "\n",
    "## **Exemple d'entrée**\n",
    "\n",
    "```\n",
    "1\n",
    "7\n",
    "9\n",
    "5\n",
    "0\n",
    "```\n",
    "\n",
    "## **Exemple de sortie**\n",
    "\n",
    "```\n",
    "3\n",
    "```\n",
    "\n",
    "## Aide\n",
    "\n",
    "https://rtavenar.github.io/poly_python/content/struct.html#boucles-while\n",
    "\n",
    "## Squelette"
   ]
  },
  {
   "cell_type": "code",
   "execution_count": 1,
   "id": "010a7b25",
   "metadata": {},
   "outputs": [],
   "source": [
    "# Read an integer:\n",
    "# a = int(input())\n",
    "# Print a value:\n",
    "# print(a)\n"
   ]
  },
  {
   "cell_type": "markdown",
   "id": "a78c1855",
   "metadata": {},
   "source": [
    "````{admonition} Cliquez ici pour voir la solution\n",
    ":class: tip, dropdown\n",
    "\n",
    "```python\n",
    "maximum = a = int(input())\n",
    "maximum_index = 1\n",
    "i = 1\n",
    "while a != 0:\n",
    "  a = int(input())\n",
    "  i += 1\n",
    "  if a > maximum:\n",
    "    maximum = a\n",
    "    maximum_index = i\n",
    "print(maximum_index)\n",
    "```\n",
    "````"
   ]
  }
 ],
 "metadata": {
  "jupytext": {
   "formats": "md:myst",
   "text_representation": {
    "extension": ".md",
    "format_name": "myst"
   }
  },
  "kernelspec": {
   "display_name": "Python 3",
   "language": "python",
   "name": "python3"
  },
  "language_info": {
   "codemirror_mode": {
    "name": "ipython",
    "version": 3
   },
   "file_extension": ".py",
   "mimetype": "text/x-python",
   "name": "python",
   "nbconvert_exporter": "python",
   "pygments_lexer": "ipython3",
   "version": "3.8.11"
  },
  "source_map": [
   11,
   41,
   48
  ]
 },
 "nbformat": 4,
 "nbformat_minor": 5
}