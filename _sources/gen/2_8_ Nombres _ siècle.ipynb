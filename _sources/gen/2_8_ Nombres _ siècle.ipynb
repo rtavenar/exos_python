{
 "cells": [
  {
   "cell_type": "markdown",
   "id": "afd87cfc",
   "metadata": {},
   "source": [
    "# 2.8. Nombres : siècle\n",
    "\n",
    "## Consigne\n",
    "\n",
    "Étant donnée une année (entrée au clavier comme un entier positif) trouver et afficher le siècle correspondant. Noter que, par exemple, le 20ème siècle commence avec l'année 1901.\n",
    "\n",
    "## Example input\n",
    "\n",
    "```\n",
    "2000\n",
    "```\n",
    "\n",
    "## Example output\n",
    "\n",
    "```\n",
    "20\n",
    "```\n",
    "\n",
    "## Theory\n",
    "\n",
    "If you don't know how to start solving this assignment, please, review a theory for this lesson:\n",
    "\n",
    "https://snakify.org/lessons/integer_float_numbers/\n",
    "\n",
    "\n",
    "You may also try step-by-step theory chunks:\n",
    "\n",
    "https://snakify.org/lessons/integer_float_numbers/steps/1/\n",
    "\n",
    "## Squelette"
   ]
  },
  {
   "cell_type": "code",
   "execution_count": 1,
   "id": "415f3c6b",
   "metadata": {},
   "outputs": [],
   "source": [
    "# Read an integer:\n",
    "# a = int(input())\n",
    "# Print a value:\n",
    "# print(a)"
   ]
  },
  {
   "cell_type": "markdown",
   "id": "2c4e4868",
   "metadata": {},
   "source": [
    "````{admonition} Cliquez ici pour voir la solution\n",
    ":class: tip, dropdown\n",
    "\n",
    "```python\n",
    "a = int(input())\n",
    "print((a - 1) // 100 + 1)\n",
    "```\n",
    "````"
   ]
  }
 ],
 "metadata": {
  "jupytext": {
   "formats": "md:myst",
   "text_representation": {
    "extension": ".md",
    "format_name": "myst"
   }
  },
  "kernelspec": {
   "display_name": "Python 3",
   "language": "python",
   "name": "python3"
  },
  "language_info": {
   "codemirror_mode": {
    "name": "ipython",
    "version": 3
   },
   "file_extension": ".py",
   "mimetype": "text/x-python",
   "name": "python",
   "nbconvert_exporter": "python",
   "pygments_lexer": "ipython3",
   "version": "3.8.11"
  },
  "source_map": [
   11,
   44,
   50
  ]
 },
 "nbformat": 4,
 "nbformat_minor": 5
}