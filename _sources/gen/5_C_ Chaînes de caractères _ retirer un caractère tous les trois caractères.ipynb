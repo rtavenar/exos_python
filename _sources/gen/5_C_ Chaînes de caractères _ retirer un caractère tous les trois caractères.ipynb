{
 "cells": [
  {
   "cell_type": "markdown",
   "id": "44724ed8",
   "metadata": {},
   "source": [
    "# 5.C. Chaînes de caractères : retirer un caractère tous les trois caractères\n",
    "\n",
    "## Consignes\n",
    "\n",
    "Étant donnée une chaîne de caractères entrée au clavier, retirer tous ses caractères dont les indices sont divisibles par 3.\n",
    "\n",
    "## Exemple d'entrée\n",
    "\n",
    "```\n",
    "Python\n",
    "```\n",
    "\n",
    "## Exemple de sortie\n",
    "\n",
    "```\n",
    "yton\n",
    "```\n",
    "\n",
    "## Aide\n",
    "\n",
    "https://docs.python.org/fr/3.6/library/stdtypes.html#common-sequence-operations\n",
    "\n",
    "## Squelette"
   ]
  },
  {
   "cell_type": "code",
   "execution_count": 1,
   "id": "7fc9b5cf",
   "metadata": {},
   "outputs": [],
   "source": [
    "# Lire une chaîne de caractères :\n",
    "# s = input()\n",
    "# Afficher une chaîne de caractères :\n",
    "# print(s)\n"
   ]
  },
  {
   "cell_type": "markdown",
   "id": "d37da33b",
   "metadata": {},
   "source": [
    "````{admonition} Cliquez ici pour voir la solution\n",
    ":class: tip, dropdown\n",
    "\n",
    "```python\n",
    "s = input()\n",
    "t = ''\n",
    "for i in range(len(s)):\n",
    "  if i % 3 != 0:\n",
    "    t += s[i]\n",
    "print(t)\n",
    "```\n",
    "````"
   ]
  }
 ],
 "metadata": {
  "jupytext": {
   "formats": "md:myst",
   "text_representation": {
    "extension": ".md",
    "format_name": "myst"
   }
  },
  "kernelspec": {
   "display_name": "Python 3",
   "language": "python",
   "name": "python3"
  },
  "language_info": {
   "codemirror_mode": {
    "name": "ipython",
    "version": 3
   },
   "file_extension": ".py",
   "mimetype": "text/x-python",
   "name": "python",
   "nbconvert_exporter": "python",
   "pygments_lexer": "ipython3",
   "version": "3.8.11"
  },
  "source_map": [
   11,
   37,
   44
  ]
 },
 "nbformat": 4,
 "nbformat_minor": 5
}