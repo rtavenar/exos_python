{
 "cells": [
  {
   "cell_type": "markdown",
   "id": "6bb70897",
   "metadata": {},
   "source": [
    "# 3.1. If/else: Pair ou impair\n",
    "\n",
    "## Consigne\n",
    "\n",
    "Étant donné un entier, afficher \"pair\" s'il est pair ou \"impair\" sinon.\n",
    "\n",
    "## Exemple d'entrée #1\n",
    "\n",
    "```\n",
    "5\n",
    "```\n",
    "\n",
    "## Exemple de sortie #1\n",
    "\n",
    "```\n",
    "impair\n",
    "```\n",
    "\n",
    "## Exemple d'entrée #2\n",
    "\n",
    "```\n",
    "6\n",
    "```\n",
    "\n",
    "## Exemple de sortie #2\n",
    "\n",
    "```\n",
    "pair\n",
    "```\n",
    "\n",
    "## Aide\n",
    "\n",
    "https://rtavenar.github.io/poly_python/content/struct.html#structures-de-controle\n",
    "\n",
    "## Squelette"
   ]
  },
  {
   "cell_type": "code",
   "execution_count": 1,
   "id": "26e55fad",
   "metadata": {},
   "outputs": [],
   "source": [
    "# Lire un entier\n",
    "# a = int(input())\n",
    "# Afficher une valeur:\n",
    "# print(a)"
   ]
  },
  {
   "cell_type": "markdown",
   "id": "31eee9f6",
   "metadata": {},
   "source": [
    "````{admonition} Cliquez ici pour voir la solution\n",
    ":class: tip, dropdown\n",
    "\n",
    "```python\n",
    "if int(input()) % 2 == 0:\n",
    "  print('pair')\n",
    "else:\n",
    "  print('impair')\n",
    "```\n",
    "````"
   ]
  }
 ],
 "metadata": {
  "jupytext": {
   "formats": "md:myst",
   "text_representation": {
    "extension": ".md",
    "format_name": "myst"
   }
  },
  "kernelspec": {
   "display_name": "Python 3",
   "language": "python",
   "name": "python3"
  },
  "language_info": {
   "codemirror_mode": {
    "name": "ipython",
    "version": 3
   },
   "file_extension": ".py",
   "mimetype": "text/x-python",
   "name": "python",
   "nbconvert_exporter": "python",
   "pygments_lexer": "ipython3",
   "version": "3.8.11"
  },
  "source_map": [
   11,
   49,
   55
  ]
 },
 "nbformat": 4,
 "nbformat_minor": 5
}