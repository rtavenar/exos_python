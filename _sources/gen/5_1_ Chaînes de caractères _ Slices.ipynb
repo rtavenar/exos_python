{
 "cells": [
  {
   "cell_type": "markdown",
   "id": "329b307f",
   "metadata": {},
   "source": [
    "# 5.1. Chaînes de caractères : Slices\n",
    "\n",
    "## Consignes\n",
    "\n",
    "Étant donnée une chaîne de caractères entrée au clavier :\n",
    "\n",
    "1. Sur la première ligne, afficher le troisième caractère de cette chaîne.\n",
    "2. Sur la seconde ligne, afficher du deuxième jusqu'au dernier caractère de cette chaîne.\n",
    "3. Sur la troisième ligne, afficher les cinq premiers caractères de la chaîne.\n",
    "4. Sur la quatrième, afficher tous les caractères sauf les deux derniers de la chaîne.\n",
    "5. Sur la cinquième ligne, afficher tous les caractères d'indices pairs (attention, se rappeler que les indices commencent à 0, donc les caractères sont affichés en commençant par le premier).\n",
    "6. Sur la sixième ligne, afficher les caractères de la chaîne, tous les deux caractères et en commençant par le second caractère de la chaîne.\n",
    "7. Sur la septième ligne afficher tous les caractères de la chaîne en sens inverse.\n",
    "8. Sur la huitième ligne, afficher la chaîne à l'envers, tous les deux caractères, en commençant par le dernier.\n",
    "9. Sur la neuvième ligne, afficher la longueur de la chaîne saisie.\n",
    "\n",
    "## Exemple d'entrée\n",
    "\n",
    "```\n",
    "Abrakadabra\n",
    "```\n",
    "\n",
    "## Exemple de sortie\n",
    "\n",
    "```\n",
    "r\n",
    "brakadabra\n",
    "Abrak\n",
    "Abrakadab\n",
    "Arkdba\n",
    "baaar\n",
    "arbadakarbA\n",
    "abdkrA\n",
    "11\n",
    "```\n",
    "\n",
    "## Aide\n",
    "\n",
    "https://rtavenar.github.io/poly_python/content/intro.html#les-cha%C3%AEnes-de-caract%C3%A8res\n",
    "\n",
    "https://docs.python.org/fr/3.6/library/stdtypes.html#common-sequence-operations\n",
    "\n",
    "## Squelette"
   ]
  },
  {
   "cell_type": "code",
   "execution_count": 1,
   "id": "d6e0dd3a",
   "metadata": {},
   "outputs": [],
   "source": [
    "# Lire une chaîne de caractères :\n",
    "# s = input()\n",
    "# Afficher la chaîne s :\n",
    "# print(s)\n",
    "# "
   ]
  },
  {
   "cell_type": "markdown",
   "id": "e1e5f069",
   "metadata": {},
   "source": [
    "````{admonition} Cliquez ici pour voir la solution\n",
    ":class: tip, dropdown\n",
    "\n",
    "```python\n",
    "s = input()\n",
    "print(s[2])\n",
    "print(s[1:])\n",
    "print(s[:5])\n",
    "print(s[:-2])\n",
    "print(s[::2])\n",
    "print(s[1::2])\n",
    "print(s[::-1])\n",
    "print(s[::-2])\n",
    "print(len(s))\n",
    "```\n",
    "````"
   ]
  }
 ],
 "metadata": {
  "jupytext": {
   "formats": "md:myst",
   "text_representation": {
    "extension": ".md",
    "format_name": "myst"
   }
  },
  "kernelspec": {
   "display_name": "Python 3",
   "language": "python",
   "name": "python3"
  },
  "language_info": {
   "codemirror_mode": {
    "name": "ipython",
    "version": 3
   },
   "file_extension": ".py",
   "mimetype": "text/x-python",
   "name": "python",
   "nbconvert_exporter": "python",
   "pygments_lexer": "ipython3",
   "version": "3.8.11"
  },
  "source_map": [
   11,
   57,
   64
  ]
 },
 "nbformat": 4,
 "nbformat_minor": 5
}