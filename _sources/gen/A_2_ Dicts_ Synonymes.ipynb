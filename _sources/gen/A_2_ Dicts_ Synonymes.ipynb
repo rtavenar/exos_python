{
 "cells": [
  {
   "cell_type": "markdown",
   "id": "8870a1ec",
   "metadata": {},
   "source": [
    "# A.2. Dicts: Synonymes\n",
    "\n",
    "## Consigne\n",
    "\n",
    "Soit un dictionnaire composé de paires de mots. Chaque mot est un synonyme de l'autre mot dans sa paire.\n",
    "\n",
    "À partir d'une liste de paires de mots, vous devrez créer un tel dictionnaire.\n",
    "\n",
    "À la suite du dictionnaire, l'utilisateur propose un mot en entrée pour obtenir le synonyme. La réponse sera la valeur correspondant à la clé (mot proposé en entrée).\n",
    "\n",
    "\n",
    "## Exemple d'entrée\n",
    "\n",
    "```\n",
    "3\n",
    "Hello Hi\n",
    "Bye Goodbye\n",
    "List Array\n",
    "Goodbye\n",
    "```\n",
    "\n",
    "## Exemple de sortie\n",
    "\n",
    "```\n",
    "Bye\n",
    "```\n",
    "\n",
    "## Aide\n",
    "\n",
    "https://rtavenar.github.io/poly_python/content/dict.html\n",
    "\n",
    "https://docs.python.org/fr/3/tutorial/datastructures.html#dictionaries\n",
    "\n",
    "## Squelette"
   ]
  },
  {
   "cell_type": "code",
   "execution_count": 1,
   "id": "1efe062d",
   "metadata": {},
   "outputs": [],
   "source": [
    "# Read a string:\n",
    "# s = input()\n",
    "# Print a value:\n",
    "# print(s)\n",
    "# "
   ]
  },
  {
   "cell_type": "markdown",
   "id": "fbbfed31",
   "metadata": {},
   "source": [
    "````{admonition} Cliquez ici pour voir la solution\n",
    ":class: tip, dropdown\n",
    "\n",
    "```python\n",
    "synonyms = {}\n",
    "for i in range(int(input())):\n",
    "  w1, w2 = input().split()\n",
    "  synonyms[w1] = w2\n",
    "  synonyms[w2] = w1\n",
    "print(synonyms[input()])\n",
    "```\n",
    "````"
   ]
  }
 ],
 "metadata": {
  "jupytext": {
   "formats": "md:myst",
   "text_representation": {
    "extension": ".md",
    "format_name": "myst"
   }
  },
  "kernelspec": {
   "display_name": "Python 3",
   "language": "python",
   "name": "python3"
  },
  "language_info": {
   "codemirror_mode": {
    "name": "ipython",
    "version": 3
   },
   "file_extension": ".py",
   "mimetype": "text/x-python",
   "name": "python",
   "nbconvert_exporter": "python",
   "pygments_lexer": "ipython3",
   "version": "3.8.11"
  },
  "source_map": [
   11,
   48,
   55
  ]
 },
 "nbformat": 4,
 "nbformat_minor": 5
}