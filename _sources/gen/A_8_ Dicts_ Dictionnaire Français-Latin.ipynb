{
 "cells": [
  {
   "cell_type": "markdown",
   "id": "9228d7dd",
   "metadata": {},
   "source": [
    "# A.8. Dicts: Dictionnaire Français-Latin\n",
    "\n",
    "## Énoncé\n",
    "\n",
    "Un jour, Bob trouve un dictionnaire Français-Latin dans son grenier. Lui qui voulait se mettre à apprendre le latin voit cela comme une superbe opportunité, mais il se dit qu'il aurait également besoin d'un autre dictionnaire : un dictionnaire Latin-Français. Votre but sera de l'aider à créer ce dictionnaire à partir des informations issues du dictionnaire Français-Latin.\n",
    "\n",
    "La première ligne entrée au clavier sera un entier `N` — le nombre de mots du dictionnaire Français-Latin - suivi de `N` entrées de dictionnaire. Chaque entrée se trouve sur une ligne séparée et contient le mot en Français, un tiret puis la ou les traductions latines, séparées par des virgules s'il y en a plusieurs et triées dans l'ordre lexicographique.\n",
    "\n",
    "Affichez le dictionnaire Latin-Français dans le même format. En particulier, les lignes seront triées dans l'ordre lexicographique du terme en latin, et pour un terme latin, les équivalents français seront triés eux-mêmes dans l'ordre lexicographique.\n",
    "\n",
    "## Exemple d'entrée\n",
    "\n",
    "```\n",
    "2\n",
    "pomme - malum, pomum\n",
    "mauvais - malum, malus\n",
    "```\n",
    "\n",
    "## Exemple de sortie\n",
    "\n",
    "```\n",
    "3\n",
    "malum - mauvais, pomme\n",
    "malus - mauvais\n",
    "pomum - pomme\n",
    "```\n",
    "\n",
    "## Aide\n",
    "\n",
    "https://rtavenar.github.io/poly_python/content/dict.htmlhttps://docs.python.org/fr/3/tutorial/datastructures.html#dictionaries\n",
    "\n",
    "## Squelette"
   ]
  },
  {
   "cell_type": "code",
   "execution_count": 1,
   "id": "b475571d",
   "metadata": {},
   "outputs": [],
   "source": [
    "# Read a string:\n",
    "# s = input()\n",
    "# Print a value:\n",
    "# print(s)\n"
   ]
  },
  {
   "cell_type": "markdown",
   "id": "c9c7d356",
   "metadata": {},
   "source": [
    "````{admonition} Cliquez ici pour voir la solution\n",
    ":class: tip, dropdown\n",
    "\n",
    "```python\n",
    "la_en = {}\n",
    "for _ in range(int(input())):\n",
    "  en_word, la_words = input().split(' - ')\n",
    "  for la_word in la_words.split(', '):\n",
    "    if la_word not in la_en:\n",
    "      la_en[la_word] = []\n",
    "    la_en[la_word].append(en_word)\n",
    "print(len(la_en))\n",
    "for la_word in sorted(la_en):\n",
    "  print(la_word, '-', ', '.join(sorted(la_en[la_word])))\n",
    "```\n",
    "````"
   ]
  }
 ],
 "metadata": {
  "jupytext": {
   "formats": "md:myst",
   "text_representation": {
    "extension": ".md",
    "format_name": "myst"
   }
  },
  "kernelspec": {
   "display_name": "Python 3",
   "language": "python",
   "name": "python3"
  },
  "language_info": {
   "codemirror_mode": {
    "name": "ipython",
    "version": 3
   },
   "file_extension": ".py",
   "mimetype": "text/x-python",
   "name": "python",
   "nbconvert_exporter": "python",
   "pygments_lexer": "ipython3",
   "version": "3.8.11"
  },
  "source_map": [
   11,
   46,
   53
  ]
 },
 "nbformat": 4,
 "nbformat_minor": 5
}