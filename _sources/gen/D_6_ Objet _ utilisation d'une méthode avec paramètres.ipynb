{
 "cells": [
  {
   "cell_type": "markdown",
   "id": "2f6a64fa",
   "metadata": {},
   "source": [
    "# D.6. Objet : utilisation d'une méthode avec paramètres\n",
    "\n",
    "## Consignes\n",
    "\n",
    "Écrire le code permettant de créer un objet de classe Cercle nommé \"monCercle\" avec une position du centre en X de 5, une position du centre en Y de 10 et la valeur par défaut pour le rayon.\n",
    "\n",
    "Écrire ensuite le code permettant de déplacer le centre de l'objet \"monCercle\" de 5 en X et de -8 en Y. Pour faire se déplacement vous devez uniquement utiliser une méthode de l'objet \"monCercle\", avec des paramètres 5 et -8.\n",
    "\n",
    "## Aide\n",
    "\n",
    "https://docs.python.org/fr/3.6/tutorial/classes.html#a-first-look-at-classes\n",
    "\n",
    "## Squelette"
   ]
  },
  {
   "cell_type": "code",
   "execution_count": 1,
   "id": "40de1f51",
   "metadata": {},
   "outputs": [],
   "source": [
    "# from math import pi\n",
    "# \n",
    "# class Cercle:\n",
    "#   def __init__(self, r=15, posX=0, posY=0):\n",
    "#     self.rayon = r\t\t# attribut rayon du cercle\n",
    "#     self.x = posX\t\t\t# attribut position en X du centre du cercle\n",
    "#     self.y = posY\t\t\t# attribut position en Y du centre du cercle\n",
    "#   \n",
    "#   def deplacerCentre(self, depX, depY):\n",
    "#     self.x += depX\n",
    "#     self.y += depY\n",
    "#   \n",
    "# # Écrire votre code ci-dessous\n",
    "# "
   ]
  },
  {
   "cell_type": "markdown",
   "id": "b6ef5c44",
   "metadata": {},
   "source": [
    "````{admonition} Cliquez ici pour voir la solution\n",
    ":class: tip, dropdown\n",
    "\n",
    "```python\n",
    "from math import pi\n",
    "\n",
    "class Cercle:\n",
    "  def __init__(self, r=15, posX=0, posY=0):\n",
    "    self.rayon = r\t\t# attribut rayon du cercle\n",
    "    self.x = posX\t\t\t# attribut position en X du centre du cercle\n",
    "    self.y = posY\t\t\t# attribut position en Y du centre du cercle\n",
    "  \n",
    "  def deplacerCentre(self, depX, depY):\n",
    "    self.x += depX\n",
    "    self.y += depY\n",
    "  \n",
    "# Écrire votre code ci-dessous\n",
    "monCercle = Cercle(posX=5, posY=10)\n",
    "monCercle.deplacerCentre(5, -8)\n",
    "```\n",
    "````"
   ]
  }
 ],
 "metadata": {
  "jupytext": {
   "formats": "md:myst",
   "text_representation": {
    "extension": ".md",
    "format_name": "myst"
   }
  },
  "kernelspec": {
   "display_name": "Python 3",
   "language": "python",
   "name": "python3"
  },
  "language_info": {
   "codemirror_mode": {
    "name": "ipython",
    "version": 3
   },
   "file_extension": ".py",
   "mimetype": "text/x-python",
   "name": "python",
   "nbconvert_exporter": "python",
   "pygments_lexer": "ipython3",
   "version": "3.8.11"
  },
  "source_map": [
   11,
   27,
   43
  ]
 },
 "nbformat": 4,
 "nbformat_minor": 5
}