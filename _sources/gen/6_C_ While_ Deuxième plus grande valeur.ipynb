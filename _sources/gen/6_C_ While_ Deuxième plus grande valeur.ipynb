{
 "cells": [
  {
   "cell_type": "markdown",
   "id": "83f1b535",
   "metadata": {},
   "source": [
    "# 6.C. While: Deuxième plus grande valeur\n",
    "\n",
    "## **Énoncé**\n",
    "\n",
    "Étant donnée une séquence d'entiers positifs, où chaque entier est écrit sur une ligne distincte, affichez la deuxième plus grande valeur lue **avant** de rencontrer un 0 (on supposera que le 0 ne se trouve pas en première ni en deuxième position).\n",
    "\n",
    "## **Exemple d'entrée**\n",
    "\n",
    "```\n",
    "1\n",
    "7\n",
    "9\n",
    "0\n",
    "```\n",
    "\n",
    "## Exemple de sortie\n",
    "\n",
    "```\n",
    "7\n",
    "```\n",
    "\n",
    "## Aide\n",
    "\n",
    "https://rtavenar.github.io/poly_python/content/struct.html#boucles-while\n",
    "\n",
    "## Squelette"
   ]
  },
  {
   "cell_type": "code",
   "execution_count": 1,
   "id": "ee0e0c91",
   "metadata": {},
   "outputs": [],
   "source": [
    "# Read an integer:\n",
    "# a = int(input())\n",
    "# Print a value:\n",
    "# print(a)\n",
    "# "
   ]
  },
  {
   "cell_type": "markdown",
   "id": "a5cd3d7e",
   "metadata": {},
   "source": [
    "````{admonition} Cliquez ici pour voir la solution\n",
    ":class: tip, dropdown\n",
    "\n",
    "```python\n",
    "maximum = int(input())\n",
    "second_maximum = int(input())\n",
    "if second_maximum > maximum:\n",
    "  second_maximum, maximum = maximum, second_maximum\n",
    "a = -1\n",
    "while a != 0:\n",
    "  a = int(input())\n",
    "  if a > maximum:\n",
    "    second_maximum, maximum = maximum, a\n",
    "  elif a > second_maximum:\n",
    "    second_maximum = a\n",
    "print(second_maximum)\n",
    "```\n",
    "````"
   ]
  }
 ],
 "metadata": {
  "jupytext": {
   "formats": "md:myst",
   "text_representation": {
    "extension": ".md",
    "format_name": "myst"
   }
  },
  "kernelspec": {
   "display_name": "Python 3",
   "language": "python",
   "name": "python3"
  },
  "language_info": {
   "codemirror_mode": {
    "name": "ipython",
    "version": 3
   },
   "file_extension": ".py",
   "mimetype": "text/x-python",
   "name": "python",
   "nbconvert_exporter": "python",
   "pygments_lexer": "ipython3",
   "version": "3.8.11"
  },
  "source_map": [
   11,
   40,
   47
  ]
 },
 "nbformat": 4,
 "nbformat_minor": 5
}