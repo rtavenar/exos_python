{
 "cells": [
  {
   "cell_type": "markdown",
   "id": "5d553d41",
   "metadata": {},
   "source": [
    "# 9.2. Sets : nombre d'éléments communs\n",
    "\n",
    "## Consignes\n",
    "\n",
    "Étant données deux séries de nombres (séparés par des espaces) entrées au clavier l'une après l'autre, compter combien de nombres de la première série apparaissent dans la seconde et afficher ce comptage.\n",
    "\n",
    "## Exemple d'entrée\n",
    "\n",
    "```\n",
    "1 3 2\n",
    "4 3 2\n",
    "```\n",
    "\n",
    "## Exemple de sortie\n",
    "\n",
    "```\n",
    "2\n",
    "```\n",
    "\n",
    "## Aide\n",
    "\n",
    "https://docs.python.org/fr/3.6/library/stdtypes.html#set-types-set-frozenset\n",
    "\n",
    "## Squelette"
   ]
  },
  {
   "cell_type": "code",
   "execution_count": 1,
   "id": "d42c2fad",
   "metadata": {},
   "outputs": [],
   "source": [
    "# Lire une chaîne de caractères au clavier :\n",
    "# s = input()\n",
    "# Afficher la valeur de s :\n",
    "# print(s)"
   ]
  },
  {
   "cell_type": "markdown",
   "id": "a7cc0307",
   "metadata": {},
   "source": [
    "````{dropdown} Proposition de solution\n",
    "\n",
    "```python\n",
    "print(len(set(input().split()) & set(input().split())))\n",
    "```\n",
    "````"
   ]
  }
 ],
 "metadata": {
  "jupytext": {
   "formats": "md:myst",
   "text_representation": {
    "extension": ".md",
    "format_name": "myst"
   }
  },
  "kernelspec": {
   "display_name": "Python 3",
   "language": "python",
   "name": "python3"
  },
  "language_info": {
   "codemirror_mode": {
    "name": "ipython",
    "version": 3
   },
   "file_extension": ".py",
   "mimetype": "text/x-python",
   "name": "python",
   "nbconvert_exporter": "python",
   "pygments_lexer": "ipython3",
   "version": "3.8.11"
  },
  "source_map": [
   11,
   38,
   43
  ]
 },
 "nbformat": 4,
 "nbformat_minor": 5
}