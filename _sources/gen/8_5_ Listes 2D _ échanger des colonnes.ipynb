{
 "cells": [
  {
   "cell_type": "markdown",
   "id": "d1f35a3b",
   "metadata": {},
   "source": [
    "# 8.5. Listes 2D : échanger des colonnes\n",
    "\n",
    "## Consignes\n",
    "\n",
    "Étant donnés deux entiers entrés au clavier - le nombre de lignes `m` et de colonnes `n` d'une liste 2D `m×n` - suivis de la saisie de `m` lignes de `n` entiers, puis de deux entiers non négatifs `i` et `j` plus petits que `n`, échanger les colonnes `i` et `j` de la liste 2D et afficher le résultat.\n",
    "\n",
    "## Exemple d'entrée\n",
    "\n",
    "```\n",
    "3 4\n",
    "11 12 13 14\n",
    "21 22 23 24\n",
    "31 32 33 34\n",
    "0 1\n",
    "```\n",
    "\n",
    "## Exemple de sortie\n",
    "\n",
    "```\n",
    "12 11 13 14\n",
    "22 21 23 24\n",
    "32 31 33 34\n",
    "```\n",
    "\n",
    "## Aide\n",
    "\n",
    "https://docs.python.org/fr/3.6/library/stdtypes.html#lists\n",
    "\n",
    "https://docs.python.org/fr/3.6/tutorial/datastructures.html#list-comprehensions\n",
    "\n",
    "https://docs.python.org/fr/3.6/tutorial/datastructures.html#nested-list-comprehensions\n",
    "\n",
    "## Squelette"
   ]
  },
  {
   "cell_type": "code",
   "execution_count": 1,
   "id": "7c7c520c",
   "metadata": {},
   "outputs": [],
   "source": [
    "# Lire une liste 2D d'entiers :\n",
    "# a = [[int(j) for j in input().split()] for i in range(NUM_ROWS)]\n",
    "# Afficher la valeur de a :\n",
    "# print(a)"
   ]
  },
  {
   "cell_type": "markdown",
   "id": "3c014bad",
   "metadata": {},
   "source": [
    "````{admonition} Cliquez ici pour voir la solution\n",
    ":class: tip, dropdown\n",
    "\n",
    "```python\n",
    "m, n = [int(s) for s in input().split()]\n",
    "a = [[int(j) for j in input().split()] for i in range(m)]\n",
    "col1, col2 = [int(s) for s in input().split()]\n",
    "for i in range(m):\n",
    "  a[i][col1], a[i][col2] = a[i][col2], a[i][col1]\n",
    "for line in a:\n",
    "  print(*line)\n",
    "```\n",
    "````"
   ]
  }
 ],
 "metadata": {
  "jupytext": {
   "formats": "md:myst",
   "text_representation": {
    "extension": ".md",
    "format_name": "myst"
   }
  },
  "kernelspec": {
   "display_name": "Python 3",
   "language": "python",
   "name": "python3"
  },
  "language_info": {
   "codemirror_mode": {
    "name": "ipython",
    "version": 3
   },
   "file_extension": ".py",
   "mimetype": "text/x-python",
   "name": "python",
   "nbconvert_exporter": "python",
   "pygments_lexer": "ipython3",
   "version": "3.8.11"
  },
  "source_map": [
   11,
   47,
   53
  ]
 },
 "nbformat": 4,
 "nbformat_minor": 5
}