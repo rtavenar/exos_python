{
 "cells": [
  {
   "cell_type": "markdown",
   "id": "bd03a6fc",
   "metadata": {},
   "source": [
    "# A.1. Dicts: Nombre d'occurrences\n",
    "\n",
    "## Consigne\n",
    "\n",
    "Le texte, composé de mots séparés par un espace, est entré sur une seule ligne (et lu en une seule fois). Pour chaque mot du texte, il faut compter et afficher le nombre d'occurrences préalables de ce mot (i.e.,  le nombre de fois qu'il est déjà apparu à gauche, avant le mot courant).\n",
    "\n",
    "## Exemple d'entrée\n",
    "\n",
    "```\n",
    "one two one two three two four three\n",
    "```\n",
    "\n",
    "## Exemple de sortie\n",
    "\n",
    "```\n",
    "0 0 1 1 0 2 0 1\n",
    "```\n",
    "\n",
    "## Aide\n",
    "\n",
    "http://rtavenar.github.io/teaching/python_poly/html/poly.html#les-dictionnaires\n",
    "\n",
    "https://docs.python.org/fr/3/tutorial/datastructures.html#dictionaries\n",
    "\n",
    "## Squelette"
   ]
  },
  {
   "cell_type": "code",
   "execution_count": 1,
   "id": "79c3acb0",
   "metadata": {},
   "outputs": [],
   "source": [
    "# Read a string:\n",
    "# s = input()\n",
    "# Print a value:\n",
    "# print(s)"
   ]
  },
  {
   "cell_type": "markdown",
   "id": "1c08e113",
   "metadata": {},
   "source": [
    "````{dropdown} Proposition de solution\n",
    "\n",
    "```python\n",
    "text = input().split()\n",
    "times_seen = {}\n",
    "for word in text:\n",
    "  if word not in times_seen:\n",
    "    times_seen[word] = 0\n",
    "  print(times_seen[word], end=' ')\n",
    "  times_seen[word] += 1\n",
    "```\n",
    "````"
   ]
  }
 ],
 "metadata": {
  "jupytext": {
   "formats": "md:myst",
   "text_representation": {
    "extension": ".md",
    "format_name": "myst"
   }
  },
  "kernelspec": {
   "display_name": "Python 3",
   "language": "python",
   "name": "python3"
  },
  "language_info": {
   "codemirror_mode": {
    "name": "ipython",
    "version": 3
   },
   "file_extension": ".py",
   "mimetype": "text/x-python",
   "name": "python",
   "nbconvert_exporter": "python",
   "pygments_lexer": "ipython3",
   "version": "3.8.11"
  },
  "source_map": [
   11,
   39,
   44
  ]
 },
 "nbformat": 4,
 "nbformat_minor": 5
}