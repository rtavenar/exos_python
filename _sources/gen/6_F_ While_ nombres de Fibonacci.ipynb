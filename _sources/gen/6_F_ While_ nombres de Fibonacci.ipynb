{
 "cells": [
  {
   "cell_type": "markdown",
   "id": "67e4cd0d",
   "metadata": {},
   "source": [
    "# 6.F. While: nombres de Fibonacci\n",
    "\n",
    "## Consignes\n",
    "\n",
    "\n",
    "\n",
    "Les nombres de Fibonacci sont les nombres de la suite d'entiers commençant par `1,1` et où chaque nombre après ces deux premiers est la somme des deux précédents :\n",
    "\n",
    "`1,1,2,3,5,8,13,21,34,...`\n",
    "\n",
    "Étant donné un entier strictement positif `n` entré au clavier, calculer et afficher le `n`ième nombre de la suite de Fibonacci.\n",
    "\n",
    "## Exemple d'entrée\n",
    "\n",
    "```\n",
    "6\n",
    "```\n",
    "\n",
    "## Exemple de sortie\n",
    "\n",
    "```\n",
    "8\n",
    "```\n",
    "\n",
    "## Aide\n",
    "\n",
    "https://docs.python.org/fr/3.6/reference/compound_stmts.html#the-while-statement\n",
    "\n",
    "## Squelette"
   ]
  },
  {
   "cell_type": "code",
   "execution_count": 1,
   "id": "2bed9dfb",
   "metadata": {},
   "outputs": [],
   "source": [
    "# Lire un entier au clavier :\n",
    "# a = int(input())\n",
    "# Afficher la valeur de a :\n",
    "# print(a)\n",
    "# "
   ]
  },
  {
   "cell_type": "markdown",
   "id": "e66c0e17",
   "metadata": {},
   "source": [
    "````{admonition} Cliquez ici pour voir la solution\n",
    ":class: tip, dropdown\n",
    "\n",
    "```python\n",
    "prev, next = 1, 1\n",
    "n = int(input())\n",
    "for i in range(n - 2):\n",
    "  prev, next = next, prev + next\n",
    "print(next)\n",
    "```\n",
    "````"
   ]
  }
 ],
 "metadata": {
  "jupytext": {
   "formats": "md:myst",
   "text_representation": {
    "extension": ".md",
    "format_name": "myst"
   }
  },
  "kernelspec": {
   "display_name": "Python 3",
   "language": "python",
   "name": "python3"
  },
  "language_info": {
   "codemirror_mode": {
    "name": "ipython",
    "version": 3
   },
   "file_extension": ".py",
   "mimetype": "text/x-python",
   "name": "python",
   "nbconvert_exporter": "python",
   "pygments_lexer": "ipython3",
   "version": "3.8.11"
  },
  "source_map": [
   11,
   43,
   50
  ]
 },
 "nbformat": 4,
 "nbformat_minor": 5
}