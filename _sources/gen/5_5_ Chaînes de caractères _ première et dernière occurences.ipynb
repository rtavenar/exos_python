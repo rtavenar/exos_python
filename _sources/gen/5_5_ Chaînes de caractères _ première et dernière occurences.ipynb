{
 "cells": [
  {
   "cell_type": "markdown",
   "id": "357bf295",
   "metadata": {},
   "source": [
    "# 5.5. Chaînes de caractères : première et dernière occurences\n",
    "\n",
    "## Consignes\n",
    "\n",
    "Étant donnée une chaîne de caractères entrée au clavier qui peut contenir la lettre `f`, afficher l'indice des première et dernière occurrences de `f` dans cette chaîne. Si la lettre `f` n'apparait qu'une seule fois, afficher son indice une seule fois. Si la lettre `f` n'apparait pas dans la chaîne, afficher `-1`.\n",
    "\n",
    "## Exemple d'entrée #1\n",
    "\n",
    "```\n",
    "comfort\n",
    "```\n",
    "\n",
    "## Exemple de sortie #1\n",
    "\n",
    "```\n",
    "3\n",
    "```\n",
    "\n",
    "## Exemple d'entrée #2\n",
    "\n",
    "```\n",
    "office\n",
    "```\n",
    "\n",
    "##  Exemple de sortie #2\n",
    "\n",
    "```\n",
    "1 2\n",
    "```\n",
    "\n",
    "##  Exemple d'entrée #3\n",
    "\n",
    "```\n",
    "hello\n",
    "```\n",
    "\n",
    "## Exemple de sortie #3\n",
    "\n",
    "```\n",
    "-1\n",
    "```\n",
    "\n",
    "## Aide\n",
    "\n",
    "https://rtavenar.github.io/poly_python/content/intro.html#les-cha%C3%AEnes-de-caract%C3%A8res\n",
    "\n",
    "https://docs.python.org/fr/3.6/library/stdtypes.html#str.find\n",
    "\n",
    "https://docs.python.org/fr/3.6/library/stdtypes.html#str.rfind\n",
    "\n",
    "## Squelette"
   ]
  },
  {
   "cell_type": "code",
   "execution_count": 1,
   "id": "52ed0c69",
   "metadata": {},
   "outputs": [],
   "source": [
    "# Lire une chaîne de caractères :\n",
    "# s = input()\n",
    "# Afficher une chaîne de caractères :\n",
    "# print(s)"
   ]
  },
  {
   "cell_type": "markdown",
   "id": "399274bd",
   "metadata": {},
   "source": [
    "````{admonition} Cliquez ici pour voir la solution\n",
    ":class: tip, dropdown\n",
    "\n",
    "```python\n",
    "s = input()\n",
    "if s.find('f') == s.rfind('f'):\n",
    "  print(s.find('f'))\n",
    "else:\n",
    "  print(s.find('f'), s.rfind('f'))\n",
    "```\n",
    "````"
   ]
  }
 ],
 "metadata": {
  "jupytext": {
   "formats": "md:myst",
   "text_representation": {
    "extension": ".md",
    "format_name": "myst"
   }
  },
  "kernelspec": {
   "display_name": "Python 3",
   "language": "python",
   "name": "python3"
  },
  "language_info": {
   "codemirror_mode": {
    "name": "ipython",
    "version": 3
   },
   "file_extension": ".py",
   "mimetype": "text/x-python",
   "name": "python",
   "nbconvert_exporter": "python",
   "pygments_lexer": "ipython3",
   "version": "3.8.11"
  },
  "source_map": [
   11,
   65,
   71
  ]
 },
 "nbformat": 4,
 "nbformat_minor": 5
}