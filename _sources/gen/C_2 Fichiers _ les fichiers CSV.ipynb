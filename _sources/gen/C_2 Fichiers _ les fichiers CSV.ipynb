{
 "cells": [
  {
   "cell_type": "markdown",
   "id": "18e17bfb",
   "metadata": {},
   "source": [
    "# C.2 Fichiers : les fichiers CSV\n",
    "\n",
    "**Énoncé**\n",
    "\n",
    "Codez une fonction qui compte le nombre de cellules non vides d'un fichier CSV séparé par des points-virgules.\n",
    "\n",
    "**Exemple d'entrée**\n",
    "\n",
    "```\n",
    "print(nb_non_vides(\"a.csv\"))\n",
    "```\n",
    "\n",
    "**Exemple de sortie**\n",
    "\n",
    "```\n",
    "8\n",
    "```\n",
    "\n",
    "**Aide**\n",
    "\n",
    "https://rtavenar.github.io/poly_python/content/fichiers.html\n",
    "\n",
    "## Squelette"
   ]
  },
  {
   "cell_type": "code",
   "execution_count": 1,
   "id": "1415f538",
   "metadata": {
    "tags": [
     "remove-stderr"
    ]
   },
   "outputs": [],
   "source": [
    "import csv\n",
    "\n",
    "def nb_non_vides(nom_du_fichier):\n",
    "  # Codez votre fonction ici et modifiez la valeur de retour si besoin\n",
    "  return None"
   ]
  },
  {
   "cell_type": "markdown",
   "id": "f19060aa",
   "metadata": {},
   "source": [
    "````{admonition} Cliquez ici pour voir la solution\n",
    ":class: tip, dropdown\n",
    "\n",
    "```python\n",
    "import csv\n",
    "\n",
    "def nb_non_vides(nom_de_fichier):\n",
    "  reader = csv.reader(open(nom_de_fichier, \"r\", encoding=\"utf-8\"), delimiter=\";\")\n",
    "  n = 0\n",
    "  for ligne in reader:\n",
    "    for cellule in ligne:\n",
    "      if cellule.strip() != \"\":\n",
    "        n += 1\n",
    "  return n\n",
    "```\n",
    "````"
   ]
  }
 ],
 "metadata": {
  "jupytext": {
   "formats": "md:myst",
   "text_representation": {
    "extension": ".md",
    "format_name": "myst"
   }
  },
  "kernelspec": {
   "display_name": "Python 3",
   "language": "python",
   "name": "python3"
  },
  "language_info": {
   "codemirror_mode": {
    "name": "ipython",
    "version": 3
   },
   "file_extension": ".py",
   "mimetype": "text/x-python",
   "name": "python",
   "nbconvert_exporter": "python",
   "pygments_lexer": "ipython3",
   "version": "3.8.11"
  },
  "source_map": [
   11,
   37,
   45
  ]
 },
 "nbformat": 4,
 "nbformat_minor": 5
}