{
 "cells": [
  {
   "cell_type": "markdown",
   "id": "96fa9d8a",
   "metadata": {},
   "source": [
    "# 1.2. Input/print: Calcul de l'aire d'un triangle rectangle\n",
    "\n",
    "## Consigne\n",
    "\n",
    "Écrire un programme qui lit la longueur de la base et la hauteur d'un triangle rectangle et affiche l'aire. Chaque nombre sera entré séparément.\n",
    "\n",
    "\n",
    "\n",
    "## Exemple d'entrée\n",
    "\n",
    "```\n",
    "3\n",
    "5\n",
    "```\n",
    "\n",
    "## Exemple de sortie\n",
    "\n",
    "```\n",
    "7.5\n",
    "```\n",
    "\n",
    "## Aide\n",
    "\n",
    "https://rtavenar.github.io/poly_python/content/intro.html\n",
    "\n",
    "https://docs.python.org/fr/3/tutorial/inputoutput.html\n",
    "\n",
    "## Squelette"
   ]
  },
  {
   "cell_type": "code",
   "execution_count": 1,
   "id": "74e95915",
   "metadata": {},
   "outputs": [],
   "source": [
    "# Lecture des nombres b et h comme ci-dessous :\n",
    "# b = int(input())\n",
    "# \n",
    "# Afficher le résultat avec : print()\n",
    "# "
   ]
  },
  {
   "cell_type": "markdown",
   "id": "d9828bec",
   "metadata": {},
   "source": [
    "````{admonition} Cliquez ici pour voir la solution\n",
    ":class: tip, dropdown\n",
    "\n",
    "```python\n",
    "b = int(input())\n",
    "h = int(input())\n",
    "print(b * h / 2)\n",
    "```\n",
    "````"
   ]
  }
 ],
 "metadata": {
  "jupytext": {
   "formats": "md:myst",
   "text_representation": {
    "extension": ".md",
    "format_name": "myst"
   }
  },
  "kernelspec": {
   "display_name": "Python 3",
   "language": "python",
   "name": "python3"
  },
  "language_info": {
   "codemirror_mode": {
    "name": "ipython",
    "version": 3
   },
   "file_extension": ".py",
   "mimetype": "text/x-python",
   "name": "python",
   "nbconvert_exporter": "python",
   "pygments_lexer": "ipython3",
   "version": "3.8.11"
  },
  "source_map": [
   11,
   42,
   49
  ]
 },
 "nbformat": 4,
 "nbformat_minor": 5
}