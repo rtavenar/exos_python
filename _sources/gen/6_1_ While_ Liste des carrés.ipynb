{
 "cells": [
  {
   "cell_type": "markdown",
   "id": "bf0ce0eb",
   "metadata": {},
   "source": [
    "# 6.1. While: Liste des carrés\n",
    "\n",
    "## Énoncé\n",
    "\n",
    "Pour un entier N donné, affichez (dans l'ordre) tous les carrés d'entiers positifs inférieurs ou égaux à N.\n",
    "\n",
    "## Exemple d'entrée\n",
    "\n",
    "```\n",
    "50\n",
    "```\n",
    "\n",
    "## **Exemple de sortie**\n",
    "\n",
    "```\n",
    "1 4 9 16 25 36 49\n",
    "```\n",
    "\n",
    "## Aide\n",
    "\n",
    "https://rtavenar.github.io/poly_python/content/struct.html#boucles-while\n",
    "\n",
    "## Squelette"
   ]
  },
  {
   "cell_type": "code",
   "execution_count": 1,
   "id": "785cc2ca",
   "metadata": {},
   "outputs": [],
   "source": [
    "# Read an integer:\n",
    "# a = int(input())\n",
    "# Print a value:\n",
    "# print(a)\n",
    "# "
   ]
  },
  {
   "cell_type": "markdown",
   "id": "54e1fa8a",
   "metadata": {},
   "source": [
    "````{admonition} Cliquez ici pour voir la solution\n",
    ":class: tip, dropdown\n",
    "\n",
    "```python\n",
    "n = int(input())\n",
    "i = 1\n",
    "while i ** 2 <= n:\n",
    "  print(i ** 2, end=' ')\n",
    "  i += 1\n",
    "```\n",
    "````"
   ]
  }
 ],
 "metadata": {
  "jupytext": {
   "formats": "md:myst",
   "text_representation": {
    "extension": ".md",
    "format_name": "myst"
   }
  },
  "kernelspec": {
   "display_name": "Python 3",
   "language": "python",
   "name": "python3"
  },
  "language_info": {
   "codemirror_mode": {
    "name": "ipython",
    "version": 3
   },
   "file_extension": ".py",
   "mimetype": "text/x-python",
   "name": "python",
   "nbconvert_exporter": "python",
   "pygments_lexer": "ipython3",
   "version": "3.8.11"
  },
  "source_map": [
   11,
   37,
   44
  ]
 },
 "nbformat": 4,
 "nbformat_minor": 5
}