{
 "cells": [
  {
   "cell_type": "markdown",
   "id": "75bedc00",
   "metadata": {},
   "source": [
    "# D.1. Objet : création sans paramètre\n",
    "\n",
    "## Consignes\n",
    "\n",
    "Écrire le code permettant de créer un objet de classe Cercle nommé \"monCercle\".\n",
    "\n",
    "## Aide\n",
    "\n",
    "https://docs.python.org/fr/3.6/tutorial/classes.html#a-first-look-at-classes\n",
    "\n",
    "## Squelette"
   ]
  },
  {
   "cell_type": "code",
   "execution_count": 1,
   "id": "0ca11c2e",
   "metadata": {},
   "outputs": [],
   "source": [
    "class Cercle:\n",
    "  def __init__(self):\n",
    "    self.rayon = 10\t\t# attribut rayon du cercle\n",
    "    self.x = 0\t\t\t# attribut position en X du centre du cercle\n",
    "    self.y = 0\t\t\t# attribut position en Y du centre du cercle\n",
    "\n",
    "# Écrire votre code ci-dessous"
   ]
  },
  {
   "cell_type": "markdown",
   "id": "025bd4d6",
   "metadata": {},
   "source": [
    "````{dropdown} Proposition de solution\n",
    "\n",
    "```python\n",
    "class Cercle:\n",
    "  def __init__(self):\n",
    "    self.rayon = 10\t\t# attribut rayon du cercle\n",
    "    self.x = 0\t\t\t# attribut position en X du centre du cercle\n",
    "    self.y = 0\t\t\t# attribut position en Y du centre du cercle\n",
    "\n",
    "# Écrire votre code ci-dessous\n",
    "monCercle = Cercle()\n",
    "```\n",
    "````"
   ]
  }
 ],
 "metadata": {
  "jupytext": {
   "formats": "md:myst",
   "text_representation": {
    "extension": ".md",
    "format_name": "myst"
   }
  },
  "kernelspec": {
   "display_name": "Python 3",
   "language": "python",
   "name": "python3"
  },
  "language_info": {
   "codemirror_mode": {
    "name": "ipython",
    "version": 3
   },
   "file_extension": ".py",
   "mimetype": "text/x-python",
   "name": "python",
   "nbconvert_exporter": "python",
   "pygments_lexer": "ipython3",
   "version": "3.8.11"
  },
  "source_map": [
   11,
   25,
   33
  ]
 },
 "nbformat": 4,
 "nbformat_minor": 5
}