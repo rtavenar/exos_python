{
 "cells": [
  {
   "cell_type": "markdown",
   "id": "d1d2ef79",
   "metadata": {},
   "source": [
    "# 6.D. While: nombre de maxima\n",
    "\n",
    "## Consignes\n",
    "\n",
    "Étant donnée une série d'entiers non-négatifs entrés un à un au clavier (un entier par ligne) et se terminant par `0`, trouver combien d'éléments de cette série sont égaux à son élément le plus grand et afficher ce nombre.\n",
    "\n",
    "## Exemple d'entrées #1\n",
    "\n",
    "```\n",
    "1\n",
    "7\n",
    "9\n",
    "0\n",
    "```\n",
    "\n",
    "## Exemple de sortie #1\n",
    "\n",
    "```\n",
    "1\n",
    "```\n",
    "\n",
    "## Exemple d'entrées #2\n",
    "\n",
    "```\n",
    "1\n",
    "3\n",
    "3\n",
    "1\n",
    "0\n",
    "```\n",
    "\n",
    "## Exemple de sortie #2\n",
    "\n",
    "```\n",
    "2\n",
    "```\n",
    "\n",
    "## Aide\n",
    "\n",
    "https://docs.python.org/fr/3.6/reference/compound_stmts.html#the-while-statement\n",
    "\n",
    "## Squelette"
   ]
  },
  {
   "cell_type": "code",
   "execution_count": 1,
   "id": "3be16349",
   "metadata": {},
   "outputs": [],
   "source": [
    "# Lire un entier au clavier :\n",
    "# a = int(input())\n",
    "# Afficher la valeur de a :\n",
    "# print(a)\n",
    "# "
   ]
  },
  {
   "cell_type": "markdown",
   "id": "7a4be482",
   "metadata": {},
   "source": [
    "````{admonition} Cliquez ici pour voir la solution\n",
    ":class: tip, dropdown\n",
    "\n",
    "```python\n",
    "maximum = int(input())\n",
    "counter = 1\n",
    "a = -1\n",
    "while a != 0:\n",
    "  a = int(input())\n",
    "  if a > maximum:\n",
    "    maximum, counter = a, 1\n",
    "  elif a == maximum:\n",
    "    counter += 1\n",
    "print(counter)\n",
    "```\n",
    "````"
   ]
  }
 ],
 "metadata": {
  "jupytext": {
   "formats": "md:myst",
   "text_representation": {
    "extension": ".md",
    "format_name": "myst"
   }
  },
  "kernelspec": {
   "display_name": "Python 3",
   "language": "python",
   "name": "python3"
  },
  "language_info": {
   "codemirror_mode": {
    "name": "ipython",
    "version": 3
   },
   "file_extension": ".py",
   "mimetype": "text/x-python",
   "name": "python",
   "nbconvert_exporter": "python",
   "pygments_lexer": "ipython3",
   "version": "3.8.11"
  },
  "source_map": [
   11,
   56,
   63
  ]
 },
 "nbformat": 4,
 "nbformat_minor": 5
}