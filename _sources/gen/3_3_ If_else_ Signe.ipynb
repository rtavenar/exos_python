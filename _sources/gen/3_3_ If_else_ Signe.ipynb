{
 "cells": [
  {
   "cell_type": "markdown",
   "id": "bc68fa7d",
   "metadata": {},
   "source": [
    "# 3.3. If/else: Signe\n",
    "\n",
    "## Énoncé\n",
    "\n",
    "Étant donné un entier, afficher `1` s'il est positif, `-1` s'il est négatif, ou `0` s'il est nul.\n",
    "\n",
    "Essayez d'utiliser la syntaxe `if-elif-else` pour cela.\n",
    "\n",
    "## Exemple d'entrée\n",
    "\n",
    "```\n",
    "179\n",
    "```\n",
    "\n",
    "## Exemple de sortie\n",
    "\n",
    "```\n",
    "1\n",
    "```\n",
    "\n",
    "## Aide\n",
    "\n",
    "http://rtavenar.github.io/teaching/python_poly/html/poly.html#structures-de-contrôle\n",
    "\n",
    "## Squelette"
   ]
  },
  {
   "cell_type": "code",
   "execution_count": 1,
   "id": "a7dbf10a",
   "metadata": {},
   "outputs": [],
   "source": [
    "# Lire un entier :\n",
    "# a = int(input())\n",
    "# Afficher une valeur :\n",
    "# print(a)"
   ]
  },
  {
   "cell_type": "markdown",
   "id": "bb3aba11",
   "metadata": {},
   "source": [
    "````{dropdown} Proposition de solution\n",
    "\n",
    "```python\n",
    "x = int(input())\n",
    "if x > 0:\n",
    "  print(1)\n",
    "elif x < 0:\n",
    "  print(-1)\n",
    "else:\n",
    "  print(0)\n",
    "```\n",
    "````"
   ]
  }
 ],
 "metadata": {
  "jupytext": {
   "formats": "md:myst",
   "text_representation": {
    "extension": ".md",
    "format_name": "myst"
   }
  },
  "kernelspec": {
   "display_name": "Python 3",
   "language": "python",
   "name": "python3"
  },
  "language_info": {
   "codemirror_mode": {
    "name": "ipython",
    "version": 3
   },
   "file_extension": ".py",
   "mimetype": "text/x-python",
   "name": "python",
   "nbconvert_exporter": "python",
   "pygments_lexer": "ipython3",
   "version": "3.8.11"
  },
  "source_map": [
   11,
   39,
   44
  ]
 },
 "nbformat": 4,
 "nbformat_minor": 5
}