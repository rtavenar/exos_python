{
 "cells": [
  {
   "cell_type": "markdown",
   "id": "2db6a613",
   "metadata": {},
   "source": [
    "# 9.3. Sets : intersection\n",
    "\n",
    "## Consignes\n",
    "\n",
    "Étant données deux séries de nombres (séparés par des espaces) entrées l'une après l'autre au clavier, trouver tous les nombres qui apparaissent à la fois dans la première et dans la deuxième séries et les afficher par ordre croissant.\n",
    "\n",
    "## Exemple d'entrée\n",
    "\n",
    "```\n",
    "1 3 2\n",
    "4 3 2\n",
    "```\n",
    "\n",
    "## Exemple de sortie\n",
    "\n",
    "```\n",
    "2 3\n",
    "```\n",
    "\n",
    "## Aide\n",
    "\n",
    "https://docs.python.org/fr/3.6/library/stdtypes.html#set-types-set-frozenset\n",
    "\n",
    "## Squelette"
   ]
  },
  {
   "cell_type": "code",
   "execution_count": 1,
   "id": "1ca30353",
   "metadata": {},
   "outputs": [],
   "source": [
    "# Lire une chaîne de caractères au clavier :\n",
    "# s = input()\n",
    "# Afficher la valeur de s :\n",
    "# print(s)"
   ]
  },
  {
   "cell_type": "markdown",
   "id": "6e661423",
   "metadata": {},
   "source": [
    "````{admonition} Cliquez ici pour voir la solution\n",
    ":class: tip, dropdown\n",
    "\n",
    "```python\n",
    "first = set([int(s) for s in input().split()])\n",
    "second = set([int(s) for s in input().split()])\n",
    "print(*sorted(first & second))\n",
    "```\n",
    "````"
   ]
  }
 ],
 "metadata": {
  "jupytext": {
   "formats": "md:myst",
   "text_representation": {
    "extension": ".md",
    "format_name": "myst"
   }
  },
  "kernelspec": {
   "display_name": "Python 3",
   "language": "python",
   "name": "python3"
  },
  "language_info": {
   "codemirror_mode": {
    "name": "ipython",
    "version": 3
   },
   "file_extension": ".py",
   "mimetype": "text/x-python",
   "name": "python",
   "nbconvert_exporter": "python",
   "pygments_lexer": "ipython3",
   "version": "3.8.11"
  },
  "source_map": [
   11,
   38,
   44
  ]
 },
 "nbformat": 4,
 "nbformat_minor": 5
}