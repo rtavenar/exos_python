{
 "cells": [
  {
   "cell_type": "markdown",
   "id": "b4d0e83c",
   "metadata": {},
   "source": [
    "# 1.6. Input/print: Heures et minutes\n",
    "\n",
    "## Consigne\n",
    "\n",
    "Soit un entier N, représentant le nombre de secondes écoulées depuis minuit, calculer le nombre d'heures entières et le nombre de minutes entières écoulées depuis minuit.\n",
    "\n",
    "\n",
    "Le programme devra afficher les deux nombres : le nombre d'heures (entre 0 et 23) et le nombre de minute (entre 0 et 1339).\n",
    "\n",
    "\n",
    "Par exemple, si N = 3900, alors 3900 secondes se sont écoulées depuis minuit (il est donc 1h05). Le programme devra afficher **1 65** ( 1 heure entière depuis minuit, 65 minutes entières depuis minuit).\n",
    "\n",
    "## Exemple d'entrée\n",
    "\n",
    "```\n",
    "3900\n",
    "```\n",
    "\n",
    "## Exemple de sortie\n",
    "\n",
    "```\n",
    "1 65\n",
    "```\n",
    "\n",
    "## Aide\n",
    "\n",
    "http://rtavenar.github.io/teaching/python_poly/html/poly.html\n",
    "\n",
    "## Squelette"
   ]
  },
  {
   "cell_type": "code",
   "execution_count": 1,
   "id": "f4ae6902",
   "metadata": {},
   "outputs": [],
   "source": [
    "# Read an integer:\n",
    "# a = int(input())\n",
    "# Print a value:\n",
    "# print(a)"
   ]
  },
  {
   "cell_type": "markdown",
   "id": "d5efd779",
   "metadata": {},
   "source": [
    "````{dropdown} Proposition de solution\n",
    "\n",
    "```python\n",
    "num_seconds = int(input())\n",
    "print(num_seconds // 3600, num_seconds // 60)\n",
    "```\n",
    "````"
   ]
  }
 ],
 "metadata": {
  "jupytext": {
   "formats": "md:myst",
   "text_representation": {
    "extension": ".md",
    "format_name": "myst"
   }
  },
  "kernelspec": {
   "display_name": "Python 3",
   "language": "python",
   "name": "python3"
  },
  "language_info": {
   "codemirror_mode": {
    "name": "ipython",
    "version": 3
   },
   "file_extension": ".py",
   "mimetype": "text/x-python",
   "name": "python",
   "nbconvert_exporter": "python",
   "pygments_lexer": "ipython3",
   "version": "3.8.11"
  },
  "source_map": [
   11,
   43,
   48
  ]
 },
 "nbformat": 4,
 "nbformat_minor": 5
}