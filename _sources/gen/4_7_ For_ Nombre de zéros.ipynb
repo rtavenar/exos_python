{
 "cells": [
  {
   "cell_type": "markdown",
   "id": "434db8af",
   "metadata": {},
   "source": [
    "# 4.7. For: Nombre de zéros\n",
    "\n",
    "## Consigne\n",
    "\n",
    "Soit N nombres : le premier nombre donné en entrée est N, après cela N entiers sont entrés. Compter le nombre de zéros parmi les entiers donnés et afficher le résultat.\n",
    "\n",
    "Vous devez compter le nombre d'entiers égaux à zéro, mais pas le nombre de zéro qui compose un entier.\n",
    "\n",
    "\n",
    "## Exemple d'entrée\n",
    "\n",
    "```\n",
    "5\n",
    "0\n",
    "700\n",
    "0\n",
    "200\n",
    "2\n",
    "```\n",
    "\n",
    "## Exemple de sortie\n",
    "\n",
    "```\n",
    "2\n",
    "```\n",
    "\n",
    "## Aide\n",
    "\n",
    "https://rtavenar.github.io/poly_python/content/struct.html#boucles-for\n",
    "\n",
    "https://docs.python.org/fr/3/reference/compound_stmts.html#for\n",
    "\n",
    "## Squelette"
   ]
  },
  {
   "cell_type": "code",
   "execution_count": 1,
   "id": "5b820acc",
   "metadata": {},
   "outputs": [],
   "source": [
    "# Read an integer:\n",
    "# a = int(input())\n",
    "# Print a value:\n",
    "# print(a)"
   ]
  },
  {
   "cell_type": "markdown",
   "id": "4b8db777",
   "metadata": {},
   "source": [
    "````{admonition} Cliquez ici pour voir la solution\n",
    ":class: tip, dropdown\n",
    "\n",
    "```python\n",
    "result = 0\n",
    "for i in range(int(input())):\n",
    "  if int(input()) == 0:\n",
    "    result += 1\n",
    "print(result)\n",
    "```\n",
    "````"
   ]
  }
 ],
 "metadata": {
  "jupytext": {
   "formats": "md:myst",
   "text_representation": {
    "extension": ".md",
    "format_name": "myst"
   }
  },
  "kernelspec": {
   "display_name": "Python 3",
   "language": "python",
   "name": "python3"
  },
  "language_info": {
   "codemirror_mode": {
    "name": "ipython",
    "version": 3
   },
   "file_extension": ".py",
   "mimetype": "text/x-python",
   "name": "python",
   "nbconvert_exporter": "python",
   "pygments_lexer": "ipython3",
   "version": "3.8.11"
  },
  "source_map": [
   11,
   47,
   53
  ]
 },
 "nbformat": 4,
 "nbformat_minor": 5
}