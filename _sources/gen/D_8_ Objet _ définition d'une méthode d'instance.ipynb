{
 "cells": [
  {
   "cell_type": "markdown",
   "id": "05c4ebae",
   "metadata": {},
   "source": [
    "# D.8. Objet : définition d'une méthode d'instance\n",
    "\n",
    "## Consignes\n",
    "\n",
    "Écrire le code permettant de définir une classe Personne et son initialisateur. Les objets de classe Personne possèderont des attributs \"`nom`\", \"`age`\", \"`poids`\" et \"`taille`\" dont les valeurs seront passées en paramètres à la construction de l'objet (dans cet ordre). Le poids sera donné en kilogrammes et la taille en mètres.\n",
    "\n",
    "Ajouter à la classe Personne une méthode d'instance nommée \"`imc`\" permettant de calculer et de retourner l'IMC (Indice de Masse Corporelle) de la personne. L'IMC d'une personne est égal à son poids (en kilogrammes) divisé par le carré de sa taille (en mètres).\n",
    "\n",
    "## Aide\n",
    "\n",
    "https://docs.python.org/fr/3.6/tutorial/classes.html#a-first-look-at-classes\n",
    "\n",
    "## Squelette"
   ]
  },
  {
   "cell_type": "code",
   "execution_count": 1,
   "id": "bc9f1a98",
   "metadata": {},
   "outputs": [],
   "source": [
    "# Écrire votre code ci-dessous\n",
    "# "
   ]
  },
  {
   "cell_type": "markdown",
   "id": "480b8cc1",
   "metadata": {},
   "source": [
    "````{admonition} Cliquez ici pour voir la solution\n",
    ":class: tip, dropdown\n",
    "\n",
    "```python\n",
    "# Écrire votre code ci-dessous\n",
    "class Personne:\n",
    "  def __init__(self, nom, age, poids, taille):\n",
    "    self.nom = nom\n",
    "    self.age = age\n",
    "    self.poids = poids\n",
    "    self.taille = taille\n",
    "  \n",
    "  def imc(self):\n",
    "    return self.poids/(self.taille**2)\n",
    "```\n",
    "````"
   ]
  }
 ],
 "metadata": {
  "jupytext": {
   "formats": "md:myst",
   "text_representation": {
    "extension": ".md",
    "format_name": "myst"
   }
  },
  "kernelspec": {
   "display_name": "Python 3",
   "language": "python",
   "name": "python3"
  },
  "language_info": {
   "codemirror_mode": {
    "name": "ipython",
    "version": 3
   },
   "file_extension": ".py",
   "mimetype": "text/x-python",
   "name": "python",
   "nbconvert_exporter": "python",
   "pygments_lexer": "ipython3",
   "version": "3.8.11"
  },
  "source_map": [
   11,
   27,
   31
  ]
 },
 "nbformat": 4,
 "nbformat_minor": 5
}