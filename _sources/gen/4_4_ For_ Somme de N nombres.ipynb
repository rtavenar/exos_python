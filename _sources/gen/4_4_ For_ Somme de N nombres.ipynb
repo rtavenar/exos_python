{
 "cells": [
  {
   "cell_type": "markdown",
   "id": "5f67a65a",
   "metadata": {},
   "source": [
    "# 4.4. For: Somme de N nombres\n",
    "\n",
    "## Consigne\n",
    "\n",
    "N nombres sont donnés en entrés. Lire chaque nombre et afficher la leur somme.\n",
    "\n",
    "Le premier nombre entré est un entier N, qui est le nombre d'entiers qui seront entrés. Chacune des N entrées contient un entier. Afficher la somme de ces N entiers.\n",
    "\n",
    "\n",
    "## Exemple d'entrée\n",
    "\n",
    "```\n",
    "10\n",
    "1\n",
    "2\n",
    "1\n",
    "1\n",
    "1\n",
    "1\n",
    "3\n",
    "1\n",
    "1\n",
    "1\n",
    "```\n",
    "\n",
    "## Exemple de sortie\n",
    "\n",
    "```\n",
    "13\n",
    "```\n",
    "\n",
    "## Aide\n",
    "\n",
    "https://rtavenar.github.io/poly_python/content/struct.html#boucles-for\n",
    "\n",
    "https://docs.python.org/fr/3/reference/compound_stmts.html#for\n",
    "\n",
    "## Squelette"
   ]
  },
  {
   "cell_type": "code",
   "execution_count": 1,
   "id": "ba67cc0b",
   "metadata": {},
   "outputs": [],
   "source": [
    "# Read an integer:\n",
    "# a = int(input())\n",
    "# Print a value:\n",
    "# print(a)\n",
    "# "
   ]
  },
  {
   "cell_type": "markdown",
   "id": "41dbfebf",
   "metadata": {},
   "source": [
    "````{admonition} Cliquez ici pour voir la solution\n",
    ":class: tip, dropdown\n",
    "\n",
    "```python\n",
    "result = 0\n",
    "for i in range(int(input())):\n",
    "  result += int(input())\n",
    "print(result)\n",
    "```\n",
    "````"
   ]
  }
 ],
 "metadata": {
  "jupytext": {
   "formats": "md:myst",
   "text_representation": {
    "extension": ".md",
    "format_name": "myst"
   }
  },
  "kernelspec": {
   "display_name": "Python 3",
   "language": "python",
   "name": "python3"
  },
  "language_info": {
   "codemirror_mode": {
    "name": "ipython",
    "version": 3
   },
   "file_extension": ".py",
   "mimetype": "text/x-python",
   "name": "python",
   "nbconvert_exporter": "python",
   "pygments_lexer": "ipython3",
   "version": "3.8.11"
  },
  "source_map": [
   11,
   52,
   59
  ]
 },
 "nbformat": 4,
 "nbformat_minor": 5
}