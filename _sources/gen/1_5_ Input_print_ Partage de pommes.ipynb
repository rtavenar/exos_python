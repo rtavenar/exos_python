{
 "cells": [
  {
   "cell_type": "markdown",
   "id": "1d27cd53",
   "metadata": {},
   "source": [
    "# 1.5. Input/print: Partage de pommes\n",
    "\n",
    "## Consigne\n",
    "\n",
    "`N étudiants prennent K pommes et les distribuent de façon homogène entre les étudiants. Le reste (la partie indivisible) des pommes reste dans le panier. Combien de pommes a obtenu chaque étudiant ? Combien de pommes reste-t-il dans le panier ?`\n",
    "\n",
    "Le programme lit les nombres N et K et devra afficher la réponse aux deux questions ci-dessus.\n",
    "\n",
    "\n",
    "## Exemple d'entrée\n",
    "\n",
    "```\n",
    "6\n",
    "50\n",
    "```\n",
    "\n",
    "## Exemple de sortie\n",
    "\n",
    "```\n",
    "8\n",
    "2\n",
    "```\n",
    "\n",
    "## Aide\n",
    "\n",
    "https://rtavenar.github.io/poly_python/content/intro.html\n",
    "\n",
    "https://docs.python.org/fr/3/tutorial/inputoutput.html\n",
    "\n",
    "## Squelette"
   ]
  },
  {
   "cell_type": "code",
   "execution_count": 1,
   "id": "4a5a6137",
   "metadata": {},
   "outputs": [
    {
     "name": "stdout",
     "output_type": "stream",
     "text": [
      "12.6\n",
      "12\n",
      "3\n"
     ]
    }
   ],
   "source": [
    "# Read the numbers like this:\n",
    "# n = int(input())\n",
    "\n",
    "# Print the result with print()\n",
    "\n",
    "# Example of division, integer division and remainder:\n",
    "print(63 / 5)\n",
    "print(63 // 5)\n",
    "print(63 % 5)"
   ]
  },
  {
   "cell_type": "markdown",
   "id": "80484610",
   "metadata": {},
   "source": [
    "````{admonition} Cliquez ici pour voir la solution\n",
    ":class: tip, dropdown\n",
    "\n",
    "```python\n",
    "n = int(input())\n",
    "k = int(input())\n",
    "print(k // n)\n",
    "print(k % n)\n",
    "```\n",
    "````"
   ]
  }
 ],
 "metadata": {
  "jupytext": {
   "formats": "md:myst",
   "text_representation": {
    "extension": ".md",
    "format_name": "myst"
   }
  },
  "kernelspec": {
   "display_name": "Python 3",
   "language": "python",
   "name": "python3"
  },
  "language_info": {
   "codemirror_mode": {
    "name": "ipython",
    "version": 3
   },
   "file_extension": ".py",
   "mimetype": "text/x-python",
   "name": "python",
   "nbconvert_exporter": "python",
   "pygments_lexer": "ipython3",
   "version": "3.8.11"
  },
  "source_map": [
   11,
   44,
   55
  ]
 },
 "nbformat": 4,
 "nbformat_minor": 5
}