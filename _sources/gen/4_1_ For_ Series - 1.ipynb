{
 "cells": [
  {
   "cell_type": "markdown",
   "id": "3fe1e1eb",
   "metadata": {},
   "source": [
    "# 4.1. For: Series - 1\n",
    "\n",
    "## Consigne\n",
    "\n",
    "Soit deux entiers A et B (A ≤ B) donnés en entrée. Afficher tous les nombres de A à B bornes comprises.\n",
    "\n",
    "## Exemple d'entrée\n",
    "\n",
    "```\n",
    "1\n",
    "10\n",
    "```\n",
    "\n",
    "## Exemple de sortie\n",
    "\n",
    "```\n",
    "1 2 3 4 5 6 7 8 9 10\n",
    "```\n",
    "\n",
    "## Aide\n",
    "\n",
    "http://rtavenar.github.io/teaching/python_poly/html/poly.html#boucles-for\n",
    "\n",
    "https://docs.python.org/fr/3/reference/compound_stmts.html#for\n",
    "\n",
    "## Squelette"
   ]
  },
  {
   "cell_type": "code",
   "execution_count": 1,
   "id": "657cdac3",
   "metadata": {},
   "outputs": [],
   "source": [
    "# Read an integer:\n",
    "# a = int(input())\n",
    "# Print a value:\n",
    "# print(a)"
   ]
  },
  {
   "cell_type": "markdown",
   "id": "8acd28d4",
   "metadata": {},
   "source": [
    "````{dropdown} Proposition de solution\n",
    "\n",
    "```python\n",
    "a = int(input())\n",
    "b = int(input())\n",
    "\n",
    "for i in range(a, b + 1):\n",
    "  print(i, end=' ')\n",
    "```\n",
    "````"
   ]
  }
 ],
 "metadata": {
  "jupytext": {
   "formats": "md:myst",
   "text_representation": {
    "extension": ".md",
    "format_name": "myst"
   }
  },
  "kernelspec": {
   "display_name": "Python 3",
   "language": "python",
   "name": "python3"
  },
  "language_info": {
   "codemirror_mode": {
    "name": "ipython",
    "version": 3
   },
   "file_extension": ".py",
   "mimetype": "text/x-python",
   "name": "python",
   "nbconvert_exporter": "python",
   "pygments_lexer": "ipython3",
   "version": "3.8.11"
  },
  "source_map": [
   11,
   40,
   45
  ]
 },
 "nbformat": 4,
 "nbformat_minor": 5
}