{
 "cells": [
  {
   "cell_type": "markdown",
   "id": "f106b69e",
   "metadata": {},
   "source": [
    "# D.5. Objet : utilisation d'une méthode sans paramètre\n",
    "\n",
    "## Consignes\n",
    "\n",
    "Écrire le code permettant de créer un objet de classe Cercle nommé \"monCercle\", avec un rayon de 20 et les valeurs par défaut pour les positions en X et Y du centre. Créer une variable \"surface\" contenant le résultat du calcul de la surface de l'objet \"monCercle\". Pour obtenir ce résultat vous devez utiliser uniquement l'objet monCercle créé sans écrire vous-même le calcul de la surface.\n",
    "\n",
    "## Aide\n",
    "\n",
    "https://docs.python.org/fr/3.6/tutorial/classes.html#a-first-look-at-classes\n",
    "\n",
    "## Squelette"
   ]
  },
  {
   "cell_type": "code",
   "execution_count": 1,
   "id": "3c20ba10",
   "metadata": {},
   "outputs": [],
   "source": [
    "from math import pi\n",
    "\n",
    "class Cercle:\n",
    "  def __init__(self, r=15, posX=0, posY=0):\n",
    "    self.rayon = r\t\t# attribut rayon du cercle\n",
    "    self.x = posX\t\t\t# attribut position en X du centre du cercle\n",
    "    self.y = posY\t\t\t# attribut position en Y du centre du cercle\n",
    "  \n",
    "  def calculerSurface(self):\n",
    "    return pi*self.rayon**2\n",
    "  \n",
    "# Écrire votre code ci-dessous\n"
   ]
  },
  {
   "cell_type": "markdown",
   "id": "06a463fa",
   "metadata": {},
   "source": [
    "````{dropdown} Proposition de solution\n",
    "\n",
    "```python\n",
    "from math import pi\n",
    "\n",
    "class Cercle:\n",
    "  def __init__(self, r=15, posX=10, posY=10):\n",
    "    self.rayon = r\t\t# attribut rayon du cercle\n",
    "    self.x = posX\t\t\t# attribut position en X du centre du cercle\n",
    "    self.y = posY\t\t\t# attribut position en Y du centre du cercle\n",
    "  \n",
    "  def calculerSurface(self):\n",
    "    return pi*self.rayon**2\n",
    "    \n",
    "# Écrire votre code ci-dessous\n",
    "monCercle = Cercle(20)\n",
    "surface = monCercle.calculerSurface()\n",
    "```\n",
    "````"
   ]
  }
 ],
 "metadata": {
  "jupytext": {
   "formats": "md:myst",
   "text_representation": {
    "extension": ".md",
    "format_name": "myst"
   }
  },
  "kernelspec": {
   "display_name": "Python 3",
   "language": "python",
   "name": "python3"
  },
  "language_info": {
   "codemirror_mode": {
    "name": "ipython",
    "version": 3
   },
   "file_extension": ".py",
   "mimetype": "text/x-python",
   "name": "python",
   "nbconvert_exporter": "python",
   "pygments_lexer": "ipython3",
   "version": "3.8.11"
  },
  "source_map": [
   11,
   25,
   39
  ]
 },
 "nbformat": 4,
 "nbformat_minor": 5
}