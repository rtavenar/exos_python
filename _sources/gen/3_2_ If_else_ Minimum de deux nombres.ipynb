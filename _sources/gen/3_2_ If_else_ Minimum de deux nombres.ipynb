{
 "cells": [
  {
   "cell_type": "markdown",
   "id": "0aa9fb7c",
   "metadata": {},
   "source": [
    "# 3.2. If/else: Minimum de deux nombres\n",
    "\n",
    "## Consigne\n",
    "\n",
    "Étant donnés 2 entiers, affichez le plus petit des deux\n",
    "\n",
    "## Exemple d'entrée\n",
    "\n",
    "```\n",
    "3\n",
    "7\n",
    "```\n",
    "\n",
    "## Exemple de sortie\n",
    "\n",
    "```\n",
    "3\n",
    "```\n",
    "\n",
    "## Aide\n",
    "\n",
    "https://rtavenar.github.io/poly_python/content/struct.html#structures-de-controle\n",
    "\n",
    "## Squelette"
   ]
  },
  {
   "cell_type": "code",
   "execution_count": 1,
   "id": "c2395089",
   "metadata": {},
   "outputs": [],
   "source": [
    "# Lire un entier :\n",
    "# a = int(input())\n",
    "# Afficher une valeur :\n",
    "# print(a)\n",
    "# "
   ]
  },
  {
   "cell_type": "markdown",
   "id": "b97b5be3",
   "metadata": {},
   "source": [
    "````{admonition} Cliquez ici pour voir la solution\n",
    ":class: tip, dropdown\n",
    "\n",
    "```python\n",
    "a = int(input())\n",
    "b = int(input())\n",
    "if a < b:\n",
    "  print(a)\n",
    "else:\n",
    "  print(b)\n",
    "```\n",
    "````"
   ]
  }
 ],
 "metadata": {
  "jupytext": {
   "formats": "md:myst",
   "text_representation": {
    "extension": ".md",
    "format_name": "myst"
   }
  },
  "kernelspec": {
   "display_name": "Python 3",
   "language": "python",
   "name": "python3"
  },
  "language_info": {
   "codemirror_mode": {
    "name": "ipython",
    "version": 3
   },
   "file_extension": ".py",
   "mimetype": "text/x-python",
   "name": "python",
   "nbconvert_exporter": "python",
   "pygments_lexer": "ipython3",
   "version": "3.8.11"
  },
  "source_map": [
   11,
   38,
   45
  ]
 },
 "nbformat": 4,
 "nbformat_minor": 5
}