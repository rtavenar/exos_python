{
 "cells": [
  {
   "cell_type": "markdown",
   "id": "e03f6633",
   "metadata": {},
   "source": [
    "# C.1 Fichiers : les fichiers texte plat\n",
    "\n",
    "**Énoncé**\n",
    "\n",
    "Codez une fonction `compte_mots` qui prend en entrée un nom de fichier et retourne le nombre de \"mots\" dans le fichier en question (séparés par des espaces).\n",
    "\n",
    "**Exemple d'entrée**\n",
    "\n",
    "```\n",
    "print(compte_mots(\"a.txt\"))\n",
    "```\n",
    "\n",
    "**Exemple de sortie**\n",
    "\n",
    "```\n",
    "5\n",
    "```\n",
    "\n",
    "**Aide**\n",
    "\n",
    "https://rtavenar.github.io/poly_python/content/fichiers.html"
   ]
  },
  {
   "cell_type": "code",
   "execution_count": 1,
   "id": "54c545a0",
   "metadata": {
    "tags": [
     "hide-input",
     "thebe-init"
    ]
   },
   "outputs": [
    {
     "ename": "SyntaxError",
     "evalue": "invalid syntax (521597280.py, line 1)",
     "output_type": "error",
     "traceback": [
      "\u001b[0;36m  File \u001b[0;32m\"/tmp/ipykernel_3973/521597280.py\"\u001b[0;36m, line \u001b[0;32m1\u001b[0m\n\u001b[0;31m    wget https://raw.githubusercontent.com/rtavenar/exos_python/master/data/C.1%20Fichiers%20%3A%20les%20fichiers%20texte%20plat/a.txt\u001b[0m\n\u001b[0m         ^\u001b[0m\n\u001b[0;31mSyntaxError\u001b[0m\u001b[0;31m:\u001b[0m invalid syntax\n"
     ]
    }
   ],
   "source": [
    "wget https://raw.githubusercontent.com/rtavenar/exos_python/master/data/C.1%20Fichiers%20%3A%20les%20fichiers%20texte%20plat/a.txt"
   ]
  },
  {
   "cell_type": "markdown",
   "id": "a855b9cf",
   "metadata": {},
   "source": [
    "## Squelette"
   ]
  },
  {
   "cell_type": "code",
   "execution_count": null,
   "id": "a38ffb72",
   "metadata": {},
   "outputs": [],
   "source": [
    "# def compte_mots(nom_du_fichier):\n",
    "#   # Codez ici votre fonction et modifiez la valeur de retour si besoin\n",
    "#   return None"
   ]
  },
  {
   "cell_type": "markdown",
   "id": "5fbce0d2",
   "metadata": {},
   "source": [
    "````{admonition} Cliquez ici pour voir la solution\n",
    ":class: tip, dropdown\n",
    "\n",
    "```python\n",
    "def compte_mots(nom_de_fichier):\n",
    "  texte = open(nom_de_fichier, \"r\", encoding=\"utf-8\").read()\n",
    "  return len(texte.split())\n",
    "```\n",
    "````"
   ]
  }
 ],
 "metadata": {
  "jupytext": {
   "formats": "md:myst",
   "text_representation": {
    "extension": ".md",
    "format_name": "myst"
   }
  },
  "kernelspec": {
   "display_name": "Python 3",
   "language": "python",
   "name": "python3"
  },
  "language_info": {
   "codemirror_mode": {
    "name": "ipython",
    "version": 3
   },
   "file_extension": ".py",
   "mimetype": "text/x-python",
   "name": "python",
   "nbconvert_exporter": "python",
   "pygments_lexer": "ipython3",
   "version": "3.8.11"
  },
  "source_map": [
   11,
   35,
   39,
   43,
   48
  ]
 },
 "nbformat": 4,
 "nbformat_minor": 5
}