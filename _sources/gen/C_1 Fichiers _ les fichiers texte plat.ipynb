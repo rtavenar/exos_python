{
 "cells": [
  {
   "cell_type": "markdown",
   "id": "ad8822a1",
   "metadata": {},
   "source": [
    "# C.1 Fichiers : les fichiers texte plat\n",
    "\n",
    "**Énoncé**\n",
    "\n",
    "Codez une fonction `compte_mots` qui prend en entrée un nom de fichier et retourne le nombre de \"mots\" dans le fichier en question (séparés par des espaces).\n",
    "\n",
    "**Exemple d'entrée**\n",
    "\n",
    "```\n",
    "print(compte_mots(\"a.txt\"))\n",
    "```\n",
    "\n",
    "**Exemple de sortie**\n",
    "\n",
    "```\n",
    "5\n",
    "```\n",
    "\n",
    "**Aide**\n",
    "\n",
    "http://rtavenar.github.io/teaching/python_poly/html/poly.html#lecture-de-fichiers-textuels\n",
    "\n",
    "## Squelette"
   ]
  },
  {
   "cell_type": "code",
   "execution_count": 1,
   "id": "9df0b024",
   "metadata": {},
   "outputs": [],
   "source": [
    "def compte_mots(nom_du_fichier):\n",
    "  # Codez ici votre fonction et modifiez la valeur de retour si besoin\n",
    "  return None"
   ]
  },
  {
   "cell_type": "markdown",
   "id": "7bf99ebd",
   "metadata": {},
   "source": [
    "````{dropdown} Proposition de solution\n",
    "\n",
    "```python\n",
    "def compte_mots(nom_de_fichier):\n",
    "  texte = open(nom_de_fichier, \"r\", encoding=\"utf-8\").read()\n",
    "  return len(texte.split())\n",
    "```\n",
    "````"
   ]
  }
 ],
 "metadata": {
  "jupytext": {
   "formats": "md:myst",
   "text_representation": {
    "extension": ".md",
    "format_name": "myst"
   }
  },
  "kernelspec": {
   "display_name": "Python 3",
   "language": "python",
   "name": "python3"
  },
  "language_info": {
   "codemirror_mode": {
    "name": "ipython",
    "version": 3
   },
   "file_extension": ".py",
   "mimetype": "text/x-python",
   "name": "python",
   "nbconvert_exporter": "python",
   "pygments_lexer": "ipython3",
   "version": "3.8.11"
  },
  "source_map": [
   11,
   37,
   41
  ]
 },
 "nbformat": 4,
 "nbformat_minor": 5
}