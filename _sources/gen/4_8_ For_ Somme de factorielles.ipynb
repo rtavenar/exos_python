{
 "cells": [
  {
   "cell_type": "markdown",
   "id": "fc4410da",
   "metadata": {},
   "source": [
    "# 4.8. For: Somme de factorielles\n",
    "\n",
    "## Consigne\n",
    "\n",
    "En mathématique, la factorielle d'un nombre entier **n** (**n!**) est le produit suivant :\n",
    "\n",
    "n! = 1 × 2 × … × n\n",
    "\n",
    "\n",
    "Pour le nombre entier donné n calculer la valeur\n",
    "\n",
    "1! + 2! + 3! + ... + n!\n",
    "\n",
    "Essayer de trouver la solution qui n'utilise qu'une seule boucle for. Ne pas utiliser le module math pour cet exercice.\n",
    "\n",
    "## Exemple d'entrée\n",
    "\n",
    "```\n",
    "4\n",
    "```\n",
    "\n",
    "## Exemple de sortie\n",
    "\n",
    "```\n",
    "33\n",
    "```\n",
    "\n",
    "## Aide\n",
    "\n",
    "https://rtavenar.github.io/poly_python/content/struct.html#boucles-for\n",
    "\n",
    "https://docs.python.org/fr/3/reference/compound_stmts.html#for\n",
    "\n",
    "## Squelette"
   ]
  },
  {
   "cell_type": "code",
   "execution_count": 1,
   "id": "2e84c219",
   "metadata": {},
   "outputs": [],
   "source": [
    "# Read an integer:\n",
    "# a = int(input())\n",
    "# Print a value:\n",
    "# print(a)"
   ]
  },
  {
   "cell_type": "markdown",
   "id": "0d698e23",
   "metadata": {},
   "source": [
    "````{admonition} Cliquez ici pour voir la solution\n",
    ":class: tip, dropdown\n",
    "\n",
    "```python\n",
    "partial_sum = 0\n",
    "current_factorial = 1\n",
    "for i in range(1, int(input()) + 1):\n",
    "  current_factorial *= i\n",
    "  partial_sum += current_factorial\n",
    "print(partial_sum)\n",
    "```\n",
    "````"
   ]
  }
 ],
 "metadata": {
  "jupytext": {
   "formats": "md:myst",
   "text_representation": {
    "extension": ".md",
    "format_name": "myst"
   }
  },
  "kernelspec": {
   "display_name": "Python 3",
   "language": "python",
   "name": "python3"
  },
  "language_info": {
   "codemirror_mode": {
    "name": "ipython",
    "version": 3
   },
   "file_extension": ".py",
   "mimetype": "text/x-python",
   "name": "python",
   "nbconvert_exporter": "python",
   "pygments_lexer": "ipython3",
   "version": "3.8.11"
  },
  "source_map": [
   11,
   48,
   54
  ]
 },
 "nbformat": 4,
 "nbformat_minor": 5
}