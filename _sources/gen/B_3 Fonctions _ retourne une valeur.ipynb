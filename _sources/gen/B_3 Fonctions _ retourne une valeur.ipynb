{
 "cells": [
  {
   "cell_type": "markdown",
   "id": "82d97c16",
   "metadata": {},
   "source": [
    "# B.3 Fonctions : retourne une valeur\n",
    "\n",
    "**Énoncé**\n",
    "\n",
    "\n",
    "Codez une fonction somme qui permet de calculer la somme de 2 entiers. La fonction prend deux paramètres : entier1 et entier2.\n",
    "\n",
    "\n",
    "**Exemple d'appel de la fonction**\n",
    "\n",
    "\n",
    "```\n",
    "somme(1,2)\n",
    "```\n",
    "\n",
    "**Exemple de valeur de retour**\n",
    "\n",
    "\n",
    "```\n",
    "3\n",
    "```\n",
    "\n",
    "**Aide**\n",
    "\n",
    "https://rtavenar.github.io/poly_python/content/struct.html#fonctions\n",
    "\n",
    "## Squelette"
   ]
  },
  {
   "cell_type": "code",
   "execution_count": 1,
   "id": "3c39b591",
   "metadata": {},
   "outputs": [],
   "source": [
    "# def somme():\n",
    "#   # Codez votre fonction ici"
   ]
  },
  {
   "cell_type": "markdown",
   "id": "2127555f",
   "metadata": {},
   "source": [
    "````{admonition} Cliquez ici pour voir la solution\n",
    ":class: tip, dropdown\n",
    "\n",
    "```python\n",
    "def somme(entier1, entier2):\n",
    "  # Codez votre fonction ici\n",
    "  return entier1+entier2\n",
    "```\n",
    "````"
   ]
  }
 ],
 "metadata": {
  "jupytext": {
   "formats": "md:myst",
   "text_representation": {
    "extension": ".md",
    "format_name": "myst"
   }
  },
  "kernelspec": {
   "display_name": "Python 3",
   "language": "python",
   "name": "python3"
  },
  "language_info": {
   "codemirror_mode": {
    "name": "ipython",
    "version": 3
   },
   "file_extension": ".py",
   "mimetype": "text/x-python",
   "name": "python",
   "nbconvert_exporter": "python",
   "pygments_lexer": "ipython3",
   "version": "3.8.11"
  },
  "source_map": [
   11,
   41,
   45
  ]
 },
 "nbformat": 4,
 "nbformat_minor": 5
}