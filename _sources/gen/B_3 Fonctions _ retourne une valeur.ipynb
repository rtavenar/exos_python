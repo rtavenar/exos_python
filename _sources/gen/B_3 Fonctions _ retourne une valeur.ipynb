{
 "cells": [
  {
   "cell_type": "markdown",
   "id": "86f7db4f",
   "metadata": {},
   "source": [
    "# B.3 Fonctions : retourne une valeur\n",
    "\n",
    "**Énoncé**\n",
    "\n",
    "\n",
    "Codez une fonction somme qui permet de calculer la somme de 2 entiers. La fonction prend deux paramètres : entier1 et entier2.\n",
    "\n",
    "\n",
    "**Exemple d'appel de la fonction**\n",
    "\n",
    "\n",
    "```\n",
    "somme(1,2)\n",
    "```\n",
    "\n",
    "**Exemple de valeur de retour**\n",
    "\n",
    "\n",
    "```\n",
    "3\n",
    "```\n",
    "\n",
    "**Aide**\n",
    "\n",
    "https://rtavenar.github.io/poly_python/content/struct.html#fonctions\n",
    "\n",
    "## Squelette"
   ]
  },
  {
   "cell_type": "code",
   "execution_count": 1,
   "id": "c9003f9d",
   "metadata": {
    "tags": [
     "remove-stderr"
    ]
   },
   "outputs": [
    {
     "ename": "SyntaxError",
     "evalue": "unexpected EOF while parsing (2193615072.py, line 2)",
     "output_type": "error",
     "traceback": [
      "\u001b[0;36m  File \u001b[0;32m\"/tmp/ipykernel_3859/2193615072.py\"\u001b[0;36m, line \u001b[0;32m2\u001b[0m\n\u001b[0;31m    # Codez votre fonction ici\u001b[0m\n\u001b[0m                              ^\u001b[0m\n\u001b[0;31mSyntaxError\u001b[0m\u001b[0;31m:\u001b[0m unexpected EOF while parsing\n"
     ]
    }
   ],
   "source": [
    "def somme():\n",
    "  # Codez votre fonction ici"
   ]
  },
  {
   "cell_type": "markdown",
   "id": "35d7ffd7",
   "metadata": {},
   "source": [
    "````{admonition} Cliquez ici pour voir la solution\n",
    ":class: tip, dropdown\n",
    "\n",
    "```python\n",
    "def somme(entier1, entier2):\n",
    "  # Codez votre fonction ici\n",
    "  return entier1+entier2\n",
    "```\n",
    "````"
   ]
  }
 ],
 "metadata": {
  "jupytext": {
   "formats": "md:myst",
   "text_representation": {
    "extension": ".md",
    "format_name": "myst"
   }
  },
  "kernelspec": {
   "display_name": "Python 3",
   "language": "python",
   "name": "python3"
  },
  "language_info": {
   "codemirror_mode": {
    "name": "ipython",
    "version": 3
   },
   "file_extension": ".py",
   "mimetype": "text/x-python",
   "name": "python",
   "nbconvert_exporter": "python",
   "pygments_lexer": "ipython3",
   "version": "3.8.11"
  },
  "source_map": [
   11,
   41,
   46
  ]
 },
 "nbformat": 4,
 "nbformat_minor": 5
}