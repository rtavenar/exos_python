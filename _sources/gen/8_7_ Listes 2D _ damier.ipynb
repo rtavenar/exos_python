{
 "cells": [
  {
   "cell_type": "markdown",
   "id": "3eeb62e8",
   "metadata": {},
   "source": [
    "# 8.7. Listes 2D : damier\n",
    "\n",
    "## Consignes\n",
    "\n",
    "Étant donnés deux entiers positifs `n` et `m` entrés au clavier, créer une liste 2D de taille `n×m` et la remplir avec les caractères \"`.`\" et \"`*`\" alternés en ligne et en colonne afin d'obtenir un motif en damier. Le coin haut gauche du damier doit contenir le caractère \"`.`\" .\n",
    "\n",
    "## Exemple d'entrée\n",
    "\n",
    "```\n",
    "6 8\n",
    "```\n",
    "\n",
    "## Exemple de sortie\n",
    "\n",
    "```\n",
    ". * . * . * . *\n",
    "* . * . * . * .\n",
    ". * . * . * . *\n",
    "* . * . * . * .\n",
    ". * . * . * . *\n",
    "* . * . * . * .\n",
    "```\n",
    "\n",
    "## Aide\n",
    "\n",
    "https://docs.python.org/fr/3.6/library/stdtypes.html#lists\n",
    "\n",
    "https://docs.python.org/fr/3.6/tutorial/datastructures.html#list-comprehensions\n",
    "\n",
    "https://docs.python.org/fr/3.6/tutorial/datastructures.html#nested-list-comprehensions\n",
    "\n",
    "## Squelette"
   ]
  },
  {
   "cell_type": "code",
   "execution_count": 1,
   "id": "5cc27a78",
   "metadata": {},
   "outputs": [],
   "source": [
    "# Lire une liste d'entiers :\n",
    "# a = [int(s) for s in input().split()]\n",
    "# Afficher la valeure de a :\n",
    "# print(a)\n",
    "# "
   ]
  },
  {
   "cell_type": "markdown",
   "id": "bd871b20",
   "metadata": {},
   "source": [
    "````{admonition} Cliquez ici pour voir la solution\n",
    ":class: tip, dropdown\n",
    "\n",
    "```python\n",
    "n, m = [int(s) for s in input().split()]\n",
    "a = [['.' if (i + j) % 2 == 0 else '*']\n",
    "     for i in range(n)\n",
    "     for j in range(m)]\n",
    "for line in a:\n",
    "  print(*line)\n",
    "```\n",
    "````"
   ]
  }
 ],
 "metadata": {
  "jupytext": {
   "formats": "md:myst",
   "text_representation": {
    "extension": ".md",
    "format_name": "myst"
   }
  },
  "kernelspec": {
   "display_name": "Python 3",
   "language": "python",
   "name": "python3"
  },
  "language_info": {
   "codemirror_mode": {
    "name": "ipython",
    "version": 3
   },
   "file_extension": ".py",
   "mimetype": "text/x-python",
   "name": "python",
   "nbconvert_exporter": "python",
   "pygments_lexer": "ipython3",
   "version": "3.8.11"
  },
  "source_map": [
   11,
   46,
   53
  ]
 },
 "nbformat": 4,
 "nbformat_minor": 5
}