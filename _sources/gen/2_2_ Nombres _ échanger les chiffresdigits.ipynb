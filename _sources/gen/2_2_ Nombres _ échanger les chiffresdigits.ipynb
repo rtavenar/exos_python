{
 "cells": [
  {
   "cell_type": "markdown",
   "id": "6caa86f4",
   "metadata": {},
   "source": [
    "# 2.2. Nombres : échanger les chiffresdigits\n",
    "\n",
    "## Consignes\n",
    "\n",
    "Étant donné un entier à deux chiffres, échanger ses chiffres et afficher le résultat.\n",
    "\n",
    "## Exemple d'entrée\n",
    "\n",
    "```\n",
    "79\n",
    "```\n",
    "\n",
    "## Exemple de sortie\n",
    "\n",
    "```\n",
    "97\n",
    "```\n",
    "\n",
    "## Aide\n",
    "\n",
    "https://docs.python.org/fr/3/reference/expressions.html#binary-arithmetic-operations\n",
    "\n",
    "## Squelette"
   ]
  },
  {
   "cell_type": "code",
   "execution_count": 1,
   "id": "27519a56",
   "metadata": {},
   "outputs": [],
   "source": [
    "# Lire un entier :\n",
    "# a = int(input())\n",
    "# Afficher la valeur de a :\n",
    "# print(a)\n",
    "# "
   ]
  },
  {
   "cell_type": "markdown",
   "id": "07e770a4",
   "metadata": {},
   "source": [
    "````{admonition} Cliquez ici pour voir la solution\n",
    ":class: tip, dropdown\n",
    "\n",
    "```python\n",
    "a = int(input())\n",
    "print(a % 10 * 10 + a // 10)\n",
    "```\n",
    "````"
   ]
  }
 ],
 "metadata": {
  "jupytext": {
   "formats": "md:myst",
   "text_representation": {
    "extension": ".md",
    "format_name": "myst"
   }
  },
  "kernelspec": {
   "display_name": "Python 3",
   "language": "python",
   "name": "python3"
  },
  "language_info": {
   "codemirror_mode": {
    "name": "ipython",
    "version": 3
   },
   "file_extension": ".py",
   "mimetype": "text/x-python",
   "name": "python",
   "nbconvert_exporter": "python",
   "pygments_lexer": "ipython3",
   "version": "3.8.11"
  },
  "source_map": [
   11,
   37,
   44
  ]
 },
 "nbformat": 4,
 "nbformat_minor": 5
}