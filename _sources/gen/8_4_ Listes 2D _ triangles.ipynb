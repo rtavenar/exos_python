{
 "cells": [
  {
   "cell_type": "markdown",
   "id": "51170767",
   "metadata": {},
   "source": [
    "# 8.4. Listes 2D : triangles\n",
    "\n",
    "## Consignes\n",
    "\n",
    "Étant donné un entier `n` entré au clavier, créer et afficher une liste 2D de taille `n×n` suivant les règles ci-dessous :\n",
    "\n",
    "\n",
    "- Sur l'anti-diagonale, mettre la valeur `1`.\n",
    "- Sur les diagonales au dessus mettre la valeur `0`.\n",
    "- Sur les diagonales en dessous mettre la valeur 2.\n",
    "\n",
    "## Exemple d'entrée\n",
    "\n",
    "```\n",
    "4\n",
    "```\n",
    "\n",
    "## Exemple de sortie\n",
    "\n",
    "```\n",
    "0 0 0 1\n",
    "0 0 1 2\n",
    "0 1 2 2\n",
    "1 2 2 2\n",
    "```\n",
    "\n",
    "## Aide\n",
    "\n",
    "https://docs.python.org/fr/3.6/library/stdtypes.html#lists\n",
    "\n",
    "https://docs.python.org/fr/3.6/tutorial/datastructures.html#list-comprehensions\n",
    "\n",
    "https://docs.python.org/fr/3.6/tutorial/datastructures.html#nested-list-comprehensions\n",
    "\n",
    "## Squelette"
   ]
  },
  {
   "cell_type": "code",
   "execution_count": 1,
   "id": "bbb57419",
   "metadata": {},
   "outputs": [],
   "source": [
    "# Lire une liste 2D d'entiers :\n",
    "# a = [[int(j) for j in input().split()] for i in range(NUM_ROWS)]\n",
    "# Afficher la valeur de a :\n",
    "# print(a)"
   ]
  },
  {
   "cell_type": "markdown",
   "id": "1926bc36",
   "metadata": {},
   "source": [
    "````{admonition} Cliquez ici pour voir la solution\n",
    ":class: tip, dropdown\n",
    "\n",
    "```python\n",
    "n = int(input())\n",
    "a = [[0] * n for i in range(n)]\n",
    "for i in range(n):\n",
    "  for j in range(n):\n",
    "    if i + j + 1 < n: \n",
    "      a[i][j] = 0\n",
    "    elif i + j + 1 == n:\n",
    "      a[i][j] = 1\n",
    "    else:\n",
    "      a[i][j] = 2\n",
    "for line in a:\n",
    "  print(*line)\n",
    "```\n",
    "````"
   ]
  }
 ],
 "metadata": {
  "jupytext": {
   "formats": "md:myst",
   "text_representation": {
    "extension": ".md",
    "format_name": "myst"
   }
  },
  "kernelspec": {
   "display_name": "Python 3",
   "language": "python",
   "name": "python3"
  },
  "language_info": {
   "codemirror_mode": {
    "name": "ipython",
    "version": 3
   },
   "file_extension": ".py",
   "mimetype": "text/x-python",
   "name": "python",
   "nbconvert_exporter": "python",
   "pygments_lexer": "ipython3",
   "version": "3.8.11"
  },
  "source_map": [
   11,
   49,
   55
  ]
 },
 "nbformat": 4,
 "nbformat_minor": 5
}