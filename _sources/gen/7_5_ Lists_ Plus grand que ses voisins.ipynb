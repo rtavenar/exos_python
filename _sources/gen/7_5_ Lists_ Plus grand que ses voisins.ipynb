{
 "cells": [
  {
   "cell_type": "markdown",
   "id": "6458566a",
   "metadata": {},
   "source": [
    "# 7.5. Lists: Plus grand que ses voisins\n",
    "\n",
    "## Consigne\n",
    "\n",
    "À partir d'une liste de nombres entiers donnés en entrée (chaque nombre est séparé par un espace), déterminer et afficher le nombre d'éléments plus grands que leurs deux voisins.\n",
    "\n",
    "Le premier et le dernier éléments de  la liste ne doivent pas être considérés car ils n'ont qu'un seul voisin.\n",
    "\n",
    "## Exemple d'entrée\n",
    "\n",
    "```\n",
    "1 5 1 5 1\n",
    "```\n",
    "\n",
    "## Exemple de sortie\n",
    "\n",
    "```\n",
    "2\n",
    "```\n",
    "\n",
    "## Aide\n",
    "\n",
    "https://rtavenar.github.io/poly_python/content/listes.html\n",
    "\n",
    "https://docs.python.org/fr/3/tutorial/datastructures.html#more-on-lists\n",
    "\n",
    "## Squelette"
   ]
  },
  {
   "cell_type": "code",
   "execution_count": 1,
   "id": "b4db682f",
   "metadata": {},
   "outputs": [],
   "source": [
    "# Read a list of integers:\n",
    "# a = [int(s) for s in input().split()]\n",
    "# Print a value:\n",
    "# print(a)\n",
    "# "
   ]
  },
  {
   "cell_type": "markdown",
   "id": "2a093e3f",
   "metadata": {},
   "source": [
    "````{admonition} Cliquez ici pour voir la solution\n",
    ":class: tip, dropdown\n",
    "\n",
    "```python\n",
    "a = [int(s) for s in input().split()]\n",
    "counter = 0\n",
    "for i in range(1, len(a) - 1):\n",
    "  if a[i - 1] < a[i] > a[i + 1]:\n",
    "    counter += 1\n",
    "print(counter)\n",
    "```\n",
    "````"
   ]
  }
 ],
 "metadata": {
  "jupytext": {
   "formats": "md:myst",
   "text_representation": {
    "extension": ".md",
    "format_name": "myst"
   }
  },
  "kernelspec": {
   "display_name": "Python 3",
   "language": "python",
   "name": "python3"
  },
  "language_info": {
   "codemirror_mode": {
    "name": "ipython",
    "version": 3
   },
   "file_extension": ".py",
   "mimetype": "text/x-python",
   "name": "python",
   "nbconvert_exporter": "python",
   "pygments_lexer": "ipython3",
   "version": "3.8.11"
  },
  "source_map": [
   11,
   41,
   48
  ]
 },
 "nbformat": 4,
 "nbformat_minor": 5
}