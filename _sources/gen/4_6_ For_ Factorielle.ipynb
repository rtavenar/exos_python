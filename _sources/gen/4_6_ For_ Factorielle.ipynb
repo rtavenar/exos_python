{
 "cells": [
  {
   "cell_type": "markdown",
   "id": "1455081e",
   "metadata": {},
   "source": [
    "# 4.6. For: Factorielle\n",
    "\n",
    "## Consigne\n",
    "\n",
    "En mathématique, la factorielle d'un entier n (n!) est le produit suivant :\n",
    "\n",
    "n! = 1 × 2 × … × n\n",
    "\n",
    "Pour l'entier n donné en entrée, calculer la valeur de **n!**. Ne pas utiliser le module math dans cet exercice.\n",
    "\n",
    "## Exemple d'entrée\n",
    "\n",
    "```\n",
    "4\n",
    "```\n",
    "\n",
    "## Exemple de sortie\n",
    "\n",
    "```\n",
    "24\n",
    "```\n",
    "\n",
    "## Aide\n",
    "\n",
    "http://rtavenar.github.io/teaching/python_poly/html/poly.html#boucles-for\n",
    "\n",
    "https://docs.python.org/fr/3/reference/compound_stmts.html#for\n",
    "\n",
    "## Squelette"
   ]
  },
  {
   "cell_type": "code",
   "execution_count": 1,
   "id": "c57357f2",
   "metadata": {},
   "outputs": [],
   "source": [
    "# Read an integer:\n",
    "# a = int(input())\n",
    "# Print a value:\n",
    "# print(a)"
   ]
  },
  {
   "cell_type": "markdown",
   "id": "3aa20f4d",
   "metadata": {},
   "source": [
    "````{dropdown} Proposition de solution\n",
    "\n",
    "```python\n",
    "result = 1\n",
    "for i in range(1, int(input()) + 1):\n",
    "  result *= i\n",
    "print(result)\n",
    "```\n",
    "````"
   ]
  }
 ],
 "metadata": {
  "jupytext": {
   "formats": "md:myst",
   "text_representation": {
    "extension": ".md",
    "format_name": "myst"
   }
  },
  "kernelspec": {
   "display_name": "Python 3",
   "language": "python",
   "name": "python3"
  },
  "language_info": {
   "codemirror_mode": {
    "name": "ipython",
    "version": 3
   },
   "file_extension": ".py",
   "mimetype": "text/x-python",
   "name": "python",
   "nbconvert_exporter": "python",
   "pygments_lexer": "ipython3",
   "version": "3.8.11"
  },
  "source_map": [
   11,
   43,
   48
  ]
 },
 "nbformat": 4,
 "nbformat_minor": 5
}