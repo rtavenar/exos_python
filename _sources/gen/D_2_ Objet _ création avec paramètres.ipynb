{
 "cells": [
  {
   "cell_type": "markdown",
   "id": "623a12e2",
   "metadata": {},
   "source": [
    "# D.2. Objet : création avec paramètres\n",
    "\n",
    "## Consignes\n",
    "\n",
    "Écrire le code permettant de créer un objet de classe Cercle nommé \"monCercle\", avec un rayon de 20, une position en X du centre de 5 et une position en Y du centre de 10.\n",
    "\n",
    "## Aide\n",
    "\n",
    "https://docs.python.org/fr/3.6/tutorial/classes.html#a-first-look-at-classes\n",
    "\n",
    "## Squelette"
   ]
  },
  {
   "cell_type": "code",
   "execution_count": 1,
   "id": "7fa85a07",
   "metadata": {},
   "outputs": [],
   "source": [
    "class Cercle:\n",
    "  def __init__(self, r, posX, posY):\n",
    "    self.rayon = r\t\t# attribut rayon du cercle\n",
    "    self.x = posX\t\t\t# attribut position en X du centre du cercle\n",
    "    self.y = posY\t\t\t# attribut position en Y du centre du cercle\n",
    "\n",
    "# Écrire votre code ci-dessous"
   ]
  },
  {
   "cell_type": "markdown",
   "id": "41cfedfe",
   "metadata": {},
   "source": [
    "````{admonition} Cliquez ici pour voir la solution\n",
    ":class: tip, dropdown\n",
    "\n",
    "```python\n",
    "class Cercle:\n",
    "  def __init__(self, r, posX, posY):\n",
    "    self.rayon = r\t\t# attribut rayon du cercle\n",
    "    self.x = posX\t\t\t# attribut position en X du centre du cercle\n",
    "    self.y = posY\t\t\t# attribut position en Y du centre du cercle\n",
    "\n",
    "# Écrire votre code ci-dessous\n",
    "monCercle = Cercle(20, 5, 10)\n",
    "```\n",
    "````"
   ]
  }
 ],
 "metadata": {
  "jupytext": {
   "formats": "md:myst",
   "text_representation": {
    "extension": ".md",
    "format_name": "myst"
   }
  },
  "kernelspec": {
   "display_name": "Python 3",
   "language": "python",
   "name": "python3"
  },
  "language_info": {
   "codemirror_mode": {
    "name": "ipython",
    "version": 3
   },
   "file_extension": ".py",
   "mimetype": "text/x-python",
   "name": "python",
   "nbconvert_exporter": "python",
   "pygments_lexer": "ipython3",
   "version": "3.8.11"
  },
  "source_map": [
   11,
   25,
   34
  ]
 },
 "nbformat": 4,
 "nbformat_minor": 5
}