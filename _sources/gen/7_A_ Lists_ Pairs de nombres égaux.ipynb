{
 "cells": [
  {
   "cell_type": "markdown",
   "id": "ef2a27b4",
   "metadata": {},
   "source": [
    "# 7.A. Lists: Pairs de nombres égaux\n",
    "\n",
    "## Consigne\n",
    "\n",
    "À partir d'une liste de nombres entiers donnés en entrée (chaque nombre est séparé par un espace), compter le nombre de pairs de nombres égaux. Chaque pair de deux nombres égaux devra être compté exactement une fois.\n",
    "\n",
    "## Exemple d'entrée #1\n",
    "\n",
    "```\n",
    "1 2 3 2 3\n",
    "```\n",
    "\n",
    "## Exemple de sortie #1\n",
    "\n",
    "```\n",
    "2\n",
    "```\n",
    "\n",
    "## Exemple d'entrée #2\n",
    "\n",
    "```\n",
    "1 1 1 1 1\n",
    "```\n",
    "\n",
    "## Exemple de sortie #2\n",
    "\n",
    "```\n",
    "10\n",
    "```\n",
    "\n",
    "## Aide\n",
    "\n",
    "https://rtavenar.github.io/poly_python/content/listes.html\n",
    "\n",
    "https://docs.python.org/fr/3/tutorial/datastructures.html#more-on-lists\n",
    "\n",
    "## Squelette"
   ]
  },
  {
   "cell_type": "code",
   "execution_count": 1,
   "id": "afe2accc",
   "metadata": {
    "tags": [
     "remove-stderr"
    ]
   },
   "outputs": [],
   "source": [
    "# Read a list of integers:\n",
    "# a = [int(s) for s in input().split()]\n",
    "# Print a value:\n",
    "# print(a)"
   ]
  },
  {
   "cell_type": "markdown",
   "id": "9c9e1d69",
   "metadata": {},
   "source": [
    "````{admonition} Cliquez ici pour voir la solution\n",
    ":class: tip, dropdown\n",
    "\n",
    "```python\n",
    "a = [int(s) for s in input().split()]\n",
    "counter = 0\n",
    "for i in range(len(a)):\n",
    "  for j in range(i + 1, len(a)):\n",
    "    if a[i] == a[j]:\n",
    "      counter += 1\n",
    "print(counter)\n",
    "```\n",
    "````"
   ]
  }
 ],
 "metadata": {
  "jupytext": {
   "formats": "md:myst",
   "text_representation": {
    "extension": ".md",
    "format_name": "myst"
   }
  },
  "kernelspec": {
   "display_name": "Python 3",
   "language": "python",
   "name": "python3"
  },
  "language_info": {
   "codemirror_mode": {
    "name": "ipython",
    "version": 3
   },
   "file_extension": ".py",
   "mimetype": "text/x-python",
   "name": "python",
   "nbconvert_exporter": "python",
   "pygments_lexer": "ipython3",
   "version": "3.8.11"
  },
  "source_map": [
   11,
   51,
   58
  ]
 },
 "nbformat": 4,
 "nbformat_minor": 5
}