{
 "cells": [
  {
   "cell_type": "markdown",
   "id": "3d1197a5",
   "metadata": {},
   "source": [
    "# 7.4. Lists: Même signe que son voisin\n",
    "\n",
    "## Consigne\n",
    "\n",
    "À partir d'une liste de nombres entiers différents de 0 donnés en entrée (chaque nombre est séparé par un espace), trouver et afficher la première paire d'élément adjacent qui ont le même signe. S'il n'y a aucune pair, afficher **0**.\n",
    "\n",
    "## Exemple d'entrée #1\n",
    "\n",
    "```\n",
    "-1 2 3 -1 -2\n",
    "```\n",
    "\n",
    "## Exemple de sortie #1\n",
    "\n",
    "```\n",
    "2 3\n",
    "```\n",
    "\n",
    "## Exemple d'entrée #2\n",
    "\n",
    "```\n",
    "1 -3 4 -2 1\n",
    "```\n",
    "\n",
    "## Exemple de sortie #2\n",
    "\n",
    "```\n",
    "0\n",
    "```\n",
    "\n",
    "## Aide\n",
    "\n",
    "https://rtavenar.github.io/poly_python/content/listes.html\n",
    "\n",
    "https://docs.python.org/fr/3/tutorial/datastructures.html#more-on-lists\n",
    "\n",
    "## Squelette"
   ]
  },
  {
   "cell_type": "code",
   "execution_count": 1,
   "id": "f0bdfc12",
   "metadata": {},
   "outputs": [],
   "source": [
    "# Read a list of integers:\n",
    "# a = [int(s) for s in input().split()]\n",
    "# Print a value:\n",
    "# print(a)\n",
    "# "
   ]
  },
  {
   "cell_type": "markdown",
   "id": "c91a885a",
   "metadata": {},
   "source": [
    "````{admonition} Cliquez ici pour voir la solution\n",
    ":class: tip, dropdown\n",
    "\n",
    "```python\n",
    "a = [int(s) for s in input().split()]\n",
    "found = False\n",
    "for i in range(1, len(a)):\n",
    "  if a[i - 1] * a[i] > 0:\n",
    "    print(a[i - 1], a[i])\n",
    "    found = True\n",
    "    break\n",
    "if not found :\n",
    "  print(0)\n",
    "```\n",
    "````"
   ]
  }
 ],
 "metadata": {
  "jupytext": {
   "formats": "md:myst",
   "text_representation": {
    "extension": ".md",
    "format_name": "myst"
   }
  },
  "kernelspec": {
   "display_name": "Python 3",
   "language": "python",
   "name": "python3"
  },
  "language_info": {
   "codemirror_mode": {
    "name": "ipython",
    "version": 3
   },
   "file_extension": ".py",
   "mimetype": "text/x-python",
   "name": "python",
   "nbconvert_exporter": "python",
   "pygments_lexer": "ipython3",
   "version": "3.8.11"
  },
  "source_map": [
   11,
   51,
   58
  ]
 },
 "nbformat": 4,
 "nbformat_minor": 5
}