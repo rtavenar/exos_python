{
 "cells": [
  {
   "cell_type": "markdown",
   "id": "a52131a6",
   "metadata": {},
   "source": [
    "# 2.9. Nombres : coût total\n",
    "\n",
    "## Consignes\n",
    "\n",
    "Un gâteau coûte _A_ euros et _B_ centimes. Déterminer combien d'euros et de centimes on doit payer pour _N_ gâteaux. Le programme reçoit trois nombres entrés au clavier : _A_, _B_, _N_. Il doit afficher deux nombres : le coût total en euros et centimes.\n",
    "\n",
    "## Exemple d'entrées\n",
    "\n",
    "```\n",
    "10\n",
    "15\n",
    "2\n",
    "```\n",
    "\n",
    "## Exemple de sortie\n",
    "\n",
    "```\n",
    "20 30\n",
    "```\n",
    "\n",
    "## Aide\n",
    "\n",
    "https://docs.python.org/fr/3/reference/expressions.html#binary-arithmetic-operations\n",
    "\n",
    "## Squelette"
   ]
  },
  {
   "cell_type": "code",
   "execution_count": 1,
   "id": "2d4525a7",
   "metadata": {},
   "outputs": [],
   "source": [
    "# Lire un entier :\n",
    "# a = int(input())\n",
    "# Afficher la valeur de a :\n",
    "# print(a)\n",
    "# "
   ]
  },
  {
   "cell_type": "markdown",
   "id": "1794ddc3",
   "metadata": {},
   "source": [
    "````{admonition} Cliquez ici pour voir la solution\n",
    ":class: tip, dropdown\n",
    "\n",
    "```python\n",
    "item_dollars = int(input())\n",
    "item_cents = int(input())\n",
    "n = int(input())\n",
    "total_cents = (item_dollars * 100 + item_cents) * n\n",
    "print(total_cents // 100, total_cents % 100)\n",
    "```\n",
    "````"
   ]
  }
 ],
 "metadata": {
  "jupytext": {
   "formats": "md:myst",
   "text_representation": {
    "extension": ".md",
    "format_name": "myst"
   }
  },
  "kernelspec": {
   "display_name": "Python 3",
   "language": "python",
   "name": "python3"
  },
  "language_info": {
   "codemirror_mode": {
    "name": "ipython",
    "version": 3
   },
   "file_extension": ".py",
   "mimetype": "text/x-python",
   "name": "python",
   "nbconvert_exporter": "python",
   "pygments_lexer": "ipython3",
   "version": "3.8.11"
  },
  "source_map": [
   11,
   39,
   46
  ]
 },
 "nbformat": 4,
 "nbformat_minor": 5
}