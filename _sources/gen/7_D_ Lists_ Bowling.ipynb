{
 "cells": [
  {
   "cell_type": "markdown",
   "id": "bb891077",
   "metadata": {},
   "source": [
    "# 7.D. Lists: Bowling\n",
    "\n",
    "## Consigne\n",
    "\n",
    "Au bowling, le joueur commence avec 10 quilles alignées à l'extrémité d'une voie. Le but est de faire tomber toutes les quilles. Dans cet exercice, le nombre de quilles et de boules variera. On entrera au clavier le nombre de quilles N et le nombre de boules K à lancer sur une première ligne (\"10 3\" sur l'exemple ci-dessous), suivi de K paires de numéros (une pour chaque boule lancée : \"8 10\" est le premier lancé). Déterminez quelles quilles restent debout après que toutes les boules ont été lancées.\n",
    "\n",
    "\n",
    "Les quilles sont numérotées de 1 à N. Les paires de numéros suivants chaque lancé (une pour chaque lancé), représentent la première et la dernière position (inclusive) des quilles qui ont été renversées à la suite de chaque lancé. Afficher une séquence de N caractères, où \"I\" représente une quille encore debout et \".\" représente une quille renversée.\n",
    "\n",
    "## Exemple d'entrée\n",
    "\n",
    "```\n",
    "10 3\n",
    "8 10\n",
    "2 5\n",
    "3 6\n",
    "```\n",
    "\n",
    "## Exemple de sortie\n",
    "\n",
    "```\n",
    "I.....I...\n",
    "```\n",
    "\n",
    "## Aide\n",
    "\n",
    "https://rtavenar.github.io/poly_python/content/listes.html\n",
    "\n",
    "https://docs.python.org/fr/3/tutorial/datastructures.html#more-on-lists\n",
    "\n",
    "## Squelette"
   ]
  },
  {
   "cell_type": "code",
   "execution_count": 1,
   "id": "0a5b14af",
   "metadata": {
    "tags": [
     "remove-stderr"
    ]
   },
   "outputs": [],
   "source": [
    "# Read a list of integers:\n",
    "# a = [int(s) for s in input().split()]\n",
    "# Print a value:\n",
    "# print(a)"
   ]
  },
  {
   "cell_type": "markdown",
   "id": "6ea78d62",
   "metadata": {},
   "source": [
    "````{admonition} Cliquez ici pour voir la solution\n",
    ":class: tip, dropdown\n",
    "\n",
    "```python\n",
    "n, k = [int(s) for s in input().split()]\n",
    "pins = ['I'] * n\n",
    "for i in range(k):\n",
    "  left, right = [int(s) for s in input().split()]\n",
    "  for j in range(left - 1, right):\n",
    "    pins[j] = '.'\n",
    "print(''.join(pins))\n",
    "```\n",
    "````"
   ]
  }
 ],
 "metadata": {
  "jupytext": {
   "formats": "md:myst",
   "text_representation": {
    "extension": ".md",
    "format_name": "myst"
   }
  },
  "kernelspec": {
   "display_name": "Python 3",
   "language": "python",
   "name": "python3"
  },
  "language_info": {
   "codemirror_mode": {
    "name": "ipython",
    "version": 3
   },
   "file_extension": ".py",
   "mimetype": "text/x-python",
   "name": "python",
   "nbconvert_exporter": "python",
   "pygments_lexer": "ipython3",
   "version": "3.8.11"
  },
  "source_map": [
   11,
   45,
   52
  ]
 },
 "nbformat": 4,
 "nbformat_minor": 5
}