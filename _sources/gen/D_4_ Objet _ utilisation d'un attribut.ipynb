{
 "cells": [
  {
   "cell_type": "markdown",
   "id": "2fbb70c1",
   "metadata": {},
   "source": [
    "# D.4. Objet : utilisation d'un attribut\n",
    "\n",
    "## Consignes\n",
    "\n",
    "Écrire le code permettant de créer un objet de classe Cercle nommé \"monCercle\", avec un rayon de 10 et les valeurs par défaut pour les positions en X et Y du centre. Créer une variable \"perimetre\" contenant le résultat du calcul du périmètre de l'objet \"monCercle\". Pour ce calcul vous devez uniquement utiliser la constante `pi` importée au début du programme et l'objet monCercle créé.\n",
    "\n",
    "## Aide\n",
    "\n",
    "https://docs.python.org/fr/3.6/tutorial/classes.html#a-first-look-at-classes\n",
    "\n",
    "## Squelette"
   ]
  },
  {
   "cell_type": "code",
   "execution_count": 1,
   "id": "b815572a",
   "metadata": {},
   "outputs": [],
   "source": [
    "# from math import pi\n",
    "# \n",
    "# class Cercle:\n",
    "#   def __init__(self, r=15, posX=0, posY=0):\n",
    "#     self.rayon = r\t\t# attribut rayon du cercle\n",
    "#     self.x = posX\t\t\t# attribut position en X du centre du cercle\n",
    "#     self.y = posY\t\t\t# attribut position en Y du centre du cercle\n",
    "# \n",
    "# Écrire votre code ci-dessous\n",
    "# Le périmètre d'un cercle de rayon R est égal à 2*pi*R\n",
    "# \n",
    "# "
   ]
  },
  {
   "cell_type": "markdown",
   "id": "f4c66755",
   "metadata": {},
   "source": [
    "````{admonition} Cliquez ici pour voir la solution\n",
    ":class: tip, dropdown\n",
    "\n",
    "```python\n",
    "from math import pi\n",
    "\n",
    "class Cercle:\n",
    "  def __init__(self, r=15, posX=0, posY=0):\n",
    "    self.rayon = r\t\t# attribut rayon du cercle\n",
    "    self.x = posX\t\t\t# attribut position en X du centre du cercle\n",
    "    self.y = posY\t\t\t# attribut position en Y du centre du cercle\n",
    "  \n",
    "  \n",
    "# Écrire votre code ci-dessous\n",
    "# Le périmètre d'un cercle de rayon R est égal à 2*pi*R\n",
    "\n",
    "monCercle = Cercle(10)\n",
    "perimetre = 2*pi*monCercle.rayon\n",
    "```\n",
    "````"
   ]
  }
 ],
 "metadata": {
  "jupytext": {
   "formats": "md:myst",
   "text_representation": {
    "extension": ".md",
    "format_name": "myst"
   }
  },
  "kernelspec": {
   "display_name": "Python 3",
   "language": "python",
   "name": "python3"
  },
  "language_info": {
   "codemirror_mode": {
    "name": "ipython",
    "version": 3
   },
   "file_extension": ".py",
   "mimetype": "text/x-python",
   "name": "python",
   "nbconvert_exporter": "python",
   "pygments_lexer": "ipython3",
   "version": "3.8.11"
  },
  "source_map": [
   11,
   25,
   39
  ]
 },
 "nbformat": 4,
 "nbformat_minor": 5
}