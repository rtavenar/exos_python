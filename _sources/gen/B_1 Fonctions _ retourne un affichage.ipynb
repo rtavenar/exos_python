{
 "cells": [
  {
   "cell_type": "markdown",
   "id": "24490aa2",
   "metadata": {},
   "source": [
    "# B.1 Fonctions : retourne un affichage\n",
    "\n",
    "**Énoncé**\n",
    "\n",
    "\n",
    "Codez une fonction `affichage_bienvenue` qui affiche le message \"Bienvenue\". La fonction ne prend aucun paramètre.\n",
    "\n",
    "\n",
    "**Exemple d'appel de la fonction**\n",
    "\n",
    "\n",
    "```\n",
    "affichage_bienvenue()\n",
    "```\n",
    "\n",
    "**Exemple de sortie**\n",
    "\n",
    "\n",
    "```\n",
    "Bienvenue\n",
    "```\n",
    "\n",
    "**Aide**\n",
    "\n",
    "https://rtavenar.github.io/poly_python/content/struct.html#fonctions\n",
    "\n",
    "## Squelette"
   ]
  },
  {
   "cell_type": "code",
   "execution_count": 1,
   "id": "f61af06e",
   "metadata": {},
   "outputs": [],
   "source": [
    "# def affichage_bienvenue():\n",
    "#   # Codez votre fonction ici (et affichez le message de bienvenue !)"
   ]
  },
  {
   "cell_type": "markdown",
   "id": "d0da5fb3",
   "metadata": {},
   "source": [
    "````{admonition} Cliquez ici pour voir la solution\n",
    ":class: tip, dropdown\n",
    "\n",
    "```python\n",
    "def affichage_bienvenue():\n",
    "  # Codez votre fonction ici (et affichez le message de bienvenue !)\n",
    "  print('Bienvenue')\n",
    "```\n",
    "````"
   ]
  }
 ],
 "metadata": {
  "jupytext": {
   "formats": "md:myst",
   "text_representation": {
    "extension": ".md",
    "format_name": "myst"
   }
  },
  "kernelspec": {
   "display_name": "Python 3",
   "language": "python",
   "name": "python3"
  },
  "language_info": {
   "codemirror_mode": {
    "name": "ipython",
    "version": 3
   },
   "file_extension": ".py",
   "mimetype": "text/x-python",
   "name": "python",
   "nbconvert_exporter": "python",
   "pygments_lexer": "ipython3",
   "version": "3.8.11"
  },
  "source_map": [
   11,
   41,
   45
  ]
 },
 "nbformat": 4,
 "nbformat_minor": 5
}