{
 "cells": [
  {
   "cell_type": "markdown",
   "id": "eff184be",
   "metadata": {},
   "source": [
    "# A.5. Dicts: Droits d'accès\n",
    "\n",
    "## Consigne\n",
    "\n",
    "Un virus a attaqué le système de fichiers d'un superordinateur et a brisé le contrôle des droits d'accès aux fichiers. Pour chaque fichier, il existe un ensemble connu d'opérations qui peuvent lui être appliquées:\n",
    "\n",
    "\n",
    "- write W (ecriture),\n",
    "- read R (lecture),\n",
    "- execute X (exécution)\n",
    "\n",
    "\n",
    "La première ligne contient le nombre N (le nombre de fichiers contenus dans le système de fichiers). Les N lignes suivantes contiennent les noms des fichiers et les opérations autorisées sur eux, séparés par des espaces. La ligne suivante contient un entier M (le nombre d'opérations sur les fichiers). Dans les M lignes suivantes, spécifiez les opérations demandées pour les fichiers. Un fichier peut être demandé plusieurs fois.\n",
    "\n",
    "Vous devez récupérer le contrôle sur les droits d'accès aux fichiers. Pour chaque requête, votre programme doit retourner \"OK\" si l'opération demandée est valide ou \"Access denied\" si l'opération n'est pas valide.\n",
    "\n",
    "## Exemple d'entrée\n",
    "\n",
    "```\n",
    "4\n",
    "helloworld.exe R X\n",
    "pinglog W R\n",
    "nya R\n",
    "goodluck X W R\n",
    "5\n",
    "read nya\n",
    "write helloworld.exe\n",
    "execute nya\n",
    "read pinglog\n",
    "write pinglog\n",
    "```\n",
    "\n",
    "## Exemple de sortie\n",
    "\n",
    "```\n",
    "OK\n",
    "Access denied\n",
    "Access denied\n",
    "OK\n",
    "OK\n",
    "```\n",
    "\n",
    "## Theory\n",
    "\n",
    "http://rtavenar.github.io/teaching/python_poly/html/poly.html#les-dictionnaires\n",
    "\n",
    "https://docs.python.org/fr/3/tutorial/datastructures.html#dictionaries\n",
    "\n",
    "## Squelette"
   ]
  },
  {
   "cell_type": "code",
   "execution_count": 1,
   "id": "34a32b95",
   "metadata": {},
   "outputs": [],
   "source": [
    "# Read a string:\n",
    "# s = input()\n",
    "# Print a value:\n",
    "# print(s)"
   ]
  },
  {
   "cell_type": "markdown",
   "id": "042c7b20",
   "metadata": {},
   "source": [
    "````{dropdown} Proposition de solution\n",
    "\n",
    "```python\n",
    "ACTION_TO_RIGHT = {\n",
    "  'read': 'R',\n",
    "  'write': 'W',\n",
    "  'execute': 'X',\n",
    "}\n",
    "\n",
    "file_rights = {}\n",
    "for _ in range(int(input())):\n",
    "  filename, *rights = input().split()\n",
    "  file_rights[filename] = set(rights)\n",
    "for _ in range(int(input())):\n",
    "  action, filename = input().split()\n",
    "  if ACTION_TO_RIGHT[action] in file_rights[filename]:\n",
    "    print('OK')\n",
    "  else:\n",
    "    print('Access denied')\n",
    "```\n",
    "````"
   ]
  }
 ],
 "metadata": {
  "jupytext": {
   "formats": "md:myst",
   "text_representation": {
    "extension": ".md",
    "format_name": "myst"
   }
  },
  "kernelspec": {
   "display_name": "Python 3",
   "language": "python",
   "name": "python3"
  },
  "language_info": {
   "codemirror_mode": {
    "name": "ipython",
    "version": 3
   },
   "file_extension": ".py",
   "mimetype": "text/x-python",
   "name": "python",
   "nbconvert_exporter": "python",
   "pygments_lexer": "ipython3",
   "version": "3.8.11"
  },
  "source_map": [
   11,
   63,
   68
  ]
 },
 "nbformat": 4,
 "nbformat_minor": 5
}