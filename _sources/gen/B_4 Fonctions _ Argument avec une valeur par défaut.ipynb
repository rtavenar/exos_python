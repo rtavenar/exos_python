{
 "cells": [
  {
   "cell_type": "markdown",
   "id": "db7f7cb0",
   "metadata": {},
   "source": [
    "# B.4 Fonctions : Argument avec une valeur par défaut\n",
    "\n",
    "**Énoncé**\n",
    "\n",
    "Codez une fonction somme qui permet d'ajouter au maximum 4 entiers. La fonction prend au minimum 1 entier en paramètre et 4 au maximum.\n",
    "\n",
    "**Exemple d'appel de la fonction**\n",
    "\n",
    "```\n",
    "somme(1,2,3)\n",
    "```\n",
    "\n",
    "**Exemple de valeur de retour**\n",
    "\n",
    "```\n",
    "6\n",
    "```\n",
    "\n",
    "**Aide**\n",
    "\n",
    "http://rtavenar.github.io/teaching/python_poly/html/poly.html#fonctions\n",
    "\n",
    "## Squelette"
   ]
  },
  {
   "cell_type": "code",
   "execution_count": 1,
   "id": "dbc62f7a",
   "metadata": {},
   "outputs": [
    {
     "ename": "SyntaxError",
     "evalue": "unexpected EOF while parsing (2193615072.py, line 2)",
     "output_type": "error",
     "traceback": [
      "\u001b[0;36m  File \u001b[0;32m\"/tmp/ipykernel_3888/2193615072.py\"\u001b[0;36m, line \u001b[0;32m2\u001b[0m\n\u001b[0;31m    # Codez votre fonction ici\u001b[0m\n\u001b[0m                              ^\u001b[0m\n\u001b[0;31mSyntaxError\u001b[0m\u001b[0;31m:\u001b[0m unexpected EOF while parsing\n"
     ]
    }
   ],
   "source": [
    "def somme():\n",
    "  # Codez votre fonction ici"
   ]
  },
  {
   "cell_type": "markdown",
   "id": "ce31c64b",
   "metadata": {},
   "source": [
    "````{dropdown} Proposition de solution\n",
    "\n",
    "```python\n",
    "def somme(entier1, entier2=0, entier3=0, entier4=0):\n",
    "  # Codez votre fonction ici\n",
    "  return entier1+entier2+entier3+entier4\n",
    "```\n",
    "````"
   ]
  }
 ],
 "metadata": {
  "jupytext": {
   "formats": "md:myst",
   "text_representation": {
    "extension": ".md",
    "format_name": "myst"
   }
  },
  "kernelspec": {
   "display_name": "Python 3",
   "language": "python",
   "name": "python3"
  },
  "language_info": {
   "codemirror_mode": {
    "name": "ipython",
    "version": 3
   },
   "file_extension": ".py",
   "mimetype": "text/x-python",
   "name": "python",
   "nbconvert_exporter": "python",
   "pygments_lexer": "ipython3",
   "version": "3.8.11"
  },
  "source_map": [
   11,
   37,
   40
  ]
 },
 "nbformat": 4,
 "nbformat_minor": 5
}