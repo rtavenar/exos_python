{
 "cells": [
  {
   "cell_type": "markdown",
   "id": "800414d2",
   "metadata": {},
   "source": [
    "# B.4 Fonctions : Argument avec une valeur par défaut\n",
    "\n",
    "**Énoncé**\n",
    "\n",
    "Codez une fonction somme qui permet d'ajouter au maximum 4 entiers. La fonction prend au minimum 1 entier en paramètre et 4 au maximum.\n",
    "\n",
    "**Exemple d'appel de la fonction**\n",
    "\n",
    "```\n",
    "somme(1,2,3)\n",
    "```\n",
    "\n",
    "**Exemple de valeur de retour**\n",
    "\n",
    "```\n",
    "6\n",
    "```\n",
    "\n",
    "**Aide**\n",
    "\n",
    "https://rtavenar.github.io/poly_python/content/struct.html#fonctions\n",
    "\n",
    "## Squelette"
   ]
  },
  {
   "cell_type": "code",
   "execution_count": 1,
   "id": "62adcae0",
   "metadata": {},
   "outputs": [],
   "source": [
    "# def somme():\n",
    "#   # Codez votre fonction ici"
   ]
  },
  {
   "cell_type": "markdown",
   "id": "d7569435",
   "metadata": {},
   "source": [
    "````{admonition} Cliquez ici pour voir la solution\n",
    ":class: tip, dropdown\n",
    "\n",
    "```python\n",
    "def somme(entier1, entier2=0, entier3=0, entier4=0):\n",
    "  # Codez votre fonction ici\n",
    "  return entier1+entier2+entier3+entier4\n",
    "```\n",
    "````"
   ]
  }
 ],
 "metadata": {
  "jupytext": {
   "formats": "md:myst",
   "text_representation": {
    "extension": ".md",
    "format_name": "myst"
   }
  },
  "kernelspec": {
   "display_name": "Python 3",
   "language": "python",
   "name": "python3"
  },
  "language_info": {
   "codemirror_mode": {
    "name": "ipython",
    "version": 3
   },
   "file_extension": ".py",
   "mimetype": "text/x-python",
   "name": "python",
   "nbconvert_exporter": "python",
   "pygments_lexer": "ipython3",
   "version": "3.8.11"
  },
  "source_map": [
   11,
   37,
   41
  ]
 },
 "nbformat": 4,
 "nbformat_minor": 5
}