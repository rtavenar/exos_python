{
 "cells": [
  {
   "cell_type": "markdown",
   "id": "0cd7ec7c",
   "metadata": {},
   "source": [
    "# 6.3. While: Puissances de 2\n",
    "\n",
    "## **Énoncé**\n",
    "\n",
    "Étant donné un entier X, on cherche le plus grand entier **n** pour lequel **2ⁿ** est inférieur ou égal à X. Affichez **n** et **2ⁿ**.\n",
    "\n",
    "\n",
    "## **Exemple d'entrée**\n",
    "\n",
    "```\n",
    "50\n",
    "```\n",
    "\n",
    "## **Exemple de sortie**\n",
    "\n",
    "```\n",
    "5 32\n",
    "```\n",
    "\n",
    "## Aide\n",
    "\n",
    "https://rtavenar.github.io/poly_python/content/struct.html#boucles-while\n",
    "\n",
    "## Squelette"
   ]
  },
  {
   "cell_type": "code",
   "execution_count": 1,
   "id": "fac6429f",
   "metadata": {},
   "outputs": [],
   "source": [
    "# Read an integer:\n",
    "# a = int(input())\n",
    "# Print a value:\n",
    "# print(a)"
   ]
  },
  {
   "cell_type": "markdown",
   "id": "7845f710",
   "metadata": {},
   "source": [
    "````{admonition} Cliquez ici pour voir la solution\n",
    ":class: tip, dropdown\n",
    "\n",
    "```python\n",
    "x = int(input())\n",
    "n = 1\n",
    "while 2 ** n <= x:\n",
    "  n += 1\n",
    "print(n - 1, 2 ** (n - 1))\n",
    "```\n",
    "````"
   ]
  }
 ],
 "metadata": {
  "jupytext": {
   "formats": "md:myst",
   "text_representation": {
    "extension": ".md",
    "format_name": "myst"
   }
  },
  "kernelspec": {
   "display_name": "Python 3",
   "language": "python",
   "name": "python3"
  },
  "language_info": {
   "codemirror_mode": {
    "name": "ipython",
    "version": 3
   },
   "file_extension": ".py",
   "mimetype": "text/x-python",
   "name": "python",
   "nbconvert_exporter": "python",
   "pygments_lexer": "ipython3",
   "version": "3.8.11"
  },
  "source_map": [
   11,
   38,
   44
  ]
 },
 "nbformat": 4,
 "nbformat_minor": 5
}