{
 "cells": [
  {
   "cell_type": "markdown",
   "id": "14438054",
   "metadata": {},
   "source": [
    "# 6.G. While: indice de Fibonacci\n",
    "\n",
    "## Consignes\n",
    "\n",
    "Les nombres de Fibonacci sont les nombres de la suite d'entiers commençant par `1,1` et où chaque nombre après ces deux premiers est la somme des deux précédents :\n",
    "\n",
    "`1,1,2,3,5,8,13,21,34,...`\n",
    "\n",
    "\n",
    "Étant donné un entier plus grand que 1 entré au clavier, déterminer s'il s'agit d'un nombre de la suite de Fibonacci et si c'est le cas, afficher son rang `n` dans cette série (le premier nombre est de rang `1`), sinon afficher `-1`.\n",
    "\n",
    "## Exemple d'entrée\n",
    "\n",
    "```\n",
    "8\n",
    "```\n",
    "\n",
    "## Exemple de sortie\n",
    "\n",
    "```\n",
    "6\n",
    "```\n",
    "\n",
    "## Aide\n",
    "\n",
    "https://docs.python.org/fr/3.6/reference/compound_stmts.html#the-while-statement\n",
    "\n",
    "## Squelette"
   ]
  },
  {
   "cell_type": "code",
   "execution_count": 1,
   "id": "092db3df",
   "metadata": {},
   "outputs": [],
   "source": [
    "# Lire un entier au clavier :\n",
    "# a = int(input())\n",
    "# Afficher la valeur de a :\n",
    "# print(a)"
   ]
  },
  {
   "cell_type": "markdown",
   "id": "b9750707",
   "metadata": {},
   "source": [
    "````{dropdown} Proposition de solution\n",
    "\n",
    "```python\n",
    "prev, next = 1, 1\n",
    "index = 2\n",
    "possible_fib = int(input())\n",
    "while possible_fib > next:\n",
    "  prev, next = next, prev + next\n",
    "  index += 1\n",
    "if possible_fib == next:\n",
    "  print(index)\n",
    "else:\n",
    "  print(-1)\n",
    "```\n",
    "````"
   ]
  }
 ],
 "metadata": {
  "jupytext": {
   "formats": "md:myst",
   "text_representation": {
    "extension": ".md",
    "format_name": "myst"
   }
  },
  "kernelspec": {
   "display_name": "Python 3",
   "language": "python",
   "name": "python3"
  },
  "language_info": {
   "codemirror_mode": {
    "name": "ipython",
    "version": 3
   },
   "file_extension": ".py",
   "mimetype": "text/x-python",
   "name": "python",
   "nbconvert_exporter": "python",
   "pygments_lexer": "ipython3",
   "version": "3.8.11"
  },
  "source_map": [
   11,
   42,
   47
  ]
 },
 "nbformat": 4,
 "nbformat_minor": 5
}