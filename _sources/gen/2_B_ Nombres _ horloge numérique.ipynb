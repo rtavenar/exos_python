{
 "cells": [
  {
   "cell_type": "markdown",
   "id": "fcffc41e",
   "metadata": {},
   "source": [
    "# 2.B. Nombres : horloge numérique\n",
    "\n",
    "## Consignes\n",
    "\n",
    "Étant donné un entier _N_ représentant le nombre de minutes passées depuis minuit, combien d'heures et de minutes sont affichées sur une horloge numérique 24h ?\n",
    "\n",
    "Le programme doit afficher deux nombres : le nombre d'heures (entre 0 et 23) et le nombre de minutes (entre 0 et 59).\n",
    "\n",
    "Par exemple, si _N = 150_, alors 150 minutes se sont déroulées depuis minuit, et il est donc maintenant 2h30. Le programme doit dans ce cas afficher `2 30`.\n",
    "\n",
    "\n",
    "## Exemple d'entrées\n",
    "\n",
    "```\n",
    "150\n",
    "```\n",
    "\n",
    "## Exemple de sortie\n",
    "\n",
    "```\n",
    "2 30\n",
    "```\n",
    "\n",
    "## Aide\n",
    "\n",
    "https://docs.python.org/fr/3/reference/expressions.html#binary-arithmetic-operations\n",
    "\n",
    "## Squelette"
   ]
  },
  {
   "cell_type": "code",
   "execution_count": 1,
   "id": "d0a757e0",
   "metadata": {},
   "outputs": [],
   "source": [
    "# Lire un entier :\n",
    "# a = int(input())\n",
    "# Afficher la valeur de a :\n",
    "# print(a)"
   ]
  },
  {
   "cell_type": "markdown",
   "id": "a3403323",
   "metadata": {},
   "source": [
    "````{admonition} Cliquez ici pour voir la solution\n",
    ":class: tip, dropdown\n",
    "\n",
    "```python\n",
    "n = int(input())\n",
    "print(n // 60, n % 60)\n",
    "```\n",
    "````"
   ]
  }
 ],
 "metadata": {
  "jupytext": {
   "formats": "md:myst",
   "text_representation": {
    "extension": ".md",
    "format_name": "myst"
   }
  },
  "kernelspec": {
   "display_name": "Python 3",
   "language": "python",
   "name": "python3"
  },
  "language_info": {
   "codemirror_mode": {
    "name": "ipython",
    "version": 3
   },
   "file_extension": ".py",
   "mimetype": "text/x-python",
   "name": "python",
   "nbconvert_exporter": "python",
   "pygments_lexer": "ipython3",
   "version": "3.8.11"
  },
  "source_map": [
   11,
   42,
   48
  ]
 },
 "nbformat": 4,
 "nbformat_minor": 5
}