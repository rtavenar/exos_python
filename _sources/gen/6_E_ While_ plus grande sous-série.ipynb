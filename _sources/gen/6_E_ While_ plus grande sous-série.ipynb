{
 "cells": [
  {
   "cell_type": "markdown",
   "id": "39c52388",
   "metadata": {},
   "source": [
    "# 6.E. While: plus grande sous-série\n",
    "\n",
    "## Consignes\n",
    "\n",
    "Étant données une série d'entiers non négatifs entrés au clavier un par un (un entier par ligne) et se terminant par `0`,  déterminer et afficher la longueur de la plus grande sous-série de nombres identiques à l'intérieur de la série saisie.\n",
    "\n",
    "## Exemple d'entrée\n",
    "\n",
    "```\n",
    "1\n",
    "**7**\n",
    "**7**\n",
    "```\n",
    "\n",
    "```\n",
    "**7**\n",
    "9\n",
    "1\n",
    "```\n",
    "\n",
    "```\n",
    "1\n",
    "0\n",
    "```\n",
    "\n",
    "(les nombres appartenant à la sous-série maximale sont soulignés)\n",
    "\n",
    "## Exemple de sortie\n",
    "\n",
    "```\n",
    "3\n",
    "```\n",
    "\n",
    "## Aide\n",
    "\n",
    "https://docs.python.org/fr/3.6/reference/compound_stmts.html#the-while-statement\n",
    "\n",
    "## Squelette"
   ]
  },
  {
   "cell_type": "code",
   "execution_count": 1,
   "id": "096bef90",
   "metadata": {},
   "outputs": [],
   "source": [
    "# Lire un entier au clavier :\n",
    "# a = int(input())\n",
    "# Afficher la valeur de a :\n",
    "# print(a)"
   ]
  },
  {
   "cell_type": "markdown",
   "id": "2f56397d",
   "metadata": {},
   "source": [
    "````{dropdown} Proposition de solution\n",
    "\n",
    "```python\n",
    "next = int(input())\n",
    "length = 1\n",
    "max_length = 1\n",
    "while next != 0:\n",
    "  prev, next = next, int(input())\n",
    "  if prev == next:\n",
    "    length += 1\n",
    "  else:\n",
    "    length = 1\n",
    "  max_length = max(length, max_length)\n",
    "print(max_length)\n",
    "```\n",
    "````"
   ]
  }
 ],
 "metadata": {
  "jupytext": {
   "formats": "md:myst",
   "text_representation": {
    "extension": ".md",
    "format_name": "myst"
   }
  },
  "kernelspec": {
   "display_name": "Python 3",
   "language": "python",
   "name": "python3"
  },
  "language_info": {
   "codemirror_mode": {
    "name": "ipython",
    "version": 3
   },
   "file_extension": ".py",
   "mimetype": "text/x-python",
   "name": "python",
   "nbconvert_exporter": "python",
   "pygments_lexer": "ipython3",
   "version": "3.8.11"
  },
  "source_map": [
   11,
   52,
   57
  ]
 },
 "nbformat": 4,
 "nbformat_minor": 5
}