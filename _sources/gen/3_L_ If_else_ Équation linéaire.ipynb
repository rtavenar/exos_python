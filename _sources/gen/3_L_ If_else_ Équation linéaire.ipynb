{
 "cells": [
  {
   "cell_type": "markdown",
   "id": "334ccfef",
   "metadata": {},
   "source": [
    "# 3.L. If/else: Équation linéaire\n",
    "\n",
    "## **Énoncé**\n",
    "\n",
    "Écrivez un programme qui résout une équation linéaire _ax = b_ pour des entiers.\n",
    "\n",
    "Étant donné deux entiers _a_ et _b_ (_a_ pouvant valoir 0), affichez l'entier racine de l'équation s'il existe, \"pas de solution\" ou \"multiples solutions\" sinon.\n",
    "\n",
    "## Exemple d'entrée #1\n",
    "\n",
    "```\n",
    "1\n",
    "```\n",
    "\n",
    "```\n",
    "-2\n",
    "```\n",
    "\n",
    "## Exemple de sortie #1\n",
    "\n",
    "```\n",
    "-2\n",
    "```\n",
    "\n",
    "## Exemple d'entrée #2\n",
    "\n",
    "```\n",
    "2\n",
    "```\n",
    "\n",
    "```\n",
    "-1\n",
    "```\n",
    "\n",
    "## Exemple de sortie #2\n",
    "\n",
    "```\n",
    "pas de solution\n",
    "```\n",
    "\n",
    "## Aide\n",
    "\n",
    "http://rtavenar.github.io/teaching/python_poly/html/poly.html#structures-de-contrôle\n",
    "\n",
    "## Squelette"
   ]
  },
  {
   "cell_type": "code",
   "execution_count": 1,
   "id": "0ea3cb3a",
   "metadata": {},
   "outputs": [],
   "source": [
    "# Lire un entier :\n",
    "# a = int(input())\n",
    "# Afficher une valeur :\n",
    "# print(a)"
   ]
  },
  {
   "cell_type": "markdown",
   "id": "a3efe20c",
   "metadata": {},
   "source": [
    "````{dropdown} Proposition de solution\n",
    "\n",
    "```python\n",
    "a = int(input())\n",
    "b = int(input())\n",
    "\n",
    "if a == 0:\n",
    "  if b == 0:\n",
    "    print('multiples solutions')\n",
    "  else:\n",
    "    print('pas de solution')\n",
    "elif b % a == 0:\n",
    "  print(b // a)\n",
    "else:\n",
    "  print('pas de solution')\n",
    "```\n",
    "````"
   ]
  }
 ],
 "metadata": {
  "jupytext": {
   "formats": "md:myst",
   "text_representation": {
    "extension": ".md",
    "format_name": "myst"
   }
  },
  "kernelspec": {
   "display_name": "Python 3",
   "language": "python",
   "name": "python3"
  },
  "language_info": {
   "codemirror_mode": {
    "name": "ipython",
    "version": 3
   },
   "file_extension": ".py",
   "mimetype": "text/x-python",
   "name": "python",
   "nbconvert_exporter": "python",
   "pygments_lexer": "ipython3",
   "version": "3.8.11"
  },
  "source_map": [
   11,
   59,
   64
  ]
 },
 "nbformat": 4,
 "nbformat_minor": 5
}