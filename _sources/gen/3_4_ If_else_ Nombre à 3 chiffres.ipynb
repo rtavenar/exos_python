{
 "cells": [
  {
   "cell_type": "markdown",
   "id": "065e89b7",
   "metadata": {},
   "source": [
    "# 3.4. If/else: Nombre à 3 chiffres\n",
    "\n",
    "## Énoncé\n",
    "\n",
    "Étant donné un entier, affichez \"OUI\" s'il est composé de 3 chiffres et \"NON\" sinon.\n",
    "\n",
    "## Exemple d'entrée #1\n",
    "\n",
    "```\n",
    "179\n",
    "```\n",
    "\n",
    "## Exemple de sortie #1\n",
    "\n",
    "```\n",
    "OUI\n",
    "```\n",
    "\n",
    "## Exemple d'entrée #2\n",
    "\n",
    "```\n",
    "1234\n",
    "```\n",
    "\n",
    "## Exemple de sortie #2\n",
    "\n",
    "```\n",
    "NON\n",
    "```\n",
    "\n",
    "## Aide\n",
    "\n",
    "http://rtavenar.github.io/teaching/python_poly/html/poly.html#structures-de-contrôle\n",
    "\n",
    "## Squelette"
   ]
  },
  {
   "cell_type": "code",
   "execution_count": 1,
   "id": "1272c20a",
   "metadata": {},
   "outputs": [],
   "source": [
    "# Lire un entier :\n",
    "# a = int(input())\n",
    "# Afficher une valeur :\n",
    "# print(a)"
   ]
  },
  {
   "cell_type": "markdown",
   "id": "8659d35e",
   "metadata": {},
   "source": [
    "````{dropdown} Proposition de solution\n",
    "\n",
    "```python\n",
    "a = int(input())\n",
    "if a >= 100 and a < 1000:\n",
    "  print('OUI')\n",
    "else:\n",
    "  print('NON')\n",
    "```\n",
    "````"
   ]
  }
 ],
 "metadata": {
  "jupytext": {
   "formats": "md:myst",
   "text_representation": {
    "extension": ".md",
    "format_name": "myst"
   }
  },
  "kernelspec": {
   "display_name": "Python 3",
   "language": "python",
   "name": "python3"
  },
  "language_info": {
   "codemirror_mode": {
    "name": "ipython",
    "version": 3
   },
   "file_extension": ".py",
   "mimetype": "text/x-python",
   "name": "python",
   "nbconvert_exporter": "python",
   "pygments_lexer": "ipython3",
   "version": "3.8.11"
  },
  "source_map": [
   11,
   49,
   54
  ]
 },
 "nbformat": 4,
 "nbformat_minor": 5
}