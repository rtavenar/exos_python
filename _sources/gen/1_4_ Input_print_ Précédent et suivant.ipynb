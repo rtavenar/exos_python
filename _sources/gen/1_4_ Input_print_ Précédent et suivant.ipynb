{
 "cells": [
  {
   "cell_type": "markdown",
   "id": "12b2d194",
   "metadata": {},
   "source": [
    "# 1.4. Input/print: Précédent et suivant\n",
    "\n",
    "## Consigne\n",
    "\n",
    "Écrire un programme qui lit un nombre entier et affiche le nombre précédent et le nombre suivant (Cf. exemple ci-dessous).\n",
    "\n",
    "## Exemple d'entrée\n",
    "\n",
    "```\n",
    "179\n",
    "```\n",
    "\n",
    "## Exemple de sortie\n",
    "\n",
    "```\n",
    "Le nombre suivant 179 est 180\n",
    "Le nombre précédant 179 est 178\n",
    "```\n",
    "\n",
    "## Aide\n",
    "\n",
    "http://rtavenar.github.io/teaching/python_poly/html/poly.html\n",
    "\n",
    "https://docs.python.org/fr/3/tutorial/inputoutput.html\n",
    "\n",
    "## Squelette"
   ]
  },
  {
   "cell_type": "code",
   "execution_count": 1,
   "id": "f3521bfa",
   "metadata": {},
   "outputs": [],
   "source": [
    "# Lire un entier :\n",
    "# a = int(input())\n",
    "# Afficher la valeur de a :\n",
    "# print(a)"
   ]
  },
  {
   "cell_type": "markdown",
   "id": "686ee9e5",
   "metadata": {},
   "source": [
    "````{dropdown} Proposition de solution\n",
    "\n",
    "```python\n",
    "n = int(input())\n",
    "print('Le nombre suivant ' + str(n) + ' est ' + str(n + 1))\n",
    "print('Le nombre précédant ' + str(n) + ' est ' + str(n - 1))\n",
    "```\n",
    "````"
   ]
  }
 ],
 "metadata": {
  "jupytext": {
   "formats": "md:myst",
   "text_representation": {
    "extension": ".md",
    "format_name": "myst"
   }
  },
  "kernelspec": {
   "display_name": "Python 3",
   "language": "python",
   "name": "python3"
  },
  "language_info": {
   "codemirror_mode": {
    "name": "ipython",
    "version": 3
   },
   "file_extension": ".py",
   "mimetype": "text/x-python",
   "name": "python",
   "nbconvert_exporter": "python",
   "pygments_lexer": "ipython3",
   "version": "3.8.11"
  },
  "source_map": [
   11,
   40,
   45
  ]
 },
 "nbformat": 4,
 "nbformat_minor": 5
}