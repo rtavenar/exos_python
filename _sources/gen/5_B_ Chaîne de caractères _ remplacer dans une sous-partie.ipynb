{
 "cells": [
  {
   "cell_type": "markdown",
   "id": "6103daba",
   "metadata": {},
   "source": [
    "# 5.B. Chaîne de caractères : remplacer dans une sous-partie\n",
    "\n",
    "## Consignes\n",
    "\n",
    "Étant donnée une chaîne de caractères entrée au clavier contenant au moins deux fois la lettre `h`, remplacer toutes les occurrences de `h` par `H`, sauf la première et la dernière.\n",
    "\n",
    "## Exemple d'entrée\n",
    "\n",
    "```\n",
    "In the hole in the ground there lived a hobbit\n",
    "```\n",
    "\n",
    "## Exemple de sortie\n",
    "\n",
    "```\n",
    "In the Hole in tHe ground tHere lived a hobbit\n",
    "```\n",
    "\n",
    "## Aide\n",
    "\n",
    "https://docs.python.org/fr/3.6/library/stdtypes.html#common-sequence-operations\n",
    "\n",
    "https://docs.python.org/fr/3.6/library/stdtypes.html#str.find\n",
    "\n",
    "https://docs.python.org/fr/3.6/library/stdtypes.html#str.rfind\n",
    "\n",
    "https://docs.python.org/fr/3.6/library/stdtypes.html#str.replace\n",
    "\n",
    "## Squelette"
   ]
  },
  {
   "cell_type": "code",
   "execution_count": 1,
   "id": "7f198a56",
   "metadata": {},
   "outputs": [],
   "source": [
    "# Lire une chaîne de caractères au clavier :\n",
    "# s = input()\n",
    "# Afficher une chaîne de caractères :\n",
    "# print(s)\n",
    "# "
   ]
  },
  {
   "cell_type": "markdown",
   "id": "97663511",
   "metadata": {},
   "source": [
    "````{admonition} Cliquez ici pour voir la solution\n",
    ":class: tip, dropdown\n",
    "\n",
    "```python\n",
    "s = input()\n",
    "first_pos, last_pos = s.find('h') + 1, s.rfind('h')\n",
    "left, middle, right = s[:first_pos], s[first_pos:last_pos], s[last_pos:]\n",
    "print(left + middle.replace('h', 'H') + right)\n",
    "```\n",
    "````"
   ]
  }
 ],
 "metadata": {
  "jupytext": {
   "formats": "md:myst",
   "text_representation": {
    "extension": ".md",
    "format_name": "myst"
   }
  },
  "kernelspec": {
   "display_name": "Python 3",
   "language": "python",
   "name": "python3"
  },
  "language_info": {
   "codemirror_mode": {
    "name": "ipython",
    "version": 3
   },
   "file_extension": ".py",
   "mimetype": "text/x-python",
   "name": "python",
   "nbconvert_exporter": "python",
   "pygments_lexer": "ipython3",
   "version": "3.8.11"
  },
  "source_map": [
   11,
   43,
   50
  ]
 },
 "nbformat": 4,
 "nbformat_minor": 5
}