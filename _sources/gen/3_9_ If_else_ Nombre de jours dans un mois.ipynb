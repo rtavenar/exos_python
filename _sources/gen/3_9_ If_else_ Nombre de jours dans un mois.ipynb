{
 "cells": [
  {
   "cell_type": "markdown",
   "id": "23a6c9fb",
   "metadata": {},
   "source": [
    "# 3.9. If/else: Nombre de jours dans un mois\n",
    "\n",
    "## **Énoncé**\n",
    "\n",
    "Étant donné un mois - un entier entre 1et 12, affichez le nombre de jours de ce mois pour l'année 2017.\n",
    "\n",
    "## Exemple d'entrée #1\n",
    "\n",
    "```\n",
    "1\n",
    "```\n",
    "\n",
    "(Janvier)\n",
    "\n",
    "## Exemple de sortie #1\n",
    "\n",
    "```\n",
    "31\n",
    "```\n",
    "\n",
    "## Exemple d'entrée #2\n",
    "\n",
    "```\n",
    "2\n",
    "```\n",
    "\n",
    "(Février)\n",
    "\n",
    "## Exemple de sortie #2\n",
    "\n",
    "```\n",
    "28\n",
    "```\n",
    "\n",
    "## Aide\n",
    "\n",
    "http://rtavenar.github.io/teaching/python_poly/html/poly.html#structures-de-contrôle\n",
    "\n",
    "## Squelette"
   ]
  },
  {
   "cell_type": "code",
   "execution_count": 1,
   "id": "4c1857b6",
   "metadata": {},
   "outputs": [],
   "source": [
    "# Lire un entier :\n",
    "# a = int(input())\n",
    "# Afficher une valeur :\n",
    "# print(a)"
   ]
  },
  {
   "cell_type": "markdown",
   "id": "ce98ac51",
   "metadata": {},
   "source": [
    "````{dropdown} Proposition de solution\n",
    "\n",
    "```python\n",
    "month = int(input())\n",
    "if month == 2:\n",
    "  print(28)\n",
    "elif month == 4 or month == 6 or month == 9 or month == 11:\n",
    "  print(30)\n",
    "else:\n",
    "  print(31)\n",
    "```\n",
    "````"
   ]
  }
 ],
 "metadata": {
  "jupytext": {
   "formats": "md:myst",
   "text_representation": {
    "extension": ".md",
    "format_name": "myst"
   }
  },
  "kernelspec": {
   "display_name": "Python 3",
   "language": "python",
   "name": "python3"
  },
  "language_info": {
   "codemirror_mode": {
    "name": "ipython",
    "version": 3
   },
   "file_extension": ".py",
   "mimetype": "text/x-python",
   "name": "python",
   "nbconvert_exporter": "python",
   "pygments_lexer": "ipython3",
   "version": "3.8.11"
  },
  "source_map": [
   11,
   53,
   58
  ]
 },
 "nbformat": 4,
 "nbformat_minor": 5
}