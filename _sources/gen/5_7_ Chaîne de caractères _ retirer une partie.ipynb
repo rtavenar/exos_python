{
 "cells": [
  {
   "cell_type": "markdown",
   "id": "05582910",
   "metadata": {},
   "source": [
    "# 5.7. Chaîne de caractères : retirer une partie\n",
    "\n",
    "## Consignes\n",
    "\n",
    "Étant donnée une chaîne de caractères entrée au clavier contenant au moins deux fois la lettre `h`, retirer de cette chaîne la première et la dernière occurrence de la lettre `h` ainsi que tous les caractères se trouvant entre ces deux occurrences.\n",
    "\n",
    "## Exemple d'entrée\n",
    "\n",
    "```\n",
    "In the hole in the ground there lived a hobbit\n",
    "```\n",
    "\n",
    "## Exemple de sortie\n",
    "\n",
    "```\n",
    "In tobbit\n",
    "```\n",
    "\n",
    "## Aide\n",
    "\n",
    "https://docs.python.org/fr/3.6/library/stdtypes.html#common-sequence-operations\n",
    "\n",
    "https://docs.python.org/fr/3.6/library/stdtypes.html#str.find\n",
    "\n",
    "https://docs.python.org/fr/3.6/library/stdtypes.html#str.rfind\n",
    "\n",
    "\n",
    "## Squelette"
   ]
  },
  {
   "cell_type": "code",
   "execution_count": 1,
   "id": "f0d49342",
   "metadata": {},
   "outputs": [],
   "source": [
    "# Lire une chaîne de caractères :\n",
    "# s = input()\n",
    "# Afficher une chaîne de caractères :\n",
    "# print(s)\n",
    "# "
   ]
  },
  {
   "cell_type": "markdown",
   "id": "4c0b7e51",
   "metadata": {},
   "source": [
    "````{admonition} Cliquez ici pour voir la solution\n",
    ":class: tip, dropdown\n",
    "\n",
    "```python\n",
    "s = input()\n",
    "print(s[:s.find('h')] + s[s.rfind('h') + 1:])\n",
    "```\n",
    "````"
   ]
  }
 ],
 "metadata": {
  "jupytext": {
   "formats": "md:myst",
   "text_representation": {
    "extension": ".md",
    "format_name": "myst"
   }
  },
  "kernelspec": {
   "display_name": "Python 3",
   "language": "python",
   "name": "python3"
  },
  "language_info": {
   "codemirror_mode": {
    "name": "ipython",
    "version": 3
   },
   "file_extension": ".py",
   "mimetype": "text/x-python",
   "name": "python",
   "nbconvert_exporter": "python",
   "pygments_lexer": "ipython3",
   "version": "3.8.11"
  },
  "source_map": [
   11,
   42,
   49
  ]
 },
 "nbformat": 4,
 "nbformat_minor": 5
}