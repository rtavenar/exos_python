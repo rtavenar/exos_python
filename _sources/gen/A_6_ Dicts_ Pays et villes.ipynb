{
 "cells": [
  {
   "cell_type": "markdown",
   "id": "091d8d59",
   "metadata": {},
   "source": [
    "# A.6. Dicts: Pays et villes\n",
    "\n",
    "## Consigne\n",
    "\n",
    "Soit une liste de pays contenant une liste de villes appartenant à ce pays. On commencera par préciser le nombre de pays dont on souhaite énumérer une liste de ville lui appartenant. Puis pour chaque pays on entrera sur une ligne le nom du pays puis la liste des villes.\n",
    "\n",
    "On entrera ensuite le nombre de villes dont on souhaite connaître le pays, puis on entrera le nom de chaque ville sur une ligne. Le programme répondra en affichant le pays correspondant à chaque ville.\n",
    "\n",
    "## Exemple d'entrée\n",
    "\n",
    "```\n",
    "2\n",
    "USA Boston Pittsburgh Washington Seattle\n",
    "UK London Edinburgh Cardiff Belfast\n",
    "3\n",
    "Cardiff\n",
    "Seattle\n",
    "London\n",
    "```\n",
    "\n",
    "## Exemple de sortie\n",
    "\n",
    "```\n",
    "UK\n",
    "USA\n",
    "UK\n",
    "```\n",
    "\n",
    "## Aide\n",
    "\n",
    "https://rtavenar.github.io/poly_python/content/dict.html\n",
    "\n",
    "https://docs.python.org/fr/3/tutorial/datastructures.html#dictionaries\n",
    "\n",
    "## Squelette"
   ]
  },
  {
   "cell_type": "code",
   "execution_count": 1,
   "id": "71deebc5",
   "metadata": {},
   "outputs": [],
   "source": [
    "# Read a string:\n",
    "# s = input()\n",
    "# Print a value:\n",
    "# print(s)\n",
    "# "
   ]
  },
  {
   "cell_type": "markdown",
   "id": "c51eb619",
   "metadata": {},
   "source": [
    "````{admonition} Cliquez ici pour voir la solution\n",
    ":class: tip, dropdown\n",
    "\n",
    "```python\n",
    "city_country = {}\n",
    "for _ in range(int(input())):\n",
    "  country, *cities = input().split()\n",
    "  for city in cities:\n",
    "    city_country[city] = country\n",
    "for _ in range(int(input())):\n",
    "  print(city_country[input()])\n",
    "```\n",
    "````"
   ]
  }
 ],
 "metadata": {
  "jupytext": {
   "formats": "md:myst",
   "text_representation": {
    "extension": ".md",
    "format_name": "myst"
   }
  },
  "kernelspec": {
   "display_name": "Python 3",
   "language": "python",
   "name": "python3"
  },
  "language_info": {
   "codemirror_mode": {
    "name": "ipython",
    "version": 3
   },
   "file_extension": ".py",
   "mimetype": "text/x-python",
   "name": "python",
   "nbconvert_exporter": "python",
   "pygments_lexer": "ipython3",
   "version": "3.8.11"
  },
  "source_map": [
   11,
   49,
   56
  ]
 },
 "nbformat": 4,
 "nbformat_minor": 5
}