{
 "cells": [
  {
   "cell_type": "markdown",
   "id": "b2ebae5f",
   "metadata": {},
   "source": [
    "# 2.D. Nombres : bureaux d'une école\n",
    "\n",
    "## Consignes\n",
    "\n",
    "Une école a décidé de remplacer les bureaux dans trois classes. Chaque bureau peut accueillir deux élèves. Étant donné le nombre d'élèves pour chaque classe, afficher le plus petit nombre de bureaux pouvant être achetés.\n",
    "\n",
    "Le programme doit lire trois entiers : le nombre d'élèves dans chacune des trois classes, `a`, `b` et `c` respectivement.\n",
    "\n",
    "Dans l'exemple ci-dessous il y a trois classes. La première classe contient 20 élèves et a donc besoin de 10 bureaux. La deuxième classe contient 21 élèves qui vont donc avoir besoin de 11 bureaux. 11 bureaux sont suffisants également pour la troisième classe qui compte 22 élèves. Au total, nous avons donc besoin de 32 bureaux.\n",
    "\n",
    "\n",
    "## Exemple d'entrées\n",
    "\n",
    "```\n",
    "20\n",
    "21\n",
    "22\n",
    "```\n",
    "\n",
    "## Exemple de sortie\n",
    "\n",
    "```\n",
    "32\n",
    "```\n",
    "\n",
    "## Aide\n",
    "\n",
    "https://docs.python.org/fr/3/reference/expressions.html#binary-arithmetic-operations\n",
    "\n",
    "## Squelette"
   ]
  },
  {
   "cell_type": "code",
   "execution_count": 1,
   "id": "e32802d9",
   "metadata": {},
   "outputs": [],
   "source": [
    "# Lire un entier :\n",
    "# a = int(input())\n",
    "# Afficher la valeur de a :\n",
    "# print(a)\n",
    "# "
   ]
  },
  {
   "cell_type": "markdown",
   "id": "07991748",
   "metadata": {},
   "source": [
    "````{admonition} Cliquez ici pour voir la solution\n",
    ":class: tip, dropdown\n",
    "\n",
    "```python\n",
    "a = int(input())\n",
    "b = int(input())\n",
    "c = int(input())\n",
    "print(a // 2 + a % 2 + b // 2 + b % 2 + c // 2 + c % 2)\n",
    "```\n",
    "````"
   ]
  }
 ],
 "metadata": {
  "jupytext": {
   "formats": "md:myst",
   "text_representation": {
    "extension": ".md",
    "format_name": "myst"
   }
  },
  "kernelspec": {
   "display_name": "Python 3",
   "language": "python",
   "name": "python3"
  },
  "language_info": {
   "codemirror_mode": {
    "name": "ipython",
    "version": 3
   },
   "file_extension": ".py",
   "mimetype": "text/x-python",
   "name": "python",
   "nbconvert_exporter": "python",
   "pygments_lexer": "ipython3",
   "version": "3.8.11"
  },
  "source_map": [
   11,
   44,
   51
  ]
 },
 "nbformat": 4,
 "nbformat_minor": 5
}