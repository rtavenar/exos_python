{
 "cells": [
  {
   "cell_type": "markdown",
   "id": "389a3312",
   "metadata": {},
   "source": [
    "# 2.C. Nombres : cadran d'une horloge\n",
    "\n",
    "## Consignes\n",
    "\n",
    "L'aiguille des heures d'une horloge analogique a tourné de α degrés depuis minuit. Déterminer de combien de degrés l'aiguille des minutes a tourné depuis l'heure en cours. Les entrées et sorties de ce programme sont des entiers.\n",
    "\n",
    "## Exemple d'entrée (angle en degrés de l'aiguille des heures)\n",
    "\n",
    "```\n",
    "190\n",
    "```\n",
    "\n",
    "(6h20)\n",
    "\n",
    "## Exemple de sortie (angle en degrés de l'aiguille des minutes)\n",
    "\n",
    "```\n",
    "120\n",
    "```\n",
    "\n",
    "(20 min)\n",
    "\n",
    "## Aide\n",
    "\n",
    "https://docs.python.org/fr/3/reference/expressions.html#binary-arithmetic-operations\n",
    "\n",
    "## Squelette"
   ]
  },
  {
   "cell_type": "code",
   "execution_count": 1,
   "id": "55104e67",
   "metadata": {},
   "outputs": [],
   "source": [
    "# Lire un entier :\n",
    "# a = int(input())\n",
    "# Afficher la valeur de a :\n",
    "# print(a)\n",
    "# "
   ]
  },
  {
   "cell_type": "markdown",
   "id": "5f812368",
   "metadata": {},
   "source": [
    "````{admonition} Cliquez ici pour voir la solution\n",
    ":class: tip, dropdown\n",
    "\n",
    "```python\n",
    "print(int(input()) % 30 * 12)\n",
    "```\n",
    "````"
   ]
  }
 ],
 "metadata": {
  "jupytext": {
   "formats": "md:myst",
   "text_representation": {
    "extension": ".md",
    "format_name": "myst"
   }
  },
  "kernelspec": {
   "display_name": "Python 3",
   "language": "python",
   "name": "python3"
  },
  "language_info": {
   "codemirror_mode": {
    "name": "ipython",
    "version": 3
   },
   "file_extension": ".py",
   "mimetype": "text/x-python",
   "name": "python",
   "nbconvert_exporter": "python",
   "pygments_lexer": "ipython3",
   "version": "3.8.11"
  },
  "source_map": [
   11,
   41,
   48
  ]
 },
 "nbformat": 4,
 "nbformat_minor": 5
}