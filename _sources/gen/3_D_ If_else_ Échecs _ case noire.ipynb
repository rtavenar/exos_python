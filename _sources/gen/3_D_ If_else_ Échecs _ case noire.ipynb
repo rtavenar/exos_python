{
 "cells": [
  {
   "cell_type": "markdown",
   "id": "3f3ebb28",
   "metadata": {},
   "source": [
    "# 3.D. If/else: Échecs : case noire\n",
    "\n",
    "## **Énoncé**\n",
    "\n",
    "Étant donnés deux entiers indiquant une case de l'échiquier, affichez OUI si c'est une case noire (marron sur le dessin ci-dessous) ou NON sinon.\n",
    "\n",
    "\n",
    "\n",
    "## **Exemple d'entrée** #1\n",
    "\n",
    "```\n",
    "1\n",
    "1\n",
    "```\n",
    "\n",
    "## **Exemple de sortie** #1\n",
    "\n",
    "```\n",
    "OUI\n",
    "```\n",
    "\n",
    "## **Exemple d'entrée** #2\n",
    "\n",
    "```\n",
    "1\n",
    "2\n",
    "```\n",
    "\n",
    "## **Exemple de sortie** #2\n",
    "\n",
    "```\n",
    "NON\n",
    "```\n",
    "\n",
    "## Aide\n",
    "\n",
    "http://rtavenar.github.io/teaching/python_poly/html/poly.html#structures-de-contrôle\n",
    "\n",
    "## Squelette"
   ]
  },
  {
   "cell_type": "code",
   "execution_count": 1,
   "id": "55c81439",
   "metadata": {},
   "outputs": [],
   "source": [
    "# Lire un entier :\n",
    "# a = int(input())\n",
    "# Afficher une valeur :\n",
    "# print(a)"
   ]
  },
  {
   "cell_type": "markdown",
   "id": "43a91331",
   "metadata": {},
   "source": [
    "````{dropdown} Proposition de solution\n",
    "\n",
    "```python\n",
    "x1 = int(input())\n",
    "y1 = int(input())\n",
    "\n",
    "if (x1 + y1) % 2 == 0:\n",
    "  print('OUI')\n",
    "else:\n",
    "  print('NON')\n",
    "```\n",
    "````"
   ]
  }
 ],
 "metadata": {
  "jupytext": {
   "formats": "md:myst",
   "text_representation": {
    "extension": ".md",
    "format_name": "myst"
   }
  },
  "kernelspec": {
   "display_name": "Python 3",
   "language": "python",
   "name": "python3"
  },
  "language_info": {
   "codemirror_mode": {
    "name": "ipython",
    "version": 3
   },
   "file_extension": ".py",
   "mimetype": "text/x-python",
   "name": "python",
   "nbconvert_exporter": "python",
   "pygments_lexer": "ipython3",
   "version": "3.8.11"
  },
  "source_map": [
   11,
   53,
   58
  ]
 },
 "nbformat": 4,
 "nbformat_minor": 5
}