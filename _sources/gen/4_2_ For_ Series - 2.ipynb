{
 "cells": [
  {
   "cell_type": "markdown",
   "id": "931e08d4",
   "metadata": {},
   "source": [
    "# 4.2. For: Series - 2\n",
    "\n",
    "## Consigne\n",
    "\n",
    "Soit deux entiers A et B donnés en entrée. Afficher tous les nombres de A à B bornes comprises, par ordre croissant, si A < B ou par ordre décroissant si A ≥ B.\n",
    "\n",
    "## Exemple d'entrée\n",
    "\n",
    "```\n",
    "8\n",
    "5\n",
    "```\n",
    "\n",
    "## Exemple de sortie\n",
    "\n",
    "```\n",
    "8 7 6 5\n",
    "```\n",
    "\n",
    "## Aide\n",
    "\n",
    "https://rtavenar.github.io/poly_python/content/struct.html#boucles-for\n",
    "\n",
    "https://docs.python.org/fr/3/reference/compound_stmts.html#for\n",
    "\n",
    "## Squelette"
   ]
  },
  {
   "cell_type": "code",
   "execution_count": 1,
   "id": "cf8d4e56",
   "metadata": {
    "tags": [
     "remove-stderr"
    ]
   },
   "outputs": [],
   "source": [
    "# Read an integer:\n",
    "# a = int(input())\n",
    "# Print a value:\n",
    "# print(a)"
   ]
  },
  {
   "cell_type": "markdown",
   "id": "027b42ff",
   "metadata": {},
   "source": [
    "````{admonition} Cliquez ici pour voir la solution\n",
    ":class: tip, dropdown\n",
    "\n",
    "```python\n",
    "a = int(input())\n",
    "b = int(input())\n",
    "\n",
    "if a < b:\n",
    "  for i in range(a, b + 1):\n",
    "    print(i, end=' ')\n",
    "else:\n",
    "  for i in range(a, b - 1, -1):\n",
    "    print(i, end=' ')\n",
    "```\n",
    "````"
   ]
  }
 ],
 "metadata": {
  "jupytext": {
   "formats": "md:myst",
   "text_representation": {
    "extension": ".md",
    "format_name": "myst"
   }
  },
  "kernelspec": {
   "display_name": "Python 3",
   "language": "python",
   "name": "python3"
  },
  "language_info": {
   "codemirror_mode": {
    "name": "ipython",
    "version": 3
   },
   "file_extension": ".py",
   "mimetype": "text/x-python",
   "name": "python",
   "nbconvert_exporter": "python",
   "pygments_lexer": "ipython3",
   "version": "3.8.11"
  },
  "source_map": [
   11,
   40,
   47
  ]
 },
 "nbformat": 4,
 "nbformat_minor": 5
}