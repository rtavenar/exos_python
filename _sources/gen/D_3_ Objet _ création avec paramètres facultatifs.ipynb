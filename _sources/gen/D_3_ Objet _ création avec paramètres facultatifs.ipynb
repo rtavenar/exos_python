{
 "cells": [
  {
   "cell_type": "markdown",
   "id": "e272a15c",
   "metadata": {},
   "source": [
    "# D.3. Objet : création avec paramètres facultatifs\n",
    "\n",
    "## Consignes\n",
    "\n",
    "Écrire le code permettant de créer un objet de classe Cercle nommé \"monCercle\", avec une position en X du centre de 5 et une position en Y du centre de -5. Vous devez utiliser uniquement ces deux valeurs pour la construction de l'objet et ne rien renseigner pour le rayon afin de laisser la valeur par défaut.\n",
    "\n",
    "## Aide\n",
    "\n",
    "https://docs.python.org/fr/3.6/tutorial/classes.html#a-first-look-at-classes\n",
    "\n",
    "## Squelette"
   ]
  },
  {
   "cell_type": "code",
   "execution_count": 1,
   "id": "53b84357",
   "metadata": {},
   "outputs": [],
   "source": [
    "# class Cercle:\n",
    "#   def __init__(self, r=15, posX=0, posY=0):\n",
    "#     self.rayon = r\t\t# attribut rayon du cercle\n",
    "#     self.x = posX\t\t\t# attribut position en X du centre du cercle\n",
    "#     self.y = posY\t\t\t# attribut position en Y du centre du cercle\n",
    "# \n",
    "# Écrire votre code ci-dessous\n",
    "# "
   ]
  },
  {
   "cell_type": "markdown",
   "id": "a1231e68",
   "metadata": {},
   "source": [
    "````{admonition} Cliquez ici pour voir la solution\n",
    ":class: tip, dropdown\n",
    "\n",
    "```python\n",
    "class Cercle:\n",
    "  def __init__(self, r=15, posX=0, posY=0):\n",
    "    self.rayon = r\t\t# attribut rayon du cercle\n",
    "    self.x = posX\t\t\t# attribut position en X du centre du cercle\n",
    "    self.y = posY\t\t\t# attribut position en Y du centre du cercle\n",
    "\n",
    "# Écrire votre code ci-dessous\n",
    "monCercle = Cercle(posX=5, posY=-5)\n",
    "```\n",
    "````"
   ]
  }
 ],
 "metadata": {
  "jupytext": {
   "formats": "md:myst",
   "text_representation": {
    "extension": ".md",
    "format_name": "myst"
   }
  },
  "kernelspec": {
   "display_name": "Python 3",
   "language": "python",
   "name": "python3"
  },
  "language_info": {
   "codemirror_mode": {
    "name": "ipython",
    "version": 3
   },
   "file_extension": ".py",
   "mimetype": "text/x-python",
   "name": "python",
   "nbconvert_exporter": "python",
   "pygments_lexer": "ipython3",
   "version": "3.8.11"
  },
  "source_map": [
   11,
   25,
   35
  ]
 },
 "nbformat": 4,
 "nbformat_minor": 5
}