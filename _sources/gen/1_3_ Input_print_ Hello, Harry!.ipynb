{
 "cells": [
  {
   "cell_type": "markdown",
   "id": "00378c40",
   "metadata": {},
   "source": [
    "# 1.3. Input/print: Hello, Harry!\n",
    "\n",
    "## Consigne\n",
    "\n",
    "Écrire un programme qui accueille les utilisateurs avec 'Hello', une virgule, le prénom de l'utilisateur et un point d'exclamation à la fin. Cf. exemple ci-dessous.\n",
    "\n",
    "**Attention :** La sortie de votre programme doit correspondre strictement à la description ci-dessus. Il n'y a pas d'espace entre le point d'exclamation et le prénom. Vous pouvez utiliser l'opérateur \"+\" pour concaténer deux chaînes de caractères.\n",
    "\n",
    "## Exemple d'entrée\n",
    "\n",
    "```\n",
    "Harry\n",
    "```\n",
    "\n",
    "## Exemple de sortie\n",
    "\n",
    "```\n",
    "Hello, Harry!\n",
    "```\n",
    "\n",
    "## Aide\n",
    "\n",
    "https://rtavenar.github.io/poly_python/content/intro.html\n",
    "\n",
    "https://docs.python.org/fr/3/tutorial/inputoutput.html\n",
    "\n",
    "## Squelette"
   ]
  },
  {
   "cell_type": "code",
   "execution_count": 1,
   "id": "53eefee0",
   "metadata": {},
   "outputs": [],
   "source": [
    "# Lire une chaîne de caractères:\n",
    "# a = input()\n",
    "# Afficher une chaîne de caractères:\n",
    "# print(a)\n"
   ]
  },
  {
   "cell_type": "markdown",
   "id": "6f93cb20",
   "metadata": {},
   "source": [
    "````{admonition} Cliquez ici pour voir la solution\n",
    ":class: tip, dropdown\n",
    "\n",
    "```python\n",
    "print('Hello, ' + input() + '!')\n",
    "```\n",
    "````"
   ]
  }
 ],
 "metadata": {
  "jupytext": {
   "formats": "md:myst",
   "text_representation": {
    "extension": ".md",
    "format_name": "myst"
   }
  },
  "kernelspec": {
   "display_name": "Python 3",
   "language": "python",
   "name": "python3"
  },
  "language_info": {
   "codemirror_mode": {
    "name": "ipython",
    "version": 3
   },
   "file_extension": ".py",
   "mimetype": "text/x-python",
   "name": "python",
   "nbconvert_exporter": "python",
   "pygments_lexer": "ipython3",
   "version": "3.8.11"
  },
  "source_map": [
   11,
   41,
   48
  ]
 },
 "nbformat": 4,
 "nbformat_minor": 5
}