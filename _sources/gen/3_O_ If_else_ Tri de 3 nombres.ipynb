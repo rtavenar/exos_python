{
 "cells": [
  {
   "cell_type": "markdown",
   "id": "defe4041",
   "metadata": {},
   "source": [
    "# 3.O. If/else: Tri de 3 nombres\n",
    "\n",
    "## **Énoncé**\n",
    "\n",
    "Étant donnés 3 entiers, les afficher dans l'ordre croissant.\n",
    "\n",
    "## Example input\n",
    "\n",
    "```\n",
    "5\n",
    "3\n",
    "7\n",
    "```\n",
    "\n",
    "## Example output\n",
    "\n",
    "```\n",
    "3\n",
    "5\n",
    "7\n",
    "```\n",
    "\n",
    "## Aide\n",
    "\n",
    "https://rtavenar.github.io/poly_python/content/struct.html#structures-de-controle\n",
    "\n",
    "## Squelette"
   ]
  },
  {
   "cell_type": "code",
   "execution_count": 1,
   "id": "c3548221",
   "metadata": {
    "tags": [
     "remove-stderr"
    ]
   },
   "outputs": [],
   "source": [
    "# Lire un entier :\n",
    "# a = int(input())\n",
    "# Afficher une valeur :\n",
    "# print(a)"
   ]
  },
  {
   "cell_type": "markdown",
   "id": "ed1b2f0e",
   "metadata": {},
   "source": [
    "````{admonition} Cliquez ici pour voir la solution\n",
    ":class: tip, dropdown\n",
    "\n",
    "```python\n",
    "a = int(input())\n",
    "b = int(input())\n",
    "c = int(input())\n",
    "\n",
    "if a <= b <= c:\n",
    "  print(a, b, c, end='\\n')\n",
    "elif a <= c <= b:\n",
    "  print(a, c, b, end='\\n')\n",
    "elif b <= a <= c:\n",
    "  print(b, a, c, end='\\n')\n",
    "elif b <= c <= a:\n",
    "  print(b, c, a, end='\\n')\n",
    "elif c <= a <= b:\n",
    "  print(c, a, b, end='\\n')\n",
    "else:\n",
    "  print(c, b, a, end='\\n')\n",
    "```\n",
    "````"
   ]
  }
 ],
 "metadata": {
  "jupytext": {
   "formats": "md:myst",
   "text_representation": {
    "extension": ".md",
    "format_name": "myst"
   }
  },
  "kernelspec": {
   "display_name": "Python 3",
   "language": "python",
   "name": "python3"
  },
  "language_info": {
   "codemirror_mode": {
    "name": "ipython",
    "version": 3
   },
   "file_extension": ".py",
   "mimetype": "text/x-python",
   "name": "python",
   "nbconvert_exporter": "python",
   "pygments_lexer": "ipython3",
   "version": "3.8.11"
  },
  "source_map": [
   11,
   41,
   48
  ]
 },
 "nbformat": 4,
 "nbformat_minor": 5
}