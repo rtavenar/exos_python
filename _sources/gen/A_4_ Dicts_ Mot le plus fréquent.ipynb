{
 "cells": [
  {
   "cell_type": "markdown",
   "id": "157bbe03",
   "metadata": {},
   "source": [
    "# A.4. Dicts: Mot le plus fréquent\n",
    "\n",
    "## Consigne\n",
    "\n",
    "À partir d'un texte contenant n lignes, la première entrée correspondra au nombre de lignes n puis chaque ligne du texte sera entrée l'une après l'autre.\n",
    "\n",
    "Affichez le mot le plus fréquent du texte. Si plusieurs mots ont la même fréquence, on choisira le premier du classement alphabétique.\n",
    "\n",
    "## Exemple d'entrée\n",
    "\n",
    "```\n",
    "2\n",
    "apple orange banana\n",
    "banana orange\n",
    "```\n",
    "\n",
    "## Exemple de sortie\n",
    "\n",
    "```\n",
    "banana\n",
    "```\n",
    "\n",
    "## Aide\n",
    "\n",
    "https://rtavenar.github.io/poly_python/content/dict.html\n",
    "\n",
    "https://docs.python.org/fr/3/tutorial/datastructures.html#dictionaries\n",
    "\n",
    "## Squelette"
   ]
  },
  {
   "cell_type": "code",
   "execution_count": 1,
   "id": "48125cd2",
   "metadata": {
    "tags": [
     "remove-stderr"
    ]
   },
   "outputs": [],
   "source": [
    "# Read a string:\n",
    "# s = input()\n",
    "# Print a value:\n",
    "# print(s)"
   ]
  },
  {
   "cell_type": "markdown",
   "id": "07dfe3e6",
   "metadata": {},
   "source": [
    "````{admonition} Cliquez ici pour voir la solution\n",
    ":class: tip, dropdown\n",
    "\n",
    "```python\n",
    "words_count = {}\n",
    "for i in range(int(input())):\n",
    "  words = input().split()\n",
    "  for word in words:\n",
    "    if word not in words_count:\n",
    "      words_count[word] = 0\n",
    "    words_count[word] += 1\n",
    "max_frequency = max(words_count.values())\n",
    "for word in sorted(words_count):\n",
    "  if words_count[word] == max_frequency:\n",
    "    print(word)\n",
    "    break\n",
    "```\n",
    "````"
   ]
  }
 ],
 "metadata": {
  "jupytext": {
   "formats": "md:myst",
   "text_representation": {
    "extension": ".md",
    "format_name": "myst"
   }
  },
  "kernelspec": {
   "display_name": "Python 3",
   "language": "python",
   "name": "python3"
  },
  "language_info": {
   "codemirror_mode": {
    "name": "ipython",
    "version": 3
   },
   "file_extension": ".py",
   "mimetype": "text/x-python",
   "name": "python",
   "nbconvert_exporter": "python",
   "pygments_lexer": "ipython3",
   "version": "3.8.11"
  },
  "source_map": [
   11,
   43,
   50
  ]
 },
 "nbformat": 4,
 "nbformat_minor": 5
}