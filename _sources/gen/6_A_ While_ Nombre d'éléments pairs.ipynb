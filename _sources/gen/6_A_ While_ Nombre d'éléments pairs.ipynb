{
 "cells": [
  {
   "cell_type": "markdown",
   "id": "0dc59997",
   "metadata": {},
   "source": [
    "# 6.A. While: Nombre d'éléments pairs\n",
    "\n",
    "## **Énoncé**\n",
    "\n",
    "Étant donnée une séquence d'entiers positifs, où chaque entier est écrit sur une ligne distincte, affichez le nombre de valeurs paires lues **avant** de rencontrer un 0.\n",
    "\n",
    "## **Exemple d'entrée**\n",
    "\n",
    "```\n",
    "2\n",
    "1\n",
    "4\n",
    "0\n",
    "```\n",
    "\n",
    "## **Exemple de sortie**\n",
    "\n",
    "```\n",
    "2\n",
    "```\n",
    "\n",
    "## Aide\n",
    "\n",
    "http://rtavenar.github.io/teaching/python_poly/html/poly.html#boucles-while\n",
    "\n",
    "## Squelette"
   ]
  },
  {
   "cell_type": "code",
   "execution_count": 1,
   "id": "07f00e57",
   "metadata": {},
   "outputs": [],
   "source": [
    "# Read an integer:\n",
    "# a = int(input())\n",
    "# Print a value:\n",
    "# print(a)"
   ]
  },
  {
   "cell_type": "markdown",
   "id": "98bbe5e0",
   "metadata": {},
   "source": [
    "````{dropdown} Proposition de solution\n",
    "\n",
    "```python\n",
    "a = int(input())\n",
    "num_even = 0\n",
    "while a != 0:\n",
    "  if a % 2 == 0:\n",
    "    num_even += 1\n",
    "  a = int(input())\n",
    "print(num_even)\n",
    "```\n",
    "````"
   ]
  }
 ],
 "metadata": {
  "jupytext": {
   "formats": "md:myst",
   "text_representation": {
    "extension": ".md",
    "format_name": "myst"
   }
  },
  "kernelspec": {
   "display_name": "Python 3",
   "language": "python",
   "name": "python3"
  },
  "language_info": {
   "codemirror_mode": {
    "name": "ipython",
    "version": 3
   },
   "file_extension": ".py",
   "mimetype": "text/x-python",
   "name": "python",
   "nbconvert_exporter": "python",
   "pygments_lexer": "ipython3",
   "version": "3.8.11"
  },
  "source_map": [
   11,
   40,
   45
  ]
 },
 "nbformat": 4,
 "nbformat_minor": 5
}