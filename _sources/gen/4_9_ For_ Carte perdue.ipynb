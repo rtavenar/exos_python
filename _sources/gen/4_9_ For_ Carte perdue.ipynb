{
 "cells": [
  {
   "cell_type": "markdown",
   "id": "906d3764",
   "metadata": {},
   "source": [
    "# 4.9. For: Carte perdue\n",
    "\n",
    "## Consigne\n",
    "\n",
    "Soit un ensemble de cartes portant les numéros de 1 à N. L'une des cartes a été perdue. Déterminer le numéro de la carte perdue à partie des numéros des cartes restantes.\n",
    "\n",
    "Entrer un nombre N, suivi par N-1 entiers représentant les numéros des cartes restantes (valeurs distinctes d'entiers dans l'interval 1 à N). Trouver et afficher le numéro de la carte manquante.\n",
    "\n",
    "\n",
    "## Exemple d'entrée\n",
    "\n",
    "```\n",
    "5\n",
    "3\n",
    "5\n",
    "2\n",
    "1\n",
    "```\n",
    "\n",
    "## Exemple de sortie\n",
    "\n",
    "```\n",
    "4\n",
    "```\n",
    "\n",
    "## Aide\n",
    "\n",
    "https://rtavenar.github.io/poly_python/content/struct.html#boucles-for\n",
    "\n",
    "https://docs.python.org/fr/3/reference/compound_stmts.html#for\n",
    "\n",
    "## Squelette"
   ]
  },
  {
   "cell_type": "code",
   "execution_count": 1,
   "id": "6ce9308e",
   "metadata": {},
   "outputs": [],
   "source": [
    "# Read an integer:\n",
    "# a = int(input())\n",
    "# Print a value:\n",
    "# print(a)"
   ]
  },
  {
   "cell_type": "markdown",
   "id": "2f871129",
   "metadata": {},
   "source": [
    "````{admonition} Cliquez ici pour voir la solution\n",
    ":class: tip, dropdown\n",
    "\n",
    "```python\n",
    "n = int(input())\n",
    "\n",
    "cards_sum = 0\n",
    "for i in range(1, n + 1):\n",
    "  cards_sum += i\n",
    "\n",
    "for i in range(n - 1):\n",
    "  cards_sum -= int(input())\n",
    "\n",
    "print(cards_sum)\n",
    "```\n",
    "````"
   ]
  }
 ],
 "metadata": {
  "jupytext": {
   "formats": "md:myst",
   "text_representation": {
    "extension": ".md",
    "format_name": "myst"
   }
  },
  "kernelspec": {
   "display_name": "Python 3",
   "language": "python",
   "name": "python3"
  },
  "language_info": {
   "codemirror_mode": {
    "name": "ipython",
    "version": 3
   },
   "file_extension": ".py",
   "mimetype": "text/x-python",
   "name": "python",
   "nbconvert_exporter": "python",
   "pygments_lexer": "ipython3",
   "version": "3.8.11"
  },
  "source_map": [
   11,
   46,
   52
  ]
 },
 "nbformat": 4,
 "nbformat_minor": 5
}