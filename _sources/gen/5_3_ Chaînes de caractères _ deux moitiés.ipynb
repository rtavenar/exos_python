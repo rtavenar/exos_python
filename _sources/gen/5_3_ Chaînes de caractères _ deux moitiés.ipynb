{
 "cells": [
  {
   "cell_type": "markdown",
   "id": "6577ee3a",
   "metadata": {},
   "source": [
    "# 5.3. Chaînes de caractères : deux moitiés\n",
    "\n",
    "## Consignes\n",
    "\n",
    "Étant donnée une chaîne de caractères entrée au clavier, la découper en deux parties égales. Si la longueur est impaire, garder le caractère du milieu dans le premier découpage de sorte que la première chaîne découpée contienne un caractère de plus que la seconde. Ensuite, afficher une nouvelle chaîne de caractères sur une seule ligne avec les deux parties découpées échangées : la seconde moitié en premier et la première moitié en dernier.\n",
    "\n",
    "Peut-on résoudre le problème sans utiliser `if`?\n",
    "\n",
    "## Exemple d'entrée\n",
    "\n",
    "```\n",
    "Qwerty\n",
    "```\n",
    "\n",
    "## Exemple de sortie\n",
    "\n",
    "```\n",
    "rtyQwe\n",
    "```\n",
    "\n",
    "## Aide\n",
    "\n",
    "http://rtavenar.github.io/teaching/python_poly/html/poly.html#les-cha%C3%AEnes-de-caract%C3%A8res\n",
    "\n",
    "https://docs.python.org/fr/3.6/library/stdtypes.html#common-sequence-operations\n",
    "\n",
    "## Squelette"
   ]
  },
  {
   "cell_type": "code",
   "execution_count": 1,
   "id": "b7a0ff58",
   "metadata": {},
   "outputs": [],
   "source": [
    "# Lire une chaîne de caractères :\n",
    "# s = input()\n",
    "# Afficher une chaîne de caractères :\n",
    "# print(s)"
   ]
  },
  {
   "cell_type": "markdown",
   "id": "a66ae0ab",
   "metadata": {},
   "source": [
    "````{dropdown} Proposition de solution\n",
    "\n",
    "```python\n",
    "s = input()\n",
    "mid = (len(s) + 1) // 2\n",
    "print(s[mid:] + s[:mid])\n",
    "```\n",
    "````"
   ]
  }
 ],
 "metadata": {
  "jupytext": {
   "formats": "md:myst",
   "text_representation": {
    "extension": ".md",
    "format_name": "myst"
   }
  },
  "kernelspec": {
   "display_name": "Python 3",
   "language": "python",
   "name": "python3"
  },
  "language_info": {
   "codemirror_mode": {
    "name": "ipython",
    "version": 3
   },
   "file_extension": ".py",
   "mimetype": "text/x-python",
   "name": "python",
   "nbconvert_exporter": "python",
   "pygments_lexer": "ipython3",
   "version": "3.8.11"
  },
  "source_map": [
   11,
   41,
   46
  ]
 },
 "nbformat": 4,
 "nbformat_minor": 5
}