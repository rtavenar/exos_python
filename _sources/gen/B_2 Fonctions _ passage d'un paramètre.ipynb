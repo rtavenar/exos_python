{
 "cells": [
  {
   "cell_type": "markdown",
   "id": "4dd4c0e7",
   "metadata": {},
   "source": [
    "# B.2 Fonctions : passage d'un paramètre\n",
    "\n",
    "**Énoncé**\n",
    "\n",
    "Codez une fonction affichage_bienvenue qui affiche le message \"Bienvenue XXX\" et ajoute le prénom d'une personne ('XXX'). La fonction prend en paramètre le prénom de la personne.\n",
    "\n",
    "**Exemple d'appel de la fonction**\n",
    "\n",
    "```\n",
    "affichage_bienvenue('Régis')\n",
    "```\n",
    "\n",
    "**Exemple de sortie**\n",
    "\n",
    "```\n",
    "Bienvenue Régis\n",
    "```\n",
    "\n",
    "**Aide**\n",
    "\n",
    "http://rtavenar.github.io/teaching/python_poly/html/poly.html#fonctions\n",
    "\n",
    "## Squelette"
   ]
  },
  {
   "cell_type": "code",
   "execution_count": 1,
   "id": "dafcad3c",
   "metadata": {},
   "outputs": [
    {
     "ename": "SyntaxError",
     "evalue": "unexpected EOF while parsing (778223783.py, line 2)",
     "output_type": "error",
     "traceback": [
      "\u001b[0;36m  File \u001b[0;32m\"/tmp/ipykernel_3796/778223783.py\"\u001b[0;36m, line \u001b[0;32m2\u001b[0m\n\u001b[0;31m    # Codez votre fonction ici (et affichez le message de bienvenue !)\u001b[0m\n\u001b[0m                                                                      ^\u001b[0m\n\u001b[0;31mSyntaxError\u001b[0m\u001b[0;31m:\u001b[0m unexpected EOF while parsing\n"
     ]
    }
   ],
   "source": [
    "def affichage_bienvenue():\n",
    "  # Codez votre fonction ici (et affichez le message de bienvenue !)"
   ]
  },
  {
   "cell_type": "markdown",
   "id": "2a88f35d",
   "metadata": {},
   "source": [
    "````{dropdown} Proposition de solution\n",
    "\n",
    "```python\n",
    "def affichage_bienvenue(prenom):\n",
    "  # Codez votre fonction ici (et affichez le message de bienvenue !)\n",
    "  print('Bienvenue '+ prenom)\n",
    "```\n",
    "````"
   ]
  }
 ],
 "metadata": {
  "jupytext": {
   "formats": "md:myst",
   "text_representation": {
    "extension": ".md",
    "format_name": "myst"
   }
  },
  "kernelspec": {
   "display_name": "Python 3",
   "language": "python",
   "name": "python3"
  },
  "language_info": {
   "codemirror_mode": {
    "name": "ipython",
    "version": 3
   },
   "file_extension": ".py",
   "mimetype": "text/x-python",
   "name": "python",
   "nbconvert_exporter": "python",
   "pygments_lexer": "ipython3",
   "version": "3.8.11"
  },
  "source_map": [
   11,
   37,
   40
  ]
 },
 "nbformat": 4,
 "nbformat_minor": 5
}