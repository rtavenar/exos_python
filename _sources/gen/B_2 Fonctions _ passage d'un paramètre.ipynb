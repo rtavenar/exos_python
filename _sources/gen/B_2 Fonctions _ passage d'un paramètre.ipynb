{
 "cells": [
  {
   "cell_type": "markdown",
   "id": "5d720c33",
   "metadata": {},
   "source": [
    "# B.2 Fonctions : passage d'un paramètre\n",
    "\n",
    "**Énoncé**\n",
    "\n",
    "Codez une fonction affichage_bienvenue qui affiche le message \"Bienvenue XXX\" et ajoute le prénom d'une personne ('XXX'). La fonction prend en paramètre le prénom de la personne.\n",
    "\n",
    "**Exemple d'appel de la fonction**\n",
    "\n",
    "```\n",
    "affichage_bienvenue('Régis')\n",
    "```\n",
    "\n",
    "**Exemple de sortie**\n",
    "\n",
    "```\n",
    "Bienvenue Régis\n",
    "```\n",
    "\n",
    "**Aide**\n",
    "\n",
    "https://rtavenar.github.io/poly_python/content/struct.html#fonctions\n",
    "\n",
    "## Squelette"
   ]
  },
  {
   "cell_type": "code",
   "execution_count": 1,
   "id": "8f3ef10e",
   "metadata": {},
   "outputs": [],
   "source": [
    "# def affichage_bienvenue():\n",
    "#   # Codez votre fonction ici (et affichez le message de bienvenue !)"
   ]
  },
  {
   "cell_type": "markdown",
   "id": "58cc9bd6",
   "metadata": {},
   "source": [
    "````{admonition} Cliquez ici pour voir la solution\n",
    ":class: tip, dropdown\n",
    "\n",
    "```python\n",
    "def affichage_bienvenue(prenom):\n",
    "  # Codez votre fonction ici (et affichez le message de bienvenue !)\n",
    "  print('Bienvenue '+ prenom)\n",
    "```\n",
    "````"
   ]
  }
 ],
 "metadata": {
  "jupytext": {
   "formats": "md:myst",
   "text_representation": {
    "extension": ".md",
    "format_name": "myst"
   }
  },
  "kernelspec": {
   "display_name": "Python 3",
   "language": "python",
   "name": "python3"
  },
  "language_info": {
   "codemirror_mode": {
    "name": "ipython",
    "version": 3
   },
   "file_extension": ".py",
   "mimetype": "text/x-python",
   "name": "python",
   "nbconvert_exporter": "python",
   "pygments_lexer": "ipython3",
   "version": "3.8.11"
  },
  "source_map": [
   11,
   37,
   41
  ]
 },
 "nbformat": 4,
 "nbformat_minor": 5
}