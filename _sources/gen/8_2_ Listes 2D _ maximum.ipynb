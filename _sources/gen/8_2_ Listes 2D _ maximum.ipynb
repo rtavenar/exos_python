{
 "cells": [
  {
   "cell_type": "markdown",
   "id": "bc51c2f9",
   "metadata": {},
   "source": [
    "# 8.2. Listes 2D : maximum\n",
    "\n",
    "## Consignes\n",
    "\n",
    "Étant donnés deux entiers entrés au clavier - le nombre de lignes `m` et de colonnes `n` d'une liste 2D `m×n` - suivis de la saisie de `m` lignes de `n` entiers, trouver l'élément maximum de cette liste 2D et afficher ses indices de ligne et de colonne. S'il y a plusieurs éléments maximum identiques sur des lignes différentes, afficher les indices pour celui se trouvant sur la ligne de plus petit indice. S'il y a plusieurs éléments maximum identiques sur une même ligne, afficher les indices pour celui se trouvant sur la colonne de plus petit indice.\n",
    "\n",
    "## Exemple d'entrée\n",
    "\n",
    "```\n",
    "3 4\n",
    "0 3 2 4\n",
    "2 3 **5** 5\n",
    "5 1 2 3\n",
    "```\n",
    "\n",
    "(l'élément maximum répondant aux règles énoncées est surligné)\n",
    "\n",
    "## Exemple de sortie\n",
    "\n",
    "```\n",
    "1 2\n",
    "```\n",
    "\n",
    "## Aide\n",
    "\n",
    "https://docs.python.org/fr/3.6/library/stdtypes.html#lists\n",
    "\n",
    "https://docs.python.org/fr/3.6/tutorial/datastructures.html#list-comprehensions\n",
    "\n",
    "https://docs.python.org/fr/3.6/tutorial/datastructures.html#nested-list-comprehensions\n",
    "\n",
    "## Squelette"
   ]
  },
  {
   "cell_type": "code",
   "execution_count": 1,
   "id": "14c4268c",
   "metadata": {},
   "outputs": [],
   "source": [
    "# Lire une liste 2D d'entiers :\n",
    "# a = [[int(j) for j in input().split()] for i in range(NUM_ROWS)]\n",
    "# Afficher la valeur de a :\n",
    "# print(a)\n",
    "# "
   ]
  },
  {
   "cell_type": "markdown",
   "id": "795d5956",
   "metadata": {},
   "source": [
    "````{admonition} Cliquez ici pour voir la solution\n",
    ":class: tip, dropdown\n",
    "\n",
    "```python\n",
    "m, n = [int(s) for s in input().split()]\n",
    "a = [[int(j) for j in input().split()] for i in range(m)]\n",
    "max_value, max_i, max_j = a[0][0], 0, 0\n",
    "for i in range(m):\n",
    "  for j in range(n):\n",
    "    if a[i][j] > max_value:\n",
    "      max_value, max_i, max_j = a[i][j], i, j\n",
    "print(max_i, max_j)\n",
    "```\n",
    "````"
   ]
  }
 ],
 "metadata": {
  "jupytext": {
   "formats": "md:myst",
   "text_representation": {
    "extension": ".md",
    "format_name": "myst"
   }
  },
  "kernelspec": {
   "display_name": "Python 3",
   "language": "python",
   "name": "python3"
  },
  "language_info": {
   "codemirror_mode": {
    "name": "ipython",
    "version": 3
   },
   "file_extension": ".py",
   "mimetype": "text/x-python",
   "name": "python",
   "nbconvert_exporter": "python",
   "pygments_lexer": "ipython3",
   "version": "3.8.11"
  },
  "source_map": [
   11,
   46,
   53
  ]
 },
 "nbformat": 4,
 "nbformat_minor": 5
}