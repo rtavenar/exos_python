{
 "cells": [
  {
   "cell_type": "markdown",
   "id": "52cede6c",
   "metadata": {},
   "source": [
    "# 7.C. Lists: Huit reines\n",
    "\n",
    "## Consigne\n",
    "\n",
    "Il est possible de placer 8 reines sur un échiquier de 8x8 cases de telle sorte qu'aucune reine n'en menace une autre. Il faut pour cela qu'aucune reine ne partage la même ligne colonne ou diagonale avec une autre reine.\n",
    "\n",
    "\n",
    "Sois une disposition de 8 reines sur un échiquier. Si une paire de reines ne respecte pas la règle ci-dessus, afficher \"YES\", sinon afficher \"NO\". L'entrée correspond aux coordonnées sur l'échiquier des huit reines. Chaque coordonnée correspondra à une ligne d'entrée. Les coordonnées des reines seront représentées par le numéro de la colonne puis le numéro de la ligne d'un échiquer standard.\n",
    "\n",
    "\n",
    "\n",
    "\n",
    "\n",
    "\n",
    "## Exemple d'entrée\n",
    "\n",
    "```\n",
    "1 5\n",
    "2 3\n",
    "3 1\n",
    "4 7\n",
    "5 2\n",
    "6 8\n",
    "7 6\n",
    "8 4\n",
    "```\n",
    "\n",
    "(exemple de la figure ci-dessus)\n",
    "\n",
    "## Exemple de sortie\n",
    "\n",
    "```\n",
    "NO\n",
    "```\n",
    "\n",
    "## Aide\n",
    "\n",
    "https://rtavenar.github.io/poly_python/content/listes.html\n",
    "\n",
    "https://docs.python.org/fr/3/tutorial/datastructures.html#more-on-lists\n",
    "\n",
    "## Squelette"
   ]
  },
  {
   "cell_type": "code",
   "execution_count": 1,
   "id": "c2d1bde4",
   "metadata": {},
   "outputs": [],
   "source": [
    "# Read a list of integers:\n",
    "# a = [int(s) for s in input().split()]\n",
    "# Print a value:\n",
    "# print(a)\n",
    "# "
   ]
  },
  {
   "cell_type": "markdown",
   "id": "54a31b56",
   "metadata": {},
   "source": [
    "````{admonition} Cliquez ici pour voir la solution\n",
    ":class: tip, dropdown\n",
    "\n",
    "```python\n",
    "x = []\n",
    "y = []\n",
    "for i in range(8):\n",
    "  a = [int(s) for s in input().split()]\n",
    "  x.append(a[0])\n",
    "  y.append(a[1])\n",
    "answer = 'NO'\n",
    "for i in range(8):\n",
    "  for j in range(i + 1, 8):\n",
    "    if ((x[i] == x[j]) or\n",
    "        (y[i] == y[j]) or\n",
    "        (abs(x[i] - x[j]) == abs(y[i] - y[j]))):\n",
    "      answer = 'YES'\n",
    "print(answer)\n",
    "```\n",
    "````"
   ]
  }
 ],
 "metadata": {
  "jupytext": {
   "formats": "md:myst",
   "text_representation": {
    "extension": ".md",
    "format_name": "myst"
   }
  },
  "kernelspec": {
   "display_name": "Python 3",
   "language": "python",
   "name": "python3"
  },
  "language_info": {
   "codemirror_mode": {
    "name": "ipython",
    "version": 3
   },
   "file_extension": ".py",
   "mimetype": "text/x-python",
   "name": "python",
   "nbconvert_exporter": "python",
   "pygments_lexer": "ipython3",
   "version": "3.8.11"
  },
  "source_map": [
   11,
   56,
   63
  ]
 },
 "nbformat": 4,
 "nbformat_minor": 5
}