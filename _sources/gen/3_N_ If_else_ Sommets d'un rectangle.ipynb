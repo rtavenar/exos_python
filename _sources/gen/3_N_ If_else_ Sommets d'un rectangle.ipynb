{
 "cells": [
  {
   "cell_type": "markdown",
   "id": "c8b9dc1c",
   "metadata": {},
   "source": [
    "# 3.N. If/else: Sommets d'un rectangle\n",
    "\n",
    "## **Énoncé**\n",
    "\n",
    "Étant données les coordonnés de 3 des sommets d'un rectangle dont les côtés sont parallèles aux axes du repère, afficher les coordonnées du quatrième sommet.\n",
    "\n",
    "\n",
    "\n",
    "\n",
    "## Exemple #1\n",
    "\n",
    "```\n",
    "1\n",
    "5\n",
    "7\n",
    "5\n",
    "1\n",
    "10\n",
    "```\n",
    "\n",
    "les 3 sommets sont (1, 5), (7, 5), (1, 10)\n",
    "\n",
    "## Exemple de sortie #1\n",
    "\n",
    "```\n",
    "7\n",
    "10\n",
    "```\n",
    "\n",
    "## Exemple d'entrée #2\n",
    "\n",
    "```\n",
    "1\n",
    "5\n",
    "7\n",
    "10\n",
    "1\n",
    "10\n",
    "```\n",
    "\n",
    "## Exemple de sortie #2\n",
    "\n",
    "```\n",
    "7\n",
    "5\n",
    "```\n",
    "\n",
    "## Aide\n",
    "\n",
    "https://rtavenar.github.io/poly_python/content/struct.html#structures-de-controle\n",
    "\n",
    "## Squelette"
   ]
  },
  {
   "cell_type": "code",
   "execution_count": 1,
   "id": "fa489f8d",
   "metadata": {},
   "outputs": [],
   "source": [
    "# Lire un entier :\n",
    "# a = int(input())\n",
    "# Afficher une valeur :\n",
    "# print(a)"
   ]
  },
  {
   "cell_type": "markdown",
   "id": "bddbb9dc",
   "metadata": {},
   "source": [
    "````{admonition} Cliquez ici pour voir la solution\n",
    ":class: tip, dropdown\n",
    "\n",
    "```python\n",
    "x1 = int(input())\n",
    "y1 = int(input())\n",
    "x2 = int(input())\n",
    "y2 = int(input())\n",
    "x3 = int(input())\n",
    "y3 = int(input())\n",
    "\n",
    "if x1 == x2:\n",
    "  x4 = x3\n",
    "elif x1 == x3:\n",
    "  x4 = x2\n",
    "else:\n",
    "  x4 = x1\n",
    "  \n",
    "if y1 == y2:\n",
    "  y4 = y3\n",
    "elif y1 == y3:\n",
    "  y4 = y2\n",
    "else:\n",
    "  y4 = y1\n",
    "  \n",
    "print(x4)\n",
    "print(y4)\n",
    "```\n",
    "````"
   ]
  }
 ],
 "metadata": {
  "jupytext": {
   "formats": "md:myst",
   "text_representation": {
    "extension": ".md",
    "format_name": "myst"
   }
  },
  "kernelspec": {
   "display_name": "Python 3",
   "language": "python",
   "name": "python3"
  },
  "language_info": {
   "codemirror_mode": {
    "name": "ipython",
    "version": 3
   },
   "file_extension": ".py",
   "mimetype": "text/x-python",
   "name": "python",
   "nbconvert_exporter": "python",
   "pygments_lexer": "ipython3",
   "version": "3.8.11"
  },
  "source_map": [
   11,
   66,
   72
  ]
 },
 "nbformat": 4,
 "nbformat_minor": 5
}