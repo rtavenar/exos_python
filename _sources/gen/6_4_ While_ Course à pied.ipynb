{
 "cells": [
  {
   "cell_type": "markdown",
   "id": "2630e1d8",
   "metadata": {},
   "source": [
    "# 6.4. While: Course à pied\n",
    "\n",
    "## **Énoncé**\n",
    "\n",
    "Vous êtes un athlète qui se prépare pour une course. Le premier jour de votre entrainement, vous courez _x_ kilomètres, et le jour de la course vous devrez être capable de courir _y_ kilomètres.\n",
    "\n",
    "Écrivez un programme qui lit les nombres x et y dans cet ordre et affiche le nombre de jours d'entrainements requis pour atteindre le but y sachant que vous augmentez votre distance d'entrainement  10% chaque jour.\n",
    "\n",
    "## **Exemple d'entrée**\n",
    "\n",
    "```\n",
    "10\n",
    "30\n",
    "```\n",
    "\n",
    "## **Exemple de sortie**\n",
    "\n",
    "```\n",
    "13\n",
    "```\n",
    "\n",
    "## Aide\n",
    "\n",
    "http://rtavenar.github.io/teaching/python_poly/html/poly.html#boucles-while\n",
    "\n",
    "## Squelette"
   ]
  },
  {
   "cell_type": "code",
   "execution_count": 1,
   "id": "ccbe5f02",
   "metadata": {},
   "outputs": [],
   "source": [
    "# Read an integer:\n",
    "# a = int(input())\n",
    "# Print a value:\n",
    "# print(a)"
   ]
  },
  {
   "cell_type": "markdown",
   "id": "1f5d8dc1",
   "metadata": {},
   "source": [
    "````{dropdown} Proposition de solution\n",
    "\n",
    "```python\n",
    "x = int(input())\n",
    "y = int(input())\n",
    "num_days = 1\n",
    "while x < y:\n",
    "  x *= 1.1\n",
    "  num_days += 1\n",
    "print(num_days)\n",
    "```\n",
    "````"
   ]
  }
 ],
 "metadata": {
  "jupytext": {
   "formats": "md:myst",
   "text_representation": {
    "extension": ".md",
    "format_name": "myst"
   }
  },
  "kernelspec": {
   "display_name": "Python 3",
   "language": "python",
   "name": "python3"
  },
  "language_info": {
   "codemirror_mode": {
    "name": "ipython",
    "version": 3
   },
   "file_extension": ".py",
   "mimetype": "text/x-python",
   "name": "python",
   "nbconvert_exporter": "python",
   "pygments_lexer": "ipython3",
   "version": "3.8.11"
  },
  "source_map": [
   11,
   40,
   45
  ]
 },
 "nbformat": 4,
 "nbformat_minor": 5
}