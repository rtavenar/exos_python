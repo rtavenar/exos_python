{
 "cells": [
  {
   "cell_type": "markdown",
   "id": "80437e3b",
   "metadata": {},
   "source": [
    "# 3.7. If/else: Palindrome à 4 chiffres\n",
    "\n",
    "## **Énoncé**\n",
    "\n",
    "Étant donné un nombre à 4 chiffres, affichez \"OUI\" si c'est un palindrome (c'est-à-dire qu'on obtient la même valeur en le lisant de droite à gauche ou de gauche à droite) et \"NON\" sinon.\n",
    "\n",
    "## Exemple d'entrée #1\n",
    "\n",
    "```\n",
    "1221\n",
    "```\n",
    "\n",
    "## Exemple de sortie #1\n",
    "\n",
    "```\n",
    "OUI\n",
    "```\n",
    "\n",
    "## Exemple d'entrée #2\n",
    "\n",
    "```\n",
    "1234\n",
    "```\n",
    "\n",
    "## Exemple de sortie #2\n",
    "\n",
    "```\n",
    "NON\n",
    "```\n",
    "\n",
    "## Aide\n",
    "\n",
    "https://rtavenar.github.io/poly_python/content/struct.html#structures-de-controle\n",
    "\n",
    "## Squelette"
   ]
  },
  {
   "cell_type": "code",
   "execution_count": 1,
   "id": "c6bab36c",
   "metadata": {},
   "outputs": [],
   "source": [
    "# Lire un entier :\n",
    "# a = int(input())\n",
    "# Afficher une valeur :\n",
    "# print(a)"
   ]
  },
  {
   "cell_type": "markdown",
   "id": "9cba7715",
   "metadata": {},
   "source": [
    "````{admonition} Cliquez ici pour voir la solution\n",
    ":class: tip, dropdown\n",
    "\n",
    "```python\n",
    "x = int(input())\n",
    "milliers = x // 1000\n",
    "centaines = x // 100 % 10\n",
    "dizaines = x // 10 % 10\n",
    "unites = x % 10\n",
    "if milliers == unites and centaines == dizaines:\n",
    "  print('OUI')\n",
    "else:\n",
    "  print('NON')\n",
    "```\n",
    "````"
   ]
  }
 ],
 "metadata": {
  "jupytext": {
   "formats": "md:myst",
   "text_representation": {
    "extension": ".md",
    "format_name": "myst"
   }
  },
  "kernelspec": {
   "display_name": "Python 3",
   "language": "python",
   "name": "python3"
  },
  "language_info": {
   "codemirror_mode": {
    "name": "ipython",
    "version": 3
   },
   "file_extension": ".py",
   "mimetype": "text/x-python",
   "name": "python",
   "nbconvert_exporter": "python",
   "pygments_lexer": "ipython3",
   "version": "3.8.11"
  },
  "source_map": [
   11,
   49,
   55
  ]
 },
 "nbformat": 4,
 "nbformat_minor": 5
}