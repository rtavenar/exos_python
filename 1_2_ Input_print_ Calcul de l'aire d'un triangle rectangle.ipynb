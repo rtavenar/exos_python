{
 "cells": [
  {
   "cell_type": "markdown",
   "id": "c013bf95",
   "metadata": {},
   "source": [
    "# 1.2. Input/print: Calcul de l'aire d'un triangle rectangle\n",
    "\n",
    "## Consigne\n",
    "\n",
    "Écrire un programme qui lit la longueur de la base et la hauteur d'un triangle rectangle et affiche l'aire. Chaque nombre sera entré séparément.\n",
    "\n",
    "\n",
    "\n",
    "## Exemple d'entrée\n",
    "\n",
    "```\n",
    "3\n",
    "5\n",
    "```\n",
    "\n",
    "## Exemple de sortie\n",
    "\n",
    "```\n",
    "7.5\n",
    "```\n",
    "\n",
    "## Aide\n",
    "\n",
    "https://rtavenar.github.io/poly_python/content/intro.html\n",
    "\n",
    "https://docs.python.org/fr/3/tutorial/inputoutput.html\n",
    "\n",
    "## Codez dans la cellule ci-dessous"
   ]
  },
  {
   "cell_type": "code",
   "execution_count": null,
   "id": "1d7ee32f",
   "metadata": {},
   "outputs": [],
   "source": [
    "# Lecture des nombres b et h comme ci-dessous :\n",
    "b = int(input())\n",
    "\n",
    "# Afficher le résultat avec : print()\n"
   ]
  },
  {
   "cell_type": "markdown",
   "id": "e2590d8f",
   "metadata": {},
   "source": [
    "<details><summary>Cliquez ici pour voir la solution</summary>\n",
    "\n",
    "```python\n",
    "b = int(input())\n",
    "h = int(input())\n",
    "print(b * h / 2)\n",
    "```\n",
    "</details>"
   ]
  }
 ],
 "metadata": {
  "jupytext": {
   "formats": "md:myst"
  },
  "kernelspec": {
   "display_name": "Python 3",
   "language": "python",
   "name": "python3"
  }
 },
 "nbformat": 4,
 "nbformat_minor": 5
}
