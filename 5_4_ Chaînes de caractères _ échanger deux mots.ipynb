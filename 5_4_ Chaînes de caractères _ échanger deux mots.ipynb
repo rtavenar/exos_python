{
 "cells": [
  {
   "cell_type": "markdown",
   "id": "23118276",
   "metadata": {},
   "source": [
    "# 5.4. Chaînes de caractères : échanger deux mots\n",
    "\n",
    "## Consignes\n",
    "\n",
    "Étant donnée une chaîne de caractères entrée au clavier formée exactement de deux mots séparés par un espace, afficher une nouvelle chaîne avec le premier et le second mot échangés et séparés par un espace : le second mot est affiché en premier. On considérera comme un mot toute série de caractères adjacents différents d'un espace.\n",
    "\n",
    "\n",
    "Peut-on résoudre le problème sans utiliser `if-else` et une boucle?\n",
    "\n",
    "## Exemple d'entrée\n",
    "\n",
    "```\n",
    "Hello, world!\n",
    "```\n",
    "\n",
    "## Exemple de sortie\n",
    "\n",
    "```\n",
    "world! Hello,\n",
    "```\n",
    "\n",
    "## Aide\n",
    "\n",
    "https://rtavenar.github.io/poly_python/content/intro.html#les-cha%C3%AEnes-de-caract%C3%A8res\n",
    "\n",
    "https://docs.python.org/fr/3.6/library/stdtypes.html#str.split\n",
    "\n",
    "## Codez dans la cellule ci-dessous"
   ]
  },
  {
   "cell_type": "code",
   "execution_count": null,
   "id": "b3357055",
   "metadata": {},
   "outputs": [],
   "source": [
    "# Lire une chaîne de caractères :\n",
    "# s = input()\n",
    "# Afficher une chaîne de caractères :\n",
    "# print(s)\n"
   ]
  },
  {
   "cell_type": "markdown",
   "id": "a1e2fef2",
   "metadata": {},
   "source": [
    "<details><summary>Cliquez ici pour voir la solution</summary>\n",
    "\n",
    "```python\n",
    "word1, word2 = input().split()\n",
    "print(word2, word1)\n",
    "```\n",
    "</details>"
   ]
  }
 ],
 "metadata": {
  "jupytext": {
   "formats": "md:myst"
  },
  "kernelspec": {
   "display_name": "Python 3",
   "language": "python",
   "name": "python3"
  }
 },
 "nbformat": 4,
 "nbformat_minor": 5
}
