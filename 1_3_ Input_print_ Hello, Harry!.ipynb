{
 "cells": [
  {
   "cell_type": "markdown",
   "id": "52575b7a",
   "metadata": {},
   "source": [
    "# 1.3. Input/print: Hello, Harry!\n",
    "\n",
    "## Consigne\n",
    "\n",
    "Écrire un programme qui accueille les utilisateurs avec 'Hello', une virgule, le prénom de l'utilisateur et un point d'exclamation à la fin. Cf. exemple ci-dessous.\n",
    "\n",
    "**Attention :** La sortie de votre programme doit correspondre strictement à la description ci-dessus. Il n'y a pas d'espace entre le point d'exclamation et le prénom. Vous pouvez utiliser l'opérateur \"+\" pour concaténer deux chaînes de caractères.\n",
    "\n",
    "## Exemple d'entrée\n",
    "\n",
    "```\n",
    "Harry\n",
    "```\n",
    "\n",
    "## Exemple de sortie\n",
    "\n",
    "```\n",
    "Hello, Harry!\n",
    "```\n",
    "\n",
    "## Aide\n",
    "\n",
    "https://rtavenar.github.io/poly_python/content/intro.html\n",
    "\n",
    "https://docs.python.org/fr/3/tutorial/inputoutput.html\n",
    "\n",
    "## Codez dans la cellule ci-dessous"
   ]
  },
  {
   "cell_type": "code",
   "execution_count": null,
   "id": "4494efb2",
   "metadata": {},
   "outputs": [],
   "source": [
    "# Lire une chaîne de caractères:\n",
    "# a = input()\n",
    "# Afficher une chaîne de caractères:\n",
    "# print(a)\n"
   ]
  },
  {
   "cell_type": "markdown",
   "id": "006f9471",
   "metadata": {},
   "source": [
    "<details><summary>Cliquez ici pour voir la solution</summary>\n",
    "\n",
    "```python\n",
    "print('Hello, ' + input() + '!')\n",
    "```\n",
    "</details>"
   ]
  }
 ],
 "metadata": {
  "jupytext": {
   "formats": "md:myst"
  },
  "kernelspec": {
   "display_name": "Python 3",
   "language": "python",
   "name": "python3"
  }
 },
 "nbformat": 4,
 "nbformat_minor": 5
}
