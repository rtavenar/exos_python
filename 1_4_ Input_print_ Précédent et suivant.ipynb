{
 "cells": [
  {
   "cell_type": "markdown",
   "id": "dcb7abc9",
   "metadata": {},
   "source": [
    "# 1.4. Input/print: Précédent et suivant\n",
    "\n",
    "## Consigne\n",
    "\n",
    "Écrire un programme qui lit un nombre entier et affiche le nombre précédent et le nombre suivant (Cf. exemple ci-dessous).\n",
    "\n",
    "## Exemple d'entrée\n",
    "\n",
    "```\n",
    "179\n",
    "```\n",
    "\n",
    "## Exemple de sortie\n",
    "\n",
    "```\n",
    "Le nombre suivant 179 est 180\n",
    "Le nombre précédant 179 est 178\n",
    "```\n",
    "\n",
    "## Aide\n",
    "\n",
    "https://rtavenar.github.io/poly_python/content/intro.html\n",
    "\n",
    "https://docs.python.org/fr/3/tutorial/inputoutput.html\n",
    "\n",
    "## Codez dans la cellule ci-dessous"
   ]
  },
  {
   "cell_type": "code",
   "execution_count": null,
   "id": "477226e9",
   "metadata": {},
   "outputs": [],
   "source": [
    "# Lire un entier :\n",
    "# a = int(input())\n",
    "# Afficher la valeur de a :\n",
    "# print(a)\n"
   ]
  },
  {
   "cell_type": "markdown",
   "id": "5d0c88d3",
   "metadata": {},
   "source": [
    "<details><summary>Cliquez ici pour voir la solution</summary>\n",
    "\n",
    "```python\n",
    "n = int(input())\n",
    "print('Le nombre suivant ' + str(n) + ' est ' + str(n + 1))\n",
    "print('Le nombre précédant ' + str(n) + ' est ' + str(n - 1))\n",
    "```\n",
    "</details>"
   ]
  }
 ],
 "metadata": {
  "jupytext": {
   "formats": "md:myst"
  },
  "kernelspec": {
   "display_name": "Python 3",
   "language": "python",
   "name": "python3"
  }
 },
 "nbformat": 4,
 "nbformat_minor": 5
}
