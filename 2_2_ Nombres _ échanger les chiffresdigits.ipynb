{
 "cells": [
  {
   "cell_type": "markdown",
   "id": "8ec54fd4",
   "metadata": {},
   "source": [
    "# 2.2. Nombres : échanger les chiffresdigits\n",
    "\n",
    "## Consignes\n",
    "\n",
    "Étant donné un entier à deux chiffres, échanger ses chiffres et afficher le résultat.\n",
    "\n",
    "## Exemple d'entrée\n",
    "\n",
    "```\n",
    "79\n",
    "```\n",
    "\n",
    "## Exemple de sortie\n",
    "\n",
    "```\n",
    "97\n",
    "```\n",
    "\n",
    "## Aide\n",
    "\n",
    "https://docs.python.org/fr/3/reference/expressions.html#binary-arithmetic-operations\n",
    "\n",
    "## Codez dans la cellule ci-dessous"
   ]
  },
  {
   "cell_type": "code",
   "execution_count": null,
   "id": "e79aeafe",
   "metadata": {},
   "outputs": [],
   "source": [
    "# Lire un entier :\n",
    "# a = int(input())\n",
    "# Afficher la valeur de a :\n",
    "# print(a)\n"
   ]
  },
  {
   "cell_type": "markdown",
   "id": "fc0b1b94",
   "metadata": {},
   "source": [
    "<details><summary>Cliquez ici pour voir la solution</summary>\n",
    "\n",
    "```python\n",
    "a = int(input())\n",
    "print(a % 10 * 10 + a // 10)\n",
    "```\n",
    "</details>"
   ]
  }
 ],
 "metadata": {
  "jupytext": {
   "formats": "md:myst"
  },
  "kernelspec": {
   "display_name": "Python 3",
   "language": "python",
   "name": "python3"
  }
 },
 "nbformat": 4,
 "nbformat_minor": 5
}
