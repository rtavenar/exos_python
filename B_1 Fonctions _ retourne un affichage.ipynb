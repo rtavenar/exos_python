{
 "cells": [
  {
   "cell_type": "markdown",
   "id": "0fd68c84",
   "metadata": {},
   "source": [
    "# B.1 Fonctions : retourne un affichage\n",
    "\n",
    "**Énoncé**\n",
    "\n",
    "\n",
    "Codez une fonction `affichage_bienvenue` qui affiche le message \"Bienvenue\". La fonction ne prend aucun paramètre.\n",
    "\n",
    "\n",
    "**Exemple d'appel de la fonction**\n",
    "\n",
    "\n",
    "```\n",
    "affichage_bienvenue()\n",
    "```\n",
    "\n",
    "**Exemple de sortie**\n",
    "\n",
    "\n",
    "```\n",
    "Bienvenue\n",
    "```\n",
    "\n",
    "**Aide**\n",
    "\n",
    "https://rtavenar.github.io/poly_python/content/struct.html#fonctions\n",
    "\n",
    "## Codez dans la cellule ci-dessous"
   ]
  },
  {
   "cell_type": "code",
   "execution_count": null,
   "id": "6eef31f0",
   "metadata": {},
   "outputs": [],
   "source": [
    "def affichage_bienvenue():\n",
    "  # Codez votre fonction ici (et affichez le message de bienvenue !)"
   ]
  },
  {
   "cell_type": "markdown",
   "id": "3c21841c",
   "metadata": {},
   "source": [
    "<details><summary>Cliquez ici pour voir la solution</summary>\n",
    "\n",
    "```python\n",
    "def affichage_bienvenue():\n",
    "  # Codez votre fonction ici (et affichez le message de bienvenue !)\n",
    "  print('Bienvenue')\n",
    "```\n",
    "</details>"
   ]
  }
 ],
 "metadata": {
  "jupytext": {
   "formats": "md:myst"
  },
  "kernelspec": {
   "display_name": "Python 3",
   "language": "python",
   "name": "python3"
  }
 },
 "nbformat": 4,
 "nbformat_minor": 5
}
