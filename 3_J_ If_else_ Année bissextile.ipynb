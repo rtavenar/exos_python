{
 "cells": [
  {
   "cell_type": "markdown",
   "id": "cbf00082",
   "metadata": {},
   "source": [
    "# 3.J. If/else: Année bissextile\n",
    "\n",
    "## **Énoncé**\n",
    "\n",
    "Étant donné une année, votre programme devra afficher `BISSEXTILE` s'il s'agit d'une année bissextile et  `NORMALE` sinon.\n",
    "\n",
    "https://fr.wikipedia.org/wiki/Année_bissextile\n",
    "\n",
    "**Attention.** Les mots `BISSEXTILE` et `NORMALE` devront être écrits en majuscules.\n",
    "\n",
    "## Exemple d'entrée\n",
    "\n",
    "```\n",
    "2012\n",
    "```\n",
    "\n",
    "## Exemple de sortie\n",
    "\n",
    "```\n",
    "BISSEXTILE\n",
    "```\n",
    "\n",
    "## Aide\n",
    "\n",
    "https://rtavenar.github.io/poly_python/content/struct.html#structures-de-controle\n",
    "\n",
    "## Codez dans la cellule ci-dessous"
   ]
  },
  {
   "cell_type": "code",
   "execution_count": null,
   "id": "28549f09",
   "metadata": {},
   "outputs": [],
   "source": [
    "# Lire un entier :\n",
    "# a = int(input())\n",
    "# Afficher une valeur :\n",
    "# print(a)"
   ]
  },
  {
   "cell_type": "markdown",
   "id": "d5409ed7",
   "metadata": {},
   "source": [
    "<details><summary>Cliquez ici pour voir la solution</summary>\n",
    "\n",
    "```python\n",
    "year = int(input())\n",
    "\n",
    "if year % 4 == 0 and year % 100 != 0 or year % 400 == 0:\n",
    "  print('BISSEXTILE')\n",
    "else:\n",
    "  print('NORMALE')\n",
    "```\n",
    "</details>"
   ]
  }
 ],
 "metadata": {
  "jupytext": {
   "formats": "md:myst"
  },
  "kernelspec": {
   "display_name": "Python 3",
   "language": "python",
   "name": "python3"
  }
 },
 "nbformat": 4,
 "nbformat_minor": 5
}
