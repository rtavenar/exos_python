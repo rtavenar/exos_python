{
 "cells": [
  {
   "cell_type": "markdown",
   "id": "da30ae93",
   "metadata": {},
   "source": [
    "# 6.3. While: Puissances de 2\n",
    "\n",
    "## **Énoncé**\n",
    "\n",
    "Étant donné un entier X, on cherche le plus grand entier **n** pour lequel **2ⁿ** est inférieur ou égal à X. Affichez **n** et **2ⁿ**.\n",
    "\n",
    "\n",
    "## **Exemple d'entrée**\n",
    "\n",
    "```\n",
    "50\n",
    "```\n",
    "\n",
    "## **Exemple de sortie**\n",
    "\n",
    "```\n",
    "5 32\n",
    "```\n",
    "\n",
    "## Aide\n",
    "\n",
    "https://rtavenar.github.io/poly_python/content/struct.html#boucles-while\n",
    "\n",
    "## Codez dans la cellule ci-dessous"
   ]
  },
  {
   "cell_type": "code",
   "execution_count": null,
   "id": "91f0808e",
   "metadata": {},
   "outputs": [],
   "source": [
    "# Read an integer:\n",
    "# a = int(input())\n",
    "# Print a value:\n",
    "# print(a)\n"
   ]
  },
  {
   "cell_type": "markdown",
   "id": "9bb292a3",
   "metadata": {},
   "source": [
    "<details><summary>Cliquez ici pour voir la solution</summary>\n",
    "\n",
    "```python\n",
    "x = int(input())\n",
    "n = 1\n",
    "while 2 ** n <= x:\n",
    "  n += 1\n",
    "print(n - 1, 2 ** (n - 1))\n",
    "```\n",
    "</details>"
   ]
  }
 ],
 "metadata": {
  "jupytext": {
   "formats": "md:myst"
  },
  "kernelspec": {
   "display_name": "Python 3",
   "language": "python",
   "name": "python3"
  }
 },
 "nbformat": 4,
 "nbformat_minor": 5
}
