{
 "cells": [
  {
   "cell_type": "markdown",
   "id": "34dfcb9a",
   "metadata": {},
   "source": [
    "# 2.A. Nombres : jour de la semaine\n",
    "\n",
    "## Consignes\n",
    "\n",
    "Les jours de la semaine sont numérotés de la manière suivantes : 0 —Dimanche, 1 — Lundi, 2 — Mardi, ..., 6 — Samedi. Le programme reçoit un entier _K_ compris entre 1 et 365. Trouver et afficher le numéro du jour de la semaine du _K_-ième jour de l'année sachant que le 1er janvier de cette année est un jeudi.\n",
    "\n",
    "\n",
    "## Exemple d'entrée\n",
    "\n",
    "```\n",
    "1\n",
    "```\n",
    "\n",
    "## Exemple de sortie\n",
    "\n",
    "```\n",
    "4\n",
    "```\n",
    "\n",
    "## Aide\n",
    "\n",
    "https://docs.python.org/fr/3/reference/expressions.html#binary-arithmetic-operations\n",
    "\n",
    "## Codez dans la cellule ci-dessous"
   ]
  },
  {
   "cell_type": "code",
   "execution_count": null,
   "id": "0d7c324a",
   "metadata": {},
   "outputs": [],
   "source": [
    "# Lire un entier :\n",
    "# a = int(input())\n",
    "# Afficher la valeur de a :\n",
    "# print(a)\n"
   ]
  },
  {
   "cell_type": "markdown",
   "id": "1072dfff",
   "metadata": {},
   "source": [
    "<details><summary>Cliquez ici pour voir la solution</summary>\n",
    "\n",
    "```python\n",
    "print((int(input()) + 3) % 7)\n",
    "```\n",
    "</details>"
   ]
  }
 ],
 "metadata": {
  "jupytext": {
   "formats": "md:myst"
  },
  "kernelspec": {
   "display_name": "Python 3",
   "language": "python",
   "name": "python3"
  }
 },
 "nbformat": 4,
 "nbformat_minor": 5
}
