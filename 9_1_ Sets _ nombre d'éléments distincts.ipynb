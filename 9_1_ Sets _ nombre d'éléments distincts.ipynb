{
 "cells": [
  {
   "cell_type": "markdown",
   "id": "e35d7532",
   "metadata": {},
   "source": [
    "# 9.1. Sets : nombre d'éléments distincts\n",
    "\n",
    "## Consignes\n",
    "\n",
    "Étant donnée une série d'entiers (séparés par des espaces) entrée au clavier, compter combien de nombres différents elle contient et afficher ce comptage. Ce problème peut être résolu en une seule ligne.\n",
    "\n",
    "## Exemple d'entrée\n",
    "\n",
    "```\n",
    "1 2 3 2 1\n",
    "```\n",
    "\n",
    "## Exemple de sortie\n",
    "\n",
    "```\n",
    "3\n",
    "```\n",
    "\n",
    "## Aide\n",
    "\n",
    "https://docs.python.org/fr/3.6/library/stdtypes.html#set-types-set-frozenset\n",
    "\n",
    "## Codez dans la cellule ci-dessous"
   ]
  },
  {
   "cell_type": "code",
   "execution_count": null,
   "id": "476ff07a",
   "metadata": {},
   "outputs": [],
   "source": [
    "# Lire une chaîne de caractères au clavier :\n",
    "# s = input()\n",
    "# Afficher la valeur de s :\n",
    "# print(s)\n"
   ]
  },
  {
   "cell_type": "markdown",
   "id": "73f2458b",
   "metadata": {},
   "source": [
    "<details><summary>Cliquez ici pour voir la solution</summary>\n",
    "\n",
    "```python\n",
    "print(len(set(input().split())))\n",
    "```\n",
    "</details>"
   ]
  }
 ],
 "metadata": {
  "jupytext": {
   "formats": "md:myst"
  },
  "kernelspec": {
   "display_name": "Python 3",
   "language": "python",
   "name": "python3"
  }
 },
 "nbformat": 4,
 "nbformat_minor": 5
}
