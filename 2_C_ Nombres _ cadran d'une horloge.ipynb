{
 "cells": [
  {
   "cell_type": "markdown",
   "id": "783fe313",
   "metadata": {},
   "source": [
    "# 2.C. Nombres : cadran d'une horloge\n",
    "\n",
    "## Consignes\n",
    "\n",
    "L'aiguille des heures d'une horloge analogique a tourné de α degrés depuis minuit. Déterminer de combien de degrés l'aiguille des minutes a tourné depuis l'heure en cours. Les entrées et sorties de ce programme sont des entiers.\n",
    "\n",
    "## Exemple d'entrée (angle en degrés de l'aiguille des heures)\n",
    "\n",
    "```\n",
    "190\n",
    "```\n",
    "\n",
    "(6h20)\n",
    "\n",
    "## Exemple de sortie (angle en degrés de l'aiguille des minutes)\n",
    "\n",
    "```\n",
    "120\n",
    "```\n",
    "\n",
    "(20 min)\n",
    "\n",
    "## Aide\n",
    "\n",
    "https://docs.python.org/fr/3/reference/expressions.html#binary-arithmetic-operations\n",
    "\n",
    "## Codez dans la cellule ci-dessous"
   ]
  },
  {
   "cell_type": "code",
   "execution_count": null,
   "id": "a4c230a2",
   "metadata": {},
   "outputs": [],
   "source": [
    "# Lire un entier :\n",
    "# a = int(input())\n",
    "# Afficher la valeur de a :\n",
    "# print(a)\n"
   ]
  },
  {
   "cell_type": "markdown",
   "id": "8cdef451",
   "metadata": {},
   "source": [
    "<details><summary>Cliquez ici pour voir la solution</summary>\n",
    "\n",
    "```python\n",
    "print(int(input()) % 30 * 12)\n",
    "```\n",
    "</details>"
   ]
  }
 ],
 "metadata": {
  "jupytext": {
   "formats": "md:myst"
  },
  "kernelspec": {
   "display_name": "Python 3",
   "language": "python",
   "name": "python3"
  }
 },
 "nbformat": 4,
 "nbformat_minor": 5
}
