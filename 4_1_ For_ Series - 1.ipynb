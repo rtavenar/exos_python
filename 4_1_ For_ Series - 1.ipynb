{
 "cells": [
  {
   "cell_type": "markdown",
   "id": "6c11dff0",
   "metadata": {},
   "source": [
    "# 4.1. For: Series - 1\n",
    "\n",
    "## Consigne\n",
    "\n",
    "Soit deux entiers A et B (A ≤ B) donnés en entrée. Afficher tous les nombres de A à B bornes comprises.\n",
    "\n",
    "## Exemple d'entrée\n",
    "\n",
    "```\n",
    "1\n",
    "10\n",
    "```\n",
    "\n",
    "## Exemple de sortie\n",
    "\n",
    "```\n",
    "1 2 3 4 5 6 7 8 9 10\n",
    "```\n",
    "\n",
    "## Aide\n",
    "\n",
    "https://rtavenar.github.io/poly_python/content/struct.html#boucles-for\n",
    "\n",
    "https://docs.python.org/fr/3/reference/compound_stmts.html#for\n",
    "\n",
    "## Codez dans la cellule ci-dessous"
   ]
  },
  {
   "cell_type": "code",
   "execution_count": null,
   "id": "29674f4b",
   "metadata": {},
   "outputs": [],
   "source": [
    "# Read an integer:\n",
    "# a = int(input())\n",
    "# Print a value:\n",
    "# print(a)\n"
   ]
  },
  {
   "cell_type": "markdown",
   "id": "4cd4bda2",
   "metadata": {},
   "source": [
    "<details><summary>Cliquez ici pour voir la solution</summary>\n",
    "\n",
    "```python\n",
    "a = int(input())\n",
    "b = int(input())\n",
    "\n",
    "for i in range(a, b + 1):\n",
    "  print(i, end=' ')\n",
    "```\n",
    "</details>"
   ]
  }
 ],
 "metadata": {
  "jupytext": {
   "formats": "md:myst"
  },
  "kernelspec": {
   "display_name": "Python 3",
   "language": "python",
   "name": "python3"
  }
 },
 "nbformat": 4,
 "nbformat_minor": 5
}
