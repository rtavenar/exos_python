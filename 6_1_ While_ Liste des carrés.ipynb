{
 "cells": [
  {
   "cell_type": "markdown",
   "id": "84f7f83c",
   "metadata": {},
   "source": [
    "# 6.1. While: Liste des carrés\n",
    "\n",
    "## Énoncé\n",
    "\n",
    "Pour un entier N donné, affichez (dans l'ordre) tous les carrés d'entiers positifs inférieurs ou égaux à N.\n",
    "\n",
    "## Exemple d'entrée\n",
    "\n",
    "```\n",
    "50\n",
    "```\n",
    "\n",
    "## **Exemple de sortie**\n",
    "\n",
    "```\n",
    "1 4 9 16 25 36 49\n",
    "```\n",
    "\n",
    "## Aide\n",
    "\n",
    "https://rtavenar.github.io/poly_python/content/struct.html#boucles-while\n",
    "\n",
    "## Codez dans la cellule ci-dessous"
   ]
  },
  {
   "cell_type": "code",
   "execution_count": null,
   "id": "2bd8fc95",
   "metadata": {},
   "outputs": [],
   "source": [
    "# Read an integer:\n",
    "# a = int(input())\n",
    "# Print a value:\n",
    "# print(a)\n"
   ]
  },
  {
   "cell_type": "markdown",
   "id": "3b358340",
   "metadata": {},
   "source": [
    "<details><summary>Cliquez ici pour voir la solution</summary>\n",
    "\n",
    "```python\n",
    "n = int(input())\n",
    "i = 1\n",
    "while i ** 2 <= n:\n",
    "  print(i ** 2, end=' ')\n",
    "  i += 1\n",
    "```\n",
    "</details>"
   ]
  }
 ],
 "metadata": {
  "jupytext": {
   "formats": "md:myst"
  },
  "kernelspec": {
   "display_name": "Python 3",
   "language": "python",
   "name": "python3"
  }
 },
 "nbformat": 4,
 "nbformat_minor": 5
}
