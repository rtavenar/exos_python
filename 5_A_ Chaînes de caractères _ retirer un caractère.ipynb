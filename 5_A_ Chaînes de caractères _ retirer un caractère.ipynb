{
 "cells": [
  {
   "cell_type": "markdown",
   "id": "8ca9aeb0",
   "metadata": {},
   "source": [
    "# 5.A. Chaînes de caractères : retirer un caractère\n",
    "\n",
    "## Consignes\n",
    "\n",
    "Étant donnée une chaîne de caractères entrée au clavier, retirer tous les caractères `@` de cette chaîne.\n",
    "\n",
    "## Exemple d'entrée\n",
    "\n",
    "```\n",
    "Bilbo.Baggins@bagend.hobbiton.shire.me\n",
    "```\n",
    "\n",
    "## Exemple de sortie\n",
    "\n",
    "```\n",
    "Bilbo.Bagginsbagend.hobbiton.shire.me\n",
    "```\n",
    "\n",
    "## Aide\n",
    "\n",
    "https://docs.python.org/fr/3.6/library/stdtypes.html#str.replace\n",
    "\n",
    "## Codez dans la cellule ci-dessous"
   ]
  },
  {
   "cell_type": "code",
   "execution_count": null,
   "id": "28455086",
   "metadata": {},
   "outputs": [],
   "source": [
    "# Lire une chaîne de caractères :\n",
    "# s = input()\n",
    "# Afficher une chaîne de caractères :\n",
    "# print(s)\n"
   ]
  },
  {
   "cell_type": "markdown",
   "id": "2ff78f07",
   "metadata": {},
   "source": [
    "<details><summary>Cliquez ici pour voir la solution</summary>\n",
    "\n",
    "```python\n",
    "print(input().replace('@', ''))\n",
    "```\n",
    "</details>"
   ]
  }
 ],
 "metadata": {
  "jupytext": {
   "formats": "md:myst"
  },
  "kernelspec": {
   "display_name": "Python 3",
   "language": "python",
   "name": "python3"
  }
 },
 "nbformat": 4,
 "nbformat_minor": 5
}
