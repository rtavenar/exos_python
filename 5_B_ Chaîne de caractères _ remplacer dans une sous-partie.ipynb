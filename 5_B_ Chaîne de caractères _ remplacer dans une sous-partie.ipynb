{
 "cells": [
  {
   "cell_type": "markdown",
   "id": "55c532aa",
   "metadata": {},
   "source": [
    "# 5.B. Chaîne de caractères : remplacer dans une sous-partie\n",
    "\n",
    "## Consignes\n",
    "\n",
    "Étant donnée une chaîne de caractères entrée au clavier contenant au moins deux fois la lettre `h`, remplacer toutes les occurrences de `h` par `H`, sauf la première et la dernière.\n",
    "\n",
    "## Exemple d'entrée\n",
    "\n",
    "```\n",
    "In the hole in the ground there lived a hobbit\n",
    "```\n",
    "\n",
    "## Exemple de sortie\n",
    "\n",
    "```\n",
    "In the Hole in tHe ground tHere lived a hobbit\n",
    "```\n",
    "\n",
    "## Aide\n",
    "\n",
    "https://docs.python.org/fr/3.6/library/stdtypes.html#common-sequence-operations\n",
    "\n",
    "https://docs.python.org/fr/3.6/library/stdtypes.html#str.find\n",
    "\n",
    "https://docs.python.org/fr/3.6/library/stdtypes.html#str.rfind\n",
    "\n",
    "https://docs.python.org/fr/3.6/library/stdtypes.html#str.replace\n",
    "\n",
    "## Codez dans la cellule ci-dessous"
   ]
  },
  {
   "cell_type": "code",
   "execution_count": null,
   "id": "692eaa3a",
   "metadata": {},
   "outputs": [],
   "source": [
    "# Lire une chaîne de caractères au clavier :\n",
    "# s = input()\n",
    "# Afficher une chaîne de caractères :\n",
    "# print(s)\n"
   ]
  },
  {
   "cell_type": "markdown",
   "id": "2f2155e1",
   "metadata": {},
   "source": [
    "<details><summary>Cliquez ici pour voir la solution</summary>\n",
    "\n",
    "```python\n",
    "s = input()\n",
    "first_pos, last_pos = s.find('h') + 1, s.rfind('h')\n",
    "left, middle, right = s[:first_pos], s[first_pos:last_pos], s[last_pos:]\n",
    "print(left + middle.replace('h', 'H') + right)\n",
    "```\n",
    "</details>"
   ]
  }
 ],
 "metadata": {
  "jupytext": {
   "formats": "md:myst"
  },
  "kernelspec": {
   "display_name": "Python 3",
   "language": "python",
   "name": "python3"
  }
 },
 "nbformat": 4,
 "nbformat_minor": 5
}
