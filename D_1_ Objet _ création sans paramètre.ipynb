{
 "cells": [
  {
   "cell_type": "markdown",
   "id": "60fa77c6",
   "metadata": {},
   "source": [
    "# D.1. Objet : création sans paramètre\n",
    "\n",
    "## Consignes\n",
    "\n",
    "Écrire le code permettant de créer un objet de classe Cercle nommé \"monCercle\".\n",
    "\n",
    "## Aide\n",
    "\n",
    "https://docs.python.org/fr/3.6/tutorial/classes.html#a-first-look-at-classes\n",
    "\n",
    "## Codez dans la cellule ci-dessous"
   ]
  },
  {
   "cell_type": "code",
   "execution_count": null,
   "id": "78adf365",
   "metadata": {},
   "outputs": [],
   "source": [
    "class Cercle:\n",
    "  def __init__(self):\n",
    "    self.rayon = 10\t\t# attribut rayon du cercle\n",
    "    self.x = 0\t\t\t# attribut position en X du centre du cercle\n",
    "    self.y = 0\t\t\t# attribut position en Y du centre du cercle\n",
    "\n",
    "# Écrire votre code ci-dessous\n"
   ]
  },
  {
   "cell_type": "markdown",
   "id": "7b232b34",
   "metadata": {},
   "source": [
    "<details><summary>Cliquez ici pour voir la solution</summary>\n",
    "\n",
    "```python\n",
    "class Cercle:\n",
    "  def __init__(self):\n",
    "    self.rayon = 10\t\t# attribut rayon du cercle\n",
    "    self.x = 0\t\t\t# attribut position en X du centre du cercle\n",
    "    self.y = 0\t\t\t# attribut position en Y du centre du cercle\n",
    "\n",
    "# Écrire votre code ci-dessous\n",
    "monCercle = Cercle()\n",
    "```\n",
    "</details>"
   ]
  }
 ],
 "metadata": {
  "jupytext": {
   "formats": "md:myst"
  },
  "kernelspec": {
   "display_name": "Python 3",
   "language": "python",
   "name": "python3"
  }
 },
 "nbformat": 4,
 "nbformat_minor": 5
}
