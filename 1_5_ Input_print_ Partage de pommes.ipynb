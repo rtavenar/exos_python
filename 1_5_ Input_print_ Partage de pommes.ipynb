{
 "cells": [
  {
   "cell_type": "markdown",
   "id": "487f6b05",
   "metadata": {},
   "source": [
    "# 1.5. Input/print: Partage de pommes\n",
    "\n",
    "## Consigne\n",
    "\n",
    "`N étudiants prennent K pommes et les distribuent de façon homogène entre les étudiants. Le reste (la partie indivisible) des pommes reste dans le panier. Combien de pommes a obtenu chaque étudiant ? Combien de pommes reste-t-il dans le panier ?`\n",
    "\n",
    "Le programme lit les nombres N et K et devra afficher la réponse aux deux questions ci-dessus.\n",
    "\n",
    "\n",
    "## Exemple d'entrée\n",
    "\n",
    "```\n",
    "6\n",
    "50\n",
    "```\n",
    "\n",
    "## Exemple de sortie\n",
    "\n",
    "```\n",
    "8\n",
    "2\n",
    "```\n",
    "\n",
    "## Aide\n",
    "\n",
    "https://rtavenar.github.io/poly_python/content/intro.html\n",
    "\n",
    "https://docs.python.org/fr/3/tutorial/inputoutput.html\n",
    "\n",
    "## Codez dans la cellule ci-dessous"
   ]
  },
  {
   "cell_type": "code",
   "execution_count": null,
   "id": "888fad06",
   "metadata": {},
   "outputs": [],
   "source": [
    "# Read the numbers like this:\n",
    "# n = int(input())\n",
    "\n",
    "# Print the result with print()\n",
    "\n",
    "# Example of division, integer division and remainder:\n",
    "print(63 / 5)\n",
    "print(63 // 5)\n",
    "print(63 % 5)"
   ]
  },
  {
   "cell_type": "markdown",
   "id": "5aaccebe",
   "metadata": {},
   "source": [
    "<details><summary>Cliquez ici pour voir la solution</summary>\n",
    "\n",
    "```python\n",
    "n = int(input())\n",
    "k = int(input())\n",
    "print(k // n)\n",
    "print(k % n)\n",
    "```\n",
    "</details>"
   ]
  }
 ],
 "metadata": {
  "jupytext": {
   "formats": "md:myst"
  },
  "kernelspec": {
   "display_name": "Python 3",
   "language": "python",
   "name": "python3"
  }
 },
 "nbformat": 4,
 "nbformat_minor": 5
}
