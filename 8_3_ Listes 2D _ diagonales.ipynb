{
 "cells": [
  {
   "cell_type": "markdown",
   "id": "342e093d",
   "metadata": {},
   "source": [
    "# 8.3. Listes 2D : diagonales\n",
    "\n",
    "## Consignes\n",
    "\n",
    "Étant donné un entier `n` entré au clavier, créer puis afficher une liste 2D suivant les règles ci-dessous :\n",
    "\n",
    "- Sur la diagonale principale mettre la valeur `0`.\n",
    "- Sur les diagonales adjacentes à la principale, mettre la valeur `1`.\n",
    "- Sur les diagonales suivantes mettre la valeur `2`, et ainsi de suite ...\n",
    "\n",
    "## Exemple d'entrée\n",
    "\n",
    "```\n",
    "5\n",
    "```\n",
    "\n",
    "## Exemple de sortie\n",
    "\n",
    "```\n",
    "0 1 2 3 4\n",
    "1 0 1 2 3\n",
    "2 1 0 1 2\n",
    "3 2 1 0 1\n",
    "4 3 2 1 0\n",
    "```\n",
    "\n",
    "## Aide\n",
    "\n",
    "https://docs.python.org/fr/3.6/library/stdtypes.html#lists\n",
    "\n",
    "https://docs.python.org/fr/3.6/tutorial/datastructures.html#list-comprehensions\n",
    "\n",
    "https://docs.python.org/fr/3.6/tutorial/datastructures.html#nested-list-comprehensions\n",
    "\n",
    "## Codez dans la cellule ci-dessous"
   ]
  },
  {
   "cell_type": "code",
   "execution_count": null,
   "id": "2468aad9",
   "metadata": {},
   "outputs": [],
   "source": [
    "# Lire un entier au clavier :\n",
    "# a = int(input())\n",
    "# Afficher la valeur de a :\n",
    "# print(a)\n"
   ]
  },
  {
   "cell_type": "markdown",
   "id": "8df93cde",
   "metadata": {},
   "source": [
    "<details><summary>Cliquez ici pour voir la solution</summary>\n",
    "\n",
    "```python\n",
    "n = int(input())\n",
    "a = [[0] * n for i in range(n)]\n",
    "for i in range(n):\n",
    "  for j in range(n):\n",
    "    a[i][j] = abs(i - j)\n",
    "for line in a:\n",
    "  print(*line)\n",
    "```\n",
    "</details>"
   ]
  }
 ],
 "metadata": {
  "jupytext": {
   "formats": "md:myst"
  },
  "kernelspec": {
   "display_name": "Python 3",
   "language": "python",
   "name": "python3"
  }
 },
 "nbformat": 4,
 "nbformat_minor": 5
}
