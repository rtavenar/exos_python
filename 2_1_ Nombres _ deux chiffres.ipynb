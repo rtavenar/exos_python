{
 "cells": [
  {
   "cell_type": "markdown",
   "id": "bb5f6947",
   "metadata": {},
   "source": [
    "# 2.1. Nombres : deux chiffres\n",
    "\n",
    "## Consignes\n",
    "\n",
    "Étant donné un entier à deux chiffres, afficher son premier chiffre (dizaines) puis son deuxième chiffre (unités). Utiliser l'opérateur de division entière pour obtenir le chiffre des dizaines et l'opérateur de modulo (reste de la division entière) pour obtenir le chiffre des unités.\n",
    "\n",
    "## Exemple d'entrée\n",
    "\n",
    "```\n",
    "79\n",
    "```\n",
    "\n",
    "## Exemple de sortie\n",
    "\n",
    "```\n",
    "7 9\n",
    "```\n",
    "\n",
    "## Aide\n",
    "\n",
    "https://docs.python.org/fr/3/reference/expressions.html#binary-arithmetic-operations\n",
    "\n",
    "## Codez dans la cellule ci-dessous"
   ]
  },
  {
   "cell_type": "code",
   "execution_count": null,
   "id": "ad0cd4b0",
   "metadata": {},
   "outputs": [],
   "source": [
    "# Lire un entier :\n",
    "# a = int(input())\n",
    "# Afficher la valeur de a :\n",
    "# print(a)\n"
   ]
  },
  {
   "cell_type": "markdown",
   "id": "ad87589b",
   "metadata": {},
   "source": [
    "<details><summary>Cliquez ici pour voir la solution</summary>\n",
    "\n",
    "```python\n",
    "a = int(input())\n",
    "print(a // 10, a % 10)\n",
    "```\n",
    "</details>"
   ]
  }
 ],
 "metadata": {
  "jupytext": {
   "formats": "md:myst"
  },
  "kernelspec": {
   "display_name": "Python 3",
   "language": "python",
   "name": "python3"
  }
 },
 "nbformat": 4,
 "nbformat_minor": 5
}
