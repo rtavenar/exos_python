{
 "cells": [
  {
   "cell_type": "markdown",
   "id": "4417870b",
   "metadata": {},
   "source": [
    "# 7.5. Lists: Plus grand que ses voisins\n",
    "\n",
    "## Consigne\n",
    "\n",
    "À partir d'une liste de nombres entiers donnés en entrée (chaque nombre est séparé par un espace), déterminer et afficher le nombre d'éléments plus grands que leurs deux voisins.\n",
    "\n",
    "Le premier et le dernier éléments de  la liste ne doivent pas être considérés car ils n'ont qu'un seul voisin.\n",
    "\n",
    "## Exemple d'entrée\n",
    "\n",
    "```\n",
    "1 5 1 5 1\n",
    "```\n",
    "\n",
    "## Exemple de sortie\n",
    "\n",
    "```\n",
    "2\n",
    "```\n",
    "\n",
    "## Aide\n",
    "\n",
    "https://rtavenar.github.io/poly_python/content/listes.html\n",
    "\n",
    "https://docs.python.org/fr/3/tutorial/datastructures.html#more-on-lists\n",
    "\n",
    "## Codez dans la cellule ci-dessous"
   ]
  },
  {
   "cell_type": "code",
   "execution_count": null,
   "id": "46dc5cf2",
   "metadata": {},
   "outputs": [],
   "source": [
    "# Read a list of integers:\n",
    "# a = [int(s) for s in input().split()]\n",
    "# Print a value:\n",
    "# print(a)\n"
   ]
  },
  {
   "cell_type": "markdown",
   "id": "296914ee",
   "metadata": {},
   "source": [
    "<details><summary>Cliquez ici pour voir la solution</summary>\n",
    "\n",
    "```python\n",
    "a = [int(s) for s in input().split()]\n",
    "counter = 0\n",
    "for i in range(1, len(a) - 1):\n",
    "  if a[i - 1] < a[i] > a[i + 1]:\n",
    "    counter += 1\n",
    "print(counter)\n",
    "```\n",
    "</details>"
   ]
  }
 ],
 "metadata": {
  "jupytext": {
   "formats": "md:myst"
  },
  "kernelspec": {
   "display_name": "Python 3",
   "language": "python",
   "name": "python3"
  }
 },
 "nbformat": 4,
 "nbformat_minor": 5
}
