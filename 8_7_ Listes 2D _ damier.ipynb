{
 "cells": [
  {
   "cell_type": "markdown",
   "id": "6561de5a",
   "metadata": {},
   "source": [
    "# 8.7. Listes 2D : damier\n",
    "\n",
    "## Consignes\n",
    "\n",
    "Étant donnés deux entiers positifs `n` et `m` entrés au clavier, créer une liste 2D de taille `n×m` et la remplir avec les caractères \"`.`\" et \"`*`\" alternés en ligne et en colonne afin d'obtenir un motif en damier. Le coin haut gauche du damier doit contenir le caractère \"`.`\" .\n",
    "\n",
    "## Exemple d'entrée\n",
    "\n",
    "```\n",
    "6 8\n",
    "```\n",
    "\n",
    "## Exemple de sortie\n",
    "\n",
    "```\n",
    ". * . * . * . *\n",
    "* . * . * . * .\n",
    ". * . * . * . *\n",
    "* . * . * . * .\n",
    ". * . * . * . *\n",
    "* . * . * . * .\n",
    "```\n",
    "\n",
    "## Aide\n",
    "\n",
    "https://docs.python.org/fr/3.6/library/stdtypes.html#lists\n",
    "\n",
    "https://docs.python.org/fr/3.6/tutorial/datastructures.html#list-comprehensions\n",
    "\n",
    "https://docs.python.org/fr/3.6/tutorial/datastructures.html#nested-list-comprehensions\n",
    "\n",
    "## Codez dans la cellule ci-dessous"
   ]
  },
  {
   "cell_type": "code",
   "execution_count": null,
   "id": "b229050f",
   "metadata": {},
   "outputs": [],
   "source": [
    "# Lire une liste d'entiers :\n",
    "# a = [int(s) for s in input().split()]\n",
    "# Afficher la valeure de a :\n",
    "# print(a)\n"
   ]
  },
  {
   "cell_type": "markdown",
   "id": "09d9e397",
   "metadata": {},
   "source": [
    "<details><summary>Cliquez ici pour voir la solution</summary>\n",
    "\n",
    "```python\n",
    "n, m = [int(s) for s in input().split()]\n",
    "a = [['.' if (i + j) % 2 == 0 else '*']\n",
    "     for i in range(n)\n",
    "     for j in range(m)]\n",
    "for line in a:\n",
    "  print(*line)\n",
    "```\n",
    "</details>"
   ]
  }
 ],
 "metadata": {
  "jupytext": {
   "formats": "md:myst"
  },
  "kernelspec": {
   "display_name": "Python 3",
   "language": "python",
   "name": "python3"
  }
 },
 "nbformat": 4,
 "nbformat_minor": 5
}
