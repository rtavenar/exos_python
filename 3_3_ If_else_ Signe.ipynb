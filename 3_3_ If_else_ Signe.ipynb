{
 "cells": [
  {
   "cell_type": "markdown",
   "id": "0ba22dbd",
   "metadata": {},
   "source": [
    "# 3.3. If/else: Signe\n",
    "\n",
    "## Énoncé\n",
    "\n",
    "Étant donné un entier, afficher `1` s'il est positif, `-1` s'il est négatif, ou `0` s'il est nul.\n",
    "\n",
    "Essayez d'utiliser la syntaxe `if-elif-else` pour cela.\n",
    "\n",
    "## Exemple d'entrée\n",
    "\n",
    "```\n",
    "179\n",
    "```\n",
    "\n",
    "## Exemple de sortie\n",
    "\n",
    "```\n",
    "1\n",
    "```\n",
    "\n",
    "## Aide\n",
    "\n",
    "https://rtavenar.github.io/poly_python/content/struct.html#structures-de-controle\n",
    "\n",
    "## Codez dans la cellule ci-dessous"
   ]
  },
  {
   "cell_type": "code",
   "execution_count": null,
   "id": "b9b50b9b",
   "metadata": {},
   "outputs": [],
   "source": [
    "# Lire un entier :\n",
    "# a = int(input())\n",
    "# Afficher une valeur :\n",
    "# print(a)\n"
   ]
  },
  {
   "cell_type": "markdown",
   "id": "3af90484",
   "metadata": {},
   "source": [
    "<details><summary>Cliquez ici pour voir la solution</summary>\n",
    "\n",
    "```python\n",
    "x = int(input())\n",
    "if x > 0:\n",
    "  print(1)\n",
    "elif x < 0:\n",
    "  print(-1)\n",
    "else:\n",
    "  print(0)\n",
    "```\n",
    "</details>"
   ]
  }
 ],
 "metadata": {
  "jupytext": {
   "formats": "md:myst"
  },
  "kernelspec": {
   "display_name": "Python 3",
   "language": "python",
   "name": "python3"
  }
 },
 "nbformat": 4,
 "nbformat_minor": 5
}
