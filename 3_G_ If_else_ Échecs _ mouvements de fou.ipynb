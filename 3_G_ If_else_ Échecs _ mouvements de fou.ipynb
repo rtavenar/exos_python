{
 "cells": [
  {
   "cell_type": "markdown",
   "id": "3d77ce4e",
   "metadata": {},
   "source": [
    "# 3.G. If/else: Échecs : mouvements de fou\n",
    "\n",
    "## **Énoncé**\n",
    "\n",
    "Aux échecs, un fou se déplace en diagonale d'un nombre quelconque de cases.\n",
    "\n",
    "\n",
    "Votre programme recevra une position de départ (une valeur pour la colonne, une pour la ligne) et une position d'arrivée (une valeur pour la colonne, une pour la ligne) et devra afficher OUI si un fou peut se déplacer de la position de départ à celle d'arrivée et NON sinon.\n",
    "\n",
    "\n",
    "\n",
    "## Exemple d'entrée\n",
    "\n",
    "```\n",
    "4\n",
    "4\n",
    "5\n",
    "5\n",
    "```\n",
    "\n",
    "## Exemple de sortie\n",
    "\n",
    "```\n",
    "OUI\n",
    "```\n",
    "\n",
    "## Aide\n",
    "\n",
    "https://rtavenar.github.io/poly_python/content/struct.html#structures-de-controle\n",
    "\n",
    "## Codez dans la cellule ci-dessous"
   ]
  },
  {
   "cell_type": "code",
   "execution_count": null,
   "id": "76d7e05c",
   "metadata": {},
   "outputs": [],
   "source": [
    "# Lire un entier :\n",
    "# a = int(input())\n",
    "# Afficher une valeur :\n",
    "# print(a)\n"
   ]
  },
  {
   "cell_type": "markdown",
   "id": "34b7be5f",
   "metadata": {},
   "source": [
    "<details><summary>Cliquez ici pour voir la solution</summary>\n",
    "\n",
    "```python\n",
    "x1 = int(input())\n",
    "y1 = int(input())\n",
    "x2 = int(input())\n",
    "y2 = int(input())\n",
    "\n",
    "if abs(x1 - x2) == abs(y1 - y2):\n",
    "  print('OUI')\n",
    "else:\n",
    "  print('NON')\n",
    "```\n",
    "</details>"
   ]
  }
 ],
 "metadata": {
  "jupytext": {
   "formats": "md:myst"
  },
  "kernelspec": {
   "display_name": "Python 3",
   "language": "python",
   "name": "python3"
  }
 },
 "nbformat": 4,
 "nbformat_minor": 5
}
