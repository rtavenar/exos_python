{
 "cells": [
  {
   "cell_type": "markdown",
   "id": "a7b6ae92",
   "metadata": {},
   "source": [
    "# D.2. Objet : création avec paramètres\n",
    "\n",
    "## Consignes\n",
    "\n",
    "Écrire le code permettant de créer un objet de classe Cercle nommé \"monCercle\", avec un rayon de 20, une position en X du centre de 5 et une position en Y du centre de 10.\n",
    "\n",
    "## Aide\n",
    "\n",
    "https://docs.python.org/fr/3.6/tutorial/classes.html#a-first-look-at-classes\n",
    "\n",
    "## Codez dans la cellule ci-dessous"
   ]
  },
  {
   "cell_type": "code",
   "execution_count": null,
   "id": "d0c22abc",
   "metadata": {},
   "outputs": [],
   "source": [
    "class Cercle:\n",
    "  def __init__(self, r, posX, posY):\n",
    "    self.rayon = r\t\t# attribut rayon du cercle\n",
    "    self.x = posX\t\t\t# attribut position en X du centre du cercle\n",
    "    self.y = posY\t\t\t# attribut position en Y du centre du cercle\n",
    "\n",
    "# Écrire votre code ci-dessous\n"
   ]
  },
  {
   "cell_type": "markdown",
   "id": "80a39391",
   "metadata": {},
   "source": [
    "<details><summary>Cliquez ici pour voir la solution</summary>\n",
    "\n",
    "```python\n",
    "class Cercle:\n",
    "  def __init__(self, r, posX, posY):\n",
    "    self.rayon = r\t\t# attribut rayon du cercle\n",
    "    self.x = posX\t\t\t# attribut position en X du centre du cercle\n",
    "    self.y = posY\t\t\t# attribut position en Y du centre du cercle\n",
    "\n",
    "# Écrire votre code ci-dessous\n",
    "monCercle = Cercle(20, 5, 10)\n",
    "```\n",
    "</details>"
   ]
  }
 ],
 "metadata": {
  "jupytext": {
   "formats": "md:myst"
  },
  "kernelspec": {
   "display_name": "Python 3",
   "language": "python",
   "name": "python3"
  }
 },
 "nbformat": 4,
 "nbformat_minor": 5
}
