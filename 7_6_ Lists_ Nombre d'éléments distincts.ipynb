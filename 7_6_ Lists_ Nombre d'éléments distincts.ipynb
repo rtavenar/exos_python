{
 "cells": [
  {
   "cell_type": "markdown",
   "id": "90cca203",
   "metadata": {},
   "source": [
    "# 7.6. Lists: Nombre d'éléments distincts\n",
    "\n",
    "## Consigne\n",
    "\n",
    "À partir d'une liste de nombres entiers donnés en entrée (chaque nombre est séparé par un espace), avec tous les élements classés par ordre croissant, déterminer et afficher le nombre d'éléments distincts.\n",
    "\n",
    "## Exemple d'entrée\n",
    "\n",
    "```\n",
    "1 2 2 3 3 3\n",
    "```\n",
    "\n",
    "## Exemple de sortie\n",
    "\n",
    "```\n",
    "3\n",
    "```\n",
    "\n",
    "## Aide\n",
    "\n",
    "https://rtavenar.github.io/poly_python/content/listes.html\n",
    "\n",
    "https://docs.python.org/fr/3/tutorial/datastructures.html#more-on-lists\n",
    "\n",
    "## Codez dans la cellule ci-dessous"
   ]
  },
  {
   "cell_type": "code",
   "execution_count": null,
   "id": "402b1d3a",
   "metadata": {},
   "outputs": [],
   "source": [
    "# Read a list of integers:\n",
    "# a = [int(s) for s in input().split()]\n",
    "# Print a value:\n",
    "# print(a)\n"
   ]
  },
  {
   "cell_type": "markdown",
   "id": "af9ed01b",
   "metadata": {},
   "source": [
    "<details><summary>Cliquez ici pour voir la solution</summary>\n",
    "\n",
    "```python\n",
    "num_distinct = 1\n",
    "a = [int(s) for s in input().split()]\n",
    "for i in range(1, len(a)):\n",
    "  if a[i - 1] != a[i]:\n",
    "    num_distinct += 1\n",
    "print(num_distinct)\n",
    "```\n",
    "</details>"
   ]
  }
 ],
 "metadata": {
  "jupytext": {
   "formats": "md:myst"
  },
  "kernelspec": {
   "display_name": "Python 3",
   "language": "python",
   "name": "python3"
  }
 },
 "nbformat": 4,
 "nbformat_minor": 5
}
