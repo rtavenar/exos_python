{
 "cells": [
  {
   "cell_type": "markdown",
   "id": "9228ce10",
   "metadata": {},
   "source": [
    "# 6.9. While: Indice du maximum\n",
    "\n",
    "## **Énoncé**\n",
    "\n",
    "Étant donnée une séquence d'entiers positifs, où chaque entier est écrit sur une ligne distincte, affichez la position de la première occurrence du maximum des valeurs lues **avant** de rencontrer un 0 (on supposera que le 0 ne se trouve pas en première position).\n",
    "\n",
    "## **Exemple d'entrée**\n",
    "\n",
    "```\n",
    "1\n",
    "7\n",
    "9\n",
    "5\n",
    "0\n",
    "```\n",
    "\n",
    "## **Exemple de sortie**\n",
    "\n",
    "```\n",
    "3\n",
    "```\n",
    "\n",
    "## Aide\n",
    "\n",
    "https://rtavenar.github.io/poly_python/content/struct.html#boucles-while\n",
    "\n",
    "## Codez dans la cellule ci-dessous"
   ]
  },
  {
   "cell_type": "code",
   "execution_count": null,
   "id": "dd1013a7",
   "metadata": {},
   "outputs": [],
   "source": [
    "# Read an integer:\n",
    "# a = int(input())\n",
    "# Print a value:\n",
    "# print(a)\n"
   ]
  },
  {
   "cell_type": "markdown",
   "id": "1f8e533d",
   "metadata": {},
   "source": [
    "<details><summary>Cliquez ici pour voir la solution</summary>\n",
    "\n",
    "```python\n",
    "maximum = a = int(input())\n",
    "maximum_index = 1\n",
    "i = 1\n",
    "while a != 0:\n",
    "  a = int(input())\n",
    "  i += 1\n",
    "  if a > maximum:\n",
    "    maximum = a\n",
    "    maximum_index = i\n",
    "print(maximum_index)\n",
    "```\n",
    "</details>"
   ]
  }
 ],
 "metadata": {
  "jupytext": {
   "formats": "md:myst"
  },
  "kernelspec": {
   "display_name": "Python 3",
   "language": "python",
   "name": "python3"
  }
 },
 "nbformat": 4,
 "nbformat_minor": 5
}
