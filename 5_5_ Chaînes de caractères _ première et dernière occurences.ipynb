{
 "cells": [
  {
   "cell_type": "markdown",
   "id": "f9ae1719",
   "metadata": {},
   "source": [
    "# 5.5. Chaînes de caractères : première et dernière occurences\n",
    "\n",
    "## Consignes\n",
    "\n",
    "Étant donnée une chaîne de caractères entrée au clavier qui peut contenir la lettre `f`, afficher l'indice des première et dernière occurrences de `f` dans cette chaîne. Si la lettre `f` n'apparait qu'une seule fois, afficher son indice une seule fois. Si la lettre `f` n'apparait pas dans la chaîne, afficher `-1`.\n",
    "\n",
    "## Exemple d'entrée #1\n",
    "\n",
    "```\n",
    "comfort\n",
    "```\n",
    "\n",
    "## Exemple de sortie #1\n",
    "\n",
    "```\n",
    "3\n",
    "```\n",
    "\n",
    "## Exemple d'entrée #2\n",
    "\n",
    "```\n",
    "office\n",
    "```\n",
    "\n",
    "##  Exemple de sortie #2\n",
    "\n",
    "```\n",
    "1 2\n",
    "```\n",
    "\n",
    "##  Exemple d'entrée #3\n",
    "\n",
    "```\n",
    "hello\n",
    "```\n",
    "\n",
    "## Exemple de sortie #3\n",
    "\n",
    "```\n",
    "-1\n",
    "```\n",
    "\n",
    "## Aide\n",
    "\n",
    "https://rtavenar.github.io/poly_python/content/intro.html#les-cha%C3%AEnes-de-caract%C3%A8res\n",
    "\n",
    "https://docs.python.org/fr/3.6/library/stdtypes.html#str.find\n",
    "\n",
    "https://docs.python.org/fr/3.6/library/stdtypes.html#str.rfind\n",
    "\n",
    "## Codez dans la cellule ci-dessous"
   ]
  },
  {
   "cell_type": "code",
   "execution_count": null,
   "id": "630b5474",
   "metadata": {},
   "outputs": [],
   "source": [
    "# Lire une chaîne de caractères :\n",
    "# s = input()\n",
    "# Afficher une chaîne de caractères :\n",
    "# print(s)\n"
   ]
  },
  {
   "cell_type": "markdown",
   "id": "57a6b04a",
   "metadata": {},
   "source": [
    "<details><summary>Cliquez ici pour voir la solution</summary>\n",
    "\n",
    "```python\n",
    "s = input()\n",
    "if s.find('f') == s.rfind('f'):\n",
    "  print(s.find('f'))\n",
    "else:\n",
    "  print(s.find('f'), s.rfind('f'))\n",
    "```\n",
    "</details>"
   ]
  }
 ],
 "metadata": {
  "jupytext": {
   "formats": "md:myst"
  },
  "kernelspec": {
   "display_name": "Python 3",
   "language": "python",
   "name": "python3"
  }
 },
 "nbformat": 4,
 "nbformat_minor": 5
}
