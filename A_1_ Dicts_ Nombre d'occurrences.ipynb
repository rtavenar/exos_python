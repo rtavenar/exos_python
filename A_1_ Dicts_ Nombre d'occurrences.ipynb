{
 "cells": [
  {
   "cell_type": "markdown",
   "id": "ede9ddcf",
   "metadata": {},
   "source": [
    "# A.1. Dicts: Nombre d'occurrences\n",
    "\n",
    "## Consigne\n",
    "\n",
    "Le texte, composé de mots séparés par un espace, est entré sur une seule ligne (et lu en une seule fois). Pour chaque mot du texte, il faut compter et afficher le nombre d'occurrences préalables de ce mot (i.e.,  le nombre de fois qu'il est déjà apparu à gauche, avant le mot courant).\n",
    "\n",
    "## Exemple d'entrée\n",
    "\n",
    "```\n",
    "one two one two three two four three\n",
    "```\n",
    "\n",
    "## Exemple de sortie\n",
    "\n",
    "```\n",
    "0 0 1 1 0 2 0 1\n",
    "```\n",
    "\n",
    "## Aide\n",
    "\n",
    "https://rtavenar.github.io/poly_python/content/dict.html\n",
    "\n",
    "https://docs.python.org/fr/3/tutorial/datastructures.html#dictionaries\n",
    "\n",
    "## Codez dans la cellule ci-dessous"
   ]
  },
  {
   "cell_type": "code",
   "execution_count": null,
   "id": "5449b0cf",
   "metadata": {},
   "outputs": [],
   "source": [
    "# Read a string:\n",
    "# s = input()\n",
    "# Print a value:\n",
    "# print(s)\n"
   ]
  },
  {
   "cell_type": "markdown",
   "id": "0ca6c0a3",
   "metadata": {},
   "source": [
    "<details><summary>Cliquez ici pour voir la solution</summary>\n",
    "\n",
    "```python\n",
    "text = input().split()\n",
    "times_seen = {}\n",
    "for word in text:\n",
    "  if word not in times_seen:\n",
    "    times_seen[word] = 0\n",
    "  print(times_seen[word], end=' ')\n",
    "  times_seen[word] += 1\n",
    "```\n",
    "</details>"
   ]
  }
 ],
 "metadata": {
  "jupytext": {
   "formats": "md:myst"
  },
  "kernelspec": {
   "display_name": "Python 3",
   "language": "python",
   "name": "python3"
  }
 },
 "nbformat": 4,
 "nbformat_minor": 5
}
