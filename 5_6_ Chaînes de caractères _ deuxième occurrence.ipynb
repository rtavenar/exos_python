{
 "cells": [
  {
   "cell_type": "markdown",
   "id": "e0abbee4",
   "metadata": {},
   "source": [
    "# 5.6. Chaînes de caractères : deuxième occurrence\n",
    "\n",
    "## Consignes\n",
    "\n",
    "Étant donnée une chaîne de caractères entrée au clavier pouvant contenir la lettre `p`, `afficher l'indice de la deuxième occurrence de `p`. Si la lettre `p` n'apparait qu'une seule fois, afficher `-1`. Si la chaîne de caractères ne contient pas la lettre `p`, afficher `-2.``\n",
    "\n",
    "## Exemple d'entrée #1\n",
    "\n",
    "```\n",
    "appropriate\n",
    "```\n",
    "\n",
    "## Exemple de sortie #1\n",
    "\n",
    "```\n",
    "2\n",
    "```\n",
    "\n",
    "## Exemple d'entrée #2\n",
    "\n",
    "```\n",
    "spare\n",
    "```\n",
    "\n",
    "## Exemple de sortie #2\n",
    "\n",
    "```\n",
    "-1\n",
    "```\n",
    "\n",
    "## Exemple d'entrée #3\n",
    "\n",
    "```\n",
    "reason\n",
    "```\n",
    "\n",
    "## Exemple de sortie #3\n",
    "\n",
    "```\n",
    "-2\n",
    "```\n",
    "\n",
    "## Aide\n",
    "\n",
    "https://rtavenar.github.io/poly_python/content/intro.html#les-cha%C3%AEnes-de-caract%C3%A8res\n",
    "\n",
    "https://docs.python.org/fr/3.6/library/stdtypes.html#common-sequence-operations\n",
    "\n",
    "https://docs.python.org/fr/3.6/library/stdtypes.html#str.find\n",
    "https://docs.python.org/fr/3.6/library/stdtypes.html#str.rfind\n",
    "\n",
    "## Codez dans la cellule ci-dessous"
   ]
  },
  {
   "cell_type": "code",
   "execution_count": null,
   "id": "b6236924",
   "metadata": {},
   "outputs": [],
   "source": [
    "# Lire une chaîne de caractères :\n",
    "# s = input()\n",
    "# Afficher une chaîne de caractères :\n",
    "# print(s)\n"
   ]
  },
  {
   "cell_type": "markdown",
   "id": "6054ee31",
   "metadata": {},
   "source": [
    "<details><summary>Cliquez ici pour voir la solution</summary>\n",
    "\n",
    "```python\n",
    "s = input()\n",
    "if 'p' in s:\n",
    "  if s.find('p') == s.rfind('p'):\n",
    "    print(-1)\n",
    "  else:\n",
    "    print(s.find('p') + s[s.find('p') + 1:].find('p') + 1)\n",
    "else:\n",
    "  print(-2)\n",
    "```\n",
    "</details>"
   ]
  }
 ],
 "metadata": {
  "jupytext": {
   "formats": "md:myst"
  },
  "kernelspec": {
   "display_name": "Python 3",
   "language": "python",
   "name": "python3"
  }
 },
 "nbformat": 4,
 "nbformat_minor": 5
}
