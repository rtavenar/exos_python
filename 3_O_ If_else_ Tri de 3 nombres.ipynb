{
 "cells": [
  {
   "cell_type": "markdown",
   "id": "5c348d7e",
   "metadata": {},
   "source": [
    "# 3.O. If/else: Tri de 3 nombres\n",
    "\n",
    "## **Énoncé**\n",
    "\n",
    "Étant donnés 3 entiers, les afficher dans l'ordre croissant.\n",
    "\n",
    "## Example input\n",
    "\n",
    "```\n",
    "5\n",
    "3\n",
    "7\n",
    "```\n",
    "\n",
    "## Example output\n",
    "\n",
    "```\n",
    "3\n",
    "5\n",
    "7\n",
    "```\n",
    "\n",
    "## Aide\n",
    "\n",
    "https://rtavenar.github.io/poly_python/content/struct.html#structures-de-controle\n",
    "\n",
    "## Codez dans la cellule ci-dessous"
   ]
  },
  {
   "cell_type": "code",
   "execution_count": null,
   "id": "fbbac1a9",
   "metadata": {},
   "outputs": [],
   "source": [
    "# Lire un entier :\n",
    "# a = int(input())\n",
    "# Afficher une valeur :\n",
    "# print(a)"
   ]
  },
  {
   "cell_type": "markdown",
   "id": "4f016d7c",
   "metadata": {},
   "source": [
    "<details><summary>Cliquez ici pour voir la solution</summary>\n",
    "\n",
    "```python\n",
    "a = int(input())\n",
    "b = int(input())\n",
    "c = int(input())\n",
    "\n",
    "if a <= b <= c:\n",
    "  print(a, b, c, end='\\n')\n",
    "elif a <= c <= b:\n",
    "  print(a, c, b, end='\\n')\n",
    "elif b <= a <= c:\n",
    "  print(b, a, c, end='\\n')\n",
    "elif b <= c <= a:\n",
    "  print(b, c, a, end='\\n')\n",
    "elif c <= a <= b:\n",
    "  print(c, a, b, end='\\n')\n",
    "else:\n",
    "  print(c, b, a, end='\\n')\n",
    "```\n",
    "</details>"
   ]
  }
 ],
 "metadata": {
  "jupytext": {
   "formats": "md:myst"
  },
  "kernelspec": {
   "display_name": "Python 3",
   "language": "python",
   "name": "python3"
  }
 },
 "nbformat": 4,
 "nbformat_minor": 5
}
