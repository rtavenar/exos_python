{
 "cells": [
  {
   "cell_type": "markdown",
   "id": "102ce657",
   "metadata": {},
   "source": [
    "# C.1 Fichiers : les fichiers texte plat\n",
    "\n",
    "**Énoncé**\n",
    "\n",
    "Codez une fonction `compte_mots` qui prend en entrée un nom de fichier et retourne le nombre de \"mots\" dans le fichier en question (séparés par des espaces).\n",
    "\n",
    "**Exemple d'entrée**\n",
    "\n",
    "```\n",
    "print(compte_mots(\"a.txt\"))\n",
    "```\n",
    "\n",
    "**Exemple de sortie**\n",
    "\n",
    "```\n",
    "5\n",
    "```\n",
    "\n",
    "**Aide**\n",
    "\n",
    "https://rtavenar.github.io/poly_python/content/fichiers.html\n",
    "\n",
    "## Codez dans la cellule ci-dessous"
   ]
  },
  {
   "cell_type": "code",
   "execution_count": null,
   "id": "3770e9f9",
   "metadata": {},
   "outputs": [],
   "source": [
    "def compte_mots(nom_du_fichier):\n",
    "  # Codez ici votre fonction et modifiez la valeur de retour si besoin\n",
    "  return None"
   ]
  },
  {
   "cell_type": "markdown",
   "id": "a5392cf3",
   "metadata": {},
   "source": [
    "<details><summary>Cliquez ici pour voir la solution</summary>\n",
    "\n",
    "```python\n",
    "def compte_mots(nom_de_fichier):\n",
    "  texte = open(nom_de_fichier, \"r\", encoding=\"utf-8\").read()\n",
    "  return len(texte.split())\n",
    "```\n",
    "</details>"
   ]
  }
 ],
 "metadata": {
  "jupytext": {
   "formats": "md:myst"
  },
  "kernelspec": {
   "display_name": "Python 3",
   "language": "python",
   "name": "python3"
  }
 },
 "nbformat": 4,
 "nbformat_minor": 5
}
