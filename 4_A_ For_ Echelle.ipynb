{
 "cells": [
  {
   "cell_type": "markdown",
   "id": "84254336",
   "metadata": {},
   "source": [
    "# 4.A. For: Echelle\n",
    "\n",
    "## Consigne\n",
    "\n",
    "Pour une valeur entière n ≤ 9 afficher une échelle de n étapes. La k-ième étape correspond aux entiers de 1 à k sans espace entre eux.\n",
    "\n",
    "Pour faire cela, vous pouvez utiliser l'argument end de la fonction print().\n",
    "\n",
    "\n",
    "## Exemple d'entrée\n",
    "\n",
    "```\n",
    "3\n",
    "```\n",
    "\n",
    "## Exemple de sortie\n",
    "\n",
    "```\n",
    "1\n",
    "12\n",
    "123\n",
    "```\n",
    "\n",
    "## Aide\n",
    "\n",
    "https://rtavenar.github.io/poly_python/content/struct.html#boucles-for\n",
    "\n",
    "https://docs.python.org/fr/3/reference/compound_stmts.html#for\n",
    "\n",
    "https://docs.python.org/fr/3/library/functions.html#print\n",
    "\n",
    "## Codez dans la cellule ci-dessous"
   ]
  },
  {
   "cell_type": "code",
   "execution_count": null,
   "id": "6fc459df",
   "metadata": {},
   "outputs": [],
   "source": [
    "# Read an integer:\n",
    "# a = int(input())\n",
    "# Print a value:\n",
    "# print(a)\n"
   ]
  },
  {
   "cell_type": "markdown",
   "id": "5ad6269c",
   "metadata": {},
   "source": [
    "<details><summary>Cliquez ici pour voir la solution</summary>\n",
    "\n",
    "```python\n",
    "n = int(input())\n",
    "for i in range(1, n + 1):\n",
    "  for j in range(1, i + 1):\n",
    "    print(j, end='')\n",
    "  print()\n",
    "```\n",
    "</details>"
   ]
  }
 ],
 "metadata": {
  "jupytext": {
   "formats": "md:myst"
  },
  "kernelspec": {
   "display_name": "Python 3",
   "language": "python",
   "name": "python3"
  }
 },
 "nbformat": 4,
 "nbformat_minor": 5
}
