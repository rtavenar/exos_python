{
 "cells": [
  {
   "cell_type": "markdown",
   "id": "1438c046",
   "metadata": {},
   "source": [
    "# 8.1. Listes 2D : multiplicateur\n",
    "\n",
    "## Consignes\n",
    "\n",
    "Étant donnés deux entiers entrés au clavier - le nombre de lignes `m` et de colonnes `n` d'une liste 2D `m`×`n` - suivis de la saisie  de `m` lignes de `n` entiers et d'un dernier entier `c`, multiplier chaque élément de la liste 2D par `c` et afficher le résultat.\n",
    "\n",
    "## Exemple d'entrée\n",
    "\n",
    "```\n",
    "3 4\n",
    "11 12 13 14\n",
    "21 22 23 24\n",
    "31 32 33 34\n",
    "2\n",
    "```\n",
    "\n",
    "## Exemple de sortie\n",
    "\n",
    "```\n",
    "22 24 26 28\n",
    "42 44 46 48\n",
    "62 64 66 68\n",
    "```\n",
    "\n",
    "## Aide\n",
    "\n",
    "https://docs.python.org/fr/3.6/library/stdtypes.html#lists\n",
    "\n",
    "https://docs.python.org/fr/3.6/tutorial/datastructures.html#list-comprehensions\n",
    "\n",
    "https://docs.python.org/fr/3.6/tutorial/datastructures.html#nested-list-comprehensions\n",
    "\n",
    "## Codez dans la cellule ci-dessous"
   ]
  },
  {
   "cell_type": "code",
   "execution_count": null,
   "id": "a07a7eaa",
   "metadata": {},
   "outputs": [],
   "source": [
    "# Lire une liste 2D d'entiers :\n",
    "# a = [[int(j) for j in input().split()] for i in range(NUM_ROWS)]\n",
    "# Afficher la valeur de a :\n",
    "# print(a)\n"
   ]
  },
  {
   "cell_type": "markdown",
   "id": "e4c19650",
   "metadata": {},
   "source": [
    "<details><summary>Cliquez ici pour voir la solution</summary>\n",
    "\n",
    "```python\n",
    "m, n = [int(s) for s in input().split()]\n",
    "a = [[int(j) for j in input().split()] for i in range(m)]\n",
    "c = int(input())\n",
    "for i in range(m):\n",
    "  for j in range(n):\n",
    "    a[i][j] *= c\n",
    "for line in a:\n",
    "  print(*line)\n",
    "```\n",
    "</details>"
   ]
  }
 ],
 "metadata": {
  "jupytext": {
   "formats": "md:myst"
  },
  "kernelspec": {
   "display_name": "Python 3",
   "language": "python",
   "name": "python3"
  }
 },
 "nbformat": 4,
 "nbformat_minor": 5
}
