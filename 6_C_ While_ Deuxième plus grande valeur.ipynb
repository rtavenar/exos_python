{
 "cells": [
  {
   "cell_type": "markdown",
   "id": "489177cc",
   "metadata": {},
   "source": [
    "# 6.C. While: Deuxième plus grande valeur\n",
    "\n",
    "## **Énoncé**\n",
    "\n",
    "Étant donnée une séquence d'entiers positifs, où chaque entier est écrit sur une ligne distincte, affichez la deuxième plus grande valeur lue **avant** de rencontrer un 0 (on supposera que le 0 ne se trouve pas en première ni en deuxième position).\n",
    "\n",
    "## **Exemple d'entrée**\n",
    "\n",
    "```\n",
    "1\n",
    "7\n",
    "9\n",
    "0\n",
    "```\n",
    "\n",
    "## Exemple de sortie\n",
    "\n",
    "```\n",
    "7\n",
    "```\n",
    "\n",
    "## Aide\n",
    "\n",
    "https://rtavenar.github.io/poly_python/content/struct.html#boucles-while\n",
    "\n",
    "## Codez dans la cellule ci-dessous"
   ]
  },
  {
   "cell_type": "code",
   "execution_count": null,
   "id": "89b2bd34",
   "metadata": {},
   "outputs": [],
   "source": [
    "# Read an integer:\n",
    "# a = int(input())\n",
    "# Print a value:\n",
    "# print(a)\n"
   ]
  },
  {
   "cell_type": "markdown",
   "id": "300a6715",
   "metadata": {},
   "source": [
    "<details><summary>Cliquez ici pour voir la solution</summary>\n",
    "\n",
    "```python\n",
    "maximum = int(input())\n",
    "second_maximum = int(input())\n",
    "if second_maximum > maximum:\n",
    "  second_maximum, maximum = maximum, second_maximum\n",
    "a = -1\n",
    "while a != 0:\n",
    "  a = int(input())\n",
    "  if a > maximum:\n",
    "    second_maximum, maximum = maximum, a\n",
    "  elif a > second_maximum:\n",
    "    second_maximum = a\n",
    "print(second_maximum)\n",
    "```\n",
    "</details>"
   ]
  }
 ],
 "metadata": {
  "jupytext": {
   "formats": "md:myst"
  },
  "kernelspec": {
   "display_name": "Python 3",
   "language": "python",
   "name": "python3"
  }
 },
 "nbformat": 4,
 "nbformat_minor": 5
}
