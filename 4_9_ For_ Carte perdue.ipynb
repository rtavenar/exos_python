{
 "cells": [
  {
   "cell_type": "markdown",
   "id": "673634f4",
   "metadata": {},
   "source": [
    "# 4.9. For: Carte perdue\n",
    "\n",
    "## Consigne\n",
    "\n",
    "Soit un ensemble de cartes portant les numéros de 1 à N. L'une des cartes a été perdue. Déterminer le numéro de la carte perdue à partie des numéros des cartes restantes.\n",
    "\n",
    "Entrer un nombre N, suivi par N-1 entiers représentant les numéros des cartes restantes (valeurs distinctes d'entiers dans l'interval 1 à N). Trouver et afficher le numéro de la carte manquante.\n",
    "\n",
    "\n",
    "## Exemple d'entrée\n",
    "\n",
    "```\n",
    "5\n",
    "3\n",
    "5\n",
    "2\n",
    "1\n",
    "```\n",
    "\n",
    "## Exemple de sortie\n",
    "\n",
    "```\n",
    "4\n",
    "```\n",
    "\n",
    "## Aide\n",
    "\n",
    "https://rtavenar.github.io/poly_python/content/struct.html#boucles-for\n",
    "\n",
    "https://docs.python.org/fr/3/reference/compound_stmts.html#for\n",
    "\n",
    "## Codez dans la cellule ci-dessous"
   ]
  },
  {
   "cell_type": "code",
   "execution_count": null,
   "id": "3dc55d92",
   "metadata": {},
   "outputs": [],
   "source": [
    "# Read an integer:\n",
    "# a = int(input())\n",
    "# Print a value:\n",
    "# print(a)\n"
   ]
  },
  {
   "cell_type": "markdown",
   "id": "d5943a42",
   "metadata": {},
   "source": [
    "<details><summary>Cliquez ici pour voir la solution</summary>\n",
    "\n",
    "```python\n",
    "n = int(input())\n",
    "\n",
    "cards_sum = 0\n",
    "for i in range(1, n + 1):\n",
    "  cards_sum += i\n",
    "\n",
    "for i in range(n - 1):\n",
    "  cards_sum -= int(input())\n",
    "\n",
    "print(cards_sum)\n",
    "```\n",
    "</details>"
   ]
  }
 ],
 "metadata": {
  "jupytext": {
   "formats": "md:myst"
  },
  "kernelspec": {
   "display_name": "Python 3",
   "language": "python",
   "name": "python3"
  }
 },
 "nbformat": 4,
 "nbformat_minor": 5
}
