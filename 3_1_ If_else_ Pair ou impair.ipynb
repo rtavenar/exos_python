{
 "cells": [
  {
   "cell_type": "markdown",
   "id": "edff4233",
   "metadata": {},
   "source": [
    "# 3.1. If/else: Pair ou impair\n",
    "\n",
    "## Consigne\n",
    "\n",
    "Étant donné un entier, afficher \"pair\" s'il est pair ou \"impair\" sinon.\n",
    "\n",
    "## Exemple d'entrée #1\n",
    "\n",
    "```\n",
    "5\n",
    "```\n",
    "\n",
    "## Exemple de sortie #1\n",
    "\n",
    "```\n",
    "impair\n",
    "```\n",
    "\n",
    "## Exemple d'entrée #2\n",
    "\n",
    "```\n",
    "6\n",
    "```\n",
    "\n",
    "## Exemple de sortie #2\n",
    "\n",
    "```\n",
    "pair\n",
    "```\n",
    "\n",
    "## Aide\n",
    "\n",
    "https://rtavenar.github.io/poly_python/content/struct.html#structures-de-controle\n",
    "\n",
    "## Codez dans la cellule ci-dessous"
   ]
  },
  {
   "cell_type": "code",
   "execution_count": null,
   "id": "f4b81914",
   "metadata": {},
   "outputs": [],
   "source": [
    "# Lire un entier\n",
    "# a = int(input())\n",
    "# Afficher une valeur:\n",
    "# print(a)\n"
   ]
  },
  {
   "cell_type": "markdown",
   "id": "f3e54c69",
   "metadata": {},
   "source": [
    "<details><summary>Cliquez ici pour voir la solution</summary>\n",
    "\n",
    "```python\n",
    "if int(input()) % 2 == 0:\n",
    "  print('pair')\n",
    "else:\n",
    "  print('impair')\n",
    "```\n",
    "</details>"
   ]
  }
 ],
 "metadata": {
  "jupytext": {
   "formats": "md:myst"
  },
  "kernelspec": {
   "display_name": "Python 3",
   "language": "python",
   "name": "python3"
  }
 },
 "nbformat": 4,
 "nbformat_minor": 5
}
