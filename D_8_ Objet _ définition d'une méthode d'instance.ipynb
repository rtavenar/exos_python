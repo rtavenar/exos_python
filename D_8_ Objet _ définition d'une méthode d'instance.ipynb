{
 "cells": [
  {
   "cell_type": "markdown",
   "id": "d780b30a",
   "metadata": {},
   "source": [
    "# D.8. Objet : définition d'une méthode d'instance\n",
    "\n",
    "## Consignes\n",
    "\n",
    "Écrire le code permettant de définir une classe Personne et son initialisateur. Les objets de classe Personne possèderont des attributs \"`nom`\", \"`age`\", \"`poids`\" et \"`taille`\" dont les valeurs seront passées en paramètres à la construction de l'objet (dans cet ordre). Le poids sera donné en kilogrammes et la taille en mètres.\n",
    "\n",
    "Ajouter à la classe Personne une méthode d'instance nommée \"`imc`\" permettant de calculer et de retourner l'IMC (Indice de Masse Corporelle) de la personne. L'IMC d'une personne est égal à son poids (en kilogrammes) divisé par le carré de sa taille (en mètres).\n",
    "\n",
    "## Aide\n",
    "\n",
    "https://docs.python.org/fr/3.6/tutorial/classes.html#a-first-look-at-classes\n",
    "\n",
    "## Codez dans la cellule ci-dessous"
   ]
  },
  {
   "cell_type": "code",
   "execution_count": null,
   "id": "77c71f9c",
   "metadata": {},
   "outputs": [],
   "source": [
    "# Écrire votre code ci-dessous\n"
   ]
  },
  {
   "cell_type": "markdown",
   "id": "c47e8daf",
   "metadata": {},
   "source": [
    "<details><summary>Cliquez ici pour voir la solution</summary>\n",
    "\n",
    "```python\n",
    "# Écrire votre code ci-dessous\n",
    "class Personne:\n",
    "  def __init__(self, nom, age, poids, taille):\n",
    "    self.nom = nom\n",
    "    self.age = age\n",
    "    self.poids = poids\n",
    "    self.taille = taille\n",
    "  \n",
    "  def imc(self):\n",
    "    return self.poids/(self.taille**2)\n",
    "```\n",
    "</details>"
   ]
  }
 ],
 "metadata": {
  "jupytext": {
   "formats": "md:myst"
  },
  "kernelspec": {
   "display_name": "Python 3",
   "language": "python",
   "name": "python3"
  }
 },
 "nbformat": 4,
 "nbformat_minor": 5
}
