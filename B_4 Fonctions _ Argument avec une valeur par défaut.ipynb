{
 "cells": [
  {
   "cell_type": "markdown",
   "id": "a83473e1",
   "metadata": {},
   "source": [
    "# B.4 Fonctions : Argument avec une valeur par défaut\n",
    "\n",
    "**Énoncé**\n",
    "\n",
    "Codez une fonction somme qui permet d'ajouter au maximum 4 entiers. La fonction prend au minimum 1 entier en paramètre et 4 au maximum.\n",
    "\n",
    "**Exemple d'appel de la fonction**\n",
    "\n",
    "```\n",
    "somme(1,2,3)\n",
    "```\n",
    "\n",
    "**Exemple de valeur de retour**\n",
    "\n",
    "```\n",
    "6\n",
    "```\n",
    "\n",
    "**Aide**\n",
    "\n",
    "https://rtavenar.github.io/poly_python/content/struct.html#fonctions\n",
    "\n",
    "## Codez dans la cellule ci-dessous"
   ]
  },
  {
   "cell_type": "code",
   "execution_count": null,
   "id": "8b0d55db",
   "metadata": {},
   "outputs": [],
   "source": [
    "def somme():\n",
    "  # Codez votre fonction ici"
   ]
  },
  {
   "cell_type": "markdown",
   "id": "6110a5fb",
   "metadata": {},
   "source": [
    "<details><summary>Cliquez ici pour voir la solution</summary>\n",
    "\n",
    "```python\n",
    "def somme(entier1, entier2=0, entier3=0, entier4=0):\n",
    "  # Codez votre fonction ici\n",
    "  return entier1+entier2+entier3+entier4\n",
    "```\n",
    "</details>"
   ]
  }
 ],
 "metadata": {
  "jupytext": {
   "formats": "md:myst"
  },
  "kernelspec": {
   "display_name": "Python 3",
   "language": "python",
   "name": "python3"
  }
 },
 "nbformat": 4,
 "nbformat_minor": 5
}
