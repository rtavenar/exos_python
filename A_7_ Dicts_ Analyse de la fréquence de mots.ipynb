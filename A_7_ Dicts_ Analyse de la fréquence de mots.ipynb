{
 "cells": [
  {
   "cell_type": "markdown",
   "id": "89e7e753",
   "metadata": {},
   "source": [
    "# A.7. Dicts: Analyse de la fréquence de mots\n",
    "\n",
    "## Consigne\n",
    "\n",
    "Sois un nombre **n**, suivi par **n** lignes de texte.\n",
    "\n",
    "Affichez tous les mots présents dans le texte entré (un mot par ligne) en indiquant le nombre d'occurrences de chacun des mots. Les mots devront être classés par ordre d'occurrences décroissantes puis par ordre alphabétique en cas d'égalité d'occurrence.\n",
    "\n",
    "**Indication :** Après avoir créé un dictionnaire des mots et de leurs fréquences, on souhaite le trier en fonction des fréquences. Cela  peut être réalisé en créant une liste dont les éléments sont des  listes de deux éléments : le nombre d'occurrences d'un mot et le mot  lui-même. Par exemple, [[2, 'hi'], [1, 'what'], [3, 'is']]. Le tri de liste standard permet de trier une liste de listes, selon le premier élément, puis selon le deuxième  élément.\n",
    "\n",
    "## Exemple d'entrée\n",
    "\n",
    "```\n",
    "9\n",
    "hi\n",
    "hi\n",
    "what is your name\n",
    "my name is bond\n",
    "james bond\n",
    "my name is damme\n",
    "van damme\n",
    "claude van damme\n",
    "jean claude van damme\n",
    "```\n",
    "\n",
    "## Exemple de sortie\n",
    "\n",
    "```\n",
    "damme 4\n",
    "is 3\n",
    "name 3\n",
    "van 3\n",
    "bond 2\n",
    "claude 2\n",
    "hi 2\n",
    "my 2\n",
    "james 1\n",
    "jean 1\n",
    "what 1\n",
    "your 1\n",
    "```\n",
    "\n",
    "## Aide\n",
    "\n",
    "https://rtavenar.github.io/poly_python/content/dict.html\n",
    "\n",
    "https://docs.python.org/fr/3/tutorial/datastructures.html#dictionaries\n",
    "\n",
    "## Codez dans la cellule ci-dessous"
   ]
  },
  {
   "cell_type": "code",
   "execution_count": null,
   "id": "3ea57cc5",
   "metadata": {},
   "outputs": [],
   "source": [
    "# Read a string:\n",
    "# s = input()\n",
    "# Print a value:\n",
    "# print(s)\n"
   ]
  },
  {
   "cell_type": "markdown",
   "id": "64295744",
   "metadata": {},
   "source": [
    "<details><summary>Cliquez ici pour voir la solution</summary>\n",
    "\n",
    "```python\n",
    "frequency = {}\n",
    "for _ in range(int(input())):\n",
    "  for word in input().split():\n",
    "    if word not in frequency:\n",
    "      frequency[word] = 0\n",
    "    frequency[word] += 1\n",
    "for i in sorted(set(frequency.values()), reverse=True):\n",
    "  for word in sorted([word for word in frequency if frequency[word] == i]):\n",
    "    print(word, i)\n",
    "```\n",
    "</details>"
   ]
  }
 ],
 "metadata": {
  "jupytext": {
   "formats": "md:myst"
  },
  "kernelspec": {
   "display_name": "Python 3",
   "language": "python",
   "name": "python3"
  }
 },
 "nbformat": 4,
 "nbformat_minor": 5
}
