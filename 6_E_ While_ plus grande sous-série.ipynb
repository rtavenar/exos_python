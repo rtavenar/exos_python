{
 "cells": [
  {
   "cell_type": "markdown",
   "id": "c4c47afb",
   "metadata": {},
   "source": [
    "# 6.E. While: plus grande sous-série\n",
    "\n",
    "## Consignes\n",
    "\n",
    "Étant données une série d'entiers non négatifs entrés au clavier un par un (un entier par ligne) et se terminant par `0`,  déterminer et afficher la longueur de la plus grande sous-série de nombres identiques à l'intérieur de la série saisie.\n",
    "\n",
    "## Exemple d'entrée\n",
    "\n",
    "```\n",
    "1\n",
    "**7**\n",
    "**7**\n",
    "**7**\n",
    "9\n",
    "1\n",
    "1\n",
    "0\n",
    "```\n",
    "\n",
    "(les nombres appartenant à la sous-série maximale sont soulignés)\n",
    "\n",
    "## Exemple de sortie\n",
    "\n",
    "```\n",
    "3\n",
    "```\n",
    "\n",
    "## Aide\n",
    "\n",
    "https://docs.python.org/fr/3.6/reference/compound_stmts.html#the-while-statement\n",
    "\n",
    "## Codez dans la cellule ci-dessous"
   ]
  },
  {
   "cell_type": "code",
   "execution_count": null,
   "id": "ef4aa440",
   "metadata": {},
   "outputs": [],
   "source": [
    "# Lire un entier au clavier :\n",
    "# a = int(input())\n",
    "# Afficher la valeur de a :\n",
    "# print(a)\n"
   ]
  },
  {
   "cell_type": "markdown",
   "id": "3dc2758e",
   "metadata": {},
   "source": [
    "<details><summary>Cliquez ici pour voir la solution</summary>\n",
    "\n",
    "```python\n",
    "next = int(input())\n",
    "length = 1\n",
    "max_length = 1\n",
    "while next != 0:\n",
    "  prev, next = next, int(input())\n",
    "  if prev == next:\n",
    "    length += 1\n",
    "  else:\n",
    "    length = 1\n",
    "  max_length = max(length, max_length)\n",
    "print(max_length)\n",
    "```\n",
    "</details>"
   ]
  }
 ],
 "metadata": {
  "jupytext": {
   "formats": "md:myst"
  },
  "kernelspec": {
   "display_name": "Python 3",
   "language": "python",
   "name": "python3"
  }
 },
 "nbformat": 4,
 "nbformat_minor": 5
}
