{
 "cells": [
  {
   "cell_type": "markdown",
   "id": "b5b2a0d2",
   "metadata": {},
   "source": [
    "# 2.9. Nombres : coût total\n",
    "\n",
    "## Consignes\n",
    "\n",
    "Un gâteau coûte _A_ euros et _B_ centimes. Déterminer combien d'euros et de centimes on doit payer pour _N_ gâteaux. Le programme reçoit trois nombres entrés au clavier : _A_, _B_, _N_. Il doit afficher deux nombres : le coût total en euros et centimes.\n",
    "\n",
    "## Exemple d'entrées\n",
    "\n",
    "```\n",
    "10\n",
    "15\n",
    "2\n",
    "```\n",
    "\n",
    "## Exemple de sortie\n",
    "\n",
    "```\n",
    "20 30\n",
    "```\n",
    "\n",
    "## Aide\n",
    "\n",
    "https://docs.python.org/fr/3/reference/expressions.html#binary-arithmetic-operations\n",
    "\n",
    "## Codez dans la cellule ci-dessous"
   ]
  },
  {
   "cell_type": "code",
   "execution_count": null,
   "id": "47822bc2",
   "metadata": {},
   "outputs": [],
   "source": [
    "# Lire un entier :\n",
    "# a = int(input())\n",
    "# Afficher la valeur de a :\n",
    "# print(a)\n"
   ]
  },
  {
   "cell_type": "markdown",
   "id": "0fdad71c",
   "metadata": {},
   "source": [
    "<details><summary>Cliquez ici pour voir la solution</summary>\n",
    "\n",
    "```python\n",
    "item_dollars = int(input())\n",
    "item_cents = int(input())\n",
    "n = int(input())\n",
    "total_cents = (item_dollars * 100 + item_cents) * n\n",
    "print(total_cents // 100, total_cents % 100)\n",
    "```\n",
    "</details>"
   ]
  }
 ],
 "metadata": {
  "jupytext": {
   "formats": "md:myst"
  },
  "kernelspec": {
   "display_name": "Python 3",
   "language": "python",
   "name": "python3"
  }
 },
 "nbformat": 4,
 "nbformat_minor": 5
}
