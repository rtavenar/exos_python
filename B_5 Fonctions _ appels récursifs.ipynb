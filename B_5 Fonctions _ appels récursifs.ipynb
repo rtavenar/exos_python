{
 "cells": [
  {
   "cell_type": "markdown",
   "id": "ffeed7c6",
   "metadata": {},
   "source": [
    "# B.5 Fonctions : appels récursifs\n",
    "\n",
    "**Énoncé**\n",
    "\n",
    "Codez une fonction `somme_entiers` qui calcule la somme des `n` premiers entiers (`n` étant un paramètre de cette fonction) de manière récursive (c'est-à-dire que le calcul de `somme_entiers(n)` devra utiliser un (au moins) autre appel à `somme_entiers` avec un argument différent de `n`).\n",
    "\n",
    "**Exemple d'appel de la fonction**\n",
    "\n",
    "```\n",
    "somme_entiers(10)\n",
    "```\n",
    "\n",
    "**Exemple de valeur de retour**\n",
    "\n",
    "```\n",
    "55\n",
    "```\n",
    "\n",
    "**Aide**\n",
    "\n",
    "https://rtavenar.github.io/poly_python/content/struct.html#fonctions\n",
    "\n",
    "## Codez dans la cellule ci-dessous"
   ]
  },
  {
   "cell_type": "code",
   "execution_count": null,
   "id": "0f25167a",
   "metadata": {},
   "outputs": [],
   "source": [
    "def somme_entiers(n):\n",
    "  # Codez votre fonction ici (et changez sa valeur de retour !)\n",
    "  return -1"
   ]
  },
  {
   "cell_type": "markdown",
   "id": "3835d6a2",
   "metadata": {},
   "source": [
    "<details><summary>Cliquez ici pour voir la solution</summary>\n",
    "\n",
    "```python\n",
    "def somme_entiers(n):\n",
    "  if n == 0:\n",
    "    return 0\n",
    "  return n + somme_entiers(n-1)\n",
    "```\n",
    "</details>"
   ]
  }
 ],
 "metadata": {
  "jupytext": {
   "formats": "md:myst"
  },
  "kernelspec": {
   "display_name": "Python 3",
   "language": "python",
   "name": "python3"
  }
 },
 "nbformat": 4,
 "nbformat_minor": 5
}
