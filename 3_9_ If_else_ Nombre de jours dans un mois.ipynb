{
 "cells": [
  {
   "cell_type": "markdown",
   "id": "a7221e6c",
   "metadata": {},
   "source": [
    "# 3.9. If/else: Nombre de jours dans un mois\n",
    "\n",
    "## **Énoncé**\n",
    "\n",
    "Étant donné un mois - un entier entre 1et 12, affichez le nombre de jours de ce mois pour l'année 2017.\n",
    "\n",
    "## Exemple d'entrée #1\n",
    "\n",
    "```\n",
    "1\n",
    "```\n",
    "\n",
    "(Janvier)\n",
    "\n",
    "## Exemple de sortie #1\n",
    "\n",
    "```\n",
    "31\n",
    "```\n",
    "\n",
    "## Exemple d'entrée #2\n",
    "\n",
    "```\n",
    "2\n",
    "```\n",
    "\n",
    "(Février)\n",
    "\n",
    "## Exemple de sortie #2\n",
    "\n",
    "```\n",
    "28\n",
    "```\n",
    "\n",
    "## Aide\n",
    "\n",
    "https://rtavenar.github.io/poly_python/content/struct.html#structures-de-controle\n",
    "\n",
    "## Codez dans la cellule ci-dessous"
   ]
  },
  {
   "cell_type": "code",
   "execution_count": null,
   "id": "5cdbd66a",
   "metadata": {},
   "outputs": [],
   "source": [
    "# Lire un entier :\n",
    "# a = int(input())\n",
    "# Afficher une valeur :\n",
    "# print(a)"
   ]
  },
  {
   "cell_type": "markdown",
   "id": "97435d67",
   "metadata": {},
   "source": [
    "<details><summary>Cliquez ici pour voir la solution</summary>\n",
    "\n",
    "```python\n",
    "month = int(input())\n",
    "if month == 2:\n",
    "  print(28)\n",
    "elif month == 4 or month == 6 or month == 9 or month == 11:\n",
    "  print(30)\n",
    "else:\n",
    "  print(31)\n",
    "```\n",
    "</details>"
   ]
  }
 ],
 "metadata": {
  "jupytext": {
   "formats": "md:myst"
  },
  "kernelspec": {
   "display_name": "Python 3",
   "language": "python",
   "name": "python3"
  }
 },
 "nbformat": 4,
 "nbformat_minor": 5
}
