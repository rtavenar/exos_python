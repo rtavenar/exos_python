{
 "cells": [
  {
   "cell_type": "markdown",
   "id": "b1216a19",
   "metadata": {},
   "source": [
    "# D.5. Objet : utilisation d'une méthode sans paramètre\n",
    "\n",
    "## Consignes\n",
    "\n",
    "Écrire le code permettant de créer un objet de classe Cercle nommé \"monCercle\", avec un rayon de 20 et les valeurs par défaut pour les positions en X et Y du centre. Créer une variable \"surface\" contenant le résultat du calcul de la surface de l'objet \"monCercle\". Pour obtenir ce résultat vous devez utiliser uniquement l'objet monCercle créé sans écrire vous-même le calcul de la surface.\n",
    "\n",
    "## Aide\n",
    "\n",
    "https://docs.python.org/fr/3.6/tutorial/classes.html#a-first-look-at-classes\n",
    "\n",
    "## Codez dans la cellule ci-dessous"
   ]
  },
  {
   "cell_type": "code",
   "execution_count": null,
   "id": "aee0110e",
   "metadata": {},
   "outputs": [],
   "source": [
    "from math import pi\n",
    "\n",
    "class Cercle:\n",
    "  def __init__(self, r=15, posX=0, posY=0):\n",
    "    self.rayon = r\t\t# attribut rayon du cercle\n",
    "    self.x = posX\t\t\t# attribut position en X du centre du cercle\n",
    "    self.y = posY\t\t\t# attribut position en Y du centre du cercle\n",
    "  \n",
    "  def calculerSurface(self):\n",
    "    return pi*self.rayon**2\n",
    "  \n",
    "# Écrire votre code ci-dessous\n",
    "\n"
   ]
  },
  {
   "cell_type": "markdown",
   "id": "b009670c",
   "metadata": {},
   "source": [
    "<details><summary>Cliquez ici pour voir la solution</summary>\n",
    "\n",
    "```python\n",
    "from math import pi\n",
    "\n",
    "class Cercle:\n",
    "  def __init__(self, r=15, posX=10, posY=10):\n",
    "    self.rayon = r\t\t# attribut rayon du cercle\n",
    "    self.x = posX\t\t\t# attribut position en X du centre du cercle\n",
    "    self.y = posY\t\t\t# attribut position en Y du centre du cercle\n",
    "  \n",
    "  def calculerSurface(self):\n",
    "    return pi*self.rayon**2\n",
    "    \n",
    "# Écrire votre code ci-dessous\n",
    "monCercle = Cercle(20)\n",
    "surface = monCercle.calculerSurface()\n",
    "```\n",
    "</details>"
   ]
  }
 ],
 "metadata": {
  "jupytext": {
   "formats": "md:myst"
  },
  "kernelspec": {
   "display_name": "Python 3",
   "language": "python",
   "name": "python3"
  }
 },
 "nbformat": 4,
 "nbformat_minor": 5
}
