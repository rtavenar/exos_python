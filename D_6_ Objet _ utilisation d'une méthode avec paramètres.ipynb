{
 "cells": [
  {
   "cell_type": "markdown",
   "id": "5ae95593",
   "metadata": {},
   "source": [
    "# D.6. Objet : utilisation d'une méthode avec paramètres\n",
    "\n",
    "## Consignes\n",
    "\n",
    "Écrire le code permettant de créer un objet de classe Cercle nommé \"monCercle\" avec une position du centre en X de 5, une position du centre en Y de 10 et la valeur par défaut pour le rayon.\n",
    "\n",
    "Écrire ensuite le code permettant de déplacer le centre de l'objet \"monCercle\" de 5 en X et de -8 en Y. Pour faire se déplacement vous devez uniquement utiliser une méthode de l'objet \"monCercle\", avec des paramètres 5 et -8.\n",
    "\n",
    "## Aide\n",
    "\n",
    "https://docs.python.org/fr/3.6/tutorial/classes.html#a-first-look-at-classes\n",
    "\n",
    "## Codez dans la cellule ci-dessous"
   ]
  },
  {
   "cell_type": "code",
   "execution_count": null,
   "id": "0bed80d0",
   "metadata": {},
   "outputs": [],
   "source": [
    "from math import pi\n",
    "\n",
    "class Cercle:\n",
    "  def __init__(self, r=15, posX=0, posY=0):\n",
    "    self.rayon = r\t\t# attribut rayon du cercle\n",
    "    self.x = posX\t\t\t# attribut position en X du centre du cercle\n",
    "    self.y = posY\t\t\t# attribut position en Y du centre du cercle\n",
    "  \n",
    "  def deplacerCentre(self, depX, depY):\n",
    "    self.x += depX\n",
    "    self.y += depY\n",
    "  \n",
    "# Écrire votre code ci-dessous\n"
   ]
  },
  {
   "cell_type": "markdown",
   "id": "6d098187",
   "metadata": {},
   "source": [
    "<details><summary>Cliquez ici pour voir la solution</summary>\n",
    "\n",
    "```python\n",
    "from math import pi\n",
    "\n",
    "class Cercle:\n",
    "  def __init__(self, r=15, posX=0, posY=0):\n",
    "    self.rayon = r\t\t# attribut rayon du cercle\n",
    "    self.x = posX\t\t\t# attribut position en X du centre du cercle\n",
    "    self.y = posY\t\t\t# attribut position en Y du centre du cercle\n",
    "  \n",
    "  def deplacerCentre(self, depX, depY):\n",
    "    self.x += depX\n",
    "    self.y += depY\n",
    "  \n",
    "# Écrire votre code ci-dessous\n",
    "monCercle = Cercle(posX=5, posY=10)\n",
    "monCercle.deplacerCentre(5, -8)\n",
    "```\n",
    "</details>"
   ]
  }
 ],
 "metadata": {
  "jupytext": {
   "formats": "md:myst"
  },
  "kernelspec": {
   "display_name": "Python 3",
   "language": "python",
   "name": "python3"
  }
 },
 "nbformat": 4,
 "nbformat_minor": 5
}
