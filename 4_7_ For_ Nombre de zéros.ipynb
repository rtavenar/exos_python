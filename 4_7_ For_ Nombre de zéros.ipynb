{
 "cells": [
  {
   "cell_type": "markdown",
   "id": "fe5b8494",
   "metadata": {},
   "source": [
    "# 4.7. For: Nombre de zéros\n",
    "\n",
    "## Consigne\n",
    "\n",
    "Soit N nombres : le premier nombre donné en entrée est N, après cela N entiers sont entrés. Compter le nombre de zéros parmi les entiers donnés et afficher le résultat.\n",
    "\n",
    "Vous devez compter le nombre d'entiers égaux à zéro, mais pas le nombre de zéro qui compose un entier.\n",
    "\n",
    "\n",
    "## Exemple d'entrée\n",
    "\n",
    "```\n",
    "5\n",
    "0\n",
    "700\n",
    "0\n",
    "200\n",
    "2\n",
    "```\n",
    "\n",
    "## Exemple de sortie\n",
    "\n",
    "```\n",
    "2\n",
    "```\n",
    "\n",
    "## Aide\n",
    "\n",
    "https://rtavenar.github.io/poly_python/content/struct.html#boucles-for\n",
    "\n",
    "https://docs.python.org/fr/3/reference/compound_stmts.html#for\n",
    "\n",
    "## Codez dans la cellule ci-dessous"
   ]
  },
  {
   "cell_type": "code",
   "execution_count": null,
   "id": "8bf2dc81",
   "metadata": {},
   "outputs": [],
   "source": [
    "# Read an integer:\n",
    "# a = int(input())\n",
    "# Print a value:\n",
    "# print(a)\n"
   ]
  },
  {
   "cell_type": "markdown",
   "id": "6c89b6b6",
   "metadata": {},
   "source": [
    "<details><summary>Cliquez ici pour voir la solution</summary>\n",
    "\n",
    "```python\n",
    "result = 0\n",
    "for i in range(int(input())):\n",
    "  if int(input()) == 0:\n",
    "    result += 1\n",
    "print(result)\n",
    "```\n",
    "</details>"
   ]
  }
 ],
 "metadata": {
  "jupytext": {
   "formats": "md:myst"
  },
  "kernelspec": {
   "display_name": "Python 3",
   "language": "python",
   "name": "python3"
  }
 },
 "nbformat": 4,
 "nbformat_minor": 5
}
