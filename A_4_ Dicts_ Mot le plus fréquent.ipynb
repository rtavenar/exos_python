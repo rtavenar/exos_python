{
 "cells": [
  {
   "cell_type": "markdown",
   "id": "b6799662",
   "metadata": {},
   "source": [
    "# A.4. Dicts: Mot le plus fréquent\n",
    "\n",
    "## Consigne\n",
    "\n",
    "À partir d'un texte contenant n lignes, la première entrée correspondra au nombre de lignes n puis chaque ligne du texte sera entrée l'une après l'autre.\n",
    "\n",
    "Affichez le mot le plus fréquent du texte. Si plusieurs mots ont la même fréquence, on choisira le premier du classement alphabétique.\n",
    "\n",
    "## Exemple d'entrée\n",
    "\n",
    "```\n",
    "2\n",
    "apple orange banana\n",
    "banana orange\n",
    "```\n",
    "\n",
    "## Exemple de sortie\n",
    "\n",
    "```\n",
    "banana\n",
    "```\n",
    "\n",
    "## Aide\n",
    "\n",
    "https://rtavenar.github.io/poly_python/content/dict.html\n",
    "\n",
    "https://docs.python.org/fr/3/tutorial/datastructures.html#dictionaries\n",
    "\n",
    "## Codez dans la cellule ci-dessous"
   ]
  },
  {
   "cell_type": "code",
   "execution_count": null,
   "id": "2b60b5cb",
   "metadata": {},
   "outputs": [],
   "source": [
    "# Read a string:\n",
    "# s = input()\n",
    "# Print a value:\n",
    "# print(s)\n"
   ]
  },
  {
   "cell_type": "markdown",
   "id": "4f06f00f",
   "metadata": {},
   "source": [
    "<details><summary>Cliquez ici pour voir la solution</summary>\n",
    "\n",
    "```python\n",
    "words_count = {}\n",
    "for i in range(int(input())):\n",
    "  words = input().split()\n",
    "  for word in words:\n",
    "    if word not in words_count:\n",
    "      words_count[word] = 0\n",
    "    words_count[word] += 1\n",
    "max_frequency = max(words_count.values())\n",
    "for word in sorted(words_count):\n",
    "  if words_count[word] == max_frequency:\n",
    "    print(word)\n",
    "    break\n",
    "```\n",
    "</details>"
   ]
  }
 ],
 "metadata": {
  "jupytext": {
   "formats": "md:myst"
  },
  "kernelspec": {
   "display_name": "Python 3",
   "language": "python",
   "name": "python3"
  }
 },
 "nbformat": 4,
 "nbformat_minor": 5
}
