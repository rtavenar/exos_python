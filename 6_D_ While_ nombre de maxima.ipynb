{
 "cells": [
  {
   "cell_type": "markdown",
   "id": "fd6c5186",
   "metadata": {},
   "source": [
    "# 6.D. While: nombre de maxima\n",
    "\n",
    "## Consignes\n",
    "\n",
    "Étant donnée une série d'entiers non-négatifs entrés un à un au clavier (un entier par ligne) et se terminant par `0`, trouver combien d'éléments de cette série sont égaux à son élément le plus grand et afficher ce nombre.\n",
    "\n",
    "## Exemple d'entrées #1\n",
    "\n",
    "```\n",
    "1\n",
    "7\n",
    "9\n",
    "0\n",
    "```\n",
    "\n",
    "## Exemple de sortie #1\n",
    "\n",
    "```\n",
    "1\n",
    "```\n",
    "\n",
    "## Exemple d'entrées #2\n",
    "\n",
    "```\n",
    "1\n",
    "3\n",
    "3\n",
    "1\n",
    "0\n",
    "```\n",
    "\n",
    "## Exemple de sortie #2\n",
    "\n",
    "```\n",
    "2\n",
    "```\n",
    "\n",
    "## Aide\n",
    "\n",
    "https://docs.python.org/fr/3.6/reference/compound_stmts.html#the-while-statement\n",
    "\n",
    "## Codez dans la cellule ci-dessous"
   ]
  },
  {
   "cell_type": "code",
   "execution_count": null,
   "id": "cc47e8a9",
   "metadata": {},
   "outputs": [],
   "source": [
    "# Lire un entier au clavier :\n",
    "# a = int(input())\n",
    "# Afficher la valeur de a :\n",
    "# print(a)\n"
   ]
  },
  {
   "cell_type": "markdown",
   "id": "2086ad01",
   "metadata": {},
   "source": [
    "<details><summary>Cliquez ici pour voir la solution</summary>\n",
    "\n",
    "```python\n",
    "maximum = int(input())\n",
    "counter = 1\n",
    "a = -1\n",
    "while a != 0:\n",
    "  a = int(input())\n",
    "  if a > maximum:\n",
    "    maximum, counter = a, 1\n",
    "  elif a == maximum:\n",
    "    counter += 1\n",
    "print(counter)\n",
    "```\n",
    "</details>"
   ]
  }
 ],
 "metadata": {
  "jupytext": {
   "formats": "md:myst"
  },
  "kernelspec": {
   "display_name": "Python 3",
   "language": "python",
   "name": "python3"
  }
 },
 "nbformat": 4,
 "nbformat_minor": 5
}
