{
 "cells": [
  {
   "cell_type": "markdown",
   "id": "1bcc7d18",
   "metadata": {},
   "source": [
    "# 3.M. If/else: Minimum de 5 nombres\n",
    "\n",
    "## **Énoncé**\n",
    "\n",
    "Étant donnés 5 nombres, afficher leur minimum.\n",
    "\n",
    "## Exemple d'entrée\n",
    "\n",
    "```\n",
    "10\n",
    "20\n",
    "30\n",
    "40\n",
    "50\n",
    "```\n",
    "\n",
    "## Exemple de sortie\n",
    "\n",
    "```\n",
    "10\n",
    "```\n",
    "\n",
    "## Aide\n",
    "\n",
    "https://rtavenar.github.io/poly_python/content/struct.html#structures-de-controle\n",
    "\n",
    "## Codez dans la cellule ci-dessous"
   ]
  },
  {
   "cell_type": "code",
   "execution_count": null,
   "id": "6bb5e6b3",
   "metadata": {},
   "outputs": [],
   "source": [
    "# Lire un entier :\n",
    "# a = int(input())\n",
    "# Afficher une valeur :\n",
    "# print(a)"
   ]
  },
  {
   "cell_type": "markdown",
   "id": "7f2eef98",
   "metadata": {},
   "source": [
    "<details><summary>Cliquez ici pour voir la solution</summary>\n",
    "\n",
    "```python\n",
    "least = int(input())\n",
    "\n",
    "new_integer = int(input())\n",
    "if new_integer < least:\n",
    "  least = new_integer\n",
    "\n",
    "new_integer = int(input())\n",
    "if new_integer < least:\n",
    "  least = new_integer\n",
    "  \n",
    "new_integer = int(input())\n",
    "if new_integer < least:\n",
    "  least = new_integer\n",
    "  \n",
    "new_integer = int(input())\n",
    "if new_integer < least:\n",
    "  least = new_integer\n",
    "  \n",
    "print(least)\n",
    "```\n",
    "</details>"
   ]
  }
 ],
 "metadata": {
  "jupytext": {
   "formats": "md:myst"
  },
  "kernelspec": {
   "display_name": "Python 3",
   "language": "python",
   "name": "python3"
  }
 },
 "nbformat": 4,
 "nbformat_minor": 5
}
