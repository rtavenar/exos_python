{
 "cells": [
  {
   "cell_type": "markdown",
   "id": "c8d572d8",
   "metadata": {},
   "source": [
    "# 1.6. Input/print: Heures et minutes\n",
    "\n",
    "## Consigne\n",
    "\n",
    "Soit un entier N, représentant le nombre de secondes écoulées depuis minuit, calculer le nombre d'heures entières et le nombre de minutes entières écoulées depuis minuit.\n",
    "\n",
    "\n",
    "Le programme devra afficher les deux nombres : le nombre d'heures (entre 0 et 23) et le nombre de minute (entre 0 et 1339).\n",
    "\n",
    "\n",
    "Par exemple, si N = 3900, alors 3900 secondes se sont écoulées depuis minuit (il est donc 1h05). Le programme devra afficher **1 65** ( 1 heure entière depuis minuit, 65 minutes entières depuis minuit).\n",
    "\n",
    "## Exemple d'entrée\n",
    "\n",
    "```\n",
    "3900\n",
    "```\n",
    "\n",
    "## Exemple de sortie\n",
    "\n",
    "```\n",
    "1 65\n",
    "```\n",
    "\n",
    "## Aide\n",
    "\n",
    "https://rtavenar.github.io/poly_python/content/intro.html\n",
    "\n",
    "## Codez dans la cellule ci-dessous"
   ]
  },
  {
   "cell_type": "code",
   "execution_count": null,
   "id": "835d2f8a",
   "metadata": {},
   "outputs": [],
   "source": [
    "# Read an integer:\n",
    "# a = int(input())\n",
    "# Print a value:\n",
    "# print(a)\n"
   ]
  },
  {
   "cell_type": "markdown",
   "id": "48b08c76",
   "metadata": {},
   "source": [
    "<details><summary>Cliquez ici pour voir la solution</summary>\n",
    "\n",
    "```python\n",
    "num_seconds = int(input())\n",
    "print(num_seconds // 3600, num_seconds // 60)\n",
    "```\n",
    "</details>"
   ]
  }
 ],
 "metadata": {
  "jupytext": {
   "formats": "md:myst"
  },
  "kernelspec": {
   "display_name": "Python 3",
   "language": "python",
   "name": "python3"
  }
 },
 "nbformat": 4,
 "nbformat_minor": 5
}
