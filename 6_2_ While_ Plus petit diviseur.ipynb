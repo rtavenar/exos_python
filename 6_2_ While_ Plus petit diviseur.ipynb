{
 "cells": [
  {
   "cell_type": "markdown",
   "id": "98f79362",
   "metadata": {},
   "source": [
    "# 6.2. While: Plus petit diviseur\n",
    "\n",
    "## **Énoncé**\n",
    "\n",
    "Étant donné un entier strictement plus grand que 1, afficher son plus petit diviseur strictement supérieur à 1.\n",
    "\n",
    "## **Exemple d'entrée**\n",
    "\n",
    "```\n",
    "15\n",
    "```\n",
    "\n",
    "## **Exemple de sortie**\n",
    "\n",
    "```\n",
    "3\n",
    "```\n",
    "\n",
    "## Aide\n",
    "\n",
    "https://rtavenar.github.io/poly_python/content/struct.html#boucles-while\n",
    "\n",
    "## Codez dans la cellule ci-dessous"
   ]
  },
  {
   "cell_type": "code",
   "execution_count": null,
   "id": "ac559879",
   "metadata": {},
   "outputs": [],
   "source": [
    "# Read an integer:\n",
    "# a = int(input())\n",
    "# Print a value:\n",
    "# print(a)\n"
   ]
  },
  {
   "cell_type": "markdown",
   "id": "8bfb64db",
   "metadata": {},
   "source": [
    "<details><summary>Cliquez ici pour voir la solution</summary>\n",
    "\n",
    "```python\n",
    "a = int(input())\n",
    "i = 2\n",
    "while a % i != 0:\n",
    "  i += 1\n",
    "print(i)\n",
    "```\n",
    "</details>"
   ]
  }
 ],
 "metadata": {
  "jupytext": {
   "formats": "md:myst"
  },
  "kernelspec": {
   "display_name": "Python 3",
   "language": "python",
   "name": "python3"
  }
 },
 "nbformat": 4,
 "nbformat_minor": 5
}
