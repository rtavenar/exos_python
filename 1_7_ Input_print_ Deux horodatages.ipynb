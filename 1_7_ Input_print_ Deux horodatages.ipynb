{
 "cells": [
  {
   "cell_type": "markdown",
   "id": "96ef0336",
   "metadata": {},
   "source": [
    "# 1.7. Input/print: Deux horodatages\n",
    "\n",
    "## Consigne\n",
    "\n",
    "Soit deux horodatages dans la même journée : un nombre d'heures, de minutes et de secondes entrés l'un après l'autre pour chaque horodatage. L'instant du premier apparaît avant le second.\n",
    "Calculer puis afficher le nombre de secondes entre les deux horodatages.\n",
    "\n",
    "## Exemple d'entrée #1\n",
    "\n",
    "```\n",
    "1\n",
    "1\n",
    "1\n",
    "2\n",
    "2\n",
    "2\n",
    "```\n",
    "\n",
    "## Exemple de sortie #1\n",
    "\n",
    "```\n",
    "3661\n",
    "```\n",
    "\n",
    "## Exemple d'entrée #2\n",
    "\n",
    "```\n",
    "1\n",
    "2\n",
    "30\n",
    "1\n",
    "3\n",
    "20\n",
    "```\n",
    "\n",
    "## Exemple de sortie #2\n",
    "\n",
    "```\n",
    "50\n",
    "```\n",
    "\n",
    "## Aide\n",
    "\n",
    "https://rtavenar.github.io/poly_python/content/intro.html\n",
    "\n",
    "https://docs.python.org/fr/3/tutorial/inputoutput.html\n",
    "\n",
    "## Codez dans la cellule ci-dessous"
   ]
  },
  {
   "cell_type": "code",
   "execution_count": null,
   "id": "7208c896",
   "metadata": {},
   "outputs": [],
   "source": [
    "# Read an integer:\n",
    "# a = int(input())\n",
    "# Print a value:\n",
    "# print(a)\n"
   ]
  },
  {
   "cell_type": "markdown",
   "id": "366c38a6",
   "metadata": {},
   "source": [
    "<details><summary>Cliquez ici pour voir la solution</summary>\n",
    "\n",
    "```python\n",
    "hours_1 = int(input())\n",
    "minutes_1 = int(input())\n",
    "seconds_1 = int(input())\n",
    "\n",
    "hours_2 = int(input())\n",
    "minutes_2 = int(input())\n",
    "seconds_2 = int(input())\n",
    "\n",
    "print((hours_2 - hours_1) * 3600 +\n",
    "      (minutes_2 - minutes_1) * 60 +\n",
    "      seconds_2 - seconds_1)\n",
    "```\n",
    "</details>"
   ]
  }
 ],
 "metadata": {
  "jupytext": {
   "formats": "md:myst"
  },
  "kernelspec": {
   "display_name": "Python 3",
   "language": "python",
   "name": "python3"
  }
 },
 "nbformat": 4,
 "nbformat_minor": 5
}
