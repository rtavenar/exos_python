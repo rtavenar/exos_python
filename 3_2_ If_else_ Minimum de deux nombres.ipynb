{
 "cells": [
  {
   "cell_type": "markdown",
   "id": "d59179f1",
   "metadata": {},
   "source": [
    "# 3.2. If/else: Minimum de deux nombres\n",
    "\n",
    "## Consigne\n",
    "\n",
    "Étant donnés 2 entiers, affichez le plus petit des deux\n",
    "\n",
    "## Exemple d'entrée\n",
    "\n",
    "```\n",
    "3\n",
    "7\n",
    "```\n",
    "\n",
    "## Exemple de sortie\n",
    "\n",
    "```\n",
    "3\n",
    "```\n",
    "\n",
    "## Aide\n",
    "\n",
    "https://rtavenar.github.io/poly_python/content/struct.html#structures-de-controle\n",
    "\n",
    "## Codez dans la cellule ci-dessous"
   ]
  },
  {
   "cell_type": "code",
   "execution_count": null,
   "id": "b39b8912",
   "metadata": {},
   "outputs": [],
   "source": [
    "# Lire un entier :\n",
    "# a = int(input())\n",
    "# Afficher une valeur :\n",
    "# print(a)\n"
   ]
  },
  {
   "cell_type": "markdown",
   "id": "19dc6cc2",
   "metadata": {},
   "source": [
    "<details><summary>Cliquez ici pour voir la solution</summary>\n",
    "\n",
    "```python\n",
    "a = int(input())\n",
    "b = int(input())\n",
    "if a < b:\n",
    "  print(a)\n",
    "else:\n",
    "  print(b)\n",
    "```\n",
    "</details>"
   ]
  }
 ],
 "metadata": {
  "jupytext": {
   "formats": "md:myst"
  },
  "kernelspec": {
   "display_name": "Python 3",
   "language": "python",
   "name": "python3"
  }
 },
 "nbformat": 4,
 "nbformat_minor": 5
}
