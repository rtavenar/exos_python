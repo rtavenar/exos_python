{
 "cells": [
  {
   "cell_type": "markdown",
   "id": "3ac79381",
   "metadata": {},
   "source": [
    "# 6.4. While: Course à pied\n",
    "\n",
    "## **Énoncé**\n",
    "\n",
    "Vous êtes un athlète qui se prépare pour une course. Le premier jour de votre entrainement, vous courez _x_ kilomètres, et le jour de la course vous devrez être capable de courir _y_ kilomètres.\n",
    "\n",
    "Écrivez un programme qui lit les nombres x et y dans cet ordre et affiche le nombre de jours d'entrainements requis pour atteindre le but y sachant que vous augmentez votre distance d'entrainement  10% chaque jour.\n",
    "\n",
    "## **Exemple d'entrée**\n",
    "\n",
    "```\n",
    "10\n",
    "30\n",
    "```\n",
    "\n",
    "## **Exemple de sortie**\n",
    "\n",
    "```\n",
    "13\n",
    "```\n",
    "\n",
    "## Aide\n",
    "\n",
    "https://rtavenar.github.io/poly_python/content/struct.html#boucles-while\n",
    "\n",
    "## Codez dans la cellule ci-dessous"
   ]
  },
  {
   "cell_type": "code",
   "execution_count": null,
   "id": "ae43586e",
   "metadata": {},
   "outputs": [],
   "source": [
    "# Read an integer:\n",
    "# a = int(input())\n",
    "# Print a value:\n",
    "# print(a)\n"
   ]
  },
  {
   "cell_type": "markdown",
   "id": "c60bc2cd",
   "metadata": {},
   "source": [
    "<details><summary>Cliquez ici pour voir la solution</summary>\n",
    "\n",
    "```python\n",
    "x = int(input())\n",
    "y = int(input())\n",
    "num_days = 1\n",
    "while x < y:\n",
    "  x *= 1.1\n",
    "  num_days += 1\n",
    "print(num_days)\n",
    "```\n",
    "</details>"
   ]
  }
 ],
 "metadata": {
  "jupytext": {
   "formats": "md:myst"
  },
  "kernelspec": {
   "display_name": "Python 3",
   "language": "python",
   "name": "python3"
  }
 },
 "nbformat": 4,
 "nbformat_minor": 5
}
