{
 "cells": [
  {
   "cell_type": "markdown",
   "id": "0b8347fa",
   "metadata": {},
   "source": [
    "# 3.C. If/else: Échecs : mouvement de tour\n",
    "\n",
    "## **Énoncé**\n",
    "\n",
    "Aux échecs, les tours se déplacent horizontalement ou verticalement, d'un nombre de cases quelconque.\n",
    "\n",
    "Le programme reçoit 4 valeurs entre 1 et 8 dans l'ordre suivant :\n",
    "\n",
    "1. numéro de colonne de la case de départ\n",
    "2. numéro de ligne de la case de départ\n",
    "3. numéro de colonne de la case d'arrivée\n",
    "4. numéro de ligne de la case d'arrivée\n",
    "\n",
    "Le programme devra afficher `OUI` si une tour peut aller de la case de départ à la case d'arrivée ou `NON` sinon.\n",
    "\n",
    "\n",
    "\n",
    "## **Exemple d'entrée**\n",
    "\n",
    "```\n",
    "4\n",
    "4\n",
    "5\n",
    "5\n",
    "```\n",
    "\n",
    "## **Exemple de sortie**\n",
    "\n",
    "```\n",
    "NON\n",
    "```\n",
    "\n",
    "## Aide\n",
    "\n",
    "https://rtavenar.github.io/poly_python/content/struct.html#structures-de-controle\n",
    "\n",
    "## Codez dans la cellule ci-dessous"
   ]
  },
  {
   "cell_type": "code",
   "execution_count": null,
   "id": "445c98e7",
   "metadata": {},
   "outputs": [],
   "source": [
    "# Lire un entier :\n",
    "# a = int(input())\n",
    "# Afficher une valeur :\n",
    "# print(a)"
   ]
  },
  {
   "cell_type": "markdown",
   "id": "90dc218c",
   "metadata": {},
   "source": [
    "<details><summary>Cliquez ici pour voir la solution</summary>\n",
    "\n",
    "```python\n",
    "x1 = int(input())\n",
    "y1 = int(input())\n",
    "x2 = int(input())\n",
    "y2 = int(input())\n",
    "\n",
    "if x1 == x2 or y1 == y2:\n",
    "  print('OUI')\n",
    "else:\n",
    "  print('NON')\n",
    "```\n",
    "</details>"
   ]
  }
 ],
 "metadata": {
  "jupytext": {
   "formats": "md:myst"
  },
  "kernelspec": {
   "display_name": "Python 3",
   "language": "python",
   "name": "python3"
  }
 },
 "nbformat": 4,
 "nbformat_minor": 5
}
