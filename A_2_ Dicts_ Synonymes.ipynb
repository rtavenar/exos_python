{
 "cells": [
  {
   "cell_type": "markdown",
   "id": "e46130eb",
   "metadata": {},
   "source": [
    "# A.2. Dicts: Synonymes\n",
    "\n",
    "## Consigne\n",
    "\n",
    "Soit un dictionnaire composé de paires de mots. Chaque mot est un synonyme de l'autre mot dans sa paire.\n",
    "\n",
    "À partir d'une liste de paires de mots, vous devrez créer un tel dictionnaire.\n",
    "\n",
    "À la suite du dictionnaire, l'utilisateur propose un mot en entrée pour obtenir le synonyme. La réponse sera la valeur correspondant à la clé (mot proposé en entrée).\n",
    "\n",
    "\n",
    "## Exemple d'entrée\n",
    "\n",
    "```\n",
    "3\n",
    "Hello Hi\n",
    "Bye Goodbye\n",
    "List Array\n",
    "Goodbye\n",
    "```\n",
    "\n",
    "## Exemple de sortie\n",
    "\n",
    "```\n",
    "Bye\n",
    "```\n",
    "\n",
    "## Aide\n",
    "\n",
    "https://rtavenar.github.io/poly_python/content/dict.html\n",
    "\n",
    "https://docs.python.org/fr/3/tutorial/datastructures.html#dictionaries\n",
    "\n",
    "## Codez dans la cellule ci-dessous"
   ]
  },
  {
   "cell_type": "code",
   "execution_count": null,
   "id": "2ad0734c",
   "metadata": {},
   "outputs": [],
   "source": [
    "# Read a string:\n",
    "# s = input()\n",
    "# Print a value:\n",
    "# print(s)\n"
   ]
  },
  {
   "cell_type": "markdown",
   "id": "2cfc4366",
   "metadata": {},
   "source": [
    "<details><summary>Cliquez ici pour voir la solution</summary>\n",
    "\n",
    "```python\n",
    "synonyms = {}\n",
    "for i in range(int(input())):\n",
    "  w1, w2 = input().split()\n",
    "  synonyms[w1] = w2\n",
    "  synonyms[w2] = w1\n",
    "print(synonyms[input()])\n",
    "```\n",
    "</details>"
   ]
  }
 ],
 "metadata": {
  "jupytext": {
   "formats": "md:myst"
  },
  "kernelspec": {
   "display_name": "Python 3",
   "language": "python",
   "name": "python3"
  }
 },
 "nbformat": 4,
 "nbformat_minor": 5
}
