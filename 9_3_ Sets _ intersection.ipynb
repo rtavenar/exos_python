{
 "cells": [
  {
   "cell_type": "markdown",
   "id": "9de130f8",
   "metadata": {},
   "source": [
    "# 9.3. Sets : intersection\n",
    "\n",
    "## Consignes\n",
    "\n",
    "Étant données deux séries de nombres (séparés par des espaces) entrées l'une après l'autre au clavier, trouver tous les nombres qui apparaissent à la fois dans la première et dans la deuxième séries et les afficher par ordre croissant.\n",
    "\n",
    "## Exemple d'entrée\n",
    "\n",
    "```\n",
    "1 3 2\n",
    "4 3 2\n",
    "```\n",
    "\n",
    "## Exemple de sortie\n",
    "\n",
    "```\n",
    "2 3\n",
    "```\n",
    "\n",
    "## Aide\n",
    "\n",
    "https://docs.python.org/fr/3.6/library/stdtypes.html#set-types-set-frozenset\n",
    "\n",
    "## Codez dans la cellule ci-dessous"
   ]
  },
  {
   "cell_type": "code",
   "execution_count": null,
   "id": "34ca2dfd",
   "metadata": {},
   "outputs": [],
   "source": [
    "# Lire une chaîne de caractères au clavier :\n",
    "# s = input()\n",
    "# Afficher la valeur de s :\n",
    "# print(s)\n"
   ]
  },
  {
   "cell_type": "markdown",
   "id": "2e3f0dd8",
   "metadata": {},
   "source": [
    "<details><summary>Cliquez ici pour voir la solution</summary>\n",
    "\n",
    "```python\n",
    "first = set([int(s) for s in input().split()])\n",
    "second = set([int(s) for s in input().split()])\n",
    "print(*sorted(first & second))\n",
    "```\n",
    "</details>"
   ]
  }
 ],
 "metadata": {
  "jupytext": {
   "formats": "md:myst"
  },
  "kernelspec": {
   "display_name": "Python 3",
   "language": "python",
   "name": "python3"
  }
 },
 "nbformat": 4,
 "nbformat_minor": 5
}
