{
 "cells": [
  {
   "cell_type": "markdown",
   "id": "9b60a765",
   "metadata": {},
   "source": [
    "# 3.I. If/else: Échecs : mouvement de cavalier\n",
    "\n",
    "## **Énoncé**\n",
    "\n",
    "Aux échecs, un cavalier se déplace en \"L\" : de deux cases dans une direction puis d'une case dans une direction perpendiculaire à la première.\n",
    "\n",
    "Votre programme recevra une position de départ (une valeur pour la colonne, une pour la ligne) et une position d'arrivée (une valeur pour la colonne, une pour la ligne) et devra afficher OUI si un roi peut se déplacer de la position de départ à celle d'arrivée et NON sinon.\n",
    "\n",
    "\n",
    "\n",
    "\n",
    "## Exemple d'entrée\n",
    "\n",
    "```\n",
    "2\n",
    "4\n",
    "3\n",
    "2\n",
    "```\n",
    "\n",
    "## Exemple de sortie\n",
    "\n",
    "```\n",
    "OUI\n",
    "```\n",
    "\n",
    "## Aide\n",
    "\n",
    "https://rtavenar.github.io/poly_python/content/struct.html#structures-de-controle\n",
    "\n",
    "## Codez dans la cellule ci-dessous"
   ]
  },
  {
   "cell_type": "code",
   "execution_count": null,
   "id": "ede12433",
   "metadata": {},
   "outputs": [],
   "source": [
    "# Lire un entier :\n",
    "# a = int(input())\n",
    "# Afficher une valeur :\n",
    "# print(a)\n"
   ]
  },
  {
   "cell_type": "markdown",
   "id": "77ddf758",
   "metadata": {},
   "source": [
    "<details><summary>Cliquez ici pour voir la solution</summary>\n",
    "\n",
    "```python\n",
    "x1 = int(input())\n",
    "y1 = int(input())\n",
    "x2 = int(input())\n",
    "y2 = int(input())\n",
    "\n",
    "dx = abs(x1 - x2)\n",
    "dy = abs(y1 - y2)\n",
    "\n",
    "if dx == 1 and dy == 2 or dx == 2 and dy == 1:\n",
    "  print('OUI')\n",
    "else:\n",
    "  print('NON')\n",
    "```\n",
    "</details>"
   ]
  }
 ],
 "metadata": {
  "jupytext": {
   "formats": "md:myst"
  },
  "kernelspec": {
   "display_name": "Python 3",
   "language": "python",
   "name": "python3"
  }
 },
 "nbformat": 4,
 "nbformat_minor": 5
}
