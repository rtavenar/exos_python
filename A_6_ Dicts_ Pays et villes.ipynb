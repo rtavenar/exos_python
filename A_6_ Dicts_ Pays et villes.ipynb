{
 "cells": [
  {
   "cell_type": "markdown",
   "id": "c1bb493b",
   "metadata": {},
   "source": [
    "# A.6. Dicts: Pays et villes\n",
    "\n",
    "## Consigne\n",
    "\n",
    "Soit une liste de pays contenant une liste de villes appartenant à ce pays. On commencera par préciser le nombre de pays dont on souhaite énumérer une liste de ville lui appartenant. Puis pour chaque pays on entrera sur une ligne le nom du pays puis la liste des villes.\n",
    "\n",
    "On entrera ensuite le nombre de villes dont on souhaite connaître le pays, puis on entrera le nom de chaque ville sur une ligne. Le programme répondra en affichant le pays correspondant à chaque ville.\n",
    "\n",
    "## Exemple d'entrée\n",
    "\n",
    "```\n",
    "2\n",
    "USA Boston Pittsburgh Washington Seattle\n",
    "UK London Edinburgh Cardiff Belfast\n",
    "3\n",
    "Cardiff\n",
    "Seattle\n",
    "London\n",
    "```\n",
    "\n",
    "## Exemple de sortie\n",
    "\n",
    "```\n",
    "UK\n",
    "USA\n",
    "UK\n",
    "```\n",
    "\n",
    "## Aide\n",
    "\n",
    "https://rtavenar.github.io/poly_python/content/dict.html\n",
    "\n",
    "https://docs.python.org/fr/3/tutorial/datastructures.html#dictionaries\n",
    "\n",
    "## Codez dans la cellule ci-dessous"
   ]
  },
  {
   "cell_type": "code",
   "execution_count": null,
   "id": "e4260d8a",
   "metadata": {},
   "outputs": [],
   "source": [
    "# Read a string:\n",
    "# s = input()\n",
    "# Print a value:\n",
    "# print(s)\n"
   ]
  },
  {
   "cell_type": "markdown",
   "id": "8f1aaca4",
   "metadata": {},
   "source": [
    "<details><summary>Cliquez ici pour voir la solution</summary>\n",
    "\n",
    "```python\n",
    "city_country = {}\n",
    "for _ in range(int(input())):\n",
    "  country, *cities = input().split()\n",
    "  for city in cities:\n",
    "    city_country[city] = country\n",
    "for _ in range(int(input())):\n",
    "  print(city_country[input()])\n",
    "```\n",
    "</details>"
   ]
  }
 ],
 "metadata": {
  "jupytext": {
   "formats": "md:myst"
  },
  "kernelspec": {
   "display_name": "Python 3",
   "language": "python",
   "name": "python3"
  }
 },
 "nbformat": 4,
 "nbformat_minor": 5
}
