{
 "cells": [
  {
   "cell_type": "markdown",
   "id": "e39d6180",
   "metadata": {},
   "source": [
    "# 1.1. Input/print: Somme de trois nombres\n",
    "\n",
    "## Consigne\n",
    "\n",
    "Écrire un programme qui prend 3 nombres et affiche leur somme. Chaque nombre sera entré séparément.\n",
    "\n",
    "## Exemple d'entrée\n",
    "\n",
    "```\n",
    "2\n",
    "3\n",
    "6\n",
    "```\n",
    "\n",
    "## Exemple de sortie\n",
    "\n",
    "```\n",
    "11\n",
    "```\n",
    "\n",
    "## Aide\n",
    "\n",
    "https://rtavenar.github.io/poly_python/content/intro.html\n",
    "\n",
    "https://docs.python.org/fr/3/tutorial/inputoutput.html\n",
    "\n",
    "## Codez dans la cellule ci-dessous"
   ]
  },
  {
   "cell_type": "code",
   "execution_count": null,
   "id": "42a94631",
   "metadata": {},
   "outputs": [],
   "source": [
    "# Ce programme lit 2 nombres et affiche leur somme :\n",
    "a = int(input())\n",
    "b = int(input())\n",
    "print(a + b)\n",
    "\n",
    "# Vous pouvez modifier ce programme pour lire et faire la somme de 3 nombres"
   ]
  },
  {
   "cell_type": "markdown",
   "id": "09599849",
   "metadata": {},
   "source": [
    "<details><summary>Cliquez ici pour voir la solution</summary>\n",
    "\n",
    "```python\n",
    "a = int(input())\n",
    "b = int(input())\n",
    "c = int(input())\n",
    "print(a + b + c)\n",
    "```\n",
    "</details>"
   ]
  }
 ],
 "metadata": {
  "jupytext": {
   "formats": "md:myst"
  },
  "kernelspec": {
   "display_name": "Python 3",
   "language": "python",
   "name": "python3"
  }
 },
 "nbformat": 4,
 "nbformat_minor": 5
}
