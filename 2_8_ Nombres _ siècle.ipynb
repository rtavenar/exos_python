{
 "cells": [
  {
   "cell_type": "markdown",
   "id": "4abb9323",
   "metadata": {},
   "source": [
    "# 2.8. Nombres : siècle\n",
    "\n",
    "## Consigne\n",
    "\n",
    "Étant donnée une année (entrée au clavier comme un entier positif) trouver et afficher le siècle correspondant. Noter que, par exemple, le 20ème siècle commence avec l'année 1901.\n",
    "\n",
    "## Example input\n",
    "\n",
    "```\n",
    "2000\n",
    "```\n",
    "\n",
    "## Example output\n",
    "\n",
    "```\n",
    "20\n",
    "```\n",
    "\n",
    "## Theory\n",
    "\n",
    "If you don't know how to start solving this assignment, please, review a theory for this lesson:\n",
    "\n",
    "https://snakify.org/lessons/integer_float_numbers/\n",
    "\n",
    "\n",
    "You may also try step-by-step theory chunks:\n",
    "\n",
    "https://snakify.org/lessons/integer_float_numbers/steps/1/\n",
    "\n",
    "## Codez dans la cellule ci-dessous"
   ]
  },
  {
   "cell_type": "code",
   "execution_count": null,
   "id": "bc0239e4",
   "metadata": {},
   "outputs": [],
   "source": [
    "# Read an integer:\n",
    "# a = int(input())\n",
    "# Print a value:\n",
    "# print(a)\n"
   ]
  },
  {
   "cell_type": "markdown",
   "id": "e83bf1e0",
   "metadata": {},
   "source": [
    "<details><summary>Cliquez ici pour voir la solution</summary>\n",
    "\n",
    "```python\n",
    "a = int(input())\n",
    "print((a - 1) // 100 + 1)\n",
    "```\n",
    "</details>"
   ]
  }
 ],
 "metadata": {
  "jupytext": {
   "formats": "md:myst"
  },
  "kernelspec": {
   "display_name": "Python 3",
   "language": "python",
   "name": "python3"
  }
 },
 "nbformat": 4,
 "nbformat_minor": 5
}
