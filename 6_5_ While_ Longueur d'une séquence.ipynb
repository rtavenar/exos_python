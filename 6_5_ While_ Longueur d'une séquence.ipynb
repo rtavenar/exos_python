{
 "cells": [
  {
   "cell_type": "markdown",
   "id": "809389db",
   "metadata": {},
   "source": [
    "# 6.5. While: Longueur d'une séquence\n",
    "\n",
    "## **Énoncé**\n",
    "\n",
    "Étant donnée une séquence d'entiers positifs, où chaque entier est écrit sur une ligne distincte, affichez le nombre de valeurs lues **avant** de rencontrer un 0.\n",
    "\n",
    "## **Exemple d'entrée**\n",
    "\n",
    "```\n",
    "1\n",
    "7\n",
    "9\n",
    "0\n",
    "5\n",
    "```\n",
    "\n",
    "## **Exemple de sortie**\n",
    "\n",
    "```\n",
    "3\n",
    "```\n",
    "\n",
    "## Aide\n",
    "\n",
    "https://rtavenar.github.io/poly_python/content/struct.html#boucles-while\n",
    "\n",
    "## Codez dans la cellule ci-dessous"
   ]
  },
  {
   "cell_type": "code",
   "execution_count": null,
   "id": "645d5dbe",
   "metadata": {},
   "outputs": [],
   "source": [
    "# Read an integer:\n",
    "# a = int(input())\n",
    "# Print a value:\n",
    "# print(a)\n"
   ]
  },
  {
   "cell_type": "markdown",
   "id": "6860d5bd",
   "metadata": {},
   "source": [
    "<details><summary>Cliquez ici pour voir la solution</summary>\n",
    "\n",
    "```python\n",
    "a = int(input())\n",
    "length = 0\n",
    "while a != 0:\n",
    "  a = int(input())\n",
    "  length += 1\n",
    "print(length)\n",
    "```\n",
    "</details>"
   ]
  }
 ],
 "metadata": {
  "jupytext": {
   "formats": "md:myst"
  },
  "kernelspec": {
   "display_name": "Python 3",
   "language": "python",
   "name": "python3"
  }
 },
 "nbformat": 4,
 "nbformat_minor": 5
}
