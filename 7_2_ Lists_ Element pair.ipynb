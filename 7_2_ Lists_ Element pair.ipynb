{
 "cells": [
  {
   "cell_type": "markdown",
   "id": "ac4da1ca",
   "metadata": {},
   "source": [
    "# 7.2. Lists: Element pair\n",
    "\n",
    "## Consigne\n",
    "\n",
    "À partir d'une liste de nombres entiers donnés en entrée (chaque nombre est séparé par un espace), afficher tous les éléments pairs. Utiliser une boucle for qui va itérer sur la liste et pas sur les indices. Autrement dit, ne pas utiliser range( )\n",
    "\n",
    "## Exemple d'entrée\n",
    "\n",
    "```\n",
    "1 2 2 3 3 3 4\n",
    "```\n",
    "\n",
    "## Exemple de sortie\n",
    "\n",
    "```\n",
    "2 2 4\n",
    "```\n",
    "\n",
    "## Aide\n",
    "\n",
    "https://rtavenar.github.io/poly_python/content/listes.html\n",
    "\n",
    "https://docs.python.org/fr/3/tutorial/datastructures.html#more-on-lists\n",
    "\n",
    "## Codez dans la cellule ci-dessous"
   ]
  },
  {
   "cell_type": "code",
   "execution_count": null,
   "id": "5023e0da",
   "metadata": {},
   "outputs": [],
   "source": [
    "# Read a list of integers:\n",
    "# a = [int(s) for s in input().split()]\n",
    "# Print a value:\n",
    "# print(a)\n"
   ]
  },
  {
   "cell_type": "markdown",
   "id": "609d638d",
   "metadata": {},
   "source": [
    "<details><summary>Cliquez ici pour voir la solution</summary>\n",
    "\n",
    "```python\n",
    "a = [int(s) for s in input().split()]\n",
    "for i in a:\n",
    "  if i % 2 == 0:\n",
    "    print(i, end=' ')\n",
    "```\n",
    "</details>"
   ]
  }
 ],
 "metadata": {
  "jupytext": {
   "formats": "md:myst"
  },
  "kernelspec": {
   "display_name": "Python 3",
   "language": "python",
   "name": "python3"
  }
 },
 "nbformat": 4,
 "nbformat_minor": 5
}
