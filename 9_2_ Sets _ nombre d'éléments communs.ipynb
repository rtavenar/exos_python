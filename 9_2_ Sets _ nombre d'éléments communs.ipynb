{
 "cells": [
  {
   "cell_type": "markdown",
   "id": "f91dca03",
   "metadata": {},
   "source": [
    "# 9.2. Sets : nombre d'éléments communs\n",
    "\n",
    "## Consignes\n",
    "\n",
    "Étant données deux séries de nombres (séparés par des espaces) entrées au clavier l'une après l'autre, compter combien de nombres de la première série apparaissent dans la seconde et afficher ce comptage.\n",
    "\n",
    "## Exemple d'entrée\n",
    "\n",
    "```\n",
    "1 3 2\n",
    "4 3 2\n",
    "```\n",
    "\n",
    "## Exemple de sortie\n",
    "\n",
    "```\n",
    "2\n",
    "```\n",
    "\n",
    "## Aide\n",
    "\n",
    "https://docs.python.org/fr/3.6/library/stdtypes.html#set-types-set-frozenset\n",
    "\n",
    "## Codez dans la cellule ci-dessous"
   ]
  },
  {
   "cell_type": "code",
   "execution_count": null,
   "id": "ee248768",
   "metadata": {},
   "outputs": [],
   "source": [
    "# Lire une chaîne de caractères au clavier :\n",
    "# s = input()\n",
    "# Afficher la valeur de s :\n",
    "# print(s)\n"
   ]
  },
  {
   "cell_type": "markdown",
   "id": "46402fec",
   "metadata": {},
   "source": [
    "<details><summary>Cliquez ici pour voir la solution</summary>\n",
    "\n",
    "```python\n",
    "print(len(set(input().split()) & set(input().split())))\n",
    "```\n",
    "</details>"
   ]
  }
 ],
 "metadata": {
  "jupytext": {
   "formats": "md:myst"
  },
  "kernelspec": {
   "display_name": "Python 3",
   "language": "python",
   "name": "python3"
  }
 },
 "nbformat": 4,
 "nbformat_minor": 5
}
