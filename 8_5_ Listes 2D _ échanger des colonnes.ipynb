{
 "cells": [
  {
   "cell_type": "markdown",
   "id": "07005397",
   "metadata": {},
   "source": [
    "# 8.5. Listes 2D : échanger des colonnes\n",
    "\n",
    "## Consignes\n",
    "\n",
    "Étant donnés deux entiers entrés au clavier - le nombre de lignes `m` et de colonnes `n` d'une liste 2D `m×n` - suivis de la saisie de `m` lignes de `n` entiers, puis de deux entiers non négatifs `i` et `j` plus petits que `n`, échanger les colonnes `i` et `j` de la liste 2D et afficher le résultat.\n",
    "\n",
    "## Exemple d'entrée\n",
    "\n",
    "```\n",
    "3 4\n",
    "11 12 13 14\n",
    "21 22 23 24\n",
    "31 32 33 34\n",
    "0 1\n",
    "```\n",
    "\n",
    "## Exemple de sortie\n",
    "\n",
    "```\n",
    "12 11 13 14\n",
    "22 21 23 24\n",
    "32 31 33 34\n",
    "```\n",
    "\n",
    "## Aide\n",
    "\n",
    "https://docs.python.org/fr/3.6/library/stdtypes.html#lists\n",
    "\n",
    "https://docs.python.org/fr/3.6/tutorial/datastructures.html#list-comprehensions\n",
    "\n",
    "https://docs.python.org/fr/3.6/tutorial/datastructures.html#nested-list-comprehensions\n",
    "\n",
    "## Codez dans la cellule ci-dessous"
   ]
  },
  {
   "cell_type": "code",
   "execution_count": null,
   "id": "385208ea",
   "metadata": {},
   "outputs": [],
   "source": [
    "# Lire une liste 2D d'entiers :\n",
    "# a = [[int(j) for j in input().split()] for i in range(NUM_ROWS)]\n",
    "# Afficher la valeur de a :\n",
    "# print(a)\n"
   ]
  },
  {
   "cell_type": "markdown",
   "id": "3edf2289",
   "metadata": {},
   "source": [
    "<details><summary>Cliquez ici pour voir la solution</summary>\n",
    "\n",
    "```python\n",
    "m, n = [int(s) for s in input().split()]\n",
    "a = [[int(j) for j in input().split()] for i in range(m)]\n",
    "col1, col2 = [int(s) for s in input().split()]\n",
    "for i in range(m):\n",
    "  a[i][col1], a[i][col2] = a[i][col2], a[i][col1]\n",
    "for line in a:\n",
    "  print(*line)\n",
    "```\n",
    "</details>"
   ]
  }
 ],
 "metadata": {
  "jupytext": {
   "formats": "md:myst"
  },
  "kernelspec": {
   "display_name": "Python 3",
   "language": "python",
   "name": "python3"
  }
 },
 "nbformat": 4,
 "nbformat_minor": 5
}
