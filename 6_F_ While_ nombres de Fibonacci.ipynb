{
 "cells": [
  {
   "cell_type": "markdown",
   "id": "098bbd90",
   "metadata": {},
   "source": [
    "# 6.F. While: nombres de Fibonacci\n",
    "\n",
    "## Consignes\n",
    "\n",
    "\n",
    "\n",
    "Les nombres de Fibonacci sont les nombres de la suite d'entiers commençant par `1,1` et où chaque nombre après ces deux premiers est la somme des deux précédents :\n",
    "\n",
    "`1,1,2,3,5,8,13,21,34,...`\n",
    "\n",
    "Étant donné un entier strictement positif `n` entré au clavier, calculer et afficher le `n`ième nombre de la suite de Fibonacci.\n",
    "\n",
    "## Exemple d'entrée\n",
    "\n",
    "```\n",
    "6\n",
    "```\n",
    "\n",
    "## Exemple de sortie\n",
    "\n",
    "```\n",
    "8\n",
    "```\n",
    "\n",
    "## Aide\n",
    "\n",
    "https://docs.python.org/fr/3.6/reference/compound_stmts.html#the-while-statement\n",
    "\n",
    "## Codez dans la cellule ci-dessous"
   ]
  },
  {
   "cell_type": "code",
   "execution_count": null,
   "id": "b2db3594",
   "metadata": {},
   "outputs": [],
   "source": [
    "# Lire un entier au clavier :\n",
    "# a = int(input())\n",
    "# Afficher la valeur de a :\n",
    "# print(a)\n"
   ]
  },
  {
   "cell_type": "markdown",
   "id": "c3ed9df4",
   "metadata": {},
   "source": [
    "<details><summary>Cliquez ici pour voir la solution</summary>\n",
    "\n",
    "```python\n",
    "prev, next = 1, 1\n",
    "n = int(input())\n",
    "for i in range(n - 2):\n",
    "  prev, next = next, prev + next\n",
    "print(next)\n",
    "```\n",
    "</details>"
   ]
  }
 ],
 "metadata": {
  "jupytext": {
   "formats": "md:myst"
  },
  "kernelspec": {
   "display_name": "Python 3",
   "language": "python",
   "name": "python3"
  }
 },
 "nbformat": 4,
 "nbformat_minor": 5
}
