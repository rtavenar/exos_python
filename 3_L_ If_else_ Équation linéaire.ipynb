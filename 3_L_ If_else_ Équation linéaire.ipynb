{
 "cells": [
  {
   "cell_type": "markdown",
   "id": "d28da1e0",
   "metadata": {},
   "source": [
    "# 3.L. If/else: Équation linéaire\n",
    "\n",
    "## **Énoncé**\n",
    "\n",
    "Écrivez un programme qui résout une équation linéaire _ax = b_ pour des entiers.\n",
    "\n",
    "Étant donné deux entiers _a_ et _b_ (_a_ pouvant valoir 0), affichez l'entier racine de l'équation s'il existe, \"pas de solution\" ou \"multiples solutions\" sinon.\n",
    "\n",
    "## Exemple d'entrée #1\n",
    "\n",
    "```\n",
    "1\n",
    "-2\n",
    "```\n",
    "\n",
    "## Exemple de sortie #1\n",
    "\n",
    "```\n",
    "-2\n",
    "```\n",
    "\n",
    "## Exemple d'entrée #2\n",
    "\n",
    "```\n",
    "2\n",
    "-1\n",
    "```\n",
    "\n",
    "## Exemple de sortie #2\n",
    "\n",
    "```\n",
    "pas de solution\n",
    "```\n",
    "\n",
    "## Aide\n",
    "\n",
    "https://rtavenar.github.io/poly_python/content/struct.html#structures-de-controle\n",
    "\n",
    "## Codez dans la cellule ci-dessous"
   ]
  },
  {
   "cell_type": "code",
   "execution_count": null,
   "id": "9fd6a956",
   "metadata": {},
   "outputs": [],
   "source": [
    "# Lire un entier :\n",
    "# a = int(input())\n",
    "# Afficher une valeur :\n",
    "# print(a)"
   ]
  },
  {
   "cell_type": "markdown",
   "id": "b8424c14",
   "metadata": {},
   "source": [
    "<details><summary>Cliquez ici pour voir la solution</summary>\n",
    "\n",
    "```python\n",
    "a = int(input())\n",
    "b = int(input())\n",
    "\n",
    "if a == 0:\n",
    "  if b == 0:\n",
    "    print('multiples solutions')\n",
    "  else:\n",
    "    print('pas de solution')\n",
    "elif b % a == 0:\n",
    "  print(b // a)\n",
    "else:\n",
    "  print('pas de solution')\n",
    "```\n",
    "</details>"
   ]
  }
 ],
 "metadata": {
  "jupytext": {
   "formats": "md:myst"
  },
  "kernelspec": {
   "display_name": "Python 3",
   "language": "python",
   "name": "python3"
  }
 },
 "nbformat": 4,
 "nbformat_minor": 5
}
