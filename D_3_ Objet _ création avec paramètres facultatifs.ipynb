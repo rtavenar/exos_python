{
 "cells": [
  {
   "cell_type": "markdown",
   "id": "921c4ef7",
   "metadata": {},
   "source": [
    "# D.3. Objet : création avec paramètres facultatifs\n",
    "\n",
    "## Consignes\n",
    "\n",
    "Écrire le code permettant de créer un objet de classe Cercle nommé \"monCercle\", avec une position en X du centre de 5 et une position en Y du centre de -5. Vous devez utiliser uniquement ces deux valeurs pour la construction de l'objet et ne rien renseigner pour le rayon afin de laisser la valeur par défaut.\n",
    "\n",
    "## Aide\n",
    "\n",
    "https://docs.python.org/fr/3.6/tutorial/classes.html#a-first-look-at-classes\n",
    "\n",
    "## Codez dans la cellule ci-dessous"
   ]
  },
  {
   "cell_type": "code",
   "execution_count": null,
   "id": "507e8f07",
   "metadata": {},
   "outputs": [],
   "source": [
    "class Cercle:\n",
    "  def __init__(self, r=15, posX=0, posY=0):\n",
    "    self.rayon = r\t\t# attribut rayon du cercle\n",
    "    self.x = posX\t\t\t# attribut position en X du centre du cercle\n",
    "    self.y = posY\t\t\t# attribut position en Y du centre du cercle\n",
    "\n",
    "# Écrire votre code ci-dessous\n"
   ]
  },
  {
   "cell_type": "markdown",
   "id": "b53ebc9f",
   "metadata": {},
   "source": [
    "<details><summary>Cliquez ici pour voir la solution</summary>\n",
    "\n",
    "```python\n",
    "class Cercle:\n",
    "  def __init__(self, r=15, posX=0, posY=0):\n",
    "    self.rayon = r\t\t# attribut rayon du cercle\n",
    "    self.x = posX\t\t\t# attribut position en X du centre du cercle\n",
    "    self.y = posY\t\t\t# attribut position en Y du centre du cercle\n",
    "\n",
    "# Écrire votre code ci-dessous\n",
    "monCercle = Cercle(posX=5, posY=-5)\n",
    "```\n",
    "</details>"
   ]
  }
 ],
 "metadata": {
  "jupytext": {
   "formats": "md:myst"
  },
  "kernelspec": {
   "display_name": "Python 3",
   "language": "python",
   "name": "python3"
  }
 },
 "nbformat": 4,
 "nbformat_minor": 5
}
