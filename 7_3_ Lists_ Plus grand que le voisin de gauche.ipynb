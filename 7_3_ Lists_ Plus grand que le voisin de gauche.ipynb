{
 "cells": [
  {
   "cell_type": "markdown",
   "id": "bc7525b4",
   "metadata": {},
   "source": [
    "# 7.3. Lists: Plus grand que le voisin de gauche\n",
    "\n",
    "## Consigne\n",
    "\n",
    "À partir d'une liste de nombres entiers donnés en entrée (chaque nombre est séparé par un espace), trouver et afficher tous les éléments qui sont plus grand que leur voisin de gauche.\n",
    "\n",
    "## Exemple d'entrée\n",
    "\n",
    "```\n",
    "1 5 2 4 3\n",
    "```\n",
    "\n",
    "## Exemple de sortie\n",
    "\n",
    "```\n",
    "5 4\n",
    "```\n",
    "\n",
    "## Aide\n",
    "\n",
    "https://rtavenar.github.io/poly_python/content/listes.html\n",
    "\n",
    "https://docs.python.org/fr/3/tutorial/datastructures.html#more-on-lists\n",
    "\n",
    "## Codez dans la cellule ci-dessous"
   ]
  },
  {
   "cell_type": "code",
   "execution_count": null,
   "id": "08f02de1",
   "metadata": {},
   "outputs": [],
   "source": [
    "# Read a list of integers:\n",
    "# a = [int(s) for s in input().split()]\n",
    "# Print a value:\n",
    "# print(a)\n"
   ]
  },
  {
   "cell_type": "markdown",
   "id": "ff5a3cd4",
   "metadata": {},
   "source": [
    "<details><summary>Cliquez ici pour voir la solution</summary>\n",
    "\n",
    "```python\n",
    "a = [int(s) for s in input().split()]\n",
    "for i in range(1, len(a)):\n",
    "  if a[i - 1] < a[i]:\n",
    "    print(a[i], end=' ')\n",
    "```\n",
    "</details>"
   ]
  }
 ],
 "metadata": {
  "jupytext": {
   "formats": "md:myst"
  },
  "kernelspec": {
   "display_name": "Python 3",
   "language": "python",
   "name": "python3"
  }
 },
 "nbformat": 4,
 "nbformat_minor": 5
}
