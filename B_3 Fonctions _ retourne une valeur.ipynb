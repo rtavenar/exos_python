{
 "cells": [
  {
   "cell_type": "markdown",
   "id": "3408b709",
   "metadata": {},
   "source": [
    "# B.3 Fonctions : retourne une valeur\n",
    "\n",
    "**Énoncé**\n",
    "\n",
    "\n",
    "Codez une fonction somme qui permet de calculer la somme de 2 entiers. La fonction prend deux paramètres : entier1 et entier2.\n",
    "\n",
    "\n",
    "**Exemple d'appel de la fonction**\n",
    "\n",
    "\n",
    "```\n",
    "somme(1,2)\n",
    "```\n",
    "\n",
    "**Exemple de valeur de retour**\n",
    "\n",
    "\n",
    "```\n",
    "3\n",
    "```\n",
    "\n",
    "**Aide**\n",
    "\n",
    "https://rtavenar.github.io/poly_python/content/struct.html#fonctions\n",
    "\n",
    "## Codez dans la cellule ci-dessous"
   ]
  },
  {
   "cell_type": "code",
   "execution_count": null,
   "id": "fab3c816",
   "metadata": {},
   "outputs": [],
   "source": [
    "def somme():\n",
    "  # Codez votre fonction ici"
   ]
  },
  {
   "cell_type": "markdown",
   "id": "00d5ec25",
   "metadata": {},
   "source": [
    "<details><summary>Cliquez ici pour voir la solution</summary>\n",
    "\n",
    "```python\n",
    "def somme(entier1, entier2):\n",
    "  # Codez votre fonction ici\n",
    "  return entier1+entier2\n",
    "```\n",
    "</details>"
   ]
  }
 ],
 "metadata": {
  "jupytext": {
   "formats": "md:myst"
  },
  "kernelspec": {
   "display_name": "Python 3",
   "language": "python",
   "name": "python3"
  }
 },
 "nbformat": 4,
 "nbformat_minor": 5
}
