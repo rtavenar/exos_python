{
 "cells": [
  {
   "cell_type": "markdown",
   "id": "1e26eb02",
   "metadata": {},
   "source": [
    "# 8.6. Listes 2D : flocon de neige\n",
    "\n",
    "## Consignes\n",
    "\n",
    "Étant donné un entier impair positif `n` entré au clavier, créer une liste 2D de taille `n×n`. Remplir chaque élément de cette liste 2D avec le caractère \"`.`\". Ensuite, remplir la ligne du milieu, la colonne du milieu et la première diagonale avec le caractère `\"*\"`.  Vous obtiendrez l'image d'un flocon de neige. Afficher le flocon de neige à partir des éléments de la liste 2D `n×n` et séparer les caractères par un simple espace.\n",
    "\n",
    "## Exemple d'entrée\n",
    "\n",
    "```\n",
    "7\n",
    "```\n",
    "\n",
    "## Exemple de sortie\n",
    "\n",
    "```\n",
    "* . . * . . *\n",
    ". * . * . * .\n",
    ". . * * * . .\n",
    "* * * * * * *\n",
    ". . * * * . .\n",
    ". * . * . * .\n",
    "* . . * . . *\n",
    "```\n",
    "\n",
    "## Aide\n",
    "\n",
    "https://docs.python.org/fr/3.6/library/stdtypes.html#lists\n",
    "\n",
    "https://docs.python.org/fr/3.6/tutorial/datastructures.html#list-comprehensions\n",
    "\n",
    "https://docs.python.org/fr/3.6/tutorial/datastructures.html#nested-list-comprehensions\n",
    "\n",
    "## Codez dans la cellule ci-dessous"
   ]
  },
  {
   "cell_type": "code",
   "execution_count": null,
   "id": "093b632e",
   "metadata": {},
   "outputs": [],
   "source": [
    "# Lire un entier au clavier :\n",
    "# a = int(input())\n",
    "# Afficher la valeur de a :\n",
    "# print(a)\n"
   ]
  },
  {
   "cell_type": "markdown",
   "id": "1b0c46fc",
   "metadata": {},
   "source": [
    "<details><summary>Cliquez ici pour voir la solution</summary>\n",
    "\n",
    "```python\n",
    "n = int(input())\n",
    "a = [['.'] * n for i in range(n)]\n",
    "for i in range(n):\n",
    "  for j in range(n):\n",
    "    if i == j or i + j + 1 == n or i == n // 2 or j == n // 2:\n",
    "      a[i][j] = '*'\n",
    "for line in a:\n",
    "  print(*line)\n",
    "```\n",
    "</details>"
   ]
  }
 ],
 "metadata": {
  "jupytext": {
   "formats": "md:myst"
  },
  "kernelspec": {
   "display_name": "Python 3",
   "language": "python",
   "name": "python3"
  }
 },
 "nbformat": 4,
 "nbformat_minor": 5
}
