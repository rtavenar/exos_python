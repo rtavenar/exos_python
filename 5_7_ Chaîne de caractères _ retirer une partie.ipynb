{
 "cells": [
  {
   "cell_type": "markdown",
   "id": "383aa8f3",
   "metadata": {},
   "source": [
    "# 5.7. Chaîne de caractères : retirer une partie\n",
    "\n",
    "## Consignes\n",
    "\n",
    "Étant donnée une chaîne de caractères entrée au clavier contenant au moins deux fois la lettre `h`, retirer de cette chaîne la première et la dernière occurrence de la lettre `h` ainsi que tous les caractères se trouvant entre ces deux occurrences.\n",
    "\n",
    "## Exemple d'entrée\n",
    "\n",
    "```\n",
    "In the hole in the ground there lived a hobbit\n",
    "```\n",
    "\n",
    "## Exemple de sortie\n",
    "\n",
    "```\n",
    "In tobbit\n",
    "```\n",
    "\n",
    "## Aide\n",
    "\n",
    "https://docs.python.org/fr/3.6/library/stdtypes.html#common-sequence-operations\n",
    "\n",
    "https://docs.python.org/fr/3.6/library/stdtypes.html#str.find\n",
    "\n",
    "https://docs.python.org/fr/3.6/library/stdtypes.html#str.rfind\n",
    "\n",
    "\n",
    "## Codez dans la cellule ci-dessous"
   ]
  },
  {
   "cell_type": "code",
   "execution_count": null,
   "id": "cf2e284b",
   "metadata": {},
   "outputs": [],
   "source": [
    "# Lire une chaîne de caractères :\n",
    "# s = input()\n",
    "# Afficher une chaîne de caractères :\n",
    "# print(s)\n"
   ]
  },
  {
   "cell_type": "markdown",
   "id": "018d90ca",
   "metadata": {},
   "source": [
    "<details><summary>Cliquez ici pour voir la solution</summary>\n",
    "\n",
    "```python\n",
    "s = input()\n",
    "print(s[:s.find('h')] + s[s.rfind('h') + 1:])\n",
    "```\n",
    "</details>"
   ]
  }
 ],
 "metadata": {
  "jupytext": {
   "formats": "md:myst"
  },
  "kernelspec": {
   "display_name": "Python 3",
   "language": "python",
   "name": "python3"
  }
 },
 "nbformat": 4,
 "nbformat_minor": 5
}
