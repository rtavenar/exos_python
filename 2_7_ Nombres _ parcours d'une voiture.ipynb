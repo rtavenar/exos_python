{
 "cells": [
  {
   "cell_type": "markdown",
   "id": "26fcbc59",
   "metadata": {},
   "source": [
    "# 2.7. Nombres : parcours d'une voiture\n",
    "\n",
    "## Consignes\n",
    "\n",
    "Une voiture peut parcourir une distance de _N_ kilomètres par jour. Combien de jours faudra-t-il pour parcourir une distance de _M_ kilomètres avec cette voiture ? Le programme reçoit deux nombres tapés au clavier : _N_ et _M_.\n",
    "\n",
    "## Exemple d'entrée\n",
    "\n",
    "```\n",
    "700\n",
    "750\n",
    "```\n",
    "\n",
    "## Exemple de sortie\n",
    "\n",
    "```\n",
    "2\n",
    "```\n",
    "\n",
    "## Aide\n",
    "\n",
    "https://docs.python.org/fr/3/reference/expressions.html#binary-arithmetic-operations\n",
    "\n",
    "## Codez dans la cellule ci-dessous"
   ]
  },
  {
   "cell_type": "code",
   "execution_count": null,
   "id": "f83d4e95",
   "metadata": {},
   "outputs": [],
   "source": [
    "# Lire un entier :\n",
    "# a = int(input())\n",
    "# Afficher la valeur de a :\n",
    "# print(a)\n"
   ]
  },
  {
   "cell_type": "markdown",
   "id": "7b997d39",
   "metadata": {},
   "source": [
    "<details><summary>Cliquez ici pour voir la solution</summary>\n",
    "\n",
    "```python\n",
    "from math import ceil\n",
    "\n",
    "n = int(input())\n",
    "m = int(input())\n",
    "print(ceil(m / n))\n",
    "```\n",
    "</details>"
   ]
  }
 ],
 "metadata": {
  "jupytext": {
   "formats": "md:myst"
  },
  "kernelspec": {
   "display_name": "Python 3",
   "language": "python",
   "name": "python3"
  }
 },
 "nbformat": 4,
 "nbformat_minor": 5
}
