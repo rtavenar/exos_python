{
 "cells": [
  {
   "cell_type": "markdown",
   "id": "78c51d82",
   "metadata": {},
   "source": [
    "# 4.6. For: Factorielle\n",
    "\n",
    "## Consigne\n",
    "\n",
    "En mathématique, la factorielle d'un entier n (n!) est le produit suivant :\n",
    "\n",
    "n! = 1 × 2 × … × n\n",
    "\n",
    "Pour l'entier n donné en entrée, calculer la valeur de **n!**. Ne pas utiliser le module math dans cet exercice.\n",
    "\n",
    "## Exemple d'entrée\n",
    "\n",
    "```\n",
    "4\n",
    "```\n",
    "\n",
    "## Exemple de sortie\n",
    "\n",
    "```\n",
    "24\n",
    "```\n",
    "\n",
    "## Aide\n",
    "\n",
    "https://rtavenar.github.io/poly_python/content/struct.html#boucles-for\n",
    "\n",
    "https://docs.python.org/fr/3/reference/compound_stmts.html#for\n",
    "\n",
    "## Codez dans la cellule ci-dessous"
   ]
  },
  {
   "cell_type": "code",
   "execution_count": null,
   "id": "e2c269b9",
   "metadata": {},
   "outputs": [],
   "source": [
    "# Read an integer:\n",
    "# a = int(input())\n",
    "# Print a value:\n",
    "# print(a)\n"
   ]
  },
  {
   "cell_type": "markdown",
   "id": "8d5d642c",
   "metadata": {},
   "source": [
    "<details><summary>Cliquez ici pour voir la solution</summary>\n",
    "\n",
    "```python\n",
    "result = 1\n",
    "for i in range(1, int(input()) + 1):\n",
    "  result *= i\n",
    "print(result)\n",
    "```\n",
    "</details>"
   ]
  }
 ],
 "metadata": {
  "jupytext": {
   "formats": "md:myst"
  },
  "kernelspec": {
   "display_name": "Python 3",
   "language": "python",
   "name": "python3"
  }
 },
 "nbformat": 4,
 "nbformat_minor": 5
}
