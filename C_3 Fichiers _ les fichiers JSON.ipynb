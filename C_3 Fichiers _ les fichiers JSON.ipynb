{
 "cells": [
  {
   "cell_type": "markdown",
   "id": "360a6c99",
   "metadata": {},
   "source": [
    "# C.3 Fichiers : les fichiers JSON\n",
    "\n",
    "**Énoncé**\n",
    "\n",
    "Codez une fonction qui lit un fichier JSON et, pour un préfixe passé en argument, retourne le nombre de clés de premier niveau du fichier JSON qui commencent par le préfixe.\n",
    "\n",
    "**Exemple d'entrée**\n",
    "\n",
    "```\n",
    "print(compte_cles_prefixe(\"a.json\", \"abc\"))\n",
    "```\n",
    "\n",
    "**Exemple de sortie**\n",
    "\n",
    "```\n",
    "2\n",
    "```\n",
    "\n",
    "**Aide**\n",
    "\n",
    "https://rtavenar.github.io/poly_python/content/fichiers.html\n",
    "\n",
    "## Codez dans la cellule ci-dessous"
   ]
  },
  {
   "cell_type": "code",
   "execution_count": null,
   "id": "cc409329",
   "metadata": {},
   "outputs": [],
   "source": [
    "import json\n",
    "\n",
    "def compte_cles_prefixe(nom_du_fichier, prefixe):\n",
    "  # Codez votre fonction ici et modifiez sa valeur de retour si besoin\n",
    "  return None\n"
   ]
  },
  {
   "cell_type": "markdown",
   "id": "475536a2",
   "metadata": {},
   "source": [
    "<details><summary>Cliquez ici pour voir la solution</summary>\n",
    "\n",
    "```python\n",
    "import json\n",
    "\n",
    "def compte_cles_prefixe(nom_du_fichier, prefixe):\n",
    "  d = json.load(open(nom_du_fichier, \"r\", encoding=\"utf-8\"))\n",
    "  n = 0\n",
    "  for k in d.keys():\n",
    "    if k.startswith(prefixe):\n",
    "      n += 1\n",
    "  return n\n",
    "```\n",
    "</details>"
   ]
  }
 ],
 "metadata": {
  "jupytext": {
   "formats": "md:myst"
  },
  "kernelspec": {
   "display_name": "Python 3",
   "language": "python",
   "name": "python3"
  }
 },
 "nbformat": 4,
 "nbformat_minor": 5
}
