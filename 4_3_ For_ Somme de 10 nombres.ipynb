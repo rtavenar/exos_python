{
 "cells": [
  {
   "cell_type": "markdown",
   "id": "ba6e3afc",
   "metadata": {},
   "source": [
    "# 4.3. For: Somme de 10 nombres\n",
    "\n",
    "## Consigne\n",
    "\n",
    "10 nombres sont donnés en entrée. Lire chaque nombre et afficher leur somme. Utiliser le moins de variable possible.\n",
    "\n",
    "## Exemple d'entrée\n",
    "\n",
    "```\n",
    "0\n",
    "1\n",
    "2\n",
    "3\n",
    "4\n",
    "5\n",
    "6\n",
    "7\n",
    "8\n",
    "9\n",
    "```\n",
    "\n",
    "## Exemple de sortie\n",
    "\n",
    "```\n",
    "45\n",
    "```\n",
    "\n",
    "## Aide\n",
    "\n",
    "https://rtavenar.github.io/poly_python/content/struct.html#boucles-for\n",
    "\n",
    "https://docs.python.org/fr/3/reference/compound_stmts.html#for\n",
    "\n",
    "## Codez dans la cellule ci-dessous"
   ]
  },
  {
   "cell_type": "code",
   "execution_count": null,
   "id": "c669cc53",
   "metadata": {},
   "outputs": [],
   "source": [
    "# Read an integer:\n",
    "# a = int(input())\n",
    "# Print a value:\n",
    "# print(a)\n"
   ]
  },
  {
   "cell_type": "markdown",
   "id": "dff45acb",
   "metadata": {},
   "source": [
    "<details><summary>Cliquez ici pour voir la solution</summary>\n",
    "\n",
    "```python\n",
    "result = 0\n",
    "for i in range(10):\n",
    "  result += int(input())\n",
    "print(result)\n",
    "```\n",
    "</details>"
   ]
  }
 ],
 "metadata": {
  "jupytext": {
   "formats": "md:myst"
  },
  "kernelspec": {
   "display_name": "Python 3",
   "language": "python",
   "name": "python3"
  }
 },
 "nbformat": 4,
 "nbformat_minor": 5
}
