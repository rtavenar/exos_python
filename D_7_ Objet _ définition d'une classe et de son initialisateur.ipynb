{
 "cells": [
  {
   "cell_type": "markdown",
   "id": "aabc209a",
   "metadata": {},
   "source": [
    "# D.7. Objet : définition d'une classe et de son initialisateur\n",
    "\n",
    "## Consignes\n",
    "\n",
    "Écrire le code permettant de définir une classe Personne et son initialisateur. Les objets de classe Personne possèderont un attribut \"`nom`\" dont la valeur sera passée en paramètre à la construction de l'objet.\n",
    "\n",
    "## Aide\n",
    "\n",
    "https://docs.python.org/fr/3.6/tutorial/classes.html#a-first-look-at-classes\n",
    "\n",
    "## Codez dans la cellule ci-dessous"
   ]
  },
  {
   "cell_type": "code",
   "execution_count": null,
   "id": "6f2e8921",
   "metadata": {},
   "outputs": [],
   "source": [
    "# Écrire votre code ci-dessous\n"
   ]
  },
  {
   "cell_type": "markdown",
   "id": "233d21ef",
   "metadata": {},
   "source": [
    "<details><summary>Cliquez ici pour voir la solution</summary>\n",
    "\n",
    "```python\n",
    "# Écrire votre code ci-dessous\n",
    "class Personne:\n",
    "  def __init__(self, nom):\n",
    "    self.nom = nom\n",
    "```\n",
    "</details>"
   ]
  }
 ],
 "metadata": {
  "jupytext": {
   "formats": "md:myst"
  },
  "kernelspec": {
   "display_name": "Python 3",
   "language": "python",
   "name": "python3"
  }
 },
 "nbformat": 4,
 "nbformat_minor": 5
}
