{
 "cells": [
  {
   "cell_type": "markdown",
   "id": "c592d500",
   "metadata": {},
   "source": [
    "# 3.5. If/else: Un seul positif\n",
    "\n",
    "## **Énoncé**\n",
    "\n",
    "Étant donnés deux entiers non nuls, affichez \"OUI\" si l'un des deux est positif (mais pas les deux) et \"NON\" sinon.\n",
    "\n",
    "## Exemple d'entrée #1\n",
    "\n",
    "```\n",
    "-5\n",
    "10\n",
    "```\n",
    "\n",
    "## Exemple de sortie #1\n",
    "\n",
    "```\n",
    "OUI\n",
    "```\n",
    "\n",
    "## Exemple d'entrée #2\n",
    "\n",
    "```\n",
    "5\n",
    "10\n",
    "```\n",
    "\n",
    "## Exemple de sortie #2\n",
    "\n",
    "```\n",
    "NON\n",
    "```\n",
    "\n",
    "## Aide\n",
    "\n",
    "https://rtavenar.github.io/poly_python/content/struct.html#structures-de-controle\n",
    "\n",
    "## Codez dans la cellule ci-dessous"
   ]
  },
  {
   "cell_type": "code",
   "execution_count": null,
   "id": "d9e1a975",
   "metadata": {},
   "outputs": [],
   "source": [
    "# Lire un entier :\n",
    "# a = int(input())\n",
    "# Afficher une valeur :\n",
    "# print(a)"
   ]
  },
  {
   "cell_type": "markdown",
   "id": "d76416c9",
   "metadata": {},
   "source": [
    "<details><summary>Cliquez ici pour voir la solution</summary>\n",
    "\n",
    "```python\n",
    "a = int(input())\n",
    "b = int(input())\n",
    "if a > 0 and b < 0 or a < 0 and b > 0:\n",
    "  print('OUI')\n",
    "else:\n",
    "  print('NON')\n",
    "```\n",
    "</details>"
   ]
  }
 ],
 "metadata": {
  "jupytext": {
   "formats": "md:myst"
  },
  "kernelspec": {
   "display_name": "Python 3",
   "language": "python",
   "name": "python3"
  }
 },
 "nbformat": 4,
 "nbformat_minor": 5
}
