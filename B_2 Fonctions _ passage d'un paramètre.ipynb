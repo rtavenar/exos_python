{
 "cells": [
  {
   "cell_type": "markdown",
   "id": "d97d473f",
   "metadata": {},
   "source": [
    "# B.2 Fonctions : passage d'un paramètre\n",
    "\n",
    "**Énoncé**\n",
    "\n",
    "Codez une fonction affichage_bienvenue qui affiche le message \"Bienvenue XXX\" et ajoute le prénom d'une personne ('XXX'). La fonction prend en paramètre le prénom de la personne.\n",
    "\n",
    "**Exemple d'appel de la fonction**\n",
    "\n",
    "```\n",
    "affichage_bienvenue('Régis')\n",
    "```\n",
    "\n",
    "**Exemple de sortie**\n",
    "\n",
    "```\n",
    "Bienvenue Régis\n",
    "```\n",
    "\n",
    "**Aide**\n",
    "\n",
    "https://rtavenar.github.io/poly_python/content/struct.html#fonctions\n",
    "\n",
    "## Codez dans la cellule ci-dessous"
   ]
  },
  {
   "cell_type": "code",
   "execution_count": null,
   "id": "dbab31ee",
   "metadata": {},
   "outputs": [],
   "source": [
    "def affichage_bienvenue():\n",
    "  # Codez votre fonction ici (et affichez le message de bienvenue !)"
   ]
  },
  {
   "cell_type": "markdown",
   "id": "638c9309",
   "metadata": {},
   "source": [
    "<details><summary>Cliquez ici pour voir la solution</summary>\n",
    "\n",
    "```python\n",
    "def affichage_bienvenue(prenom):\n",
    "  # Codez votre fonction ici (et affichez le message de bienvenue !)\n",
    "  print('Bienvenue '+ prenom)\n",
    "```\n",
    "</details>"
   ]
  }
 ],
 "metadata": {
  "jupytext": {
   "formats": "md:myst"
  },
  "kernelspec": {
   "display_name": "Python 3",
   "language": "python",
   "name": "python3"
  }
 },
 "nbformat": 4,
 "nbformat_minor": 5
}
